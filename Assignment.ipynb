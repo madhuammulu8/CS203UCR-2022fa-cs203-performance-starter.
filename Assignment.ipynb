{
 "cells": [
  {
   "cell_type": "code",
   "execution_count": 88,
   "metadata": {
    "editable": false,
    "init_cell": true
   },
   "outputs": [
    {
     "name": "stdout",
     "output_type": "stream",
     "text": [
      "The autoreload extension is already loaded. To reload it, use:\n",
      "  %reload_ext autoreload\n"
     ]
    }
   ],
   "source": [
    "# Please execute/shift-return this cell everytime you run the notebook.  Don't edit it. \n",
    "%load_ext autoreload\n",
    "%autoreload 2\n",
    "from notebook import * "
   ]
  },
  {
   "cell_type": "markdown",
   "metadata": {
    "cs203.is_response": true,
    "deletable": false,
    "editable": true
   },
   "source": [
    "<div class=\"namebox\">    \n",
    "Double Click to edit and enter your\n",
    "\n",
    "1.  Name\n",
    "2.  Student ID\n",
    "3.  @ucr.edu email address\n",
    "    \n",
    "</div>"
   ]
  },
  {
   "cell_type": "markdown",
   "metadata": {
    "editable": false
   },
   "source": [
    "# Assignment 1: The Performance Equation"
   ]
  },
  {
   "cell_type": "markdown",
   "metadata": {
    "editable": false
   },
   "source": [
    "**Welcome to the first \"real\" assignment of CS203!**\n",
    "\n",
    "The main goals of this assignment are:\n",
    "\n",
    "1.  Gain experience with the performance equation\n",
    "2.  Collect a list of **Interesting Questions** that you probably cannot answer now, but will be able to by the end of the course.\n",
    "\n",
    "This assignment will be completed on **your own**. \n",
    "\n",
    "Check Gradescope for due date(s)."
   ]
  },
  {
   "cell_type": "markdown",
   "metadata": {
    "editable": false
   },
   "source": [
    "# FAQ and Updates\n",
    "\n",
    "* There are no updates, yet."
   ]
  },
  {
   "cell_type": "markdown",
   "metadata": {
    "editable": false
   },
   "source": [
    "# Browser Compatibility"
   ]
  },
  {
   "cell_type": "markdown",
   "metadata": {
    "editable": false
   },
   "source": [
    "We are still working out some bugs in some browsers.  Here's the current status:\n",
    "\n",
    "1.  Chrome -- well tested.  Preferred option.\n",
    "2.  Firefox -- seems ok, but not thoroughly tested.\n",
    "3.  Edge -- seems ok, but not thoroughly tested.\n",
    "4.  Safari -- not supported at the moment.\n",
    "5.  Internet Explorer -- not supported at the moment.\n",
    "\n",
    "At the moment, the authentication step must be done in Chrome."
   ]
  },
  {
   "cell_type": "markdown",
   "metadata": {
    "editable": false
   },
   "source": [
    "# About Assigments In This Class"
   ]
  },
  {
   "cell_type": "markdown",
   "metadata": {
    "editable": false
   },
   "source": [
    "_This section is the same in all the assignments.  It's repeated here for your reference._\n",
    "\n",
    "CS203 assignments are designed in a way to **learn by doing**.  This means you _must_ **do**.  WE have built these assignments as Jupyter notebooks so that the \"doing\" is as easy and seamless as possible. (Largely contributed by Steven Swanson at UCSD https://cseweb.ucsd.edu/~swanson/)\n",
    "\n",
    "In this assignment, what you'll do is answer questions about how a program will run and then compare what really happened to your predictions.  Engaging with this process is how you'll learn.  The questions that the assignment asks are there for several purposes:\n",
    "\n",
    "1.  To draw your attention to specific aspects of an experiment or of some results.\n",
    "2.  To push you to engage with the material more deeply by thinking about it.\n",
    "3.  To make you commit to a prediction so you can wonder why your prediction was wrong or be proud that you got it right.\n",
    "4.  To provide some practice with skills/concepts you're learning in this course.\n",
    "5.  To test your knowledge about what you've learned.\n",
    "\n",
    "The questions are graded in one of three ways:\n",
    "\n",
    "1. \"Correctness\" questions require you to answer the question and get the correct answer to get full credit.\n",
    "2. \"Completeness\" questions require you to answer the question.\n",
    "3. \"Optional\" questions are...optional.  They are there if you want to go further with the material.\n",
    "\n",
    "Some of the \"Completeness\" problems include a solution that will be hidden until you click \"Show Solution\".  To get the most from them, try them on your own first.\n",
    "\n",
    "Many of the \"Completeness\" questions ask you to make predictions about the outcome of an experiment and write down those predictions.  To maximize your learning, think carefully about your prediction and commit to it.  **You will never be penalized for making an incorrect prediction.**\n",
    "\n",
    "You are free to discuss \"Completeness\" and \"Optional\" questions with your classmates.  You must complete \"Correctness\" questions on your own.\n",
    "\n",
    "If you have questions about any kind of question, please ask during office hours or during class."
   ]
  },
  {
   "attachments": {
    "image.png": {
     "image/png": "[encoded data removed]"
    }
   },
   "cell_type": "markdown",
   "metadata": {
    "editable": false
   },
   "source": [
    "## How To Succeed On the Assignments\n",
    "\n",
    "Here are some simple tips that will help you do well on this assignment:\n",
    "\n",
    "1.  Read/skim through the entire assignment and review the lecture/textbook. \n",
    "2.  Start early.  Getting answers on piazza can take time.  So think through the questions (and your questions about them) carefully.\n",
    "    1. Go through the assignment once (several days before the deadline), do the parts that are easy/make sense\n",
    "    2. Ask questions/think about the rest\n",
    "    3. Come back and do the rest.\n",
    "3.  Start early.  The cluster gets busy and slow near deadlines.  **\"The cluster was slow the night of the deadline\"** is **not an excuse** for not getting the assignment done and it is not justification for asking for an extension.\n",
    "4.  Follow the guidelines below for asking answerable questions on piazza.\n",
    "\n",
    "You may think to yourself: \"If I start early enough to account for all that, I'd have to start right after the assignment was announced!\"  Good thought!\n",
    "\n",
    "![image.png](attachment:image.png)\n"
   ]
  },
  {
   "cell_type": "markdown",
   "metadata": {
    "editable": false
   },
   "source": [
    "<div class=\"alert alert-block alert-danger\">\n",
    "\n",
    "**The Cluster Will Get Slow** and our machines will get crowded and slow _before every deadline_.  This is completely predictable.  The cluster can also get crowded due to deadlines in other courses.  You need to start early so you can avoid/work around these slowdowns.  Unless there's some kind of complete outage, we will not grant extensions because the servers are crowded.\n",
    "    \n",
    "</div>"
   ]
  },
  {
   "cell_type": "markdown",
   "metadata": {
    "editable": false
   },
   "source": [
    "## Getting Help\n",
    "\n",
    "You might run into trouble while doing this assignment.  Here's how to get help:\n",
    "\n",
    "1.  Re-read the instructions and make sure you've followed them.\n",
    "2.  Try saving and reloading the notebook.\n",
    "3.  If it says you are not authenticated, go to the [the login section of the assignment](#Logging-In-To-the-Course-Tools) and (re)authenticate.\n",
    "4.  If you get a `FileNotFoundError` make sure you've run all the code cells above your current point in the assignment.\n",
    "4.  If you get an exception or stack dump, check that you didn't accidentally modify the contents of one of the python cells.\n",
    "5.  If all else fails, post a question to piazza.\n",
    "\n",
    "## Posting Answerable Questions on Piazza\n",
    "\n",
    "If you want useful answers on edstem/piazza, you need to provide information that is specific enough for us to provide a useful answer.  Here's what we need:\n",
    "\n",
    "1.  Which part of which assignment are you working on (use the section numbers)?\n",
    "2.  Which problem (copy and paste the _text_ of the question along with the number).\n",
    "\n",
    "If it's question about instructions:\n",
    "\n",
    "1.  Try to be as specific as you can about what is confusing or what you don't understand (e.g., \"I'm not sure if I should do _X_ or _Y_.\")\n",
    "\n",
    "If it's a question about an error while running code, then we need:\n",
    "\n",
    "1.  If you've committed anything, your github repo url.\n",
    "2.  If you've submitted a job with `cs203` you _must_ provide the job id.  With the id, we can figure out just about anything about your job.  Without it, we know nothing.\n",
    "3.  The _entire_ output you received.  There's no limit on how long an edstem/piazza post can be.  Give us all the information, not just the last few lines.  We like to scroll!\n",
    "\n",
    "For all of the above **paste the text** into the edstem/piazza question.  Please **do not provide screen captures**.  The course staff refuses to type in job ids found in screen shots.\n",
    "\n",
    "\n",
    "<div class=\"alert alert-block alert-danger\">\n",
    "\n",
    "**We Can't Answer Unanswerable Questions** If you don't follow these guidelines (especially about the github repo and the job id), we will probably not be able to answer your question on edstem/piazza.  We will archive it and ask you to re-post your question with the information we need.\n",
    "    \n",
    "</div>"
   ]
  },
  {
   "cell_type": "markdown",
   "metadata": {
    "editable": false
   },
   "source": [
    "## Keeping Your Assignment Up-to-Date\n",
    "\n",
    "Occasionally, there will be changes made to the base repository after the\n",
    "assignment is released.  This may include bug fixes and updates to this document.  We'll post on piazza/edstem when an update is available.\n",
    "\n",
    "In those cases, you can use the following commands to pull the changes from upstream and merge them into your code.  You'll need to do this at a shell.  It won't work properly in the notebook.  Save your notebook in the browser first.\n"
   ]
  },
  {
   "cell_type": "markdown",
   "metadata": {
    "editable": false
   },
   "source": [
    "```\n",
    "cd <your directory for this assignment>git remote add upstream $(cat .starter_repo)  # You need to do this once each time you checkout a new assignment. It will fail \n",
    "                                              # harmlessly if you run it more than once.\n",
    "cp Assignment.ipynb Assignment.backup.ipynb                 # Backup your work.\n",
    "git commit -am \"My progress so far.\"          # commit your work.\n",
    "git pull upstream main --allow-unrelated-histories -X theirs # pull the updates\n",
    "```\n",
    "\n",
    "Or you can use the script we provide:"
   ]
  },
  {
   "cell_type": "code",
   "execution_count": 2,
   "metadata": {},
   "outputs": [
    {
     "name": "stdout",
     "output_type": "stream",
     "text": [
      "warning: no common commits\n",
      "remote: Enumerating objects: 56, done.\u001b[K\n",
      "remote: Counting objects: 100% (56/56), done.\u001b[K\n",
      "remote: Compressing objects: 100% (42/42), done.\u001b[K\n",
      "remote: Total 56 (delta 21), reused 47 (delta 12), pack-reused 0\u001b[K\n",
      "Unpacking objects: 100% (56/56), 145.11 KiB | 31.00 KiB/s, done.\n",
      "From github.com:CS203UCR/2022fa-cs203-performance-starter\n",
      " * [new branch]      main       -> upstream/main\n",
      "HEAD is now at 3925b72 fix performance counter issues.\n",
      "Enumerating objects: 56, done.\n",
      "Counting objects: 100% (56/56), done.\n",
      "Delta compression using up to 6 threads\n",
      "Compressing objects: 100% (52/52), done.\n",
      "Writing objects: 100% (56/56), 144.37 KiB | 9.62 MiB/s, done.\n",
      "Total 56 (delta 21), reused 24 (delta 2)\n",
      "remote: Resolving deltas: 100% (21/21), done.\u001b[K\n",
      "To github.com:madhuammulu8/CS203UCR-2022fa-cs203-performance-starter..git\n",
      " + 3d4b8a5...3925b72 main -> main (forced update)\n",
      "======= backing up your notebook ==========\n",
      "======= commiting your changes ==========\n",
      "On branch main\n",
      "Your branch is up to date with 'origin/main'.\n",
      "\n",
      "Untracked files:\n",
      "  (use \"git add <file>...\" to include in what will be committed)\n",
      "\t\u001b[31mAssignment.backup.ipynb\u001b[m\n",
      "\n",
      "nothing added to commit but untracked files present (use \"git add\" to track)\n",
      "======= pull updates ==========\n",
      "From github.com:CS203UCR/2022fa-cs203-performance-starter\n",
      " * branch            main       -> FETCH_HEAD\n",
      "Already up to date.\n"
     ]
    }
   ],
   "source": [
    "! ./fix-repo\n",
    "! ./pull-updates"
   ]
  },
  {
   "cell_type": "markdown",
   "metadata": {
    "editable": false
   },
   "source": [
    "Then, reload this page in your browser."
   ]
  },
  {
   "cell_type": "markdown",
   "metadata": {
    "editable": false
   },
   "source": [
    "## How To Use This Document\n",
    "\n",
    "You will use Jupyter Notebook to complete this assignment.  You should be able to do much of this assignment without leaving Jupyter Notebook.  The main exception will be some of the programming assignments.  The instructions will make it clear when you should use the terminal.\n",
    "\n",
    "### Running Code\n",
    "\n",
    "Jupyter Notebooks are made up of \"cells\".  Some have Markdown-formatted text in them (like this one).  Some have Python code (like the one below).\n",
    "\n",
    "For code cells, you press `shift-return` to execute the code.  Try it below:"
   ]
  },
  {
   "cell_type": "code",
   "execution_count": 3,
   "metadata": {
    "editable": false
   },
   "outputs": [
    {
     "name": "stdout",
     "output_type": "stream",
     "text": [
      "I'm in python\n"
     ]
    }
   ],
   "source": [
    "print(\"I'm in python\")"
   ]
  },
  {
   "cell_type": "markdown",
   "metadata": {
    "editable": false
   },
   "source": [
    "Code cells can also execute shell commands using the `!` operator.  Try it below:"
   ]
  },
  {
   "cell_type": "code",
   "execution_count": 4,
   "metadata": {
    "editable": false
   },
   "outputs": [
    {
     "name": "stdout",
     "output_type": "stream",
     "text": [
      "I'm in a shell\n"
     ]
    }
   ],
   "source": [
    "!echo \"I'm in a shell\""
   ]
  },
  {
   "attachments": {
    "image.png": {
     "image/png": "[encoded data removed]"
    }
   },
   "cell_type": "markdown",
   "metadata": {
    "editable": false
   },
   "source": [
    "### Telling What The Notebook is Doing\n",
    "\n",
    "The notebook will only run one cell at a time, so if you press `shift-return` several times, the cells will wait for one another.  You can tell that a cell is waiting if it there's a `*` in the `[]` to the left the cell:\n",
    "\n",
    "![image.png](attachment:image.png)\n"
   ]
  },
  {
   "attachments": {
    "image.png": {
     "image/png": "[encoded data removed]"
    }
   },
   "cell_type": "markdown",
   "metadata": {
    "editable": false
   },
   "source": [
    "You'll can also tell _where_ the notebook is executing by looking at the table of contents on the left.  The section with the currently-executing cell will be red:\n",
    "\n",
    "![image.png](attachment:image.png)"
   ]
  },
  {
   "attachments": {
    "image.png": {
     "image/png": "[encoded data removed]"
    }
   },
   "cell_type": "markdown",
   "metadata": {
    "editable": false
   },
   "source": [
    "### What to Do Jupyter Notebook It Gets Stuck\n",
    "\n",
    "First, check if it's actually stuck: Some of the cells take a while, but they will usually provide some visual sign of progress.  If _nothing_ is happening for more than 10 seconds, it's probably stuck.\n",
    "\n",
    "To get it unstuck, you stop execution of the current cell with the \"interrupt button\":\n",
    "\n",
    "![image.png](attachment:image.png)"
   ]
  },
  {
   "attachments": {
    "image.png": {
     "image/png": "[encoded data removed]"
    }
   },
   "cell_type": "markdown",
   "metadata": {
    "editable": false
   },
   "source": [
    "You can also restart the underlying python instance (i.e., the confusingly-named \"kernel\" which is not the same thing as the operating system kernel) with the restart button:\n",
    "\n",
    "![image.png](attachment:image.png)\n",
    "\n",
    "Once you do this, all the variables defined by earlier cells are gone, so you may get some errors.  You may need to re-run the cells in the current section to get things to work again.\n",
    "\n",
    "You can also reloading the web page.  That will leave Python kernel intact, but it can help with some problems.\n",
    "\n",
    "### Common Errors and Non-Errors\n",
    "\n",
    "1.  If you get `sh: 0: getcwd() failed: no such file or directory`, restart the kernel.\n",
    "2.  If you get `INFO:MainThread:numexpr.utils:Note: NumExpr detected 40 cores but \"NUMEXPR_MAX_THREADS\" not set, so enforcing safe limit of 8.`.  It's not a real error.  Ignore it. \n",
    "3.  If you get a prompt asking `Do you want to cancel them and run this job?` but you can't reply because you can't type into an output cell in Jupyter notebook, replace `cs203 job run` with `cs203 job run `. (see useful tip below.)\n",
    "4.  If you get an `Error: Your request failed on the server: 500 Server Error: Internal Server Error for url=http://cs203l-dev.wl.r.appspot.com/file`, trying running the job again."
   ]
  },
  {
   "attachments": {
    "image.png": {
     "image/png": "[encoded data removed]"
    }
   },
   "cell_type": "markdown",
   "metadata": {
    "editable": false
   },
   "source": [
    "### Useful Tips\n",
    "\n",
    "1.  If you need to edit a cell, but you can't you can unlock it by pressing this button in the tool bar (although you probably shouldn't do this because it might make the assignment work incorrectly.  A better choice is to copy and paste the cell, _and then_ unlock the copy):\n",
    "![image.png](attachment:image.png)"
   ]
  },
  {
   "attachments": {
    "image.png": {
     "image/png": "[encoded data removed]"
    }
   },
   "cell_type": "markdown",
   "metadata": {
    "editable": false
   },
   "source": [
    "### The Embedded Code\n",
    "\n",
    "The code embedded in the assignment falls into two categories:\n",
    "\n",
    "1.  Code you need to edit and understand.\n",
    "2.  Code that you do not need to edit or understand -- it's just there to display something for you.\n",
    "\n",
    "For code in the first category, the assignment will make it clear that you need to study, modify, and/or run the code.  If we don't explicitly ask you to do something, you don't need to.\n",
    "\n",
    "Most of the code in the second category is for drawing graphs.  You can just run it with shift-return to the see the results.  If you are curious, it's mostly written with `Pandas` and `matplotlib`. The code is all in `notebook.py`.   These cells should be un-editable.  However, if you want to experiment with them, you can copy _the contents_ of the cell into a new cell and do whatever you want (If you copy the cell, the copy will also be uneditable).\n",
    "\n",
    "<div class=\"alert alert-block alert-info\">\n",
    "\n",
    "**Most Cells are Immutable** Many of the cells of this notebook are uneditable. The only ones you should edit are some of the code cells and the text cells with questions in them.\n",
    "</div>\n",
    "\n",
    "<div class=\"alert alert-block alert-info\">\n",
    "\n",
    "**Pro Tip** The \"carrot\" icon in the lower right (shown below) will open a scratch pad area.  It can be a useful place to do math (or whatever else you want.\n",
    "    \n",
    "![image.png](attachment:image.png)\n",
    "</div>"
   ]
  },
  {
   "cell_type": "markdown",
   "metadata": {
    "editable": false
   },
   "source": [
    "### Answering Questions\n",
    "\n",
    "Throughout this document, you'll see some questions (like the one below).  You can double click on them to edit them and fill in your answer.  Try not to mess up the formatting (so it's easy for us to grade), but at least make sure your answer shows up clearly.  When you are done editing, you can `shift-return` to make it pretty again.\n",
    "\n",
    "A few tips, pointers, and caveats for answering questions:\n",
    "\n",
    "1. The answers are all in [github-flavored markdown](https://guides.github.com/features/mastering-markdown/) with some html sprinkled in.  Leave the html alone.\n",
    "2. Many answers require you to fill in a table, and many of the `|` characters will be missing.  You'll need to add them back.\n",
    "3. The HTML needs to start at the beginning of a line.  If there are spaces before a tag, it won't render properly.  If you accidentally add white space at the beginning of a line with an html tag on it, you'll need to fix it.\n",
    "4. Text answers also need to start at the beginning of a line, otherwise they will be rendered as code.\n",
    "5. Press `shift-return` or `option-return` to render the cell and make sure it looks good.\n",
    "6. There needs to be a blank line between html tags and markdown.  Otherwise, the markdown formatting will not appear correctly.\n",
    "\n",
    "\n",
    "You'll notice that there are three kinds of questions: \"Correctness\", \"Completeness\", and \"Optional\".  You need to provide an answer to the \"Completeness\" questions, but you won't be graded on its correctness.  You'll need to answer \"Correctness\" questions correctly to get credit.  The \"Optional\" questions are optional."
   ]
  },
  {
   "cell_type": "markdown",
   "metadata": {
    "editable": false,
    "tags": []
   },
   "source": [
    "# Grading\n",
    "\n",
    "Your grade for this assignment will be based on your completion and submission of this notebook.\n",
    "\n",
    "| Part                       | value |\n",
    "|----------------------------|-------|\n",
    "| Jupyter Notebook           | 50%   |\n",
    "| Programming Assignment     | 48%    |\n",
    "| Post-assignment survey            | 2%    |\n",
    "\n",
    "We will grade 5 of the \"completeness\" problems.  They are worth 3 points each.  We will grade all of the \"correctness\" questions.\n",
    "\n",
    "Check Gradescope for the due dates.\n",
    "\n",
    "Instructions for submitting the assignment are at the end of the assignment.\n",
    "\n",
    "No late work or extensions will be allowed."
   ]
  },
  {
   "cell_type": "markdown",
   "metadata": {
    "editable": false
   },
   "source": [
    "# Skills to Learn\n",
    "\n",
    "1. Think code and predict its behavior."
   ]
  },
  {
   "cell_type": "markdown",
   "metadata": {
    "editable": false
   },
   "source": [
    "# Analyzing Program Behavior with the Performance Equation"
   ]
  },
  {
   "cell_type": "markdown",
   "metadata": {
    "editable": false
   },
   "source": [
    "<div class=\"alert alert-block alert-success\">\n",
    "    \n",
    "**Keep track of questions you have.**  This assignment is more about collecting questions than finding answers.  I've called out some interesting questions throughout the assignment.  The last question of the assignment asks for _other_ questions you had while examining the data you'll collect below, so keep track of them as you work through the assignment.\n",
    "\n",
    "</div>"
   ]
  },
  {
   "cell_type": "markdown",
   "metadata": {
    "editable": false
   },
   "source": [
    "## Meet the Code!\n",
    "\n",
    "In this assignment we are going to analyze a few simple funtions in`microbench.cpp`.  The first is `baseline_int()`:"
   ]
  },
  {
   "cell_type": "code",
   "execution_count": 5,
   "metadata": {
    "editable": false,
    "init_cell": true
   },
   "outputs": [
    {
     "data": {
      "text/html": [
       "<style>pre { line-height: 125%; }\n",
       "td.linenos .normal { color: inherit; background-color: transparent; padding-left: 5px; padding-right: 5px; }\n",
       "span.linenos { color: inherit; background-color: transparent; padding-left: 5px; padding-right: 5px; }\n",
       "td.linenos .special { color: #000000; background-color: #ffffc0; padding-left: 5px; padding-right: 5px; }\n",
       "span.linenos.special { color: #000000; background-color: #ffffc0; padding-left: 5px; padding-right: 5px; }\n",
       ".output_html .hll { background-color: #ffffcc }\n",
       ".output_html { background: #f8f8f8; }\n",
       ".output_html .c { color: #3D7B7B; font-style: italic } /* Comment */\n",
       ".output_html .err { border: 1px solid #FF0000 } /* Error */\n",
       ".output_html .k { color: #008000; font-weight: bold } /* Keyword */\n",
       ".output_html .o { color: #666666 } /* Operator */\n",
       ".output_html .ch { color: #3D7B7B; font-style: italic } /* Comment.Hashbang */\n",
       ".output_html .cm { color: #3D7B7B; font-style: italic } /* Comment.Multiline */\n",
       ".output_html .cp { color: #9C6500 } /* Comment.Preproc */\n",
       ".output_html .cpf { color: #3D7B7B; font-style: italic } /* Comment.PreprocFile */\n",
       ".output_html .c1 { color: #3D7B7B; font-style: italic } /* Comment.Single */\n",
       ".output_html .cs { color: #3D7B7B; font-style: italic } /* Comment.Special */\n",
       ".output_html .gd { color: #A00000 } /* Generic.Deleted */\n",
       ".output_html .ge { font-style: italic } /* Generic.Emph */\n",
       ".output_html .gr { color: #E40000 } /* Generic.Error */\n",
       ".output_html .gh { color: #000080; font-weight: bold } /* Generic.Heading */\n",
       ".output_html .gi { color: #008400 } /* Generic.Inserted */\n",
       ".output_html .go { color: #717171 } /* Generic.Output */\n",
       ".output_html .gp { color: #000080; font-weight: bold } /* Generic.Prompt */\n",
       ".output_html .gs { font-weight: bold } /* Generic.Strong */\n",
       ".output_html .gu { color: #800080; font-weight: bold } /* Generic.Subheading */\n",
       ".output_html .gt { color: #0044DD } /* Generic.Traceback */\n",
       ".output_html .kc { color: #008000; font-weight: bold } /* Keyword.Constant */\n",
       ".output_html .kd { color: #008000; font-weight: bold } /* Keyword.Declaration */\n",
       ".output_html .kn { color: #008000; font-weight: bold } /* Keyword.Namespace */\n",
       ".output_html .kp { color: #008000 } /* Keyword.Pseudo */\n",
       ".output_html .kr { color: #008000; font-weight: bold } /* Keyword.Reserved */\n",
       ".output_html .kt { color: #B00040 } /* Keyword.Type */\n",
       ".output_html .m { color: #666666 } /* Literal.Number */\n",
       ".output_html .s { color: #BA2121 } /* Literal.String */\n",
       ".output_html .na { color: #687822 } /* Name.Attribute */\n",
       ".output_html .nb { color: #008000 } /* Name.Builtin */\n",
       ".output_html .nc { color: #0000FF; font-weight: bold } /* Name.Class */\n",
       ".output_html .no { color: #880000 } /* Name.Constant */\n",
       ".output_html .nd { color: #AA22FF } /* Name.Decorator */\n",
       ".output_html .ni { color: #717171; font-weight: bold } /* Name.Entity */\n",
       ".output_html .ne { color: #CB3F38; font-weight: bold } /* Name.Exception */\n",
       ".output_html .nf { color: #0000FF } /* Name.Function */\n",
       ".output_html .nl { color: #767600 } /* Name.Label */\n",
       ".output_html .nn { color: #0000FF; font-weight: bold } /* Name.Namespace */\n",
       ".output_html .nt { color: #008000; font-weight: bold } /* Name.Tag */\n",
       ".output_html .nv { color: #19177C } /* Name.Variable */\n",
       ".output_html .ow { color: #AA22FF; font-weight: bold } /* Operator.Word */\n",
       ".output_html .w { color: #bbbbbb } /* Text.Whitespace */\n",
       ".output_html .mb { color: #666666 } /* Literal.Number.Bin */\n",
       ".output_html .mf { color: #666666 } /* Literal.Number.Float */\n",
       ".output_html .mh { color: #666666 } /* Literal.Number.Hex */\n",
       ".output_html .mi { color: #666666 } /* Literal.Number.Integer */\n",
       ".output_html .mo { color: #666666 } /* Literal.Number.Oct */\n",
       ".output_html .sa { color: #BA2121 } /* Literal.String.Affix */\n",
       ".output_html .sb { color: #BA2121 } /* Literal.String.Backtick */\n",
       ".output_html .sc { color: #BA2121 } /* Literal.String.Char */\n",
       ".output_html .dl { color: #BA2121 } /* Literal.String.Delimiter */\n",
       ".output_html .sd { color: #BA2121; font-style: italic } /* Literal.String.Doc */\n",
       ".output_html .s2 { color: #BA2121 } /* Literal.String.Double */\n",
       ".output_html .se { color: #AA5D1F; font-weight: bold } /* Literal.String.Escape */\n",
       ".output_html .sh { color: #BA2121 } /* Literal.String.Heredoc */\n",
       ".output_html .si { color: #A45A77; font-weight: bold } /* Literal.String.Interpol */\n",
       ".output_html .sx { color: #008000 } /* Literal.String.Other */\n",
       ".output_html .sr { color: #A45A77 } /* Literal.String.Regex */\n",
       ".output_html .s1 { color: #BA2121 } /* Literal.String.Single */\n",
       ".output_html .ss { color: #19177C } /* Literal.String.Symbol */\n",
       ".output_html .bp { color: #008000 } /* Name.Builtin.Pseudo */\n",
       ".output_html .fm { color: #0000FF } /* Name.Function.Magic */\n",
       ".output_html .vc { color: #19177C } /* Name.Variable.Class */\n",
       ".output_html .vg { color: #19177C } /* Name.Variable.Global */\n",
       ".output_html .vi { color: #19177C } /* Name.Variable.Instance */\n",
       ".output_html .vm { color: #19177C } /* Name.Variable.Magic */\n",
       ".output_html .il { color: #666666 } /* Literal.Number.Integer.Long */</style><div class=\"highlight\"><pre><span></span><span class=\"c1\">// microbench.cpp:24-37 (14 lines)</span>\n",
       "<span class=\"k\">extern</span><span class=\"w\"> </span><span class=\"s\">&quot;C&quot;</span><span class=\"w\"> </span><span class=\"kt\">uint64_t</span><span class=\"w\"> </span><span class=\"o\">*</span><span class=\"n\">__attribute__</span><span class=\"p\">((</span><span class=\"n\">noinline</span><span class=\"p\">))</span><span class=\"w\"> </span><span class=\"n\">baseline_int</span><span class=\"p\">(</span><span class=\"kt\">uint64_t</span><span class=\"w\"> </span><span class=\"o\">*</span><span class=\"w\"> </span><span class=\"n\">array</span><span class=\"p\">,</span><span class=\"w\"> </span><span class=\"kt\">unsigned</span><span class=\"w\"> </span><span class=\"kt\">long</span><span class=\"w\"> </span><span class=\"kt\">int</span><span class=\"w\"> </span><span class=\"n\">size</span><span class=\"p\">)</span><span class=\"w\"> </span><span class=\"p\">{</span><span class=\"w\"></span>\n",
       "<span class=\"w\">\t</span><span class=\"c1\">//uint64_t * array = new uint64_t[size];</span>\n",
       "<span class=\"w\">\t</span><span class=\"k\">for</span><span class=\"p\">(</span><span class=\"n\">uint</span><span class=\"w\"> </span><span class=\"n\">i</span><span class=\"w\"> </span><span class=\"o\">=</span><span class=\"w\"> </span><span class=\"mi\">0</span><span class=\"p\">;</span><span class=\"w\"> </span><span class=\"n\">i</span><span class=\"w\"> </span><span class=\"o\">&lt;</span><span class=\"w\"> </span><span class=\"n\">size</span><span class=\"p\">;</span><span class=\"w\"> </span><span class=\"n\">i</span><span class=\"o\">++</span><span class=\"p\">)</span><span class=\"w\"> </span><span class=\"p\">{</span><span class=\"w\"></span>\n",
       "<span class=\"w\">\t\t</span><span class=\"n\">array</span><span class=\"p\">[</span><span class=\"n\">i</span><span class=\"p\">]</span><span class=\"w\"> </span><span class=\"o\">=</span><span class=\"w\"> </span><span class=\"mi\">0</span><span class=\"p\">;</span><span class=\"w\"></span>\n",
       "<span class=\"w\">\t</span><span class=\"p\">}</span><span class=\"w\"></span>\n",
       "\n",
       "<span class=\"w\">\t</span><span class=\"k\">for</span><span class=\"w\"> </span><span class=\"p\">(</span><span class=\"n\">uint</span><span class=\"w\"> </span><span class=\"n\">j</span><span class=\"w\"> </span><span class=\"o\">=</span><span class=\"w\"> </span><span class=\"mi\">0</span><span class=\"p\">;</span><span class=\"w\"> </span><span class=\"n\">j</span><span class=\"w\"> </span><span class=\"o\">&lt;</span><span class=\"w\"> </span><span class=\"mi\">3</span><span class=\"p\">;</span><span class=\"w\"> </span><span class=\"n\">j</span><span class=\"o\">++</span><span class=\"p\">)</span><span class=\"w\"> </span><span class=\"p\">{</span><span class=\"w\"></span>\n",
       "<span class=\"w\">\t\t</span><span class=\"k\">for</span><span class=\"p\">(</span><span class=\"n\">uint</span><span class=\"w\"> </span><span class=\"n\">i</span><span class=\"o\">=</span><span class=\"w\"> </span><span class=\"mi\">1</span><span class=\"w\"> </span><span class=\"p\">;</span><span class=\"w\"> </span><span class=\"n\">i</span><span class=\"w\"> </span><span class=\"o\">&lt;</span><span class=\"w\"> </span><span class=\"n\">size</span><span class=\"p\">;</span><span class=\"w\"> </span><span class=\"n\">i</span><span class=\"o\">++</span><span class=\"p\">)</span><span class=\"w\"> </span><span class=\"p\">{</span><span class=\"w\"></span>\n",
       "<span class=\"w\">\t\t\t</span><span class=\"n\">array</span><span class=\"p\">[</span><span class=\"n\">i</span><span class=\"p\">]</span><span class=\"w\"> </span><span class=\"o\">+=</span><span class=\"w\"> </span><span class=\"n\">i</span><span class=\"o\">/</span><span class=\"p\">(</span><span class=\"mi\">1</span><span class=\"o\">+</span><span class=\"n\">j</span><span class=\"p\">)</span><span class=\"o\">+</span><span class=\"n\">array</span><span class=\"p\">[</span><span class=\"n\">i</span><span class=\"w\"> </span><span class=\"o\">-</span><span class=\"w\"> </span><span class=\"mi\">1</span><span class=\"p\">];</span><span class=\"w\"></span>\n",
       "<span class=\"w\">\t\t</span><span class=\"p\">}</span><span class=\"w\"></span>\n",
       "<span class=\"w\">\t</span><span class=\"p\">}</span><span class=\"w\"></span>\n",
       "<span class=\"c1\">//\tstd::cout &lt;&lt; &quot;Execution baseline_int complete :&quot;&lt;&lt; size &lt;&lt; &quot;\\n&quot; ;</span>\n",
       "<span class=\"w\">\t</span><span class=\"k\">return</span><span class=\"w\"> </span><span class=\"n\">array</span><span class=\"p\">;</span><span class=\"w\"></span>\n",
       "<span class=\"p\">}</span><span class=\"w\"></span>\n",
       "</pre></div>\n"
      ],
      "text/latex": [
       "\\begin{Verbatim}[commandchars=\\\\\\{\\}]\n",
       "\\PY{c+c1}{// microbench.cpp:24\\PYZhy{}37 (14 lines)}\n",
       "\\PY{k}{extern}\\PY{+w}{ }\\PY{l+s}{\\PYZdq{}}\\PY{l+s}{C}\\PY{l+s}{\\PYZdq{}}\\PY{+w}{ }\\PY{k+kt}{uint64\\PYZus{}t}\\PY{+w}{ }\\PY{o}{*}\\PY{n}{\\PYZus{}\\PYZus{}attribute\\PYZus{}\\PYZus{}}\\PY{p}{(}\\PY{p}{(}\\PY{n}{noinline}\\PY{p}{)}\\PY{p}{)}\\PY{+w}{ }\\PY{n}{baseline\\PYZus{}int}\\PY{p}{(}\\PY{k+kt}{uint64\\PYZus{}t}\\PY{+w}{ }\\PY{o}{*}\\PY{+w}{ }\\PY{n}{array}\\PY{p}{,}\\PY{+w}{ }\\PY{k+kt}{unsigned}\\PY{+w}{ }\\PY{k+kt}{long}\\PY{+w}{ }\\PY{k+kt}{int}\\PY{+w}{ }\\PY{n}{size}\\PY{p}{)}\\PY{+w}{ }\\PY{p}{\\PYZob{}}\n",
       "\\PY{+w}{\t}\\PY{c+c1}{//uint64\\PYZus{}t * array = new uint64\\PYZus{}t[size];}\n",
       "\\PY{+w}{\t}\\PY{k}{for}\\PY{p}{(}\\PY{n}{uint}\\PY{+w}{ }\\PY{n}{i}\\PY{+w}{ }\\PY{o}{=}\\PY{+w}{ }\\PY{l+m+mi}{0}\\PY{p}{;}\\PY{+w}{ }\\PY{n}{i}\\PY{+w}{ }\\PY{o}{\\PYZlt{}}\\PY{+w}{ }\\PY{n}{size}\\PY{p}{;}\\PY{+w}{ }\\PY{n}{i}\\PY{o}{+}\\PY{o}{+}\\PY{p}{)}\\PY{+w}{ }\\PY{p}{\\PYZob{}}\n",
       "\\PY{+w}{\t\t}\\PY{n}{array}\\PY{p}{[}\\PY{n}{i}\\PY{p}{]}\\PY{+w}{ }\\PY{o}{=}\\PY{+w}{ }\\PY{l+m+mi}{0}\\PY{p}{;}\n",
       "\\PY{+w}{\t}\\PY{p}{\\PYZcb{}}\n",
       "\n",
       "\\PY{+w}{\t}\\PY{k}{for}\\PY{+w}{ }\\PY{p}{(}\\PY{n}{uint}\\PY{+w}{ }\\PY{n}{j}\\PY{+w}{ }\\PY{o}{=}\\PY{+w}{ }\\PY{l+m+mi}{0}\\PY{p}{;}\\PY{+w}{ }\\PY{n}{j}\\PY{+w}{ }\\PY{o}{\\PYZlt{}}\\PY{+w}{ }\\PY{l+m+mi}{3}\\PY{p}{;}\\PY{+w}{ }\\PY{n}{j}\\PY{o}{+}\\PY{o}{+}\\PY{p}{)}\\PY{+w}{ }\\PY{p}{\\PYZob{}}\n",
       "\\PY{+w}{\t\t}\\PY{k}{for}\\PY{p}{(}\\PY{n}{uint}\\PY{+w}{ }\\PY{n}{i}\\PY{o}{=}\\PY{+w}{ }\\PY{l+m+mi}{1}\\PY{+w}{ }\\PY{p}{;}\\PY{+w}{ }\\PY{n}{i}\\PY{+w}{ }\\PY{o}{\\PYZlt{}}\\PY{+w}{ }\\PY{n}{size}\\PY{p}{;}\\PY{+w}{ }\\PY{n}{i}\\PY{o}{+}\\PY{o}{+}\\PY{p}{)}\\PY{+w}{ }\\PY{p}{\\PYZob{}}\n",
       "\\PY{+w}{\t\t\t}\\PY{n}{array}\\PY{p}{[}\\PY{n}{i}\\PY{p}{]}\\PY{+w}{ }\\PY{o}{+}\\PY{o}{=}\\PY{+w}{ }\\PY{n}{i}\\PY{o}{/}\\PY{p}{(}\\PY{l+m+mi}{1}\\PY{o}{+}\\PY{n}{j}\\PY{p}{)}\\PY{o}{+}\\PY{n}{array}\\PY{p}{[}\\PY{n}{i}\\PY{+w}{ }\\PY{o}{\\PYZhy{}}\\PY{+w}{ }\\PY{l+m+mi}{1}\\PY{p}{]}\\PY{p}{;}\n",
       "\\PY{+w}{\t\t}\\PY{p}{\\PYZcb{}}\n",
       "\\PY{+w}{\t}\\PY{p}{\\PYZcb{}}\n",
       "\\PY{c+c1}{//\tstd::cout \\PYZlt{}\\PYZlt{} \\PYZdq{}Execution baseline\\PYZus{}int complete :\\PYZdq{}\\PYZlt{}\\PYZlt{} size \\PYZlt{}\\PYZlt{} \\PYZdq{}\\PYZbs{}n\\PYZdq{} ;}\n",
       "\\PY{+w}{\t}\\PY{k}{return}\\PY{+w}{ }\\PY{n}{array}\\PY{p}{;}\n",
       "\\PY{p}{\\PYZcb{}}\n",
       "\\end{Verbatim}\n"
      ],
      "text/plain": [
       "// microbench.cpp:24-37 (14 lines)\n",
       "extern \"C\" uint64_t *__attribute__((noinline)) baseline_int(uint64_t * array, unsigned long int size) {\n",
       "\t//uint64_t * array = new uint64_t[size];\n",
       "\tfor(uint i = 0; i < size; i++) {\n",
       "\t\tarray[i] = 0;\n",
       "\t}\n",
       "\n",
       "\tfor (uint j = 0; j < 3; j++) {\n",
       "\t\tfor(uint i= 1 ; i < size; i++) {\n",
       "\t\t\tarray[i] += i/(1+j)+array[i - 1];\n",
       "\t\t}\n",
       "\t}\n",
       "//\tstd::cout << \"Execution baseline_int complete :\"<< size << \"\\n\" ;\n",
       "\treturn array;\n",
       "}"
      ]
     },
     "metadata": {},
     "output_type": "display_data"
    }
   ],
   "source": [
    "render_code(\"microbench.cpp\", show=\"baseline_int\")"
   ]
  },
  {
   "cell_type": "markdown",
   "metadata": {
    "editable": false
   },
   "source": [
    "`baseline_int()`  initilizes `array` and then does some multiplies and additions to update it's contents.  It's not a useful computation, so don't spend time trying to figure out what it does.\n",
    "\n",
    "Fill the following cell to compile the code and create `microbench.exe`, and then run it:"
   ]
  },
  {
   "cell_type": "code",
   "execution_count": 6,
   "metadata": {
    "editable": false
   },
   "outputs": [
    {
     "name": "stdout",
     "output_type": "stream",
     "text": [
      "srun -N1 -p cs203 make microbench.exe\n",
      "mkdir -p ./build/ \n",
      "cp  perfstats.c ./build/perfstats.c\n",
      "g++  -DHAVE_LINUX_PERF_EVENT_H -I/cs203/mtung007/CS203UCR-2022fa-cs203-performance-starter.  -lm -pthread  -o ./build/perfstats.o -c ./build/perfstats.c\n",
      "g++  -DHAVE_LINUX_PERF_EVENT_H -I/cs203/mtung007/CS203UCR-2022fa-cs203-performance-starter.  -lm -pthread  microbench.cpp ./build/perfstats.o  -o microbench.exe\n",
      "microbench.cpp: In function ‘int main(int, char**)’:\n",
      "microbench.cpp:297:36: warning: ISO C++ forbids converting a string constant to ‘char*’ [-Wwrite-strings]\n",
      "  297 |  perfstats_print_header(stat_file, \"size,rep,function,IC,Cycles,CPI,MHz,CT,ET,cmdlineMHz\");\n",
      "      |                                    ^~~~~~~~~~~~~~~~~~~~~~~~~~~~~~~~~~~~~~~~~~~~~~~~~~~~~~\n",
      "srun -N1 -p cs203 ./microbench.exe\n",
      "Execution complete\n"
     ]
    }
   ],
   "source": [
    "!cs203 job run \"make microbench.exe\"\n",
    "!cs203 job run \"./microbench.exe\""
   ]
  },
  {
   "cell_type": "markdown",
   "metadata": {
    "editable": false
   },
   "source": [
    "As you can see, there are quite a few command line options for such a simple program.   These options are the interface to the data collection library we will be using in the class.  They control how our \"functions under test\" (FUTs) (i.e., `baseline_int()`) will be run.  We'll learn about them in more details as the quarter progresses.\n",
    "\n",
    "For now, let's use three arguments:\n",
    "\n",
    "* `-f` to run `baseline_int`\n",
    "* `-o` to put the results in `first.csv`\n",
    "* `-r` will run the test 2 times\n",
    "* `-s` will run tests on two different sized arrays.\n",
    "\n",
    "`microbenchmark.exe` will run all the funtions listed after `-f ` for all the array sizes given by `--size`, and it will do it all 2 times, so that's a total of 4 measurements it will take.\n",
    "\n",
    "We can submit the job to our server:"
   ]
  },
  {
   "cell_type": "code",
   "execution_count": 7,
   "metadata": {
    "editable": false
   },
   "outputs": [
    {
     "name": "stdout",
     "output_type": "stream",
     "text": [
      "srun -N1 -p cs203 ./microbench.exe -o first.csv -r 2 -s 1024 2048 -f baseline_int\n",
      "Execution complete\n"
     ]
    }
   ],
   "source": [
    "!cs203 job run \"./microbench.exe -o first.csv -r 2 -s 1024 2048 -f baseline_int\""
   ]
  },
  {
   "cell_type": "markdown",
   "metadata": {
    "editable": false
   },
   "source": [
    "`first.csv` contains some data about how the program run.  You can see the raw data:"
   ]
  },
  {
   "cell_type": "code",
   "execution_count": 8,
   "metadata": {
    "editable": false
   },
   "outputs": [
    {
     "name": "stdout",
     "output_type": "stream",
     "text": [
      "size,rep,function,IC,Cycles,CPI,MHz,CT,ET,cmdlineMHz\n",
      "1024,0,baseline_int, 110162,135991,1.234464,1699.887500,0.588274,0.000080,3200\n",
      "1024,1,baseline_int, 106226,106807,1.005469,3814.535714,0.262155,0.000028,3200\n",
      "2048,0,baseline_int, 208626,181333,0.869177,3777.770833,0.264706,0.000048,3200\n",
      "2048,1,baseline_int, 208626,186453,0.893719,3805.163265,0.262801,0.000049,3200\n"
     ]
    }
   ],
   "source": [
    "!cat first.csv"
   ]
  },
  {
   "cell_type": "markdown",
   "metadata": {
    "editable": false
   },
   "source": [
    "And render it nicely:"
   ]
  },
  {
   "cell_type": "code",
   "execution_count": 9,
   "metadata": {
    "editable": false
   },
   "outputs": [
    {
     "data": {
      "text/html": [
       "<div>\n",
       "<style scoped>\n",
       "    .dataframe tbody tr th:only-of-type {\n",
       "        vertical-align: middle;\n",
       "    }\n",
       "\n",
       "    .dataframe tbody tr th {\n",
       "        vertical-align: top;\n",
       "    }\n",
       "\n",
       "    .dataframe thead th {\n",
       "        text-align: right;\n",
       "    }\n",
       "</style>\n",
       "<table border=\"1\" class=\"dataframe\">\n",
       "  <thead>\n",
       "    <tr style=\"text-align: right;\">\n",
       "      <th></th>\n",
       "      <th>size</th>\n",
       "      <th>rep</th>\n",
       "      <th>function</th>\n",
       "      <th>IC</th>\n",
       "      <th>Cycles</th>\n",
       "      <th>CPI</th>\n",
       "      <th>MHz</th>\n",
       "      <th>CT</th>\n",
       "      <th>ET</th>\n",
       "      <th>cmdlineMHz</th>\n",
       "    </tr>\n",
       "  </thead>\n",
       "  <tbody>\n",
       "    <tr>\n",
       "      <th>0</th>\n",
       "      <td>1024</td>\n",
       "      <td>0</td>\n",
       "      <td>baseline_int</td>\n",
       "      <td>110162</td>\n",
       "      <td>135991</td>\n",
       "      <td>1.234464</td>\n",
       "      <td>1699.887500</td>\n",
       "      <td>0.588274</td>\n",
       "      <td>0.000080</td>\n",
       "      <td>3200</td>\n",
       "    </tr>\n",
       "    <tr>\n",
       "      <th>1</th>\n",
       "      <td>1024</td>\n",
       "      <td>1</td>\n",
       "      <td>baseline_int</td>\n",
       "      <td>106226</td>\n",
       "      <td>106807</td>\n",
       "      <td>1.005469</td>\n",
       "      <td>3814.535714</td>\n",
       "      <td>0.262155</td>\n",
       "      <td>0.000028</td>\n",
       "      <td>3200</td>\n",
       "    </tr>\n",
       "    <tr>\n",
       "      <th>2</th>\n",
       "      <td>2048</td>\n",
       "      <td>0</td>\n",
       "      <td>baseline_int</td>\n",
       "      <td>208626</td>\n",
       "      <td>181333</td>\n",
       "      <td>0.869177</td>\n",
       "      <td>3777.770833</td>\n",
       "      <td>0.264706</td>\n",
       "      <td>0.000048</td>\n",
       "      <td>3200</td>\n",
       "    </tr>\n",
       "    <tr>\n",
       "      <th>3</th>\n",
       "      <td>2048</td>\n",
       "      <td>1</td>\n",
       "      <td>baseline_int</td>\n",
       "      <td>208626</td>\n",
       "      <td>186453</td>\n",
       "      <td>0.893719</td>\n",
       "      <td>3805.163265</td>\n",
       "      <td>0.262801</td>\n",
       "      <td>0.000049</td>\n",
       "      <td>3200</td>\n",
       "    </tr>\n",
       "  </tbody>\n",
       "</table>\n",
       "</div>"
      ],
      "text/plain": [
       "   size  rep      function      IC  Cycles       CPI          MHz        CT  \\\n",
       "0  1024    0  baseline_int  110162  135991  1.234464  1699.887500  0.588274   \n",
       "1  1024    1  baseline_int  106226  106807  1.005469  3814.535714  0.262155   \n",
       "2  2048    0  baseline_int  208626  181333  0.869177  3777.770833  0.264706   \n",
       "3  2048    1  baseline_int  208626  186453  0.893719  3805.163265  0.262801   \n",
       "\n",
       "         ET  cmdlineMHz  \n",
       "0  0.000080        3200  \n",
       "1  0.000028        3200  \n",
       "2  0.000048        3200  \n",
       "3  0.000049        3200  "
      ]
     },
     "execution_count": 9,
     "metadata": {},
     "output_type": "execute_result"
    }
   ],
   "source": [
    "render_csv(\"first.csv\")"
   ]
  },
  {
   "cell_type": "markdown",
   "metadata": {
    "editable": false
   },
   "source": [
    "Here's what the column means:\n",
    "\n",
    "1.  `size` is the size of the `array`\n",
    "2. `rep` is the 'repetition number' (explained below).\n",
    "3.  `function` is the the function in this line is for.\n",
    "4.  `IC` is the number of dynamic instructions the program ran.\n",
    "5.  `Cycles` is the number of CPU cycles the program ran.\n",
    "6.  `MHz` is the average CPU clock speed when running the program.\n",
    "7.  `ET` is the number of seconds the program ran.\n",
    "8.  Ignore `Unnamed: 8` its existence is a bug I haven't had time to fix.\n",
    "\n",
    "Let's focus on a few columns:"
   ]
  },
  {
   "cell_type": "code",
   "execution_count": 10,
   "metadata": {
    "editable": false,
    "tags": []
   },
   "outputs": [
    {
     "data": {
      "text/html": [
       "<div>\n",
       "<style scoped>\n",
       "    .dataframe tbody tr th:only-of-type {\n",
       "        vertical-align: middle;\n",
       "    }\n",
       "\n",
       "    .dataframe tbody tr th {\n",
       "        vertical-align: top;\n",
       "    }\n",
       "\n",
       "    .dataframe thead th {\n",
       "        text-align: right;\n",
       "    }\n",
       "</style>\n",
       "<table border=\"1\" class=\"dataframe\">\n",
       "  <thead>\n",
       "    <tr style=\"text-align: right;\">\n",
       "      <th></th>\n",
       "      <th>function</th>\n",
       "      <th>rep</th>\n",
       "      <th>size</th>\n",
       "    </tr>\n",
       "  </thead>\n",
       "  <tbody>\n",
       "    <tr>\n",
       "      <th>0</th>\n",
       "      <td>baseline_int</td>\n",
       "      <td>0</td>\n",
       "      <td>1024</td>\n",
       "    </tr>\n",
       "    <tr>\n",
       "      <th>1</th>\n",
       "      <td>baseline_int</td>\n",
       "      <td>1</td>\n",
       "      <td>1024</td>\n",
       "    </tr>\n",
       "    <tr>\n",
       "      <th>2</th>\n",
       "      <td>baseline_int</td>\n",
       "      <td>0</td>\n",
       "      <td>2048</td>\n",
       "    </tr>\n",
       "    <tr>\n",
       "      <th>3</th>\n",
       "      <td>baseline_int</td>\n",
       "      <td>1</td>\n",
       "      <td>2048</td>\n",
       "    </tr>\n",
       "  </tbody>\n",
       "</table>\n",
       "</div>"
      ],
      "text/plain": [
       "       function  rep  size\n",
       "0  baseline_int    0  1024\n",
       "1  baseline_int    1  1024\n",
       "2  baseline_int    0  2048\n",
       "3  baseline_int    1  2048"
      ]
     },
     "execution_count": 10,
     "metadata": {},
     "output_type": "execute_result"
    }
   ],
   "source": [
    "render_csv(\"first.csv\", columns=[\"function\", \"rep\", \"size\"])"
   ]
  },
  {
   "cell_type": "markdown",
   "metadata": {
    "editable": false,
    "tags": []
   },
   "source": [
    "## Measuring The Performance Equation\n",
    "Now that we know how to take measurements, we can try to understand `baseline_int()`'s performance.  We will do this using the performance equation:\n",
    "\n",
    "```\n",
    "ET = IC * CPI * CT\n",
    "```\n",
    "\n",
    "So, we'll need to measure `IC` (instruction count), `CPI` (cycles per instruction), `CT` (cycle time), and `ET`, and we'll do that using \"performance counters\".  `microbench.exe` already has support for performance counters built in, we just need to tell it to collect data.  We can do that using the command below.  Here's what the additions to the command line mean.\n",
    "\n",
    "1. `-r` will run the test 25 times so we can average across lots of runs.\n",
    "2.  We set the clock speed to 3200MHz with `-M 3200`.\n",
    "\n",
    "**Performance counters _only_ work on the cloud servers.** In fact, the program will fail locally:"
   ]
  },
  {
   "cell_type": "code",
   "execution_count": 11,
   "metadata": {
    "editable": false
   },
   "outputs": [
    {
     "name": "stdout",
     "output_type": "stream",
     "text": [
      "sh: 1: /usr/sbin/changefreq: not found\n",
      "sh: 1: /usr/sbin/changefreq: not found\n",
      "Execution complete\n"
     ]
    }
   ],
   "source": [
    "!./microbench.exe -o inst_count.csv -r 25 -f baseline_int"
   ]
  },
  {
   "cell_type": "markdown",
   "metadata": {
    "editable": false
   },
   "source": [
    "So run it in the cloud:"
   ]
  },
  {
   "cell_type": "code",
   "execution_count": 12,
   "metadata": {
    "editable": false
   },
   "outputs": [
    {
     "name": "stdout",
     "output_type": "stream",
     "text": [
      "srun -N1 -p cs203 ./microbench.exe -o inst_count.csv -M 3200 -r 25 -function baseline_int\n",
      "Execution complete\n"
     ]
    }
   ],
   "source": [
    "!cs203 job run './microbench.exe -o inst_count.csv -M 3200 -r 25 -function baseline_int'"
   ]
  },
  {
   "cell_type": "code",
   "execution_count": 13,
   "metadata": {
    "editable": false
   },
   "outputs": [
    {
     "data": {
      "text/html": [
       "<div>\n",
       "<style scoped>\n",
       "    .dataframe tbody tr th:only-of-type {\n",
       "        vertical-align: middle;\n",
       "    }\n",
       "\n",
       "    .dataframe tbody tr th {\n",
       "        vertical-align: top;\n",
       "    }\n",
       "\n",
       "    .dataframe thead th {\n",
       "        text-align: right;\n",
       "    }\n",
       "</style>\n",
       "<table border=\"1\" class=\"dataframe\">\n",
       "  <thead>\n",
       "    <tr style=\"text-align: right;\">\n",
       "      <th></th>\n",
       "      <th>ET</th>\n",
       "      <th>IC</th>\n",
       "      <th>CPI</th>\n",
       "      <th>MHz</th>\n",
       "      <th>CT</th>\n",
       "    </tr>\n",
       "    <tr>\n",
       "      <th>size</th>\n",
       "      <th></th>\n",
       "      <th></th>\n",
       "      <th></th>\n",
       "      <th></th>\n",
       "      <th></th>\n",
       "    </tr>\n",
       "  </thead>\n",
       "  <tbody>\n",
       "    <tr>\n",
       "      <th>1048576</th>\n",
       "      <td>0.022353</td>\n",
       "      <td>104917500.0</td>\n",
       "      <td>0.840026</td>\n",
       "      <td>3942.854467</td>\n",
       "      <td>0.25363</td>\n",
       "    </tr>\n",
       "  </tbody>\n",
       "</table>\n",
       "</div>"
      ],
      "text/plain": [
       "               ET           IC       CPI          MHz       CT\n",
       "size                                                          \n",
       "1048576  0.022353  104917500.0  0.840026  3942.854467  0.25363"
      ]
     },
     "execution_count": 13,
     "metadata": {},
     "output_type": "execute_result"
    }
   ],
   "source": [
    "render_csv(\"inst_count.csv\", columns=columns, average_by=\"size\")  # Compute averages across all the reps."
   ]
  },
  {
   "cell_type": "markdown",
   "metadata": {
    "editable": false
   },
   "source": [
    "We are going to see a lot of data like this so, let's be clear about what they mean:\n",
    "\n",
    "| size| IC | CPI | CT | ET | cmdlineMHz|MHz|\n",
    "|-----|----|-----|----|----|-----------|-------|\n",
    "| size of `array` |  dynamic instructions executed | Cycles/instruction | Cycle Time | Execution Time  | MHz value from the command line| Measured MHZ|\n",
    "\n",
    "Note that `-M` parameter and the reported `MHz` don't quite match.  This is due to noise in how we measure elapsed time and \"cold start\" effects which cause the very first repetition to be much noiser than than the others."
   ]
  },
  {
   "cell_type": "markdown",
   "metadata": {
    "editable": false
   },
   "source": [
    "## Instruction Count\n",
    "\n",
    "Let's see how changing the instruction count (`IC`) affects performance.  There are two ways we can increase instruction count for `baseline_int()`:\n",
    "\n",
    "1.  We can run the same experiment multiple times.\n",
    "2.  We can increase the size of `array` with the `--size` parameter."
   ]
  },
  {
   "cell_type": "markdown",
   "metadata": {
    "editable": false
   },
   "source": [
    "### Running The Experiment Mutiple Times\n",
    "\n",
    "So far we've been passing `-r` (reps) to control how many times we run an experiment.  This helps smooth out noise in the measurement, but we can crank it up to increase IC.  We'll run it 3 times with 25, 50, and 100 reps.\n",
    "\n",
    "<div class=\"alert alert-block alert-info\">\n",
    "    \n",
    "**Answer the question _before_ you look at the results.**  The goal of this question (and many more to follow) is for you to predict the answer and then see if the results match your intuition.  Don't be discouraged if you frequently get the prediction wrong:  They are intentionally challenging.  Also, a major goal of the assignment is to highlight behavior that seems _non-intuitive_ so you can _improve your intuition_.\n",
    "</div\n",
    "\n",
    "Kick off the experiment below and the answer this question:"
   ]
  },
  {
   "cell_type": "markdown",
   "metadata": {
    "cs203.is_response": true,
    "cs203.points": 1,
    "cs203.question_type": "completeness",
    "deletable": false,
    "editable": true
   },
   "source": [
    "\n",
    "<div class=\"alert alert-block alert-success\"><div class=\"question completeness\">\n",
    "\n",
    "### Question 1 (Completeness)\n",
    "\n",
    "<div class=\"alert alert-block alert-success\"> \n",
    "    \n",
    "In a moment, you'll see four graphs that show how each term of the performance equation changes as we increase `--reps`.  What _shape_ do you think each curve will have (linear? curved?) and what _direction_ will it go (increasing? Decreasing? flat?)?  For each term, predict the ratio between it's value at 100 and 25 (i.e., `value_at_100/value_at_25`).\n",
    "    \n",
    "</div>\n",
    "    \n",
    "<div class=\"answer\">\n",
    "\n",
    "|                        | IC      | CPI | CT | ET |\n",
    "|------------------------|---------|-----|----|----|\n",
    "|Shape                   | [PUT YOUR ANSWERS IN THE TABLE]       |     |    |    | \n",
    "|Direction               |         |     |    |    |\n",
    "|100 vs 25 ratio         |         |     |    |    |    \n",
    "\n",
    "</div>\n",
    "</div>\n",
    "</div>"
   ]
  },
  {
   "cell_type": "code",
   "execution_count": 14,
   "metadata": {
    "editable": false
   },
   "outputs": [
    {
     "name": "stdout",
     "output_type": "stream",
     "text": [
      "srun -N1 -p cs203 ./microbench.exe -o 25.csv -r 25 -f baseline_int\n",
      "Execution complete\n",
      "srun -N1 -p cs203 ./microbench.exe -o 50.csv -r 50 -f baseline_int\n",
      "Execution complete\n",
      "srun -N1 -p cs203 ./microbench.exe -o 100.csv -r 100 -f baseline_int\n",
      "Execution complete\n"
     ]
    }
   ],
   "source": [
    "#This takes a while...\n",
    "!cs203 job run './microbench.exe -o 25.csv -r 25 -f baseline_int'\n",
    "!cs203 job run './microbench.exe -o 50.csv -r 50 -f baseline_int'\n",
    "!cs203 job run './microbench.exe -o 100.csv -r 100 -f baseline_int'\n"
   ]
  },
  {
   "cell_type": "code",
   "execution_count": 15,
   "metadata": {
    "cs203.is_response": true,
    "deletable": false,
    "editable": false
   },
   "outputs": [
    {
     "name": "stderr",
     "output_type": "stream",
     "text": [
      "/cs203/mtung007/CS203UCR-2022fa-cs203-performance-starter./notebook.py:490: FutureWarning: The frame.append method is deprecated and will be removed from pandas in a future version. Use pandas.concat instead.\n",
      "  all = all.append(r, ignore_index=True)\n",
      "/cs203/mtung007/CS203UCR-2022fa-cs203-performance-starter./notebook.py:490: FutureWarning: The frame.append method is deprecated and will be removed from pandas in a future version. Use pandas.concat instead.\n",
      "  all = all.append(r, ignore_index=True)\n",
      "/cs203/mtung007/CS203UCR-2022fa-cs203-performance-starter./notebook.py:490: FutureWarning: The frame.append method is deprecated and will be removed from pandas in a future version. Use pandas.concat instead.\n",
      "  all = all.append(r, ignore_index=True)\n"
     ]
    },
    {
     "data": {
      "text/html": [
       "<div>\n",
       "<style scoped>\n",
       "    .dataframe tbody tr th:only-of-type {\n",
       "        vertical-align: middle;\n",
       "    }\n",
       "\n",
       "    .dataframe tbody tr th {\n",
       "        vertical-align: top;\n",
       "    }\n",
       "\n",
       "    .dataframe thead th {\n",
       "        text-align: right;\n",
       "    }\n",
       "</style>\n",
       "<table border=\"1\" class=\"dataframe\">\n",
       "  <thead>\n",
       "    <tr style=\"text-align: right;\">\n",
       "      <th></th>\n",
       "      <th>reps</th>\n",
       "      <th>ET</th>\n",
       "      <th>IC</th>\n",
       "      <th>CPI</th>\n",
       "      <th>MHz</th>\n",
       "      <th>CT</th>\n",
       "    </tr>\n",
       "  </thead>\n",
       "  <tbody>\n",
       "    <tr>\n",
       "      <th>0</th>\n",
       "      <td>25.0</td>\n",
       "      <td>0.561639</td>\n",
       "      <td>2622999997</td>\n",
       "      <td>0.838097</td>\n",
       "      <td>3914.164237</td>\n",
       "      <td>0.255487</td>\n",
       "    </tr>\n",
       "    <tr>\n",
       "      <th>1</th>\n",
       "      <td>50.0</td>\n",
       "      <td>1.065248</td>\n",
       "      <td>5245759936</td>\n",
       "      <td>0.797209</td>\n",
       "      <td>3925.833344</td>\n",
       "      <td>0.254725</td>\n",
       "    </tr>\n",
       "    <tr>\n",
       "      <th>2</th>\n",
       "      <td>100.0</td>\n",
       "      <td>2.194989</td>\n",
       "      <td>10491319302</td>\n",
       "      <td>0.816509</td>\n",
       "      <td>3909.947952</td>\n",
       "      <td>0.256253</td>\n",
       "    </tr>\n",
       "  </tbody>\n",
       "</table>\n",
       "</div>"
      ],
      "text/plain": [
       "    reps        ET           IC       CPI          MHz        CT\n",
       "0   25.0  0.561639   2622999997  0.838097  3914.164237  0.255487\n",
       "1   50.0  1.065248   5245759936  0.797209  3925.833344  0.254725\n",
       "2  100.0  2.194989  10491319302  0.816509  3909.947952  0.256253"
      ]
     },
     "execution_count": 15,
     "metadata": {},
     "output_type": "execute_result"
    },
    {
     "data": {
      "image/png": "[encoded data removed]",
      "text/plain": [
       "<Figure size 1600x400 with 4 Axes>"
      ]
     },
     "metadata": {},
     "output_type": "display_data"
    }
   ],
   "source": [
    "\n",
    "df = IC_avg_and_combine(\"25.csv\", \"50.csv\", \"100.csv\")\n",
    "plotPE(df=df, lines=True, what=[ ('reps', \"IC\"), (\"reps\", \"CPI\"), (\"reps\", \"CT\"), (\"reps\", \"ET\") ], columns=4)\n",
    "df[[\"reps\"] +  columns]"
   ]
  },
  {
   "cell_type": "markdown",
   "metadata": {
    "cs203.is_response": true,
    "cs203.points": 4,
    "cs203.question_type": "correctness",
    "deletable": false,
    "editable": true
   },
   "source": [
    "\n",
    "<div class=\"alert alert-block alert-success\"><div class=\"question correctness points-4\">\n",
    "\n",
    "### Question 2 (Correctness)\n",
    "\n",
    "<div class=\"alert alert-block alert-success\">\n",
    "Use the \"scratch pad\" to compute the actual ratio of the values at `reps = 100` and `reps = 25` and enter them in the table below.  How does these results differ from what you expected? (We won't check that you actually used the scratch pad, but you should.  It's a very useful tool.)  \n",
    "    </div>\n",
    "   \n",
    "<div class=\"answer\">\n",
    "\n",
    "|                     | IC      | CPI | CT | ET |\n",
    "|---------------------|---------|-----|----|----|\n",
    "|100 vs 25 reps ratio | <PUT YOUR ANSWER IN THE TABLE> \n",
    "|Differences compared to your expectations (if any):| | | | |\n",
    "\n",
    "\n",
    "\n",
    "</div>\n",
    "</div>\n",
    "</div>"
   ]
  },
  {
   "cell_type": "markdown",
   "metadata": {
    "editable": false
   },
   "source": [
    "### Increasing the Size of `array`\n",
    "\n",
    "Instead of increasing `reps` we can increase the size of `array` so we'll run the same computation over more data.\n",
    "We will vary the size over a very large range: 10,000 to 20,480,000.\n",
    "\n",
    "Kick off the cell below to collect the data.  While it's running answer this question:"
   ]
  },
  {
   "cell_type": "markdown",
   "metadata": {
    "cs203.is_response": true,
    "cs203.points": 1,
    "cs203.question_type": "completeness",
    "deletable": false,
    "editable": true
   },
   "source": [
    "\n",
    "<div class=\"alert alert-block alert-success\"><div class=\"question completeness\">\n",
    "\n",
    "### Question 3 (Completeness)\n",
    "\n",
    "<div class=\"alert alert-block alert-success\">\n",
    "\n",
    "This time, the four graphs will show each term of the performance equation changes as we increase `--size`.  What _shape_ do you think each curve will have (linear? curved?) and what _direction_ will it go (increasing? Decreasing? flat?)?  For each term, predict the ratio between it's value at 5,120,000 and its value at 320,000.\n",
    "\n",
    "</div>\n",
    "    \n",
    "<div class=\"answer\">\n",
    "\n",
    "|                        | IC      | CPI | CT | ET |\n",
    "|------------------------|---------|-----|----|----|\n",
    "|Shape                   |         |     |    |    | \n",
    "|Direction               |         |     |    |    |\n",
    "|5,120,000 vs 320,000 ratio |         |     |    |    |    \n",
    "   \n",
    "</div>\n",
    "</div>\n",
    "</div>"
   ]
  },
  {
   "cell_type": "code",
   "execution_count": 16,
   "metadata": {
    "editable": false
   },
   "outputs": [
    {
     "name": "stdout",
     "output_type": "stream",
     "text": [
      "srun -N1 -p cs203 ./microbench.exe -o array_size.csv -reps 25 -M 3200 -function baseline_int -size 10000 20000  40000 80000 160000 320000 640000 1280000 2560000 5120000  10240000  20480000\n",
      "Execution complete\n"
     ]
    }
   ],
   "source": [
    "!cs203 job run './microbench.exe -o array_size.csv -reps 25 -M 3200 -function baseline_int -size 10000 20000  40000 80000 160000 320000 640000 1280000 2560000 5120000  10240000  20480000'\n"
   ]
  },
  {
   "cell_type": "code",
   "execution_count": 17,
   "metadata": {
    "cs203.is_response": true,
    "deletable": false,
    "editable": false
   },
   "outputs": [
    {
     "data": {
      "text/html": [
       "<div>\n",
       "<style scoped>\n",
       "    .dataframe tbody tr th:only-of-type {\n",
       "        vertical-align: middle;\n",
       "    }\n",
       "\n",
       "    .dataframe tbody tr th {\n",
       "        vertical-align: top;\n",
       "    }\n",
       "\n",
       "    .dataframe thead th {\n",
       "        text-align: right;\n",
       "    }\n",
       "</style>\n",
       "<table border=\"1\" class=\"dataframe\">\n",
       "  <thead>\n",
       "    <tr style=\"text-align: right;\">\n",
       "      <th></th>\n",
       "      <th>ET</th>\n",
       "      <th>IC</th>\n",
       "      <th>CPI</th>\n",
       "      <th>MHz</th>\n",
       "      <th>CT</th>\n",
       "    </tr>\n",
       "    <tr>\n",
       "      <th>size</th>\n",
       "      <th></th>\n",
       "      <th></th>\n",
       "      <th></th>\n",
       "      <th></th>\n",
       "      <th></th>\n",
       "    </tr>\n",
       "  </thead>\n",
       "  <tbody>\n",
       "    <tr>\n",
       "      <th>10000</th>\n",
       "      <td>0.000408</td>\n",
       "      <td>1.004406e+06</td>\n",
       "      <td>0.682865</td>\n",
       "      <td>1827.036922</td>\n",
       "      <td>0.594479</td>\n",
       "    </tr>\n",
       "    <tr>\n",
       "      <th>20000</th>\n",
       "      <td>0.000396</td>\n",
       "      <td>2.004865e+06</td>\n",
       "      <td>0.680152</td>\n",
       "      <td>3522.287038</td>\n",
       "      <td>0.290780</td>\n",
       "    </tr>\n",
       "    <tr>\n",
       "      <th>40000</th>\n",
       "      <td>0.000740</td>\n",
       "      <td>4.004967e+06</td>\n",
       "      <td>0.694948</td>\n",
       "      <td>3761.664802</td>\n",
       "      <td>0.265842</td>\n",
       "    </tr>\n",
       "    <tr>\n",
       "      <th>80000</th>\n",
       "      <td>0.001599</td>\n",
       "      <td>8.009427e+06</td>\n",
       "      <td>0.712120</td>\n",
       "      <td>3653.189196</td>\n",
       "      <td>0.280258</td>\n",
       "    </tr>\n",
       "    <tr>\n",
       "      <th>160000</th>\n",
       "      <td>0.003465</td>\n",
       "      <td>1.602081e+07</td>\n",
       "      <td>0.729064</td>\n",
       "      <td>3531.142501</td>\n",
       "      <td>0.296845</td>\n",
       "    </tr>\n",
       "    <tr>\n",
       "      <th>320000</th>\n",
       "      <td>0.006720</td>\n",
       "      <td>3.202853e+07</td>\n",
       "      <td>0.747973</td>\n",
       "      <td>3627.282460</td>\n",
       "      <td>0.280528</td>\n",
       "    </tr>\n",
       "    <tr>\n",
       "      <th>640000</th>\n",
       "      <td>0.012726</td>\n",
       "      <td>6.403540e+07</td>\n",
       "      <td>0.760861</td>\n",
       "      <td>3839.580756</td>\n",
       "      <td>0.261206</td>\n",
       "    </tr>\n",
       "    <tr>\n",
       "      <th>1280000</th>\n",
       "      <td>0.026349</td>\n",
       "      <td>1.280624e+08</td>\n",
       "      <td>0.813367</td>\n",
       "      <td>3953.105605</td>\n",
       "      <td>0.252967</td>\n",
       "    </tr>\n",
       "    <tr>\n",
       "      <th>2560000</th>\n",
       "      <td>0.054792</td>\n",
       "      <td>2.561124e+08</td>\n",
       "      <td>0.849982</td>\n",
       "      <td>3973.034422</td>\n",
       "      <td>0.251697</td>\n",
       "    </tr>\n",
       "    <tr>\n",
       "      <th>5120000</th>\n",
       "      <td>0.112858</td>\n",
       "      <td>5.122389e+08</td>\n",
       "      <td>0.875942</td>\n",
       "      <td>3975.733300</td>\n",
       "      <td>0.251526</td>\n",
       "    </tr>\n",
       "    <tr>\n",
       "      <th>10240000</th>\n",
       "      <td>0.229866</td>\n",
       "      <td>1.024491e+09</td>\n",
       "      <td>0.892787</td>\n",
       "      <td>3979.070489</td>\n",
       "      <td>0.251315</td>\n",
       "    </tr>\n",
       "    <tr>\n",
       "      <th>20480000</th>\n",
       "      <td>0.466920</td>\n",
       "      <td>2.049002e+09</td>\n",
       "      <td>0.906064</td>\n",
       "      <td>3976.112584</td>\n",
       "      <td>0.251502</td>\n",
       "    </tr>\n",
       "  </tbody>\n",
       "</table>\n",
       "</div>"
      ],
      "text/plain": [
       "                ET            IC       CPI          MHz        CT\n",
       "size                                                             \n",
       "10000     0.000408  1.004406e+06  0.682865  1827.036922  0.594479\n",
       "20000     0.000396  2.004865e+06  0.680152  3522.287038  0.290780\n",
       "40000     0.000740  4.004967e+06  0.694948  3761.664802  0.265842\n",
       "80000     0.001599  8.009427e+06  0.712120  3653.189196  0.280258\n",
       "160000    0.003465  1.602081e+07  0.729064  3531.142501  0.296845\n",
       "320000    0.006720  3.202853e+07  0.747973  3627.282460  0.280528\n",
       "640000    0.012726  6.403540e+07  0.760861  3839.580756  0.261206\n",
       "1280000   0.026349  1.280624e+08  0.813367  3953.105605  0.252967\n",
       "2560000   0.054792  2.561124e+08  0.849982  3973.034422  0.251697\n",
       "5120000   0.112858  5.122389e+08  0.875942  3975.733300  0.251526\n",
       "10240000  0.229866  1.024491e+09  0.892787  3979.070489  0.251315\n",
       "20480000  0.466920  2.049002e+09  0.906064  3976.112584  0.251502"
      ]
     },
     "execution_count": 17,
     "metadata": {},
     "output_type": "execute_result"
    },
    {
     "data": {
      "image/png": "[encoded data removed]",
      "text/plain": [
       "<Figure size 2000x400 with 4 Axes>"
      ]
     },
     "metadata": {},
     "output_type": "display_data"
    }
   ],
   "source": [
    "\n",
    "plotPE(\"array_size.csv\", lines=True, what=[ ('size', \"IC\"), (\"size\", \"CPI\"), (\"size\", \"CT\"),(\"size\", \"ET\")], columns=5, average_by=\"size\")\n",
    "render_csv(\"array_size.csv\", columns=columns, average_by=\"size\")"
   ]
  },
  {
   "cell_type": "markdown",
   "metadata": {
    "cs203.is_response": true,
    "cs203.points": 4,
    "cs203.question_type": "correctness",
    "deletable": false,
    "editable": true
   },
   "source": [
    "\n",
    "<div class=\"alert alert-block alert-success\"><div class=\"question correctness points-4\">\n",
    "\n",
    "### Question 4 (Correctness)\n",
    "\n",
    "<div class=\"alert alert-block alert-success\">\n",
    "Compute the actual ratio of the values at 5,120,000 and 320,000.  How does these results differ from what you expected?  What is the _per-element_ (`array`) speedup for a an array of 5,120,000 vs an array of 320,000? \n",
    "\n",
    "</div>\n",
    "    \n",
    "<div class=\"answer\">\n",
    "\n",
    "|                     | IC      | CPI | CT | ET |\n",
    "|---------------------|---------|-----|----|----|\n",
    "|5,120,000 vs 320,000 ratio |         |     |    |    |    \n",
    "|Differences compared to your expectations| ||||\n",
    "\n",
    "**Speedup for 5,120,000 vs 320,000-element arrays:**\n",
    "    \n",
    "\n",
    "</div>\n",
    "</div>\n",
    "</div>"
   ]
  },
  {
   "attachments": {
    "image.png": {
     "image/png": "[encoded data removed]"
    }
   },
   "cell_type": "markdown",
   "metadata": {
    "editable": false
   },
   "source": [
    "<div class=\"alert alert-block alert-success\">\n",
    "    \n",
    "**Interesting Question:**  Why does increasing the size of `array` change CPI?  And why does this change occur so quickly?\n",
    "    \n",
    "    \n",
    "![image.png](attachment:image.png)\n",
    "</div>"
   ]
  },
  {
   "cell_type": "markdown",
   "metadata": {
    "editable": false
   },
   "source": [
    "## Cycle Time\n",
    "\n",
    "Next, we'll take a look at how clock rate affects performance.  Before we do, though, let's see what our options are for clock rate on our machine:"
   ]
  },
  {
   "cell_type": "code",
   "execution_count": 18,
   "metadata": {
    "editable": false
   },
   "outputs": [
    {
     "name": "stdout",
     "output_type": "stream",
     "text": [
      "srun -N1 -p cs203 cpupower frequency-info -n\n",
      "analyzing CPU 0:\n",
      "  driver: acpi-cpufreq\n",
      "  CPUs which run at the same hardware frequency: 0\n",
      "  CPUs which need to have their frequency coordinated by software: 0\n",
      "  maximum transition latency:  Cannot determine or is not supported.\n",
      "  hardware limits: 1.550000 GHz - 3.200000 GHz\n",
      "  available frequency steps:  3.200000 GHz, 2.800000 GHz, 1.550000 GHz\n",
      "  available cpufreq governors: conservative ondemand userspace powersave performance schedutil\n",
      "  current policy: frequency should be within 3.200000 GHz and 3.200000 GHz.\n",
      "                  The governor \"ondemand\" may decide which speed to use\n",
      "                  within this range.\n",
      "  current CPU frequency: Unable to call hardware\n",
      "  current CPU frequency: 3.623012 GHz (asserted by call to kernel)\n",
      "  boost state support:\n",
      "    Supported: yes\n",
      "    Active: no\n"
     ]
    }
   ],
   "source": [
    "!cs203 job run 'cpupower frequency-info -n'"
   ]
  },
  {
   "cell_type": "markdown",
   "metadata": {
    "editable": false
   },
   "source": [
    "As you can see, the processors in our target systems can run between 800MHz and 3501MHz at mostly 200MHz increments.\n",
    "\n",
    "Let's see how that affects things by plotting execution time as a function of clock speed (we are skipping 3501MHz for the moment.  We'll come back to it.).  The readings for the current clock speed may vary from run to run.  It just ends up at whatever the last experiment left it at.\n",
    "\n",
    "Kick off the cell below to collect the data.  While it's running answer this question:"
   ]
  },
  {
   "cell_type": "markdown",
   "metadata": {
    "cs203.is_response": true,
    "cs203.points": 1,
    "cs203.question_type": "completeness",
    "deletable": false,
    "editable": true
   },
   "source": [
    "<div class=\"alert alert-block alert-success\"><div class=\"question completeness\">\n",
    "    \n",
    "### Question 5 (Completeness)\n",
    "\n",
    "<div class=\"alert alert-block alert-success\">\n",
    "We are going to plot four graphs that show how each term of the performance equation changes as we increase clock rate.  What _shape_ do you think each curve will have (linear? curved?) and what _direction_ will it go (increasing? Decreasing? flat?)?  For each term, predict the ratio between its value at 3200MHz and its value at 1550Mhz.\n",
    "\n",
    "</div>\n",
    "    \n",
    "<div class=\"answer\">\n",
    "\n",
    "|                     | IC      | CPI | CT | ET |\n",
    "|---------------------|---------|-----|----|----|\n",
    "|Shape                |         |     |    |    | \n",
    "|Direction            |         |     |    |    |\n",
    "|3200MHz/1550Mhz ratio |         |     |    |    |    \n",
    "\n",
    "\n",
    "    \n",
    "</div>\n",
    "</div>\n",
    "</div>"
   ]
  },
  {
   "cell_type": "code",
   "execution_count": 19,
   "metadata": {
    "editable": false
   },
   "outputs": [
    {
     "name": "stdout",
     "output_type": "stream",
     "text": [
      "srun -N1 -p cs203 ./microbench.exe -o cycle_time.csv -M 1550 2800 3200  -f baseline_int -r 50\n",
      "Execution complete\n"
     ]
    }
   ],
   "source": [
    "!cs203 job run './microbench.exe -o cycle_time.csv -M 1550 2800 3200  -f baseline_int -r 50'"
   ]
  },
  {
   "cell_type": "code",
   "execution_count": 20,
   "metadata": {
    "cs203.is_response": true,
    "deletable": false,
    "editable": false
   },
   "outputs": [
    {
     "data": {
      "text/html": [
       "<div>\n",
       "<style scoped>\n",
       "    .dataframe tbody tr th:only-of-type {\n",
       "        vertical-align: middle;\n",
       "    }\n",
       "\n",
       "    .dataframe tbody tr th {\n",
       "        vertical-align: top;\n",
       "    }\n",
       "\n",
       "    .dataframe thead th {\n",
       "        text-align: right;\n",
       "    }\n",
       "</style>\n",
       "<table border=\"1\" class=\"dataframe\">\n",
       "  <thead>\n",
       "    <tr style=\"text-align: right;\">\n",
       "      <th></th>\n",
       "      <th>ET</th>\n",
       "      <th>IC</th>\n",
       "      <th>CPI</th>\n",
       "      <th>MHz</th>\n",
       "      <th>CT</th>\n",
       "    </tr>\n",
       "    <tr>\n",
       "      <th>cmdlineMHz</th>\n",
       "      <th></th>\n",
       "      <th></th>\n",
       "      <th></th>\n",
       "      <th></th>\n",
       "      <th></th>\n",
       "    </tr>\n",
       "  </thead>\n",
       "  <tbody>\n",
       "    <tr>\n",
       "      <th>1550</th>\n",
       "      <td>0.022997</td>\n",
       "      <td>1.049157e+08</td>\n",
       "      <td>0.811009</td>\n",
       "      <td>3793.574534</td>\n",
       "      <td>0.270297</td>\n",
       "    </tr>\n",
       "    <tr>\n",
       "      <th>2800</th>\n",
       "      <td>0.030428</td>\n",
       "      <td>1.049313e+08</td>\n",
       "      <td>0.808330</td>\n",
       "      <td>2787.584258</td>\n",
       "      <td>0.358735</td>\n",
       "    </tr>\n",
       "    <tr>\n",
       "      <th>3200</th>\n",
       "      <td>0.022002</td>\n",
       "      <td>1.049146e+08</td>\n",
       "      <td>0.810953</td>\n",
       "      <td>3867.771868</td>\n",
       "      <td>0.258609</td>\n",
       "    </tr>\n",
       "  </tbody>\n",
       "</table>\n",
       "</div>"
      ],
      "text/plain": [
       "                  ET            IC       CPI          MHz        CT\n",
       "cmdlineMHz                                                         \n",
       "1550        0.022997  1.049157e+08  0.811009  3793.574534  0.270297\n",
       "2800        0.030428  1.049313e+08  0.808330  2787.584258  0.358735\n",
       "3200        0.022002  1.049146e+08  0.810953  3867.771868  0.258609"
      ]
     },
     "execution_count": 20,
     "metadata": {},
     "output_type": "execute_result"
    },
    {
     "data": {
      "image/png": "[encoded data removed]",
      "text/plain": [
       "<Figure size 1600x400 with 4 Axes>"
      ]
     },
     "metadata": {},
     "output_type": "display_data"
    }
   ],
   "source": [
    "\n",
    "plotPE(\"cycle_time.csv\", lines=True, what=[ ('cmdlineMHz', \"IC\"), (\"cmdlineMHz\", \"CPI\"), (\"cmdlineMHz\", \"CT\"), (\"cmdlineMHz\", \"ET\") ], columns=4, average_by=\"cmdlineMHz\")\n",
    "render_csv(\"cycle_time.csv\", columns=columns, average_by=\"cmdlineMHz\")"
   ]
  },
  {
   "cell_type": "markdown",
   "metadata": {
    "cs203.is_response": true,
    "cs203.points": 4,
    "cs203.question_type": "correctness",
    "deletable": false,
    "editable": true
   },
   "source": [
    "<div class=\"alert alert-block alert-success\"><div class=\"question correctness points-4\">\n",
    "    \n",
    "### Question 6 (Correctness)\n",
    "\n",
    "<div class=\"alert alert-block alert-success\">\n",
    "Compute the actual ratio of the values at 3200MHz and 1550MHZ.  How do these results differ from what you expected?  How much speedup does double doubling the clock rate provide?\n",
    "</div>\n",
    "    \n",
    "<div class=\"answer\">\n",
    "\n",
    "|                     | IC      | CPI | CT | ET |\n",
    "|---------------------|---------|-----|----|----|\n",
    "|3200MHz/1550Mhz ratio |         |     |    |    |    \n",
    "|Differences compared to your expectations:| | | | |\n",
    "\n",
    "\n",
    "\n",
    "**How much speedup does doubling the clock rate from 1800MHz to 3200MHz provide? (show your work):**\n",
    "    \n",
    "\n",
    "    \n",
    "</div>\n",
    "</div>    \n",
    "</div>"
   ]
  },
  {
   "attachments": {
    "image.png": {
     "image/png": "[encoded data removed]"
    }
   },
   "cell_type": "markdown",
   "metadata": {
    "editable": false
   },
   "source": [
    "<div class=\"alert alert-block alert-success\">\n",
    "    \n",
    "**Interesting question:** How can clock rate affect `CPI`?\n",
    "    \n",
    "![image.png](attachment:image.png)\n",
    "</div>"
   ]
  },
  {
   "cell_type": "markdown",
   "metadata": {
    "editable": false
   },
   "source": [
    "## Cycles Per Instruction\n",
    "\n",
    "Unlike `IC` and `CT` we can't set `CPI` directly, but we can adjust the code and see how `CPI` changes.  We'll do this in two ways.  First, we'll change the data type we are operating on. Then, we'll change the compiler options.  Finally, we'll restructure the code.\n",
    "\n",
    "### Floating Point vs Integer Operations\n",
    "\n",
    "Here's `baseline_double()` (on the left) that is identical to `baseline_int()` (on the right) but uses 64-bit floating point values (of type `double`) point instead of 64-bit integers (`uint64_t`):"
   ]
  },
  {
   "cell_type": "code",
   "execution_count": 21,
   "metadata": {
    "editable": false,
    "init_cell": true
   },
   "outputs": [
    {
     "data": {
      "text/html": [
       "\n",
       "            <style>\n",
       "        .side-by-side {\n",
       "            display: flex;\n",
       "            align-items: stretch;\n",
       "\n",
       "        }\n",
       "        .side-by-side-pane {\n",
       "            margin-right:1em;\n",
       "            border-right-style: solid;\n",
       "            border-right-color: black;\n",
       "            border-right-width: 1px;\n",
       "            flex: 1;\n",
       "        }\n",
       "        </style>\n",
       "        <div class=\"side-by-side\"> <div class='side-by-side-pane'><style>pre { line-height: 125%; }\n",
       "td.linenos .normal { color: inherit; background-color: transparent; padding-left: 5px; padding-right: 5px; }\n",
       "span.linenos { color: inherit; background-color: transparent; padding-left: 5px; padding-right: 5px; }\n",
       "td.linenos .special { color: #000000; background-color: #ffffc0; padding-left: 5px; padding-right: 5px; }\n",
       "span.linenos.special { color: #000000; background-color: #ffffc0; padding-left: 5px; padding-right: 5px; }\n",
       ".output_html .hll { background-color: #ffffcc }\n",
       ".output_html { background: #f8f8f8; }\n",
       ".output_html .c { color: #3D7B7B; font-style: italic } /* Comment */\n",
       ".output_html .err { border: 1px solid #FF0000 } /* Error */\n",
       ".output_html .k { color: #008000; font-weight: bold } /* Keyword */\n",
       ".output_html .o { color: #666666 } /* Operator */\n",
       ".output_html .ch { color: #3D7B7B; font-style: italic } /* Comment.Hashbang */\n",
       ".output_html .cm { color: #3D7B7B; font-style: italic } /* Comment.Multiline */\n",
       ".output_html .cp { color: #9C6500 } /* Comment.Preproc */\n",
       ".output_html .cpf { color: #3D7B7B; font-style: italic } /* Comment.PreprocFile */\n",
       ".output_html .c1 { color: #3D7B7B; font-style: italic } /* Comment.Single */\n",
       ".output_html .cs { color: #3D7B7B; font-style: italic } /* Comment.Special */\n",
       ".output_html .gd { color: #A00000 } /* Generic.Deleted */\n",
       ".output_html .ge { font-style: italic } /* Generic.Emph */\n",
       ".output_html .gr { color: #E40000 } /* Generic.Error */\n",
       ".output_html .gh { color: #000080; font-weight: bold } /* Generic.Heading */\n",
       ".output_html .gi { color: #008400 } /* Generic.Inserted */\n",
       ".output_html .go { color: #717171 } /* Generic.Output */\n",
       ".output_html .gp { color: #000080; font-weight: bold } /* Generic.Prompt */\n",
       ".output_html .gs { font-weight: bold } /* Generic.Strong */\n",
       ".output_html .gu { color: #800080; font-weight: bold } /* Generic.Subheading */\n",
       ".output_html .gt { color: #0044DD } /* Generic.Traceback */\n",
       ".output_html .kc { color: #008000; font-weight: bold } /* Keyword.Constant */\n",
       ".output_html .kd { color: #008000; font-weight: bold } /* Keyword.Declaration */\n",
       ".output_html .kn { color: #008000; font-weight: bold } /* Keyword.Namespace */\n",
       ".output_html .kp { color: #008000 } /* Keyword.Pseudo */\n",
       ".output_html .kr { color: #008000; font-weight: bold } /* Keyword.Reserved */\n",
       ".output_html .kt { color: #B00040 } /* Keyword.Type */\n",
       ".output_html .m { color: #666666 } /* Literal.Number */\n",
       ".output_html .s { color: #BA2121 } /* Literal.String */\n",
       ".output_html .na { color: #687822 } /* Name.Attribute */\n",
       ".output_html .nb { color: #008000 } /* Name.Builtin */\n",
       ".output_html .nc { color: #0000FF; font-weight: bold } /* Name.Class */\n",
       ".output_html .no { color: #880000 } /* Name.Constant */\n",
       ".output_html .nd { color: #AA22FF } /* Name.Decorator */\n",
       ".output_html .ni { color: #717171; font-weight: bold } /* Name.Entity */\n",
       ".output_html .ne { color: #CB3F38; font-weight: bold } /* Name.Exception */\n",
       ".output_html .nf { color: #0000FF } /* Name.Function */\n",
       ".output_html .nl { color: #767600 } /* Name.Label */\n",
       ".output_html .nn { color: #0000FF; font-weight: bold } /* Name.Namespace */\n",
       ".output_html .nt { color: #008000; font-weight: bold } /* Name.Tag */\n",
       ".output_html .nv { color: #19177C } /* Name.Variable */\n",
       ".output_html .ow { color: #AA22FF; font-weight: bold } /* Operator.Word */\n",
       ".output_html .w { color: #bbbbbb } /* Text.Whitespace */\n",
       ".output_html .mb { color: #666666 } /* Literal.Number.Bin */\n",
       ".output_html .mf { color: #666666 } /* Literal.Number.Float */\n",
       ".output_html .mh { color: #666666 } /* Literal.Number.Hex */\n",
       ".output_html .mi { color: #666666 } /* Literal.Number.Integer */\n",
       ".output_html .mo { color: #666666 } /* Literal.Number.Oct */\n",
       ".output_html .sa { color: #BA2121 } /* Literal.String.Affix */\n",
       ".output_html .sb { color: #BA2121 } /* Literal.String.Backtick */\n",
       ".output_html .sc { color: #BA2121 } /* Literal.String.Char */\n",
       ".output_html .dl { color: #BA2121 } /* Literal.String.Delimiter */\n",
       ".output_html .sd { color: #BA2121; font-style: italic } /* Literal.String.Doc */\n",
       ".output_html .s2 { color: #BA2121 } /* Literal.String.Double */\n",
       ".output_html .se { color: #AA5D1F; font-weight: bold } /* Literal.String.Escape */\n",
       ".output_html .sh { color: #BA2121 } /* Literal.String.Heredoc */\n",
       ".output_html .si { color: #A45A77; font-weight: bold } /* Literal.String.Interpol */\n",
       ".output_html .sx { color: #008000 } /* Literal.String.Other */\n",
       ".output_html .sr { color: #A45A77 } /* Literal.String.Regex */\n",
       ".output_html .s1 { color: #BA2121 } /* Literal.String.Single */\n",
       ".output_html .ss { color: #19177C } /* Literal.String.Symbol */\n",
       ".output_html .bp { color: #008000 } /* Name.Builtin.Pseudo */\n",
       ".output_html .fm { color: #0000FF } /* Name.Function.Magic */\n",
       ".output_html .vc { color: #19177C } /* Name.Variable.Class */\n",
       ".output_html .vg { color: #19177C } /* Name.Variable.Global */\n",
       ".output_html .vi { color: #19177C } /* Name.Variable.Instance */\n",
       ".output_html .vm { color: #19177C } /* Name.Variable.Magic */\n",
       ".output_html .il { color: #666666 } /* Literal.Number.Integer.Long */</style><div class=\"highlight\"><pre><span></span><span class=\"c1\">// microbench.cpp:54-67 (14 lines)</span>\n",
       "<span class=\"k\">extern</span><span class=\"w\"> </span><span class=\"s\">&quot;C&quot;</span><span class=\"w\"> </span><span class=\"kt\">uint64_t</span><span class=\"w\"> </span><span class=\"o\">*</span><span class=\"n\">baseline_double</span><span class=\"p\">(</span><span class=\"kt\">uint64_t</span><span class=\"w\"> </span><span class=\"o\">*</span><span class=\"w\"> </span><span class=\"n\">_array</span><span class=\"p\">,</span><span class=\"w\"> </span><span class=\"kt\">unsigned</span><span class=\"w\"> </span><span class=\"kt\">long</span><span class=\"w\"> </span><span class=\"kt\">int</span><span class=\"w\"> </span><span class=\"n\">size</span><span class=\"p\">)</span><span class=\"w\"> </span><span class=\"p\">{</span><span class=\"w\"></span>\n",
       "<span class=\"w\">\t</span><span class=\"c1\">//double * array = new double[size];</span>\n",
       "<span class=\"w\">\t</span><span class=\"kt\">double</span><span class=\"w\"> </span><span class=\"o\">*</span><span class=\"w\"> </span><span class=\"n\">array</span><span class=\"w\"> </span><span class=\"o\">=</span><span class=\"w\"> </span><span class=\"p\">(</span><span class=\"kt\">double</span><span class=\"o\">*</span><span class=\"p\">)</span><span class=\"n\">_array</span><span class=\"p\">;</span><span class=\"w\"></span>\n",
       "<span class=\"w\">\t</span><span class=\"k\">for</span><span class=\"p\">(</span><span class=\"n\">uint</span><span class=\"w\"> </span><span class=\"n\">i</span><span class=\"w\"> </span><span class=\"o\">=</span><span class=\"w\"> </span><span class=\"mi\">0</span><span class=\"p\">;</span><span class=\"w\"> </span><span class=\"n\">i</span><span class=\"w\"> </span><span class=\"o\">&lt;</span><span class=\"w\"> </span><span class=\"n\">size</span><span class=\"p\">;</span><span class=\"w\"> </span><span class=\"n\">i</span><span class=\"o\">++</span><span class=\"p\">)</span><span class=\"w\"> </span><span class=\"p\">{</span><span class=\"w\"></span>\n",
       "<span class=\"w\">\t\t</span><span class=\"n\">array</span><span class=\"p\">[</span><span class=\"n\">i</span><span class=\"p\">]</span><span class=\"w\"> </span><span class=\"o\">=</span><span class=\"w\"> </span><span class=\"mi\">0</span><span class=\"p\">;</span><span class=\"w\"></span>\n",
       "<span class=\"w\">\t</span><span class=\"p\">}</span><span class=\"w\"></span>\n",
       "\n",
       "<span class=\"w\">\t</span><span class=\"k\">for</span><span class=\"w\"> </span><span class=\"p\">(</span><span class=\"kt\">double</span><span class=\"w\"> </span><span class=\"n\">j</span><span class=\"w\"> </span><span class=\"o\">=</span><span class=\"w\"> </span><span class=\"mi\">0</span><span class=\"p\">;</span><span class=\"w\"> </span><span class=\"n\">j</span><span class=\"w\"> </span><span class=\"o\">&lt;</span><span class=\"w\"> </span><span class=\"mi\">3</span><span class=\"p\">;</span><span class=\"w\"> </span><span class=\"n\">j</span><span class=\"o\">++</span><span class=\"p\">)</span><span class=\"w\"> </span><span class=\"p\">{</span><span class=\"w\"></span>\n",
       "<span class=\"w\">\t\t</span><span class=\"k\">for</span><span class=\"p\">(</span><span class=\"n\">uint</span><span class=\"w\"> </span><span class=\"n\">i</span><span class=\"o\">=</span><span class=\"w\"> </span><span class=\"mi\">1</span><span class=\"w\"> </span><span class=\"p\">;</span><span class=\"w\"> </span><span class=\"n\">i</span><span class=\"w\"> </span><span class=\"o\">&lt;</span><span class=\"w\"> </span><span class=\"n\">size</span><span class=\"p\">;</span><span class=\"w\"> </span><span class=\"n\">i</span><span class=\"o\">++</span><span class=\"p\">)</span><span class=\"w\"> </span><span class=\"p\">{</span><span class=\"w\"></span>\n",
       "<span class=\"w\">\t\t\t</span><span class=\"n\">array</span><span class=\"p\">[</span><span class=\"n\">i</span><span class=\"p\">]</span><span class=\"w\"> </span><span class=\"o\">+=</span><span class=\"w\"> </span><span class=\"n\">i</span><span class=\"o\">/</span><span class=\"p\">(</span><span class=\"mi\">1</span><span class=\"o\">+</span><span class=\"n\">j</span><span class=\"p\">)</span><span class=\"o\">+</span><span class=\"n\">array</span><span class=\"p\">[</span><span class=\"n\">i</span><span class=\"w\"> </span><span class=\"o\">-</span><span class=\"w\"> </span><span class=\"mi\">1</span><span class=\"p\">];</span><span class=\"w\"></span>\n",
       "<span class=\"w\">\t\t</span><span class=\"p\">}</span><span class=\"w\"></span>\n",
       "<span class=\"w\">\t</span><span class=\"p\">}</span><span class=\"w\"></span>\n",
       "<span class=\"w\">\t</span><span class=\"k\">return</span><span class=\"w\"> </span><span class=\"p\">(</span><span class=\"kt\">uint64_t</span><span class=\"o\">*</span><span class=\"p\">)</span><span class=\"n\">array</span><span class=\"p\">;</span><span class=\"w\"></span>\n",
       "<span class=\"p\">}</span><span class=\"w\"></span>\n",
       "</pre></div>\n",
       "</div><div class='side-by-side-pane'><style>pre { line-height: 125%; }\n",
       "td.linenos .normal { color: inherit; background-color: transparent; padding-left: 5px; padding-right: 5px; }\n",
       "span.linenos { color: inherit; background-color: transparent; padding-left: 5px; padding-right: 5px; }\n",
       "td.linenos .special { color: #000000; background-color: #ffffc0; padding-left: 5px; padding-right: 5px; }\n",
       "span.linenos.special { color: #000000; background-color: #ffffc0; padding-left: 5px; padding-right: 5px; }\n",
       ".output_html .hll { background-color: #ffffcc }\n",
       ".output_html { background: #f8f8f8; }\n",
       ".output_html .c { color: #3D7B7B; font-style: italic } /* Comment */\n",
       ".output_html .err { border: 1px solid #FF0000 } /* Error */\n",
       ".output_html .k { color: #008000; font-weight: bold } /* Keyword */\n",
       ".output_html .o { color: #666666 } /* Operator */\n",
       ".output_html .ch { color: #3D7B7B; font-style: italic } /* Comment.Hashbang */\n",
       ".output_html .cm { color: #3D7B7B; font-style: italic } /* Comment.Multiline */\n",
       ".output_html .cp { color: #9C6500 } /* Comment.Preproc */\n",
       ".output_html .cpf { color: #3D7B7B; font-style: italic } /* Comment.PreprocFile */\n",
       ".output_html .c1 { color: #3D7B7B; font-style: italic } /* Comment.Single */\n",
       ".output_html .cs { color: #3D7B7B; font-style: italic } /* Comment.Special */\n",
       ".output_html .gd { color: #A00000 } /* Generic.Deleted */\n",
       ".output_html .ge { font-style: italic } /* Generic.Emph */\n",
       ".output_html .gr { color: #E40000 } /* Generic.Error */\n",
       ".output_html .gh { color: #000080; font-weight: bold } /* Generic.Heading */\n",
       ".output_html .gi { color: #008400 } /* Generic.Inserted */\n",
       ".output_html .go { color: #717171 } /* Generic.Output */\n",
       ".output_html .gp { color: #000080; font-weight: bold } /* Generic.Prompt */\n",
       ".output_html .gs { font-weight: bold } /* Generic.Strong */\n",
       ".output_html .gu { color: #800080; font-weight: bold } /* Generic.Subheading */\n",
       ".output_html .gt { color: #0044DD } /* Generic.Traceback */\n",
       ".output_html .kc { color: #008000; font-weight: bold } /* Keyword.Constant */\n",
       ".output_html .kd { color: #008000; font-weight: bold } /* Keyword.Declaration */\n",
       ".output_html .kn { color: #008000; font-weight: bold } /* Keyword.Namespace */\n",
       ".output_html .kp { color: #008000 } /* Keyword.Pseudo */\n",
       ".output_html .kr { color: #008000; font-weight: bold } /* Keyword.Reserved */\n",
       ".output_html .kt { color: #B00040 } /* Keyword.Type */\n",
       ".output_html .m { color: #666666 } /* Literal.Number */\n",
       ".output_html .s { color: #BA2121 } /* Literal.String */\n",
       ".output_html .na { color: #687822 } /* Name.Attribute */\n",
       ".output_html .nb { color: #008000 } /* Name.Builtin */\n",
       ".output_html .nc { color: #0000FF; font-weight: bold } /* Name.Class */\n",
       ".output_html .no { color: #880000 } /* Name.Constant */\n",
       ".output_html .nd { color: #AA22FF } /* Name.Decorator */\n",
       ".output_html .ni { color: #717171; font-weight: bold } /* Name.Entity */\n",
       ".output_html .ne { color: #CB3F38; font-weight: bold } /* Name.Exception */\n",
       ".output_html .nf { color: #0000FF } /* Name.Function */\n",
       ".output_html .nl { color: #767600 } /* Name.Label */\n",
       ".output_html .nn { color: #0000FF; font-weight: bold } /* Name.Namespace */\n",
       ".output_html .nt { color: #008000; font-weight: bold } /* Name.Tag */\n",
       ".output_html .nv { color: #19177C } /* Name.Variable */\n",
       ".output_html .ow { color: #AA22FF; font-weight: bold } /* Operator.Word */\n",
       ".output_html .w { color: #bbbbbb } /* Text.Whitespace */\n",
       ".output_html .mb { color: #666666 } /* Literal.Number.Bin */\n",
       ".output_html .mf { color: #666666 } /* Literal.Number.Float */\n",
       ".output_html .mh { color: #666666 } /* Literal.Number.Hex */\n",
       ".output_html .mi { color: #666666 } /* Literal.Number.Integer */\n",
       ".output_html .mo { color: #666666 } /* Literal.Number.Oct */\n",
       ".output_html .sa { color: #BA2121 } /* Literal.String.Affix */\n",
       ".output_html .sb { color: #BA2121 } /* Literal.String.Backtick */\n",
       ".output_html .sc { color: #BA2121 } /* Literal.String.Char */\n",
       ".output_html .dl { color: #BA2121 } /* Literal.String.Delimiter */\n",
       ".output_html .sd { color: #BA2121; font-style: italic } /* Literal.String.Doc */\n",
       ".output_html .s2 { color: #BA2121 } /* Literal.String.Double */\n",
       ".output_html .se { color: #AA5D1F; font-weight: bold } /* Literal.String.Escape */\n",
       ".output_html .sh { color: #BA2121 } /* Literal.String.Heredoc */\n",
       ".output_html .si { color: #A45A77; font-weight: bold } /* Literal.String.Interpol */\n",
       ".output_html .sx { color: #008000 } /* Literal.String.Other */\n",
       ".output_html .sr { color: #A45A77 } /* Literal.String.Regex */\n",
       ".output_html .s1 { color: #BA2121 } /* Literal.String.Single */\n",
       ".output_html .ss { color: #19177C } /* Literal.String.Symbol */\n",
       ".output_html .bp { color: #008000 } /* Name.Builtin.Pseudo */\n",
       ".output_html .fm { color: #0000FF } /* Name.Function.Magic */\n",
       ".output_html .vc { color: #19177C } /* Name.Variable.Class */\n",
       ".output_html .vg { color: #19177C } /* Name.Variable.Global */\n",
       ".output_html .vi { color: #19177C } /* Name.Variable.Instance */\n",
       ".output_html .vm { color: #19177C } /* Name.Variable.Magic */\n",
       ".output_html .il { color: #666666 } /* Literal.Number.Integer.Long */</style><div class=\"highlight\"><pre><span></span><span class=\"c1\">// microbench.cpp:24-37 (14 lines)</span>\n",
       "<span class=\"k\">extern</span><span class=\"w\"> </span><span class=\"s\">&quot;C&quot;</span><span class=\"w\"> </span><span class=\"kt\">uint64_t</span><span class=\"w\"> </span><span class=\"o\">*</span><span class=\"n\">__attribute__</span><span class=\"p\">((</span><span class=\"n\">noinline</span><span class=\"p\">))</span><span class=\"w\"> </span><span class=\"n\">baseline_int</span><span class=\"p\">(</span><span class=\"kt\">uint64_t</span><span class=\"w\"> </span><span class=\"o\">*</span><span class=\"w\"> </span><span class=\"n\">array</span><span class=\"p\">,</span><span class=\"w\"> </span><span class=\"kt\">unsigned</span><span class=\"w\"> </span><span class=\"kt\">long</span><span class=\"w\"> </span><span class=\"kt\">int</span><span class=\"w\"> </span><span class=\"n\">size</span><span class=\"p\">)</span><span class=\"w\"> </span><span class=\"p\">{</span><span class=\"w\"></span>\n",
       "<span class=\"w\">\t</span><span class=\"c1\">//uint64_t * array = new uint64_t[size];</span>\n",
       "<span class=\"w\">\t</span><span class=\"k\">for</span><span class=\"p\">(</span><span class=\"n\">uint</span><span class=\"w\"> </span><span class=\"n\">i</span><span class=\"w\"> </span><span class=\"o\">=</span><span class=\"w\"> </span><span class=\"mi\">0</span><span class=\"p\">;</span><span class=\"w\"> </span><span class=\"n\">i</span><span class=\"w\"> </span><span class=\"o\">&lt;</span><span class=\"w\"> </span><span class=\"n\">size</span><span class=\"p\">;</span><span class=\"w\"> </span><span class=\"n\">i</span><span class=\"o\">++</span><span class=\"p\">)</span><span class=\"w\"> </span><span class=\"p\">{</span><span class=\"w\"></span>\n",
       "<span class=\"w\">\t\t</span><span class=\"n\">array</span><span class=\"p\">[</span><span class=\"n\">i</span><span class=\"p\">]</span><span class=\"w\"> </span><span class=\"o\">=</span><span class=\"w\"> </span><span class=\"mi\">0</span><span class=\"p\">;</span><span class=\"w\"></span>\n",
       "<span class=\"w\">\t</span><span class=\"p\">}</span><span class=\"w\"></span>\n",
       "\n",
       "<span class=\"w\">\t</span><span class=\"k\">for</span><span class=\"w\"> </span><span class=\"p\">(</span><span class=\"n\">uint</span><span class=\"w\"> </span><span class=\"n\">j</span><span class=\"w\"> </span><span class=\"o\">=</span><span class=\"w\"> </span><span class=\"mi\">0</span><span class=\"p\">;</span><span class=\"w\"> </span><span class=\"n\">j</span><span class=\"w\"> </span><span class=\"o\">&lt;</span><span class=\"w\"> </span><span class=\"mi\">3</span><span class=\"p\">;</span><span class=\"w\"> </span><span class=\"n\">j</span><span class=\"o\">++</span><span class=\"p\">)</span><span class=\"w\"> </span><span class=\"p\">{</span><span class=\"w\"></span>\n",
       "<span class=\"w\">\t\t</span><span class=\"k\">for</span><span class=\"p\">(</span><span class=\"n\">uint</span><span class=\"w\"> </span><span class=\"n\">i</span><span class=\"o\">=</span><span class=\"w\"> </span><span class=\"mi\">1</span><span class=\"w\"> </span><span class=\"p\">;</span><span class=\"w\"> </span><span class=\"n\">i</span><span class=\"w\"> </span><span class=\"o\">&lt;</span><span class=\"w\"> </span><span class=\"n\">size</span><span class=\"p\">;</span><span class=\"w\"> </span><span class=\"n\">i</span><span class=\"o\">++</span><span class=\"p\">)</span><span class=\"w\"> </span><span class=\"p\">{</span><span class=\"w\"></span>\n",
       "<span class=\"w\">\t\t\t</span><span class=\"n\">array</span><span class=\"p\">[</span><span class=\"n\">i</span><span class=\"p\">]</span><span class=\"w\"> </span><span class=\"o\">+=</span><span class=\"w\"> </span><span class=\"n\">i</span><span class=\"o\">/</span><span class=\"p\">(</span><span class=\"mi\">1</span><span class=\"o\">+</span><span class=\"n\">j</span><span class=\"p\">)</span><span class=\"o\">+</span><span class=\"n\">array</span><span class=\"p\">[</span><span class=\"n\">i</span><span class=\"w\"> </span><span class=\"o\">-</span><span class=\"w\"> </span><span class=\"mi\">1</span><span class=\"p\">];</span><span class=\"w\"></span>\n",
       "<span class=\"w\">\t\t</span><span class=\"p\">}</span><span class=\"w\"></span>\n",
       "<span class=\"w\">\t</span><span class=\"p\">}</span><span class=\"w\"></span>\n",
       "<span class=\"c1\">//\tstd::cout &lt;&lt; &quot;Execution baseline_int complete :&quot;&lt;&lt; size &lt;&lt; &quot;\\n&quot; ;</span>\n",
       "<span class=\"w\">\t</span><span class=\"k\">return</span><span class=\"w\"> </span><span class=\"n\">array</span><span class=\"p\">;</span><span class=\"w\"></span>\n",
       "<span class=\"p\">}</span><span class=\"w\"></span>\n",
       "</pre></div>\n",
       "</div>\n",
       "        </div>\n",
       "    "
      ],
      "text/plain": [
       "<IPython.core.display.HTML object>"
      ]
     },
     "execution_count": 21,
     "metadata": {},
     "output_type": "execute_result"
    }
   ],
   "source": [
    "compare([do_render_code(\"microbench.cpp\", show=\"baseline_double\"),\n",
    "        do_render_code(\"microbench.cpp\", show=\"baseline_int\")])\n",
    "     "
   ]
  },
  {
   "cell_type": "markdown",
   "metadata": {
    "editable": false
   },
   "source": [
    "Kick off the the cell below to run both functions, and answer this question:"
   ]
  },
  {
   "cell_type": "markdown",
   "metadata": {
    "cs203.is_response": true,
    "cs203.points": 1,
    "cs203.question_type": "completeness",
    "deletable": false,
    "editable": true
   },
   "source": [
    "<div class=\"alert alert-block alert-success\"><div class=\"question completeness\">\n",
    "    \n",
    "### Question 7 (Completeness)\n",
    "\n",
    "<div class=\"alert alert-block alert-success\">  \n",
    "How do you think each term in the performance equation will change for `baseline_double()` compared to `baseline_int()`?\n",
    "    \n",
    "</div>\n",
    "    \n",
    "<div class=\"answer\">\n",
    "\n",
    "**IC:**\n",
    "    \n",
    "**CPI:**\n",
    "    \n",
    "**CT:**\n",
    "    \n",
    "**ET:**\n",
    "\n",
    "</div>\n",
    "</div>\n",
    "</div>"
   ]
  },
  {
   "cell_type": "code",
   "execution_count": 22,
   "metadata": {
    "editable": false
   },
   "outputs": [
    {
     "name": "stdout",
     "output_type": "stream",
     "text": [
      "srun -N1 -p cs203 make  microbench.exe\n",
      "make: 'microbench.exe' is up to date.\n",
      "srun -N1 -p cs203 ./microbench.exe -o int_double.csv  -r 25 -M 3200 -function baseline_int baseline_double\n",
      "Execution complete\n"
     ]
    }
   ],
   "source": [
    "!cs203 job run 'make  microbench.exe'\n",
    "!cs203 job run './microbench.exe -o int_double.csv  -r 25 -M 3200 -function baseline_int baseline_double'\n"
   ]
  },
  {
   "cell_type": "code",
   "execution_count": 23,
   "metadata": {
    "editable": false
   },
   "outputs": [
    {
     "data": {
      "text/html": [
       "<div>\n",
       "<style scoped>\n",
       "    .dataframe tbody tr th:only-of-type {\n",
       "        vertical-align: middle;\n",
       "    }\n",
       "\n",
       "    .dataframe tbody tr th {\n",
       "        vertical-align: top;\n",
       "    }\n",
       "\n",
       "    .dataframe thead th {\n",
       "        text-align: right;\n",
       "    }\n",
       "</style>\n",
       "<table border=\"1\" class=\"dataframe\">\n",
       "  <thead>\n",
       "    <tr style=\"text-align: right;\">\n",
       "      <th></th>\n",
       "      <th>IC</th>\n",
       "      <th>CPI</th>\n",
       "      <th>CT</th>\n",
       "      <th>ET</th>\n",
       "    </tr>\n",
       "    <tr>\n",
       "      <th>function</th>\n",
       "      <th></th>\n",
       "      <th></th>\n",
       "      <th></th>\n",
       "      <th></th>\n",
       "    </tr>\n",
       "  </thead>\n",
       "  <tbody>\n",
       "    <tr>\n",
       "      <th>baseline_double</th>\n",
       "      <td>1.185361e+08</td>\n",
       "      <td>0.539770</td>\n",
       "      <td>0.263026</td>\n",
       "      <td>0.016831</td>\n",
       "    </tr>\n",
       "    <tr>\n",
       "      <th>baseline_int</th>\n",
       "      <td>1.049168e+08</td>\n",
       "      <td>0.817764</td>\n",
       "      <td>0.262473</td>\n",
       "      <td>0.022520</td>\n",
       "    </tr>\n",
       "  </tbody>\n",
       "</table>\n",
       "</div>"
      ],
      "text/plain": [
       "                           IC       CPI        CT        ET\n",
       "function                                                   \n",
       "baseline_double  1.185361e+08  0.539770  0.263026  0.016831\n",
       "baseline_int     1.049168e+08  0.817764  0.262473  0.022520"
      ]
     },
     "execution_count": 23,
     "metadata": {},
     "output_type": "execute_result"
    },
    {
     "data": {
      "image/png": "[encoded data removed]",
      "text/plain": [
       "<Figure size 1600x400 with 4 Axes>"
      ]
     },
     "metadata": {},
     "output_type": "display_data"
    }
   ],
   "source": [
    "plotPEBar(\"int_double.csv\", what=[ ('function', \"IC\"), (\"function\", \"CPI\"), (\"function\", \"CT\"), (\"function\", \"ET\") ], \n",
    "          columns=4, average_by=\"function\")\n",
    "render_csv(\"int_double.csv\", columns=[\"IC\", \"CPI\", \"CT\", \"ET\",], average_by=\"function\")"
   ]
  },
  {
   "cell_type": "markdown",
   "metadata": {
    "cs203.is_response": true,
    "cs203.points": 1,
    "cs203.question_type": "completeness",
    "deletable": false,
    "editable": true
   },
   "source": [
    "<div class=\"alert alert-block alert-success\"><div class=\"question completeness\">\n",
    "\n",
    "### Question 8 (Completeness)\n",
    "\n",
    "<div class=\"alert alert-block alert-success\">    \n",
    "How did the results for each term in the PE differ from your predictions (if they did)?\n",
    "\n",
    "</div>\n",
    "    \n",
    "<div class=\"answer\">\n",
    "\n",
    "**IC:**\n",
    "\n",
    "**CPI:**\n",
    "\n",
    "**CT:**\n",
    "\n",
    "**ET:**\n",
    "    \n",
    "</div>\n",
    "    \n",
    "</div>\n",
    "</div>"
   ]
  },
  {
   "cell_type": "markdown",
   "metadata": {
    "cs203.is_response": true,
    "cs203.question_type": "optional",
    "deletable": false,
    "editable": true
   },
   "source": [
    "<div class=\"alert alert-block alert-success\"><div class=\"question optional\">\n",
    "\n",
    "### Question 9 (Optional)</h3> \n",
    "<div class=\"alert alert-block alert-success\">   \n",
    "In `microbench.cpp` there are also `baseline_char()` and `baseline_float()`. Copy the code cells above and modify them to see how those functions compare.  What did you find?\n",
    "    \n",
    "</div>\n",
    "    \n",
    "<div class=\"answer\">\n",
    "\n",
    "</div>\n",
    "</div>    \n",
    "</div>"
   ]
  },
  {
   "attachments": {
    "image.png": {
     "image/png": "[encoded data removed]"
    }
   },
   "cell_type": "markdown",
   "metadata": {
    "editable": false
   },
   "source": [
    "<div class=\"alert alert-block alert-success\">\n",
    "\n",
    "**Interesting question:** How and why do the datatypes we use change `IC` and `CPI`?\n",
    "    \n",
    "![image.png](attachment:image.png)\n",
    "    \n",
    "_Does anyone else think this version of the \"thinking\" emoji looks like an alien?_\n",
    "</div>"
   ]
  },
  {
   "cell_type": "markdown",
   "metadata": {
    "editable": false
   },
   "source": [
    "### The Compiler's Effect\n",
    "\n",
    "`microbench.cpp` contains the following function:"
   ]
  },
  {
   "cell_type": "code",
   "execution_count": 24,
   "metadata": {
    "editable": false,
    "init_cell": true
   },
   "outputs": [
    {
     "data": {
      "text/html": [
       "<style>pre { line-height: 125%; }\n",
       "td.linenos .normal { color: inherit; background-color: transparent; padding-left: 5px; padding-right: 5px; }\n",
       "span.linenos { color: inherit; background-color: transparent; padding-left: 5px; padding-right: 5px; }\n",
       "td.linenos .special { color: #000000; background-color: #ffffc0; padding-left: 5px; padding-right: 5px; }\n",
       "span.linenos.special { color: #000000; background-color: #ffffc0; padding-left: 5px; padding-right: 5px; }\n",
       ".output_html .hll { background-color: #ffffcc }\n",
       ".output_html { background: #f8f8f8; }\n",
       ".output_html .c { color: #3D7B7B; font-style: italic } /* Comment */\n",
       ".output_html .err { border: 1px solid #FF0000 } /* Error */\n",
       ".output_html .k { color: #008000; font-weight: bold } /* Keyword */\n",
       ".output_html .o { color: #666666 } /* Operator */\n",
       ".output_html .ch { color: #3D7B7B; font-style: italic } /* Comment.Hashbang */\n",
       ".output_html .cm { color: #3D7B7B; font-style: italic } /* Comment.Multiline */\n",
       ".output_html .cp { color: #9C6500 } /* Comment.Preproc */\n",
       ".output_html .cpf { color: #3D7B7B; font-style: italic } /* Comment.PreprocFile */\n",
       ".output_html .c1 { color: #3D7B7B; font-style: italic } /* Comment.Single */\n",
       ".output_html .cs { color: #3D7B7B; font-style: italic } /* Comment.Special */\n",
       ".output_html .gd { color: #A00000 } /* Generic.Deleted */\n",
       ".output_html .ge { font-style: italic } /* Generic.Emph */\n",
       ".output_html .gr { color: #E40000 } /* Generic.Error */\n",
       ".output_html .gh { color: #000080; font-weight: bold } /* Generic.Heading */\n",
       ".output_html .gi { color: #008400 } /* Generic.Inserted */\n",
       ".output_html .go { color: #717171 } /* Generic.Output */\n",
       ".output_html .gp { color: #000080; font-weight: bold } /* Generic.Prompt */\n",
       ".output_html .gs { font-weight: bold } /* Generic.Strong */\n",
       ".output_html .gu { color: #800080; font-weight: bold } /* Generic.Subheading */\n",
       ".output_html .gt { color: #0044DD } /* Generic.Traceback */\n",
       ".output_html .kc { color: #008000; font-weight: bold } /* Keyword.Constant */\n",
       ".output_html .kd { color: #008000; font-weight: bold } /* Keyword.Declaration */\n",
       ".output_html .kn { color: #008000; font-weight: bold } /* Keyword.Namespace */\n",
       ".output_html .kp { color: #008000 } /* Keyword.Pseudo */\n",
       ".output_html .kr { color: #008000; font-weight: bold } /* Keyword.Reserved */\n",
       ".output_html .kt { color: #B00040 } /* Keyword.Type */\n",
       ".output_html .m { color: #666666 } /* Literal.Number */\n",
       ".output_html .s { color: #BA2121 } /* Literal.String */\n",
       ".output_html .na { color: #687822 } /* Name.Attribute */\n",
       ".output_html .nb { color: #008000 } /* Name.Builtin */\n",
       ".output_html .nc { color: #0000FF; font-weight: bold } /* Name.Class */\n",
       ".output_html .no { color: #880000 } /* Name.Constant */\n",
       ".output_html .nd { color: #AA22FF } /* Name.Decorator */\n",
       ".output_html .ni { color: #717171; font-weight: bold } /* Name.Entity */\n",
       ".output_html .ne { color: #CB3F38; font-weight: bold } /* Name.Exception */\n",
       ".output_html .nf { color: #0000FF } /* Name.Function */\n",
       ".output_html .nl { color: #767600 } /* Name.Label */\n",
       ".output_html .nn { color: #0000FF; font-weight: bold } /* Name.Namespace */\n",
       ".output_html .nt { color: #008000; font-weight: bold } /* Name.Tag */\n",
       ".output_html .nv { color: #19177C } /* Name.Variable */\n",
       ".output_html .ow { color: #AA22FF; font-weight: bold } /* Operator.Word */\n",
       ".output_html .w { color: #bbbbbb } /* Text.Whitespace */\n",
       ".output_html .mb { color: #666666 } /* Literal.Number.Bin */\n",
       ".output_html .mf { color: #666666 } /* Literal.Number.Float */\n",
       ".output_html .mh { color: #666666 } /* Literal.Number.Hex */\n",
       ".output_html .mi { color: #666666 } /* Literal.Number.Integer */\n",
       ".output_html .mo { color: #666666 } /* Literal.Number.Oct */\n",
       ".output_html .sa { color: #BA2121 } /* Literal.String.Affix */\n",
       ".output_html .sb { color: #BA2121 } /* Literal.String.Backtick */\n",
       ".output_html .sc { color: #BA2121 } /* Literal.String.Char */\n",
       ".output_html .dl { color: #BA2121 } /* Literal.String.Delimiter */\n",
       ".output_html .sd { color: #BA2121; font-style: italic } /* Literal.String.Doc */\n",
       ".output_html .s2 { color: #BA2121 } /* Literal.String.Double */\n",
       ".output_html .se { color: #AA5D1F; font-weight: bold } /* Literal.String.Escape */\n",
       ".output_html .sh { color: #BA2121 } /* Literal.String.Heredoc */\n",
       ".output_html .si { color: #A45A77; font-weight: bold } /* Literal.String.Interpol */\n",
       ".output_html .sx { color: #008000 } /* Literal.String.Other */\n",
       ".output_html .sr { color: #A45A77 } /* Literal.String.Regex */\n",
       ".output_html .s1 { color: #BA2121 } /* Literal.String.Single */\n",
       ".output_html .ss { color: #19177C } /* Literal.String.Symbol */\n",
       ".output_html .bp { color: #008000 } /* Name.Builtin.Pseudo */\n",
       ".output_html .fm { color: #0000FF } /* Name.Function.Magic */\n",
       ".output_html .vc { color: #19177C } /* Name.Variable.Class */\n",
       ".output_html .vg { color: #19177C } /* Name.Variable.Global */\n",
       ".output_html .vi { color: #19177C } /* Name.Variable.Instance */\n",
       ".output_html .vm { color: #19177C } /* Name.Variable.Magic */\n",
       ".output_html .il { color: #666666 } /* Literal.Number.Integer.Long */</style><div class=\"highlight\"><pre><span></span><span class=\"c1\">// microbench.cpp:39-52 (14 lines)</span>\n",
       "<span class=\"k\">extern</span><span class=\"w\"> </span><span class=\"s\">&quot;C&quot;</span><span class=\"w\"> </span><span class=\"kt\">uint64_t</span><span class=\"w\"> </span><span class=\"o\">*</span><span class=\"n\">__attribute__</span><span class=\"w\"> </span><span class=\"p\">((</span><span class=\"n\">optimize</span><span class=\"p\">(</span><span class=\"mi\">4</span><span class=\"p\">)))</span><span class=\"w\"> </span><span class=\"n\">baseline_int_O4</span><span class=\"w\"> </span><span class=\"p\">(</span><span class=\"kt\">uint64_t</span><span class=\"w\"> </span><span class=\"o\">*</span><span class=\"w\"> </span><span class=\"n\">array</span><span class=\"p\">,</span><span class=\"w\"> </span><span class=\"kt\">unsigned</span><span class=\"w\"> </span><span class=\"kt\">long</span><span class=\"w\"> </span><span class=\"kt\">int</span><span class=\"w\"> </span><span class=\"n\">size</span><span class=\"p\">)</span><span class=\"w\"> </span><span class=\"p\">{</span><span class=\"w\"></span>\n",
       "<span class=\"w\">\t</span><span class=\"c1\">//uint64_t * array = new uint64_t[size];</span>\n",
       "<span class=\"w\">\t</span><span class=\"k\">for</span><span class=\"p\">(</span><span class=\"n\">uint</span><span class=\"w\"> </span><span class=\"n\">i</span><span class=\"w\"> </span><span class=\"o\">=</span><span class=\"w\"> </span><span class=\"mi\">0</span><span class=\"p\">;</span><span class=\"w\"> </span><span class=\"n\">i</span><span class=\"w\"> </span><span class=\"o\">&lt;</span><span class=\"w\"> </span><span class=\"n\">size</span><span class=\"p\">;</span><span class=\"w\"> </span><span class=\"n\">i</span><span class=\"o\">++</span><span class=\"p\">)</span><span class=\"w\"> </span><span class=\"p\">{</span><span class=\"w\"></span>\n",
       "<span class=\"w\">\t\t</span><span class=\"n\">array</span><span class=\"p\">[</span><span class=\"n\">i</span><span class=\"p\">]</span><span class=\"w\"> </span><span class=\"o\">=</span><span class=\"w\"> </span><span class=\"mi\">0</span><span class=\"p\">;</span><span class=\"w\"></span>\n",
       "<span class=\"w\">\t</span><span class=\"p\">}</span><span class=\"w\"></span>\n",
       "\n",
       "<span class=\"w\">\t</span><span class=\"k\">for</span><span class=\"w\"> </span><span class=\"p\">(</span><span class=\"n\">uint</span><span class=\"w\"> </span><span class=\"n\">j</span><span class=\"w\"> </span><span class=\"o\">=</span><span class=\"w\"> </span><span class=\"mi\">0</span><span class=\"p\">;</span><span class=\"w\"> </span><span class=\"n\">j</span><span class=\"w\"> </span><span class=\"o\">&lt;</span><span class=\"w\"> </span><span class=\"mi\">3</span><span class=\"p\">;</span><span class=\"w\"> </span><span class=\"n\">j</span><span class=\"o\">++</span><span class=\"p\">)</span><span class=\"w\"> </span><span class=\"p\">{</span><span class=\"w\"></span>\n",
       "<span class=\"w\">\t\t</span><span class=\"k\">for</span><span class=\"p\">(</span><span class=\"n\">uint</span><span class=\"w\"> </span><span class=\"n\">i</span><span class=\"o\">=</span><span class=\"w\"> </span><span class=\"mi\">1</span><span class=\"w\"> </span><span class=\"p\">;</span><span class=\"w\"> </span><span class=\"n\">i</span><span class=\"w\"> </span><span class=\"o\">&lt;</span><span class=\"w\"> </span><span class=\"n\">size</span><span class=\"p\">;</span><span class=\"w\"> </span><span class=\"n\">i</span><span class=\"o\">++</span><span class=\"p\">)</span><span class=\"w\"> </span><span class=\"p\">{</span><span class=\"w\"></span>\n",
       "<span class=\"w\">\t\t\t</span><span class=\"n\">array</span><span class=\"p\">[</span><span class=\"n\">i</span><span class=\"p\">]</span><span class=\"w\"> </span><span class=\"o\">+=</span><span class=\"w\"> </span><span class=\"n\">i</span><span class=\"o\">/</span><span class=\"p\">(</span><span class=\"mi\">1</span><span class=\"o\">+</span><span class=\"n\">j</span><span class=\"p\">)</span><span class=\"o\">+</span><span class=\"n\">array</span><span class=\"p\">[</span><span class=\"n\">i</span><span class=\"w\"> </span><span class=\"o\">-</span><span class=\"w\"> </span><span class=\"mi\">1</span><span class=\"p\">];</span><span class=\"w\"></span>\n",
       "<span class=\"w\">\t\t</span><span class=\"p\">}</span><span class=\"w\"></span>\n",
       "\n",
       "<span class=\"w\">\t</span><span class=\"p\">}</span><span class=\"w\"></span>\n",
       "<span class=\"w\">\t</span><span class=\"k\">return</span><span class=\"w\"> </span><span class=\"n\">array</span><span class=\"p\">;</span><span class=\"w\"></span>\n",
       "<span class=\"p\">}</span><span class=\"w\"></span>\n",
       "</pre></div>\n"
      ],
      "text/latex": [
       "\\begin{Verbatim}[commandchars=\\\\\\{\\}]\n",
       "\\PY{c+c1}{// microbench.cpp:39\\PYZhy{}52 (14 lines)}\n",
       "\\PY{k}{extern}\\PY{+w}{ }\\PY{l+s}{\\PYZdq{}}\\PY{l+s}{C}\\PY{l+s}{\\PYZdq{}}\\PY{+w}{ }\\PY{k+kt}{uint64\\PYZus{}t}\\PY{+w}{ }\\PY{o}{*}\\PY{n}{\\PYZus{}\\PYZus{}attribute\\PYZus{}\\PYZus{}}\\PY{+w}{ }\\PY{p}{(}\\PY{p}{(}\\PY{n}{optimize}\\PY{p}{(}\\PY{l+m+mi}{4}\\PY{p}{)}\\PY{p}{)}\\PY{p}{)}\\PY{+w}{ }\\PY{n}{baseline\\PYZus{}int\\PYZus{}O4}\\PY{+w}{ }\\PY{p}{(}\\PY{k+kt}{uint64\\PYZus{}t}\\PY{+w}{ }\\PY{o}{*}\\PY{+w}{ }\\PY{n}{array}\\PY{p}{,}\\PY{+w}{ }\\PY{k+kt}{unsigned}\\PY{+w}{ }\\PY{k+kt}{long}\\PY{+w}{ }\\PY{k+kt}{int}\\PY{+w}{ }\\PY{n}{size}\\PY{p}{)}\\PY{+w}{ }\\PY{p}{\\PYZob{}}\n",
       "\\PY{+w}{\t}\\PY{c+c1}{//uint64\\PYZus{}t * array = new uint64\\PYZus{}t[size];}\n",
       "\\PY{+w}{\t}\\PY{k}{for}\\PY{p}{(}\\PY{n}{uint}\\PY{+w}{ }\\PY{n}{i}\\PY{+w}{ }\\PY{o}{=}\\PY{+w}{ }\\PY{l+m+mi}{0}\\PY{p}{;}\\PY{+w}{ }\\PY{n}{i}\\PY{+w}{ }\\PY{o}{\\PYZlt{}}\\PY{+w}{ }\\PY{n}{size}\\PY{p}{;}\\PY{+w}{ }\\PY{n}{i}\\PY{o}{+}\\PY{o}{+}\\PY{p}{)}\\PY{+w}{ }\\PY{p}{\\PYZob{}}\n",
       "\\PY{+w}{\t\t}\\PY{n}{array}\\PY{p}{[}\\PY{n}{i}\\PY{p}{]}\\PY{+w}{ }\\PY{o}{=}\\PY{+w}{ }\\PY{l+m+mi}{0}\\PY{p}{;}\n",
       "\\PY{+w}{\t}\\PY{p}{\\PYZcb{}}\n",
       "\n",
       "\\PY{+w}{\t}\\PY{k}{for}\\PY{+w}{ }\\PY{p}{(}\\PY{n}{uint}\\PY{+w}{ }\\PY{n}{j}\\PY{+w}{ }\\PY{o}{=}\\PY{+w}{ }\\PY{l+m+mi}{0}\\PY{p}{;}\\PY{+w}{ }\\PY{n}{j}\\PY{+w}{ }\\PY{o}{\\PYZlt{}}\\PY{+w}{ }\\PY{l+m+mi}{3}\\PY{p}{;}\\PY{+w}{ }\\PY{n}{j}\\PY{o}{+}\\PY{o}{+}\\PY{p}{)}\\PY{+w}{ }\\PY{p}{\\PYZob{}}\n",
       "\\PY{+w}{\t\t}\\PY{k}{for}\\PY{p}{(}\\PY{n}{uint}\\PY{+w}{ }\\PY{n}{i}\\PY{o}{=}\\PY{+w}{ }\\PY{l+m+mi}{1}\\PY{+w}{ }\\PY{p}{;}\\PY{+w}{ }\\PY{n}{i}\\PY{+w}{ }\\PY{o}{\\PYZlt{}}\\PY{+w}{ }\\PY{n}{size}\\PY{p}{;}\\PY{+w}{ }\\PY{n}{i}\\PY{o}{+}\\PY{o}{+}\\PY{p}{)}\\PY{+w}{ }\\PY{p}{\\PYZob{}}\n",
       "\\PY{+w}{\t\t\t}\\PY{n}{array}\\PY{p}{[}\\PY{n}{i}\\PY{p}{]}\\PY{+w}{ }\\PY{o}{+}\\PY{o}{=}\\PY{+w}{ }\\PY{n}{i}\\PY{o}{/}\\PY{p}{(}\\PY{l+m+mi}{1}\\PY{o}{+}\\PY{n}{j}\\PY{p}{)}\\PY{o}{+}\\PY{n}{array}\\PY{p}{[}\\PY{n}{i}\\PY{+w}{ }\\PY{o}{\\PYZhy{}}\\PY{+w}{ }\\PY{l+m+mi}{1}\\PY{p}{]}\\PY{p}{;}\n",
       "\\PY{+w}{\t\t}\\PY{p}{\\PYZcb{}}\n",
       "\n",
       "\\PY{+w}{\t}\\PY{p}{\\PYZcb{}}\n",
       "\\PY{+w}{\t}\\PY{k}{return}\\PY{+w}{ }\\PY{n}{array}\\PY{p}{;}\n",
       "\\PY{p}{\\PYZcb{}}\n",
       "\\end{Verbatim}\n"
      ],
      "text/plain": [
       "// microbench.cpp:39-52 (14 lines)\n",
       "extern \"C\" uint64_t *__attribute__ ((optimize(4))) baseline_int_O4 (uint64_t * array, unsigned long int size) {\n",
       "\t//uint64_t * array = new uint64_t[size];\n",
       "\tfor(uint i = 0; i < size; i++) {\n",
       "\t\tarray[i] = 0;\n",
       "\t}\n",
       "\n",
       "\tfor (uint j = 0; j < 3; j++) {\n",
       "\t\tfor(uint i= 1 ; i < size; i++) {\n",
       "\t\t\tarray[i] += i/(1+j)+array[i - 1];\n",
       "\t\t}\n",
       "\n",
       "\t}\n",
       "\treturn array;\n",
       "}"
      ]
     },
     "metadata": {},
     "output_type": "display_data"
    }
   ],
   "source": [
    "render_code(\"microbench.cpp\", show=\"baseline_int_O4\")"
   ]
  },
  {
   "cell_type": "markdown",
   "metadata": {
    "editable": false
   },
   "source": [
    "It's identical to `baseline_int()` except that for the `__attribute__ ((optimize(4)))` which is a little bit of `gcc` magic to optimize this functions as much as it can (it's the equivalent of passing `-O4` on the command line but just for this function).\n",
    "\n",
    "Let's see how optimizations affect performance.  Kick off the experiment in the cell below and answer this question while it runs:"
   ]
  },
  {
   "cell_type": "markdown",
   "metadata": {
    "cs203.is_response": true,
    "cs203.points": 1,
    "cs203.question_type": "completeness",
    "deletable": false,
    "editable": true
   },
   "source": [
    "<div class=\"alert alert-block alert-success\"><div class=\"question completeness\">\n",
    "    \n",
    "### Question 10 (Completeness)\n",
    "\n",
    "<div class=\"alert alert-block alert-success\">    \n",
    "How do you think each term in the performance equation will change for `baseline_int()` compared to `baseline_int_O4()`?\n",
    "    \n",
    "</div>\n",
    "    \n",
    "<div class=\"answer\">\n",
    "\n",
    "**IC:**\n",
    "    \n",
    "**CPI:**\n",
    "    \n",
    "**CT:**\n",
    "    \n",
    "**ET:**\n",
    "    \n",
    "\n",
    "</div>\n",
    "</div>\n",
    "</div>"
   ]
  },
  {
   "cell_type": "code",
   "execution_count": 25,
   "metadata": {
    "editable": false
   },
   "outputs": [
    {
     "name": "stdout",
     "output_type": "stream",
     "text": [
      "srun -N1 -p cs203 ./microbench.exe -o opt.csv  -r 25  -M  3200 -f  baseline_int baseline_int_O4 \n",
      "Execution complete\n"
     ]
    }
   ],
   "source": [
    "!cs203 job run './microbench.exe -o opt.csv  -r 25  -M  3200 -f  baseline_int baseline_int_O4 '"
   ]
  },
  {
   "cell_type": "code",
   "execution_count": 26,
   "metadata": {
    "cs203.is_response": true,
    "deletable": false,
    "editable": false
   },
   "outputs": [
    {
     "data": {
      "text/html": [
       "<div>\n",
       "<style scoped>\n",
       "    .dataframe tbody tr th:only-of-type {\n",
       "        vertical-align: middle;\n",
       "    }\n",
       "\n",
       "    .dataframe tbody tr th {\n",
       "        vertical-align: top;\n",
       "    }\n",
       "\n",
       "    .dataframe thead th {\n",
       "        text-align: right;\n",
       "    }\n",
       "</style>\n",
       "<table border=\"1\" class=\"dataframe\">\n",
       "  <thead>\n",
       "    <tr style=\"text-align: right;\">\n",
       "      <th></th>\n",
       "      <th>function</th>\n",
       "      <th>IC</th>\n",
       "      <th>CPI</th>\n",
       "      <th>CT</th>\n",
       "      <th>ET</th>\n",
       "    </tr>\n",
       "    <tr>\n",
       "      <th>function</th>\n",
       "      <th></th>\n",
       "      <th></th>\n",
       "      <th></th>\n",
       "      <th></th>\n",
       "      <th></th>\n",
       "    </tr>\n",
       "  </thead>\n",
       "  <tbody>\n",
       "    <tr>\n",
       "      <th>baseline_int</th>\n",
       "      <td>baseline_int</td>\n",
       "      <td>1.049193e+08</td>\n",
       "      <td>0.841300</td>\n",
       "      <td>0.264171</td>\n",
       "      <td>0.023321</td>\n",
       "    </tr>\n",
       "    <tr>\n",
       "      <th>baseline_int_O4</th>\n",
       "      <td>baseline_int_O4</td>\n",
       "      <td>3.675898e+07</td>\n",
       "      <td>2.007581</td>\n",
       "      <td>0.259244</td>\n",
       "      <td>0.019131</td>\n",
       "    </tr>\n",
       "  </tbody>\n",
       "</table>\n",
       "</div>"
      ],
      "text/plain": [
       "                        function            IC       CPI        CT        ET\n",
       "function                                                                    \n",
       "baseline_int        baseline_int  1.049193e+08  0.841300  0.264171  0.023321\n",
       "baseline_int_O4  baseline_int_O4  3.675898e+07  2.007581  0.259244  0.019131"
      ]
     },
     "execution_count": 26,
     "metadata": {},
     "output_type": "execute_result"
    },
    {
     "data": {
      "image/png": "[encoded data removed]",
      "text/plain": [
       "<Figure size 1600x400 with 4 Axes>"
      ]
     },
     "metadata": {},
     "output_type": "display_data"
    }
   ],
   "source": [
    "\n",
    "plotPEBar(\"opt.csv\", what=[ ('function', \"IC\"), (\"function\", \"CPI\"), (\"function\", \"CT\"), (\"function\", \"ET\") ], columns=4, average_by=\"function\")\n",
    "render_csv(\"opt.csv\", columns=[\"function\",\"IC\", \"CPI\", \"CT\", \"ET\",], average_by=\"function\")"
   ]
  },
  {
   "cell_type": "markdown",
   "metadata": {
    "cs203.is_response": true,
    "cs203.points": 1,
    "cs203.question_type": "completeness",
    "deletable": false,
    "editable": true
   },
   "source": [
    "<div class=\"alert alert-block alert-success\"><div class=\"question completeness\">\n",
    "\n",
    "### Question 11 (Completeness)\n",
    "\n",
    "<div class=\"alert alert-block alert-success\">    \n",
    "Based on the data above, describe in words what affect the optimizations had on the code and the value of each term of the PE. \n",
    "    \n",
    "</div>\n",
    "    \n",
    "<div class=\"answer\">\n",
    "        \n",
    "**IC:**\n",
    "    \n",
    "**CPI:**\n",
    "    \n",
    "**CT:**\n",
    "\n",
    "**ET:**\n",
    "   \n",
    "    \n",
    "</div>\n",
    "</div>\n",
    "</div>"
   ]
  },
  {
   "cell_type": "markdown",
   "metadata": {
    "editable": false
   },
   "source": [
    "### Code Structure\n",
    "\n",
    "These two functions increment all the elements in an array by `1.0`, but they do it slightly different ways."
   ]
  },
  {
   "cell_type": "code",
   "execution_count": 27,
   "metadata": {
    "editable": false,
    "init_cell": true
   },
   "outputs": [
    {
     "data": {
      "text/html": [
       "\n",
       "            <style>\n",
       "        .side-by-side {\n",
       "            display: flex;\n",
       "            align-items: stretch;\n",
       "\n",
       "        }\n",
       "        .side-by-side-pane {\n",
       "            margin-right:1em;\n",
       "            border-right-style: solid;\n",
       "            border-right-color: black;\n",
       "            border-right-width: 1px;\n",
       "            flex: 1;\n",
       "        }\n",
       "        </style>\n",
       "        <div class=\"side-by-side\"> <div class='side-by-side-pane'><style>pre { line-height: 125%; }\n",
       "td.linenos .normal { color: inherit; background-color: transparent; padding-left: 5px; padding-right: 5px; }\n",
       "span.linenos { color: inherit; background-color: transparent; padding-left: 5px; padding-right: 5px; }\n",
       "td.linenos .special { color: #000000; background-color: #ffffc0; padding-left: 5px; padding-right: 5px; }\n",
       "span.linenos.special { color: #000000; background-color: #ffffc0; padding-left: 5px; padding-right: 5px; }\n",
       ".output_html .hll { background-color: #ffffcc }\n",
       ".output_html { background: #f8f8f8; }\n",
       ".output_html .c { color: #3D7B7B; font-style: italic } /* Comment */\n",
       ".output_html .err { border: 1px solid #FF0000 } /* Error */\n",
       ".output_html .k { color: #008000; font-weight: bold } /* Keyword */\n",
       ".output_html .o { color: #666666 } /* Operator */\n",
       ".output_html .ch { color: #3D7B7B; font-style: italic } /* Comment.Hashbang */\n",
       ".output_html .cm { color: #3D7B7B; font-style: italic } /* Comment.Multiline */\n",
       ".output_html .cp { color: #9C6500 } /* Comment.Preproc */\n",
       ".output_html .cpf { color: #3D7B7B; font-style: italic } /* Comment.PreprocFile */\n",
       ".output_html .c1 { color: #3D7B7B; font-style: italic } /* Comment.Single */\n",
       ".output_html .cs { color: #3D7B7B; font-style: italic } /* Comment.Special */\n",
       ".output_html .gd { color: #A00000 } /* Generic.Deleted */\n",
       ".output_html .ge { font-style: italic } /* Generic.Emph */\n",
       ".output_html .gr { color: #E40000 } /* Generic.Error */\n",
       ".output_html .gh { color: #000080; font-weight: bold } /* Generic.Heading */\n",
       ".output_html .gi { color: #008400 } /* Generic.Inserted */\n",
       ".output_html .go { color: #717171 } /* Generic.Output */\n",
       ".output_html .gp { color: #000080; font-weight: bold } /* Generic.Prompt */\n",
       ".output_html .gs { font-weight: bold } /* Generic.Strong */\n",
       ".output_html .gu { color: #800080; font-weight: bold } /* Generic.Subheading */\n",
       ".output_html .gt { color: #0044DD } /* Generic.Traceback */\n",
       ".output_html .kc { color: #008000; font-weight: bold } /* Keyword.Constant */\n",
       ".output_html .kd { color: #008000; font-weight: bold } /* Keyword.Declaration */\n",
       ".output_html .kn { color: #008000; font-weight: bold } /* Keyword.Namespace */\n",
       ".output_html .kp { color: #008000 } /* Keyword.Pseudo */\n",
       ".output_html .kr { color: #008000; font-weight: bold } /* Keyword.Reserved */\n",
       ".output_html .kt { color: #B00040 } /* Keyword.Type */\n",
       ".output_html .m { color: #666666 } /* Literal.Number */\n",
       ".output_html .s { color: #BA2121 } /* Literal.String */\n",
       ".output_html .na { color: #687822 } /* Name.Attribute */\n",
       ".output_html .nb { color: #008000 } /* Name.Builtin */\n",
       ".output_html .nc { color: #0000FF; font-weight: bold } /* Name.Class */\n",
       ".output_html .no { color: #880000 } /* Name.Constant */\n",
       ".output_html .nd { color: #AA22FF } /* Name.Decorator */\n",
       ".output_html .ni { color: #717171; font-weight: bold } /* Name.Entity */\n",
       ".output_html .ne { color: #CB3F38; font-weight: bold } /* Name.Exception */\n",
       ".output_html .nf { color: #0000FF } /* Name.Function */\n",
       ".output_html .nl { color: #767600 } /* Name.Label */\n",
       ".output_html .nn { color: #0000FF; font-weight: bold } /* Name.Namespace */\n",
       ".output_html .nt { color: #008000; font-weight: bold } /* Name.Tag */\n",
       ".output_html .nv { color: #19177C } /* Name.Variable */\n",
       ".output_html .ow { color: #AA22FF; font-weight: bold } /* Operator.Word */\n",
       ".output_html .w { color: #bbbbbb } /* Text.Whitespace */\n",
       ".output_html .mb { color: #666666 } /* Literal.Number.Bin */\n",
       ".output_html .mf { color: #666666 } /* Literal.Number.Float */\n",
       ".output_html .mh { color: #666666 } /* Literal.Number.Hex */\n",
       ".output_html .mi { color: #666666 } /* Literal.Number.Integer */\n",
       ".output_html .mo { color: #666666 } /* Literal.Number.Oct */\n",
       ".output_html .sa { color: #BA2121 } /* Literal.String.Affix */\n",
       ".output_html .sb { color: #BA2121 } /* Literal.String.Backtick */\n",
       ".output_html .sc { color: #BA2121 } /* Literal.String.Char */\n",
       ".output_html .dl { color: #BA2121 } /* Literal.String.Delimiter */\n",
       ".output_html .sd { color: #BA2121; font-style: italic } /* Literal.String.Doc */\n",
       ".output_html .s2 { color: #BA2121 } /* Literal.String.Double */\n",
       ".output_html .se { color: #AA5D1F; font-weight: bold } /* Literal.String.Escape */\n",
       ".output_html .sh { color: #BA2121 } /* Literal.String.Heredoc */\n",
       ".output_html .si { color: #A45A77; font-weight: bold } /* Literal.String.Interpol */\n",
       ".output_html .sx { color: #008000 } /* Literal.String.Other */\n",
       ".output_html .sr { color: #A45A77 } /* Literal.String.Regex */\n",
       ".output_html .s1 { color: #BA2121 } /* Literal.String.Single */\n",
       ".output_html .ss { color: #19177C } /* Literal.String.Symbol */\n",
       ".output_html .bp { color: #008000 } /* Name.Builtin.Pseudo */\n",
       ".output_html .fm { color: #0000FF } /* Name.Function.Magic */\n",
       ".output_html .vc { color: #19177C } /* Name.Variable.Class */\n",
       ".output_html .vg { color: #19177C } /* Name.Variable.Global */\n",
       ".output_html .vi { color: #19177C } /* Name.Variable.Instance */\n",
       ".output_html .vm { color: #19177C } /* Name.Variable.Magic */\n",
       ".output_html .il { color: #666666 } /* Literal.Number.Integer.Long */</style><div class=\"highlight\"><pre><span></span><span class=\"c1\">// microbench.cpp:132-143 (12 lines)</span>\n",
       "<span class=\"k\">extern</span><span class=\"w\"> </span><span class=\"s\">&quot;C&quot;</span><span class=\"w\"> </span><span class=\"kt\">uint64_t</span><span class=\"w\"> </span><span class=\"o\">*</span><span class=\"n\">__attribute__</span><span class=\"w\"> </span><span class=\"p\">((</span><span class=\"n\">optimize</span><span class=\"p\">(</span><span class=\"mi\">4</span><span class=\"p\">)))</span><span class=\"w\"> </span><span class=\"n\">matrix_row_major</span><span class=\"p\">(</span><span class=\"kt\">uint64_t</span><span class=\"w\"> </span><span class=\"o\">*</span><span class=\"w\"> </span><span class=\"n\">_array</span><span class=\"p\">,</span><span class=\"w\"> </span><span class=\"kt\">unsigned</span><span class=\"w\"> </span><span class=\"kt\">long</span><span class=\"w\"> </span><span class=\"kt\">int</span><span class=\"w\"> </span><span class=\"n\">size</span><span class=\"p\">)</span><span class=\"w\"> </span><span class=\"p\">{</span><span class=\"w\"></span>\n",
       "\n",
       "<span class=\"w\">\t</span><span class=\"kt\">double</span><span class=\"w\"> </span><span class=\"o\">*</span><span class=\"w\"> </span><span class=\"n\">array</span><span class=\"w\"> </span><span class=\"o\">=</span><span class=\"w\"> </span><span class=\"p\">(</span><span class=\"kt\">double</span><span class=\"o\">*</span><span class=\"p\">)</span><span class=\"n\">_array</span><span class=\"p\">;</span><span class=\"w\"></span>\n",
       "\n",
       "<span class=\"w\">\t</span><span class=\"k\">for</span><span class=\"p\">(</span><span class=\"n\">uint</span><span class=\"w\"> </span><span class=\"n\">i</span><span class=\"o\">=</span><span class=\"w\"> </span><span class=\"mi\">0</span><span class=\"p\">;</span><span class=\"w\"> </span><span class=\"n\">i</span><span class=\"w\"> </span><span class=\"o\">&lt;</span><span class=\"w\"> </span><span class=\"n\">size</span><span class=\"o\">/</span><span class=\"n\">ROW_SIZE</span><span class=\"p\">;</span><span class=\"w\"> </span><span class=\"n\">i</span><span class=\"o\">++</span><span class=\"p\">)</span><span class=\"w\"> </span><span class=\"p\">{</span><span class=\"w\"></span>\n",
       "<span class=\"w\">\t\t</span><span class=\"k\">for</span><span class=\"w\"> </span><span class=\"p\">(</span><span class=\"kt\">int</span><span class=\"w\"> </span><span class=\"n\">k</span><span class=\"w\"> </span><span class=\"o\">=</span><span class=\"w\"> </span><span class=\"mi\">0</span><span class=\"p\">;</span><span class=\"w\"> </span><span class=\"n\">k</span><span class=\"w\"> </span><span class=\"o\">&lt;</span><span class=\"w\"> </span><span class=\"n\">ROW_SIZE</span><span class=\"p\">;</span><span class=\"w\"> </span><span class=\"n\">k</span><span class=\"o\">++</span><span class=\"p\">)</span><span class=\"w\"> </span><span class=\"p\">{</span><span class=\"w\"></span>\n",
       "<span class=\"w\">\t\t\t</span><span class=\"n\">array</span><span class=\"p\">[</span><span class=\"n\">i</span><span class=\"o\">*</span><span class=\"n\">ROW_SIZE</span><span class=\"w\"> </span><span class=\"o\">+</span><span class=\"w\"> </span><span class=\"n\">k</span><span class=\"p\">]</span><span class=\"w\"> </span><span class=\"o\">*=</span><span class=\"w\"> </span><span class=\"n\">array</span><span class=\"p\">[</span><span class=\"n\">i</span><span class=\"o\">*</span><span class=\"n\">ROW_SIZE</span><span class=\"w\"> </span><span class=\"o\">+</span><span class=\"w\"> </span><span class=\"n\">k</span><span class=\"p\">];</span><span class=\"w\"> </span><span class=\"c1\">// This Line</span>\n",
       "<span class=\"w\">\t\t</span><span class=\"p\">}</span><span class=\"w\"></span>\n",
       "<span class=\"w\">\t</span><span class=\"p\">}</span><span class=\"w\"></span>\n",
       "<span class=\"w\">\t</span>\n",
       "<span class=\"w\">\t</span><span class=\"k\">return</span><span class=\"w\"> </span><span class=\"p\">(</span><span class=\"kt\">uint64_t</span><span class=\"o\">*</span><span class=\"p\">)</span><span class=\"n\">array</span><span class=\"p\">;</span><span class=\"w\"></span>\n",
       "<span class=\"p\">}</span><span class=\"w\"></span>\n",
       "</pre></div>\n",
       "</div><div class='side-by-side-pane'><style>pre { line-height: 125%; }\n",
       "td.linenos .normal { color: inherit; background-color: transparent; padding-left: 5px; padding-right: 5px; }\n",
       "span.linenos { color: inherit; background-color: transparent; padding-left: 5px; padding-right: 5px; }\n",
       "td.linenos .special { color: #000000; background-color: #ffffc0; padding-left: 5px; padding-right: 5px; }\n",
       "span.linenos.special { color: #000000; background-color: #ffffc0; padding-left: 5px; padding-right: 5px; }\n",
       ".output_html .hll { background-color: #ffffcc }\n",
       ".output_html { background: #f8f8f8; }\n",
       ".output_html .c { color: #3D7B7B; font-style: italic } /* Comment */\n",
       ".output_html .err { border: 1px solid #FF0000 } /* Error */\n",
       ".output_html .k { color: #008000; font-weight: bold } /* Keyword */\n",
       ".output_html .o { color: #666666 } /* Operator */\n",
       ".output_html .ch { color: #3D7B7B; font-style: italic } /* Comment.Hashbang */\n",
       ".output_html .cm { color: #3D7B7B; font-style: italic } /* Comment.Multiline */\n",
       ".output_html .cp { color: #9C6500 } /* Comment.Preproc */\n",
       ".output_html .cpf { color: #3D7B7B; font-style: italic } /* Comment.PreprocFile */\n",
       ".output_html .c1 { color: #3D7B7B; font-style: italic } /* Comment.Single */\n",
       ".output_html .cs { color: #3D7B7B; font-style: italic } /* Comment.Special */\n",
       ".output_html .gd { color: #A00000 } /* Generic.Deleted */\n",
       ".output_html .ge { font-style: italic } /* Generic.Emph */\n",
       ".output_html .gr { color: #E40000 } /* Generic.Error */\n",
       ".output_html .gh { color: #000080; font-weight: bold } /* Generic.Heading */\n",
       ".output_html .gi { color: #008400 } /* Generic.Inserted */\n",
       ".output_html .go { color: #717171 } /* Generic.Output */\n",
       ".output_html .gp { color: #000080; font-weight: bold } /* Generic.Prompt */\n",
       ".output_html .gs { font-weight: bold } /* Generic.Strong */\n",
       ".output_html .gu { color: #800080; font-weight: bold } /* Generic.Subheading */\n",
       ".output_html .gt { color: #0044DD } /* Generic.Traceback */\n",
       ".output_html .kc { color: #008000; font-weight: bold } /* Keyword.Constant */\n",
       ".output_html .kd { color: #008000; font-weight: bold } /* Keyword.Declaration */\n",
       ".output_html .kn { color: #008000; font-weight: bold } /* Keyword.Namespace */\n",
       ".output_html .kp { color: #008000 } /* Keyword.Pseudo */\n",
       ".output_html .kr { color: #008000; font-weight: bold } /* Keyword.Reserved */\n",
       ".output_html .kt { color: #B00040 } /* Keyword.Type */\n",
       ".output_html .m { color: #666666 } /* Literal.Number */\n",
       ".output_html .s { color: #BA2121 } /* Literal.String */\n",
       ".output_html .na { color: #687822 } /* Name.Attribute */\n",
       ".output_html .nb { color: #008000 } /* Name.Builtin */\n",
       ".output_html .nc { color: #0000FF; font-weight: bold } /* Name.Class */\n",
       ".output_html .no { color: #880000 } /* Name.Constant */\n",
       ".output_html .nd { color: #AA22FF } /* Name.Decorator */\n",
       ".output_html .ni { color: #717171; font-weight: bold } /* Name.Entity */\n",
       ".output_html .ne { color: #CB3F38; font-weight: bold } /* Name.Exception */\n",
       ".output_html .nf { color: #0000FF } /* Name.Function */\n",
       ".output_html .nl { color: #767600 } /* Name.Label */\n",
       ".output_html .nn { color: #0000FF; font-weight: bold } /* Name.Namespace */\n",
       ".output_html .nt { color: #008000; font-weight: bold } /* Name.Tag */\n",
       ".output_html .nv { color: #19177C } /* Name.Variable */\n",
       ".output_html .ow { color: #AA22FF; font-weight: bold } /* Operator.Word */\n",
       ".output_html .w { color: #bbbbbb } /* Text.Whitespace */\n",
       ".output_html .mb { color: #666666 } /* Literal.Number.Bin */\n",
       ".output_html .mf { color: #666666 } /* Literal.Number.Float */\n",
       ".output_html .mh { color: #666666 } /* Literal.Number.Hex */\n",
       ".output_html .mi { color: #666666 } /* Literal.Number.Integer */\n",
       ".output_html .mo { color: #666666 } /* Literal.Number.Oct */\n",
       ".output_html .sa { color: #BA2121 } /* Literal.String.Affix */\n",
       ".output_html .sb { color: #BA2121 } /* Literal.String.Backtick */\n",
       ".output_html .sc { color: #BA2121 } /* Literal.String.Char */\n",
       ".output_html .dl { color: #BA2121 } /* Literal.String.Delimiter */\n",
       ".output_html .sd { color: #BA2121; font-style: italic } /* Literal.String.Doc */\n",
       ".output_html .s2 { color: #BA2121 } /* Literal.String.Double */\n",
       ".output_html .se { color: #AA5D1F; font-weight: bold } /* Literal.String.Escape */\n",
       ".output_html .sh { color: #BA2121 } /* Literal.String.Heredoc */\n",
       ".output_html .si { color: #A45A77; font-weight: bold } /* Literal.String.Interpol */\n",
       ".output_html .sx { color: #008000 } /* Literal.String.Other */\n",
       ".output_html .sr { color: #A45A77 } /* Literal.String.Regex */\n",
       ".output_html .s1 { color: #BA2121 } /* Literal.String.Single */\n",
       ".output_html .ss { color: #19177C } /* Literal.String.Symbol */\n",
       ".output_html .bp { color: #008000 } /* Name.Builtin.Pseudo */\n",
       ".output_html .fm { color: #0000FF } /* Name.Function.Magic */\n",
       ".output_html .vc { color: #19177C } /* Name.Variable.Class */\n",
       ".output_html .vg { color: #19177C } /* Name.Variable.Global */\n",
       ".output_html .vi { color: #19177C } /* Name.Variable.Instance */\n",
       ".output_html .vm { color: #19177C } /* Name.Variable.Magic */\n",
       ".output_html .il { color: #666666 } /* Literal.Number.Integer.Long */</style><div class=\"highlight\"><pre><span></span><span class=\"c1\">// microbench.cpp:116-128 (13 lines)</span>\n",
       "<span class=\"k\">extern</span><span class=\"w\"> </span><span class=\"s\">&quot;C&quot;</span><span class=\"w\"> </span><span class=\"kt\">uint64_t</span><span class=\"w\"> </span><span class=\"o\">*</span><span class=\"n\">__attribute__</span><span class=\"w\"> </span><span class=\"p\">((</span><span class=\"n\">optimize</span><span class=\"p\">(</span><span class=\"mi\">4</span><span class=\"p\">)))</span><span class=\"w\"> </span><span class=\"n\">matrix_column_major</span><span class=\"p\">(</span><span class=\"kt\">uint64_t</span><span class=\"w\"> </span><span class=\"o\">*</span><span class=\"w\"> </span><span class=\"n\">_array</span><span class=\"p\">,</span><span class=\"w\"> </span><span class=\"kt\">unsigned</span><span class=\"w\"> </span><span class=\"kt\">long</span><span class=\"w\"> </span><span class=\"kt\">int</span><span class=\"w\"> </span><span class=\"n\">size</span><span class=\"p\">)</span><span class=\"w\"> </span><span class=\"p\">{</span><span class=\"w\"></span>\n",
       "<span class=\"cp\">#define ROW_SIZE 1024</span>\n",
       "<span class=\"w\">\t</span><span class=\"kt\">double</span><span class=\"w\"> </span><span class=\"o\">*</span><span class=\"w\"> </span><span class=\"n\">array</span><span class=\"w\"> </span><span class=\"o\">=</span><span class=\"w\"> </span><span class=\"p\">(</span><span class=\"kt\">double</span><span class=\"o\">*</span><span class=\"p\">)</span><span class=\"n\">_array</span><span class=\"p\">;</span><span class=\"w\"></span>\n",
       "\n",
       "<span class=\"w\">\t</span><span class=\"k\">for</span><span class=\"w\"> </span><span class=\"p\">(</span><span class=\"kt\">int</span><span class=\"w\"> </span><span class=\"n\">k</span><span class=\"w\"> </span><span class=\"o\">=</span><span class=\"w\"> </span><span class=\"mi\">0</span><span class=\"p\">;</span><span class=\"w\"> </span><span class=\"n\">k</span><span class=\"w\"> </span><span class=\"o\">&lt;</span><span class=\"w\"> </span><span class=\"n\">ROW_SIZE</span><span class=\"p\">;</span><span class=\"w\"> </span><span class=\"n\">k</span><span class=\"o\">++</span><span class=\"p\">)</span><span class=\"w\"> </span><span class=\"p\">{</span><span class=\"w\"></span>\n",
       "<span class=\"w\">\t\t</span><span class=\"k\">for</span><span class=\"p\">(</span><span class=\"n\">uint</span><span class=\"w\"> </span><span class=\"n\">i</span><span class=\"o\">=</span><span class=\"w\"> </span><span class=\"mi\">0</span><span class=\"w\"> </span><span class=\"p\">;</span><span class=\"w\"> </span><span class=\"n\">i</span><span class=\"w\"> </span><span class=\"o\">&lt;</span><span class=\"w\"> </span><span class=\"n\">size</span><span class=\"o\">/</span><span class=\"n\">ROW_SIZE</span><span class=\"p\">;</span><span class=\"w\"> </span><span class=\"n\">i</span><span class=\"o\">++</span><span class=\"p\">)</span><span class=\"w\"> </span><span class=\"p\">{</span><span class=\"w\"></span>\n",
       "<span class=\"w\">\t\t\t</span><span class=\"n\">array</span><span class=\"p\">[</span><span class=\"n\">i</span><span class=\"o\">*</span><span class=\"n\">ROW_SIZE</span><span class=\"w\"> </span><span class=\"o\">+</span><span class=\"w\"> </span><span class=\"n\">k</span><span class=\"p\">]</span><span class=\"w\"> </span><span class=\"o\">*=</span><span class=\"n\">array</span><span class=\"p\">[</span><span class=\"n\">i</span><span class=\"o\">*</span><span class=\"n\">ROW_SIZE</span><span class=\"w\"> </span><span class=\"o\">+</span><span class=\"w\"> </span><span class=\"n\">k</span><span class=\"p\">];</span><span class=\"w\"> </span><span class=\"c1\">// This Line</span>\n",
       "<span class=\"w\">\t\t</span><span class=\"p\">}</span><span class=\"w\"></span>\n",
       "<span class=\"w\">\t</span><span class=\"p\">}</span><span class=\"w\"></span>\n",
       "<span class=\"c1\">//\tstd::cout &lt;&lt; &quot;Execution matrix_column_major complete\\n&quot;;</span>\n",
       "<span class=\"w\">\t</span>\n",
       "<span class=\"w\">\t</span><span class=\"k\">return</span><span class=\"w\"> </span><span class=\"p\">(</span><span class=\"kt\">uint64_t</span><span class=\"o\">*</span><span class=\"p\">)</span><span class=\"n\">array</span><span class=\"p\">;</span><span class=\"w\"></span>\n",
       "<span class=\"p\">}</span><span class=\"w\"></span>\n",
       "</pre></div>\n",
       "</div>\n",
       "        </div>\n",
       "    "
      ],
      "text/plain": [
       "<IPython.core.display.HTML object>"
      ]
     },
     "execution_count": 27,
     "metadata": {},
     "output_type": "execute_result"
    }
   ],
   "source": [
    "compare([do_render_code(\"microbench.cpp\", show=\"matrix_row_major\"),\n",
    "         do_render_code(\"microbench.cpp\", show=\"matrix_column_major\")])"
   ]
  },
  {
   "cell_type": "markdown",
   "metadata": {
    "editable": false
   },
   "source": [
    "We'll run both versions and compare their performance.  Kick off the  experiment below and answer this question:"
   ]
  },
  {
   "cell_type": "markdown",
   "metadata": {
    "cs203.is_response": true,
    "cs203.points": 1,
    "cs203.question_type": "completeness",
    "deletable": false,
    "editable": true
   },
   "source": [
    "<div class=\"alert alert-block alert-success\"><div class=\"question completeness\">\n",
    "\n",
    "### Question 12 (Completeness)\n",
    "\n",
    "<div class=\"alert alert-block alert-success\">    \n",
    "If `size` is equal to 8,388,608 how many times will \"This Line\" execute in each function?  Do you think one will be faster than the other?  Why?\n",
    "    \n",
    "</div>\n",
    "    \n",
    "<div class=\"answer\">\n",
    "        \n",
    "**How many times does `This Line` execute in `matrix_row_major()`:**\n",
    "\n",
    "\n",
    "    \n",
    "**How many times does `This Line` execute in `matrix_column_major()`:**\n",
    "\n",
    "\n",
    "    \n",
    "**Is there any difference in the \"Big-O\" running time of these two functions?**\n",
    "\n",
    "\n",
    "    \n",
    "**Do you think one will be faster than the other?  Why?**\n",
    "\n",
    "\n",
    "\n",
    "</div>\n",
    "</div>\n",
    "</div>"
   ]
  },
  {
   "cell_type": "code",
   "execution_count": 28,
   "metadata": {
    "editable": false,
    "scrolled": true
   },
   "outputs": [
    {
     "name": "stdout",
     "output_type": "stream",
     "text": [
      "srun -N1 -p cs203 ./microbench.exe -o matrix.csv -size 8388608 -r 25  -M  3200 -f  matrix_row_major matrix_column_major\n",
      "Execution complete\n"
     ]
    }
   ],
   "source": [
    "!cs203 job run  './microbench.exe -o matrix.csv -size 8388608 -r 25  -M  3200 -f  matrix_row_major matrix_column_major'\n"
   ]
  },
  {
   "cell_type": "code",
   "execution_count": 29,
   "metadata": {
    "editable": false
   },
   "outputs": [
    {
     "data": {
      "text/html": [
       "<div>\n",
       "<style scoped>\n",
       "    .dataframe tbody tr th:only-of-type {\n",
       "        vertical-align: middle;\n",
       "    }\n",
       "\n",
       "    .dataframe tbody tr th {\n",
       "        vertical-align: top;\n",
       "    }\n",
       "\n",
       "    .dataframe thead th {\n",
       "        text-align: right;\n",
       "    }\n",
       "</style>\n",
       "<table border=\"1\" class=\"dataframe\">\n",
       "  <thead>\n",
       "    <tr style=\"text-align: right;\">\n",
       "      <th></th>\n",
       "      <th>IC</th>\n",
       "      <th>CPI</th>\n",
       "      <th>CT</th>\n",
       "      <th>ET</th>\n",
       "    </tr>\n",
       "    <tr>\n",
       "      <th>function</th>\n",
       "      <th></th>\n",
       "      <th></th>\n",
       "      <th></th>\n",
       "      <th></th>\n",
       "    </tr>\n",
       "  </thead>\n",
       "  <tbody>\n",
       "    <tr>\n",
       "      <th>matrix_column_major</th>\n",
       "      <td>84100772.60</td>\n",
       "      <td>4.564159</td>\n",
       "      <td>0.255500</td>\n",
       "      <td>0.098070</td>\n",
       "    </tr>\n",
       "    <tr>\n",
       "      <th>matrix_row_major</th>\n",
       "      <td>67204040.48</td>\n",
       "      <td>0.509476</td>\n",
       "      <td>0.257967</td>\n",
       "      <td>0.008831</td>\n",
       "    </tr>\n",
       "  </tbody>\n",
       "</table>\n",
       "</div>"
      ],
      "text/plain": [
       "                              IC       CPI        CT        ET\n",
       "function                                                      \n",
       "matrix_column_major  84100772.60  4.564159  0.255500  0.098070\n",
       "matrix_row_major     67204040.48  0.509476  0.257967  0.008831"
      ]
     },
     "execution_count": 29,
     "metadata": {},
     "output_type": "execute_result"
    },
    {
     "data": {
      "image/png": "[encoded data removed]",
      "text/plain": [
       "<Figure size 1600x400 with 4 Axes>"
      ]
     },
     "metadata": {},
     "output_type": "display_data"
    }
   ],
   "source": [
    "plotPEBar(\"matrix.csv\", what=[ ('function', \"IC\"), (\"function\", \"CPI\"), (\"function\", \"CT\"), (\"function\", \"ET\") ], average_by=\"function\", columns=4, skip=2)\n",
    "render_csv(\"matrix.csv\", columns=[\"IC\", \"CPI\", \"CT\", \"ET\"], average_by=\"function\")"
   ]
  },
  {
   "cell_type": "markdown",
   "metadata": {
    "cs203.is_response": true,
    "cs203.points": 1,
    "cs203.question_type": "completeness",
    "deletable": false,
    "editable": true
   },
   "source": [
    "<div class=\"alert alert-block alert-success\"><div class=\"question completeness\">\n",
    "\n",
    "### Question 13 (Completeness)\n",
    "\n",
    "<div class=\"alert alert-block alert-success\">\n",
    "Calculate the speedup of `matrix_row_major` over `matrix_column_major`.  Why is this result surprising?\n",
    "\n",
    "</div>\n",
    "    \n",
    "<div class=\"answer\">\n",
    "        \n",
    "**Speedup:**\n",
    "    \n",
    "\n",
    "    \n",
    "**Why is this surprising?:**\n",
    "\n",
    "\n",
    "</div>\n",
    "</div>\n",
    "</div>"
   ]
  },
  {
   "attachments": {
    "image.png": {
     "image/png": "[encoded data removed]"
    }
   },
   "cell_type": "markdown",
   "metadata": {
    "editable": false
   },
   "source": [
    "<div class=\"alert alert-block alert-success\">\n",
    "\n",
    "**Interesting Question:** Why does the order in which the program performs calculations affect `CPI`?\n",
    "    \n",
    "![image.png](attachment:image.png)\n",
    "</div>"
   ]
  },
  {
   "cell_type": "markdown",
   "metadata": {
    "editable": false
   },
   "source": [
    "# Amdahl's Law"
   ]
  },
  {
   "cell_type": "markdown",
   "metadata": {
    "editable": false
   },
   "source": [
    "Recall from cs203 that Amdahl's Law limits the speed up an optimization can provide.  It's given as \n",
    "\n",
    "$$S_{tot} = \\frac{1}{\\left(\\frac{x}{S}\\right) + (1-x)}$$\n",
    "\n",
    "Where $S$ is the speedup provided by the optimization, $x$ is the fraction of execution time affected by the optimization, and $S_{tot}$ is total speedup.\n",
    "\n",
    "The function below (also in `microbench.cpp`) calls two of the other functions we have studied."
   ]
  },
  {
   "cell_type": "code",
   "execution_count": 30,
   "metadata": {
    "editable": false,
    "init_cell": true
   },
   "outputs": [
    {
     "data": {
      "text/html": [
       "<style>pre { line-height: 125%; }\n",
       "td.linenos .normal { color: inherit; background-color: transparent; padding-left: 5px; padding-right: 5px; }\n",
       "span.linenos { color: inherit; background-color: transparent; padding-left: 5px; padding-right: 5px; }\n",
       "td.linenos .special { color: #000000; background-color: #ffffc0; padding-left: 5px; padding-right: 5px; }\n",
       "span.linenos.special { color: #000000; background-color: #ffffc0; padding-left: 5px; padding-right: 5px; }\n",
       ".output_html .hll { background-color: #ffffcc }\n",
       ".output_html { background: #f8f8f8; }\n",
       ".output_html .c { color: #3D7B7B; font-style: italic } /* Comment */\n",
       ".output_html .err { border: 1px solid #FF0000 } /* Error */\n",
       ".output_html .k { color: #008000; font-weight: bold } /* Keyword */\n",
       ".output_html .o { color: #666666 } /* Operator */\n",
       ".output_html .ch { color: #3D7B7B; font-style: italic } /* Comment.Hashbang */\n",
       ".output_html .cm { color: #3D7B7B; font-style: italic } /* Comment.Multiline */\n",
       ".output_html .cp { color: #9C6500 } /* Comment.Preproc */\n",
       ".output_html .cpf { color: #3D7B7B; font-style: italic } /* Comment.PreprocFile */\n",
       ".output_html .c1 { color: #3D7B7B; font-style: italic } /* Comment.Single */\n",
       ".output_html .cs { color: #3D7B7B; font-style: italic } /* Comment.Special */\n",
       ".output_html .gd { color: #A00000 } /* Generic.Deleted */\n",
       ".output_html .ge { font-style: italic } /* Generic.Emph */\n",
       ".output_html .gr { color: #E40000 } /* Generic.Error */\n",
       ".output_html .gh { color: #000080; font-weight: bold } /* Generic.Heading */\n",
       ".output_html .gi { color: #008400 } /* Generic.Inserted */\n",
       ".output_html .go { color: #717171 } /* Generic.Output */\n",
       ".output_html .gp { color: #000080; font-weight: bold } /* Generic.Prompt */\n",
       ".output_html .gs { font-weight: bold } /* Generic.Strong */\n",
       ".output_html .gu { color: #800080; font-weight: bold } /* Generic.Subheading */\n",
       ".output_html .gt { color: #0044DD } /* Generic.Traceback */\n",
       ".output_html .kc { color: #008000; font-weight: bold } /* Keyword.Constant */\n",
       ".output_html .kd { color: #008000; font-weight: bold } /* Keyword.Declaration */\n",
       ".output_html .kn { color: #008000; font-weight: bold } /* Keyword.Namespace */\n",
       ".output_html .kp { color: #008000 } /* Keyword.Pseudo */\n",
       ".output_html .kr { color: #008000; font-weight: bold } /* Keyword.Reserved */\n",
       ".output_html .kt { color: #B00040 } /* Keyword.Type */\n",
       ".output_html .m { color: #666666 } /* Literal.Number */\n",
       ".output_html .s { color: #BA2121 } /* Literal.String */\n",
       ".output_html .na { color: #687822 } /* Name.Attribute */\n",
       ".output_html .nb { color: #008000 } /* Name.Builtin */\n",
       ".output_html .nc { color: #0000FF; font-weight: bold } /* Name.Class */\n",
       ".output_html .no { color: #880000 } /* Name.Constant */\n",
       ".output_html .nd { color: #AA22FF } /* Name.Decorator */\n",
       ".output_html .ni { color: #717171; font-weight: bold } /* Name.Entity */\n",
       ".output_html .ne { color: #CB3F38; font-weight: bold } /* Name.Exception */\n",
       ".output_html .nf { color: #0000FF } /* Name.Function */\n",
       ".output_html .nl { color: #767600 } /* Name.Label */\n",
       ".output_html .nn { color: #0000FF; font-weight: bold } /* Name.Namespace */\n",
       ".output_html .nt { color: #008000; font-weight: bold } /* Name.Tag */\n",
       ".output_html .nv { color: #19177C } /* Name.Variable */\n",
       ".output_html .ow { color: #AA22FF; font-weight: bold } /* Operator.Word */\n",
       ".output_html .w { color: #bbbbbb } /* Text.Whitespace */\n",
       ".output_html .mb { color: #666666 } /* Literal.Number.Bin */\n",
       ".output_html .mf { color: #666666 } /* Literal.Number.Float */\n",
       ".output_html .mh { color: #666666 } /* Literal.Number.Hex */\n",
       ".output_html .mi { color: #666666 } /* Literal.Number.Integer */\n",
       ".output_html .mo { color: #666666 } /* Literal.Number.Oct */\n",
       ".output_html .sa { color: #BA2121 } /* Literal.String.Affix */\n",
       ".output_html .sb { color: #BA2121 } /* Literal.String.Backtick */\n",
       ".output_html .sc { color: #BA2121 } /* Literal.String.Char */\n",
       ".output_html .dl { color: #BA2121 } /* Literal.String.Delimiter */\n",
       ".output_html .sd { color: #BA2121; font-style: italic } /* Literal.String.Doc */\n",
       ".output_html .s2 { color: #BA2121 } /* Literal.String.Double */\n",
       ".output_html .se { color: #AA5D1F; font-weight: bold } /* Literal.String.Escape */\n",
       ".output_html .sh { color: #BA2121 } /* Literal.String.Heredoc */\n",
       ".output_html .si { color: #A45A77; font-weight: bold } /* Literal.String.Interpol */\n",
       ".output_html .sx { color: #008000 } /* Literal.String.Other */\n",
       ".output_html .sr { color: #A45A77 } /* Literal.String.Regex */\n",
       ".output_html .s1 { color: #BA2121 } /* Literal.String.Single */\n",
       ".output_html .ss { color: #19177C } /* Literal.String.Symbol */\n",
       ".output_html .bp { color: #008000 } /* Name.Builtin.Pseudo */\n",
       ".output_html .fm { color: #0000FF } /* Name.Function.Magic */\n",
       ".output_html .vc { color: #19177C } /* Name.Variable.Class */\n",
       ".output_html .vg { color: #19177C } /* Name.Variable.Global */\n",
       ".output_html .vi { color: #19177C } /* Name.Variable.Instance */\n",
       ".output_html .vm { color: #19177C } /* Name.Variable.Magic */\n",
       ".output_html .il { color: #666666 } /* Literal.Number.Integer.Long */</style><div class=\"highlight\"><pre><span></span><span class=\"c1\">// microbench.cpp:145-149 (5 lines)</span>\n",
       "<span class=\"k\">extern</span><span class=\"w\"> </span><span class=\"s\">&quot;C&quot;</span><span class=\"w\"> </span><span class=\"kt\">uint64_t</span><span class=\"w\"> </span><span class=\"o\">*</span><span class=\"n\">__attribute__</span><span class=\"w\"> </span><span class=\"p\">((</span><span class=\"n\">optimize</span><span class=\"p\">(</span><span class=\"mi\">0</span><span class=\"p\">)))</span><span class=\"w\"> </span><span class=\"n\">everything</span><span class=\"p\">(</span><span class=\"kt\">uint64_t</span><span class=\"w\"> </span><span class=\"o\">*</span><span class=\"w\"> </span><span class=\"n\">array</span><span class=\"p\">,</span><span class=\"w\"> </span><span class=\"kt\">unsigned</span><span class=\"w\"> </span><span class=\"kt\">long</span><span class=\"w\"> </span><span class=\"kt\">int</span><span class=\"w\"> </span><span class=\"n\">size</span><span class=\"p\">)</span><span class=\"w\"> </span><span class=\"p\">{</span><span class=\"w\"></span>\n",
       "<span class=\"w\">\t</span><span class=\"n\">matrix_column_major</span><span class=\"p\">(</span><span class=\"n\">array</span><span class=\"p\">,</span><span class=\"w\"> </span><span class=\"n\">size</span><span class=\"p\">);</span><span class=\"w\"></span>\n",
       "<span class=\"w\">\t</span><span class=\"n\">baseline_int</span><span class=\"p\">(</span><span class=\"n\">array</span><span class=\"p\">,</span><span class=\"n\">size</span><span class=\"p\">);</span><span class=\"w\"></span>\n",
       "<span class=\"w\">\t</span><span class=\"k\">return</span><span class=\"w\"> </span><span class=\"n\">array</span><span class=\"p\">;</span><span class=\"w\"></span>\n",
       "<span class=\"p\">}</span><span class=\"w\"></span>\n",
       "</pre></div>\n"
      ],
      "text/latex": [
       "\\begin{Verbatim}[commandchars=\\\\\\{\\}]\n",
       "\\PY{c+c1}{// microbench.cpp:145\\PYZhy{}149 (5 lines)}\n",
       "\\PY{k}{extern}\\PY{+w}{ }\\PY{l+s}{\\PYZdq{}}\\PY{l+s}{C}\\PY{l+s}{\\PYZdq{}}\\PY{+w}{ }\\PY{k+kt}{uint64\\PYZus{}t}\\PY{+w}{ }\\PY{o}{*}\\PY{n}{\\PYZus{}\\PYZus{}attribute\\PYZus{}\\PYZus{}}\\PY{+w}{ }\\PY{p}{(}\\PY{p}{(}\\PY{n}{optimize}\\PY{p}{(}\\PY{l+m+mi}{0}\\PY{p}{)}\\PY{p}{)}\\PY{p}{)}\\PY{+w}{ }\\PY{n}{everything}\\PY{p}{(}\\PY{k+kt}{uint64\\PYZus{}t}\\PY{+w}{ }\\PY{o}{*}\\PY{+w}{ }\\PY{n}{array}\\PY{p}{,}\\PY{+w}{ }\\PY{k+kt}{unsigned}\\PY{+w}{ }\\PY{k+kt}{long}\\PY{+w}{ }\\PY{k+kt}{int}\\PY{+w}{ }\\PY{n}{size}\\PY{p}{)}\\PY{+w}{ }\\PY{p}{\\PYZob{}}\n",
       "\\PY{+w}{\t}\\PY{n}{matrix\\PYZus{}column\\PYZus{}major}\\PY{p}{(}\\PY{n}{array}\\PY{p}{,}\\PY{+w}{ }\\PY{n}{size}\\PY{p}{)}\\PY{p}{;}\n",
       "\\PY{+w}{\t}\\PY{n}{baseline\\PYZus{}int}\\PY{p}{(}\\PY{n}{array}\\PY{p}{,}\\PY{n}{size}\\PY{p}{)}\\PY{p}{;}\n",
       "\\PY{+w}{\t}\\PY{k}{return}\\PY{+w}{ }\\PY{n}{array}\\PY{p}{;}\n",
       "\\PY{p}{\\PYZcb{}}\n",
       "\\end{Verbatim}\n"
      ],
      "text/plain": [
       "// microbench.cpp:145-149 (5 lines)\n",
       "extern \"C\" uint64_t *__attribute__ ((optimize(0))) everything(uint64_t * array, unsigned long int size) {\n",
       "\tmatrix_column_major(array, size);\n",
       "\tbaseline_int(array,size);\n",
       "\treturn array;\n",
       "}"
      ]
     },
     "metadata": {},
     "output_type": "display_data"
    }
   ],
   "source": [
    "render_code(\"microbench.cpp\", show=\"everything\")"
   ]
  },
  {
   "cell_type": "code",
   "execution_count": 31,
   "metadata": {
    "editable": false
   },
   "outputs": [
    {
     "name": "stdout",
     "output_type": "stream",
     "text": [
      "make: 'microbench.exe' is up to date.\n",
      "srun -N1 -p cs203 ./microbench.exe -o everything.csv --size 8388608 -r 25  -M  3200 -f  matrix_column_major baseline_int everything \n",
      "Execution complete\n"
     ]
    }
   ],
   "source": [
    "!make microbench.exe\n",
    "!cs203  job run   './microbench.exe -o everything.csv --size 8388608 -r 25  -M  3200 -f  matrix_column_major baseline_int everything '"
   ]
  },
  {
   "cell_type": "code",
   "execution_count": 32,
   "metadata": {
    "cs203.is_response": true,
    "deletable": false,
    "editable": false
   },
   "outputs": [
    {
     "data": {
      "text/html": [
       "<div>\n",
       "<style scoped>\n",
       "    .dataframe tbody tr th:only-of-type {\n",
       "        vertical-align: middle;\n",
       "    }\n",
       "\n",
       "    .dataframe tbody tr th {\n",
       "        vertical-align: top;\n",
       "    }\n",
       "\n",
       "    .dataframe thead th {\n",
       "        text-align: right;\n",
       "    }\n",
       "</style>\n",
       "<table border=\"1\" class=\"dataframe\">\n",
       "  <thead>\n",
       "    <tr style=\"text-align: right;\">\n",
       "      <th></th>\n",
       "      <th>IC</th>\n",
       "      <th>CPI</th>\n",
       "      <th>CT</th>\n",
       "      <th>ET</th>\n",
       "    </tr>\n",
       "    <tr>\n",
       "      <th>function</th>\n",
       "      <th></th>\n",
       "      <th></th>\n",
       "      <th></th>\n",
       "      <th></th>\n",
       "    </tr>\n",
       "  </thead>\n",
       "  <tbody>\n",
       "    <tr>\n",
       "      <th>baseline_int</th>\n",
       "      <td>1.049155e+08</td>\n",
       "      <td>0.805877</td>\n",
       "      <td>0.260399</td>\n",
       "      <td>0.022016</td>\n",
       "    </tr>\n",
       "    <tr>\n",
       "      <th>everything</th>\n",
       "      <td>1.154345e+08</td>\n",
       "      <td>1.200581</td>\n",
       "      <td>0.259020</td>\n",
       "      <td>0.035897</td>\n",
       "    </tr>\n",
       "    <tr>\n",
       "      <th>matrix_column_major</th>\n",
       "      <td>1.053494e+07</td>\n",
       "      <td>5.159621</td>\n",
       "      <td>0.268381</td>\n",
       "      <td>0.014591</td>\n",
       "    </tr>\n",
       "  </tbody>\n",
       "</table>\n",
       "</div>"
      ],
      "text/plain": [
       "                               IC       CPI        CT        ET\n",
       "function                                                       \n",
       "baseline_int         1.049155e+08  0.805877  0.260399  0.022016\n",
       "everything           1.154345e+08  1.200581  0.259020  0.035897\n",
       "matrix_column_major  1.053494e+07  5.159621  0.268381  0.014591"
      ]
     },
     "execution_count": 32,
     "metadata": {},
     "output_type": "execute_result"
    }
   ],
   "source": [
    "\n",
    "render_csv(\"everything.csv\", columns=[\"IC\", \"CPI\", \"CT\", \"ET\"], average_by=\"function\")"
   ]
  },
  {
   "cell_type": "markdown",
   "metadata": {
    "editable": false
   },
   "source": [
    "Imagine that you are a manager and your team is tasked with the improving the performance of `everything()`.  Members of your team propose two different approaches:\n",
    "\n",
    "1.  Option 1: Replacing `baseline_int()` with `baseline_int_O4()`\n",
    "2.  Option 2: Replacing `matrix_column_major()` with `matrix_row_major()`.\n",
    "\n",
    "To answer the question below you'll need to look at some csv files you created above.  For convenience, you can display them here, like so:"
   ]
  },
  {
   "cell_type": "code",
   "execution_count": 33,
   "metadata": {
    "cs203.is_response": true,
    "deletable": false,
    "editable": false
   },
   "outputs": [
    {
     "data": {
      "text/html": [
       "<div>\n",
       "<style scoped>\n",
       "    .dataframe tbody tr th:only-of-type {\n",
       "        vertical-align: middle;\n",
       "    }\n",
       "\n",
       "    .dataframe tbody tr th {\n",
       "        vertical-align: top;\n",
       "    }\n",
       "\n",
       "    .dataframe thead th {\n",
       "        text-align: right;\n",
       "    }\n",
       "</style>\n",
       "<table border=\"1\" class=\"dataframe\">\n",
       "  <thead>\n",
       "    <tr style=\"text-align: right;\">\n",
       "      <th></th>\n",
       "      <th>ET</th>\n",
       "      <th>IC</th>\n",
       "      <th>CPI</th>\n",
       "      <th>MHz</th>\n",
       "      <th>CT</th>\n",
       "    </tr>\n",
       "    <tr>\n",
       "      <th>function</th>\n",
       "      <th></th>\n",
       "      <th></th>\n",
       "      <th></th>\n",
       "      <th></th>\n",
       "      <th></th>\n",
       "    </tr>\n",
       "  </thead>\n",
       "  <tbody>\n",
       "    <tr>\n",
       "      <th>matrix_column_major</th>\n",
       "      <td>0.098070</td>\n",
       "      <td>84100772.60</td>\n",
       "      <td>4.564159</td>\n",
       "      <td>3914.584567</td>\n",
       "      <td>0.255500</td>\n",
       "    </tr>\n",
       "    <tr>\n",
       "      <th>matrix_row_major</th>\n",
       "      <td>0.008831</td>\n",
       "      <td>67204040.48</td>\n",
       "      <td>0.509476</td>\n",
       "      <td>3877.092798</td>\n",
       "      <td>0.257967</td>\n",
       "    </tr>\n",
       "  </tbody>\n",
       "</table>\n",
       "</div>"
      ],
      "text/plain": [
       "                           ET           IC       CPI          MHz        CT\n",
       "function                                                                   \n",
       "matrix_column_major  0.098070  84100772.60  4.564159  3914.584567  0.255500\n",
       "matrix_row_major     0.008831  67204040.48  0.509476  3877.092798  0.257967"
      ]
     },
     "metadata": {},
     "output_type": "display_data"
    },
    {
     "data": {
      "text/html": [
       "<div>\n",
       "<style scoped>\n",
       "    .dataframe tbody tr th:only-of-type {\n",
       "        vertical-align: middle;\n",
       "    }\n",
       "\n",
       "    .dataframe tbody tr th {\n",
       "        vertical-align: top;\n",
       "    }\n",
       "\n",
       "    .dataframe thead th {\n",
       "        text-align: right;\n",
       "    }\n",
       "</style>\n",
       "<table border=\"1\" class=\"dataframe\">\n",
       "  <thead>\n",
       "    <tr style=\"text-align: right;\">\n",
       "      <th></th>\n",
       "      <th>ET</th>\n",
       "      <th>IC</th>\n",
       "      <th>CPI</th>\n",
       "      <th>MHz</th>\n",
       "      <th>CT</th>\n",
       "    </tr>\n",
       "    <tr>\n",
       "      <th>function</th>\n",
       "      <th></th>\n",
       "      <th></th>\n",
       "      <th></th>\n",
       "      <th></th>\n",
       "      <th></th>\n",
       "    </tr>\n",
       "  </thead>\n",
       "  <tbody>\n",
       "    <tr>\n",
       "      <th>baseline_int</th>\n",
       "      <td>0.023321</td>\n",
       "      <td>1.049193e+08</td>\n",
       "      <td>0.841300</td>\n",
       "      <td>3811.040592</td>\n",
       "      <td>0.264171</td>\n",
       "    </tr>\n",
       "    <tr>\n",
       "      <th>baseline_int_O4</th>\n",
       "      <td>0.019131</td>\n",
       "      <td>3.675898e+07</td>\n",
       "      <td>2.007581</td>\n",
       "      <td>3857.753948</td>\n",
       "      <td>0.259244</td>\n",
       "    </tr>\n",
       "  </tbody>\n",
       "</table>\n",
       "</div>"
      ],
      "text/plain": [
       "                       ET            IC       CPI          MHz        CT\n",
       "function                                                                \n",
       "baseline_int     0.023321  1.049193e+08  0.841300  3811.040592  0.264171\n",
       "baseline_int_O4  0.019131  3.675898e+07  2.007581  3857.753948  0.259244"
      ]
     },
     "metadata": {},
     "output_type": "display_data"
    }
   ],
   "source": [
    "\n",
    "display(render_csv(\"matrix.csv\", columns=columns, average_by=\"function\"))\n",
    "display(render_csv(\"opt.csv\", columns=columns, average_by=\"function\"))"
   ]
  },
  {
   "cell_type": "markdown",
   "metadata": {
    "cs203.is_response": true,
    "cs203.points": 1,
    "cs203.question_type": "completeness",
    "deletable": false,
    "editable": true
   },
   "source": [
    "<div class=\"alert alert-block alert-success\"><div class=\"question completeness\">\n",
    "\n",
    "### Question 14 (Completeness)\n",
    "\n",
    " <div class=\"alert alert-block alert-success\">   \n",
    "Based on the data you've collected, calculate the two speedups below and then decide which of the two options will give the best overall speedup for `everything()` (Show your work).\n",
    "    \n",
    "</div>\n",
    "    \n",
    "<div class=\"answer\">\n",
    "\n",
    "**Speedup of `baseline_int_O4()` vs `baseline_int()`:**\n",
    "\n",
    "**Speedup of `matrix_row_major()` vs `matrix_column_major()`:**\n",
    "    \n",
    "**Which of the two options will give the best speedup?**\n",
    "\n",
    "\n",
    "    \n",
    "</div>\n",
    "</div>\n",
    "</div>"
   ]
  },
  {
   "cell_type": "markdown",
   "metadata": {
    "cs203.is_response": true,
    "cs203.points": 4,
    "cs203.question_type": "correctness",
    "deletable": false,
    "editable": true
   },
   "source": [
    "<div class=\"alert alert-block alert-success\"><div class=\"question correctness points-4\">\n",
    "\n",
    "### Question 15 (Correctness)\n",
    "\n",
    "<div class=\"alert alert-block alert-success\">\n",
    "Based on the data you collected earlier in this assignment for the performance of `baseline_int()`, `baseline_int_O4()`, `matrix_column_major()`, and `matrix_row_major()`, use Amdahl's law to predict the speedup of each approach.  (Show your work, including the values of `x` and `S` and how you computed them.)\n",
    "\n",
    "</div>\n",
    "\n",
    "<div class=\"answer\">\n",
    "    \n",
    "**Option 1 (Replacing `baseline_int()` with `baseline_int_O4()`) Speedup:**\n",
    "\n",
    "x = \n",
    "    \n",
    "S = (Hint: you computed this in the previous question) \n",
    "\n",
    "S_tot = \n",
    "\n",
    "\n",
    "\n",
    "\n",
    "    \n",
    "**Option 2 (Replacing `matrix_column_major()` with `matrix_row_major()`) Speedup:**\n",
    "\n",
    "x = \n",
    "    \n",
    "S = (Hint: you computed this in the previous question)\n",
    "\n",
    "S_tot = \n",
    "\n",
    "\n",
    "\n",
    "\n",
    "\n",
    "\n",
    "</div>\n",
    "</div>\n",
    "</div>"
   ]
  },
  {
   "cell_type": "markdown",
   "metadata": {
    "editable": false
   },
   "source": [
    "`microbench.cpp` has implementaitons of both options:"
   ]
  },
  {
   "cell_type": "code",
   "execution_count": 34,
   "metadata": {
    "editable": false,
    "init_cell": true
   },
   "outputs": [
    {
     "data": {
      "text/html": [
       "<style>pre { line-height: 125%; }\n",
       "td.linenos .normal { color: inherit; background-color: transparent; padding-left: 5px; padding-right: 5px; }\n",
       "span.linenos { color: inherit; background-color: transparent; padding-left: 5px; padding-right: 5px; }\n",
       "td.linenos .special { color: #000000; background-color: #ffffc0; padding-left: 5px; padding-right: 5px; }\n",
       "span.linenos.special { color: #000000; background-color: #ffffc0; padding-left: 5px; padding-right: 5px; }\n",
       ".output_html .hll { background-color: #ffffcc }\n",
       ".output_html { background: #f8f8f8; }\n",
       ".output_html .c { color: #3D7B7B; font-style: italic } /* Comment */\n",
       ".output_html .err { border: 1px solid #FF0000 } /* Error */\n",
       ".output_html .k { color: #008000; font-weight: bold } /* Keyword */\n",
       ".output_html .o { color: #666666 } /* Operator */\n",
       ".output_html .ch { color: #3D7B7B; font-style: italic } /* Comment.Hashbang */\n",
       ".output_html .cm { color: #3D7B7B; font-style: italic } /* Comment.Multiline */\n",
       ".output_html .cp { color: #9C6500 } /* Comment.Preproc */\n",
       ".output_html .cpf { color: #3D7B7B; font-style: italic } /* Comment.PreprocFile */\n",
       ".output_html .c1 { color: #3D7B7B; font-style: italic } /* Comment.Single */\n",
       ".output_html .cs { color: #3D7B7B; font-style: italic } /* Comment.Special */\n",
       ".output_html .gd { color: #A00000 } /* Generic.Deleted */\n",
       ".output_html .ge { font-style: italic } /* Generic.Emph */\n",
       ".output_html .gr { color: #E40000 } /* Generic.Error */\n",
       ".output_html .gh { color: #000080; font-weight: bold } /* Generic.Heading */\n",
       ".output_html .gi { color: #008400 } /* Generic.Inserted */\n",
       ".output_html .go { color: #717171 } /* Generic.Output */\n",
       ".output_html .gp { color: #000080; font-weight: bold } /* Generic.Prompt */\n",
       ".output_html .gs { font-weight: bold } /* Generic.Strong */\n",
       ".output_html .gu { color: #800080; font-weight: bold } /* Generic.Subheading */\n",
       ".output_html .gt { color: #0044DD } /* Generic.Traceback */\n",
       ".output_html .kc { color: #008000; font-weight: bold } /* Keyword.Constant */\n",
       ".output_html .kd { color: #008000; font-weight: bold } /* Keyword.Declaration */\n",
       ".output_html .kn { color: #008000; font-weight: bold } /* Keyword.Namespace */\n",
       ".output_html .kp { color: #008000 } /* Keyword.Pseudo */\n",
       ".output_html .kr { color: #008000; font-weight: bold } /* Keyword.Reserved */\n",
       ".output_html .kt { color: #B00040 } /* Keyword.Type */\n",
       ".output_html .m { color: #666666 } /* Literal.Number */\n",
       ".output_html .s { color: #BA2121 } /* Literal.String */\n",
       ".output_html .na { color: #687822 } /* Name.Attribute */\n",
       ".output_html .nb { color: #008000 } /* Name.Builtin */\n",
       ".output_html .nc { color: #0000FF; font-weight: bold } /* Name.Class */\n",
       ".output_html .no { color: #880000 } /* Name.Constant */\n",
       ".output_html .nd { color: #AA22FF } /* Name.Decorator */\n",
       ".output_html .ni { color: #717171; font-weight: bold } /* Name.Entity */\n",
       ".output_html .ne { color: #CB3F38; font-weight: bold } /* Name.Exception */\n",
       ".output_html .nf { color: #0000FF } /* Name.Function */\n",
       ".output_html .nl { color: #767600 } /* Name.Label */\n",
       ".output_html .nn { color: #0000FF; font-weight: bold } /* Name.Namespace */\n",
       ".output_html .nt { color: #008000; font-weight: bold } /* Name.Tag */\n",
       ".output_html .nv { color: #19177C } /* Name.Variable */\n",
       ".output_html .ow { color: #AA22FF; font-weight: bold } /* Operator.Word */\n",
       ".output_html .w { color: #bbbbbb } /* Text.Whitespace */\n",
       ".output_html .mb { color: #666666 } /* Literal.Number.Bin */\n",
       ".output_html .mf { color: #666666 } /* Literal.Number.Float */\n",
       ".output_html .mh { color: #666666 } /* Literal.Number.Hex */\n",
       ".output_html .mi { color: #666666 } /* Literal.Number.Integer */\n",
       ".output_html .mo { color: #666666 } /* Literal.Number.Oct */\n",
       ".output_html .sa { color: #BA2121 } /* Literal.String.Affix */\n",
       ".output_html .sb { color: #BA2121 } /* Literal.String.Backtick */\n",
       ".output_html .sc { color: #BA2121 } /* Literal.String.Char */\n",
       ".output_html .dl { color: #BA2121 } /* Literal.String.Delimiter */\n",
       ".output_html .sd { color: #BA2121; font-style: italic } /* Literal.String.Doc */\n",
       ".output_html .s2 { color: #BA2121 } /* Literal.String.Double */\n",
       ".output_html .se { color: #AA5D1F; font-weight: bold } /* Literal.String.Escape */\n",
       ".output_html .sh { color: #BA2121 } /* Literal.String.Heredoc */\n",
       ".output_html .si { color: #A45A77; font-weight: bold } /* Literal.String.Interpol */\n",
       ".output_html .sx { color: #008000 } /* Literal.String.Other */\n",
       ".output_html .sr { color: #A45A77 } /* Literal.String.Regex */\n",
       ".output_html .s1 { color: #BA2121 } /* Literal.String.Single */\n",
       ".output_html .ss { color: #19177C } /* Literal.String.Symbol */\n",
       ".output_html .bp { color: #008000 } /* Name.Builtin.Pseudo */\n",
       ".output_html .fm { color: #0000FF } /* Name.Function.Magic */\n",
       ".output_html .vc { color: #19177C } /* Name.Variable.Class */\n",
       ".output_html .vg { color: #19177C } /* Name.Variable.Global */\n",
       ".output_html .vi { color: #19177C } /* Name.Variable.Instance */\n",
       ".output_html .vm { color: #19177C } /* Name.Variable.Magic */\n",
       ".output_html .il { color: #666666 } /* Literal.Number.Integer.Long */</style><div class=\"highlight\"><pre><span></span><span class=\"c1\">// microbench.cpp:157-161 (5 lines)</span>\n",
       "<span class=\"k\">extern</span><span class=\"w\"> </span><span class=\"s\">&quot;C&quot;</span><span class=\"w\"> </span><span class=\"kt\">uint64_t</span><span class=\"w\"> </span><span class=\"o\">*</span><span class=\"n\">__attribute__</span><span class=\"w\"> </span><span class=\"p\">((</span><span class=\"n\">optimize</span><span class=\"p\">(</span><span class=\"mi\">0</span><span class=\"p\">)))</span><span class=\"w\"> </span><span class=\"n\">option_1</span><span class=\"p\">(</span><span class=\"kt\">uint64_t</span><span class=\"w\"> </span><span class=\"o\">*</span><span class=\"w\"> </span><span class=\"n\">array</span><span class=\"p\">,</span><span class=\"w\"> </span><span class=\"kt\">unsigned</span><span class=\"w\"> </span><span class=\"kt\">long</span><span class=\"w\"> </span><span class=\"kt\">int</span><span class=\"w\"> </span><span class=\"n\">size</span><span class=\"p\">)</span><span class=\"w\"> </span><span class=\"p\">{</span><span class=\"w\"></span>\n",
       "<span class=\"w\">\t</span><span class=\"n\">matrix_column_major</span><span class=\"p\">(</span><span class=\"n\">array</span><span class=\"p\">,</span><span class=\"w\"> </span><span class=\"n\">size</span><span class=\"p\">);</span><span class=\"w\"></span>\n",
       "<span class=\"w\">\t</span><span class=\"n\">baseline_int_O4</span><span class=\"p\">(</span><span class=\"n\">array</span><span class=\"p\">,</span><span class=\"n\">size</span><span class=\"p\">);</span><span class=\"w\"></span>\n",
       "<span class=\"w\">\t</span><span class=\"k\">return</span><span class=\"w\"> </span><span class=\"n\">array</span><span class=\"p\">;</span><span class=\"w\"></span>\n",
       "<span class=\"p\">}</span><span class=\"w\"></span>\n",
       "</pre></div>\n"
      ],
      "text/latex": [
       "\\begin{Verbatim}[commandchars=\\\\\\{\\}]\n",
       "\\PY{c+c1}{// microbench.cpp:157\\PYZhy{}161 (5 lines)}\n",
       "\\PY{k}{extern}\\PY{+w}{ }\\PY{l+s}{\\PYZdq{}}\\PY{l+s}{C}\\PY{l+s}{\\PYZdq{}}\\PY{+w}{ }\\PY{k+kt}{uint64\\PYZus{}t}\\PY{+w}{ }\\PY{o}{*}\\PY{n}{\\PYZus{}\\PYZus{}attribute\\PYZus{}\\PYZus{}}\\PY{+w}{ }\\PY{p}{(}\\PY{p}{(}\\PY{n}{optimize}\\PY{p}{(}\\PY{l+m+mi}{0}\\PY{p}{)}\\PY{p}{)}\\PY{p}{)}\\PY{+w}{ }\\PY{n}{option\\PYZus{}1}\\PY{p}{(}\\PY{k+kt}{uint64\\PYZus{}t}\\PY{+w}{ }\\PY{o}{*}\\PY{+w}{ }\\PY{n}{array}\\PY{p}{,}\\PY{+w}{ }\\PY{k+kt}{unsigned}\\PY{+w}{ }\\PY{k+kt}{long}\\PY{+w}{ }\\PY{k+kt}{int}\\PY{+w}{ }\\PY{n}{size}\\PY{p}{)}\\PY{+w}{ }\\PY{p}{\\PYZob{}}\n",
       "\\PY{+w}{\t}\\PY{n}{matrix\\PYZus{}column\\PYZus{}major}\\PY{p}{(}\\PY{n}{array}\\PY{p}{,}\\PY{+w}{ }\\PY{n}{size}\\PY{p}{)}\\PY{p}{;}\n",
       "\\PY{+w}{\t}\\PY{n}{baseline\\PYZus{}int\\PYZus{}O4}\\PY{p}{(}\\PY{n}{array}\\PY{p}{,}\\PY{n}{size}\\PY{p}{)}\\PY{p}{;}\n",
       "\\PY{+w}{\t}\\PY{k}{return}\\PY{+w}{ }\\PY{n}{array}\\PY{p}{;}\n",
       "\\PY{p}{\\PYZcb{}}\n",
       "\\end{Verbatim}\n"
      ],
      "text/plain": [
       "// microbench.cpp:157-161 (5 lines)\n",
       "extern \"C\" uint64_t *__attribute__ ((optimize(0))) option_1(uint64_t * array, unsigned long int size) {\n",
       "\tmatrix_column_major(array, size);\n",
       "\tbaseline_int_O4(array,size);\n",
       "\treturn array;\n",
       "}"
      ]
     },
     "metadata": {},
     "output_type": "display_data"
    },
    {
     "data": {
      "text/html": [
       "<style>pre { line-height: 125%; }\n",
       "td.linenos .normal { color: inherit; background-color: transparent; padding-left: 5px; padding-right: 5px; }\n",
       "span.linenos { color: inherit; background-color: transparent; padding-left: 5px; padding-right: 5px; }\n",
       "td.linenos .special { color: #000000; background-color: #ffffc0; padding-left: 5px; padding-right: 5px; }\n",
       "span.linenos.special { color: #000000; background-color: #ffffc0; padding-left: 5px; padding-right: 5px; }\n",
       ".output_html .hll { background-color: #ffffcc }\n",
       ".output_html { background: #f8f8f8; }\n",
       ".output_html .c { color: #3D7B7B; font-style: italic } /* Comment */\n",
       ".output_html .err { border: 1px solid #FF0000 } /* Error */\n",
       ".output_html .k { color: #008000; font-weight: bold } /* Keyword */\n",
       ".output_html .o { color: #666666 } /* Operator */\n",
       ".output_html .ch { color: #3D7B7B; font-style: italic } /* Comment.Hashbang */\n",
       ".output_html .cm { color: #3D7B7B; font-style: italic } /* Comment.Multiline */\n",
       ".output_html .cp { color: #9C6500 } /* Comment.Preproc */\n",
       ".output_html .cpf { color: #3D7B7B; font-style: italic } /* Comment.PreprocFile */\n",
       ".output_html .c1 { color: #3D7B7B; font-style: italic } /* Comment.Single */\n",
       ".output_html .cs { color: #3D7B7B; font-style: italic } /* Comment.Special */\n",
       ".output_html .gd { color: #A00000 } /* Generic.Deleted */\n",
       ".output_html .ge { font-style: italic } /* Generic.Emph */\n",
       ".output_html .gr { color: #E40000 } /* Generic.Error */\n",
       ".output_html .gh { color: #000080; font-weight: bold } /* Generic.Heading */\n",
       ".output_html .gi { color: #008400 } /* Generic.Inserted */\n",
       ".output_html .go { color: #717171 } /* Generic.Output */\n",
       ".output_html .gp { color: #000080; font-weight: bold } /* Generic.Prompt */\n",
       ".output_html .gs { font-weight: bold } /* Generic.Strong */\n",
       ".output_html .gu { color: #800080; font-weight: bold } /* Generic.Subheading */\n",
       ".output_html .gt { color: #0044DD } /* Generic.Traceback */\n",
       ".output_html .kc { color: #008000; font-weight: bold } /* Keyword.Constant */\n",
       ".output_html .kd { color: #008000; font-weight: bold } /* Keyword.Declaration */\n",
       ".output_html .kn { color: #008000; font-weight: bold } /* Keyword.Namespace */\n",
       ".output_html .kp { color: #008000 } /* Keyword.Pseudo */\n",
       ".output_html .kr { color: #008000; font-weight: bold } /* Keyword.Reserved */\n",
       ".output_html .kt { color: #B00040 } /* Keyword.Type */\n",
       ".output_html .m { color: #666666 } /* Literal.Number */\n",
       ".output_html .s { color: #BA2121 } /* Literal.String */\n",
       ".output_html .na { color: #687822 } /* Name.Attribute */\n",
       ".output_html .nb { color: #008000 } /* Name.Builtin */\n",
       ".output_html .nc { color: #0000FF; font-weight: bold } /* Name.Class */\n",
       ".output_html .no { color: #880000 } /* Name.Constant */\n",
       ".output_html .nd { color: #AA22FF } /* Name.Decorator */\n",
       ".output_html .ni { color: #717171; font-weight: bold } /* Name.Entity */\n",
       ".output_html .ne { color: #CB3F38; font-weight: bold } /* Name.Exception */\n",
       ".output_html .nf { color: #0000FF } /* Name.Function */\n",
       ".output_html .nl { color: #767600 } /* Name.Label */\n",
       ".output_html .nn { color: #0000FF; font-weight: bold } /* Name.Namespace */\n",
       ".output_html .nt { color: #008000; font-weight: bold } /* Name.Tag */\n",
       ".output_html .nv { color: #19177C } /* Name.Variable */\n",
       ".output_html .ow { color: #AA22FF; font-weight: bold } /* Operator.Word */\n",
       ".output_html .w { color: #bbbbbb } /* Text.Whitespace */\n",
       ".output_html .mb { color: #666666 } /* Literal.Number.Bin */\n",
       ".output_html .mf { color: #666666 } /* Literal.Number.Float */\n",
       ".output_html .mh { color: #666666 } /* Literal.Number.Hex */\n",
       ".output_html .mi { color: #666666 } /* Literal.Number.Integer */\n",
       ".output_html .mo { color: #666666 } /* Literal.Number.Oct */\n",
       ".output_html .sa { color: #BA2121 } /* Literal.String.Affix */\n",
       ".output_html .sb { color: #BA2121 } /* Literal.String.Backtick */\n",
       ".output_html .sc { color: #BA2121 } /* Literal.String.Char */\n",
       ".output_html .dl { color: #BA2121 } /* Literal.String.Delimiter */\n",
       ".output_html .sd { color: #BA2121; font-style: italic } /* Literal.String.Doc */\n",
       ".output_html .s2 { color: #BA2121 } /* Literal.String.Double */\n",
       ".output_html .se { color: #AA5D1F; font-weight: bold } /* Literal.String.Escape */\n",
       ".output_html .sh { color: #BA2121 } /* Literal.String.Heredoc */\n",
       ".output_html .si { color: #A45A77; font-weight: bold } /* Literal.String.Interpol */\n",
       ".output_html .sx { color: #008000 } /* Literal.String.Other */\n",
       ".output_html .sr { color: #A45A77 } /* Literal.String.Regex */\n",
       ".output_html .s1 { color: #BA2121 } /* Literal.String.Single */\n",
       ".output_html .ss { color: #19177C } /* Literal.String.Symbol */\n",
       ".output_html .bp { color: #008000 } /* Name.Builtin.Pseudo */\n",
       ".output_html .fm { color: #0000FF } /* Name.Function.Magic */\n",
       ".output_html .vc { color: #19177C } /* Name.Variable.Class */\n",
       ".output_html .vg { color: #19177C } /* Name.Variable.Global */\n",
       ".output_html .vi { color: #19177C } /* Name.Variable.Instance */\n",
       ".output_html .vm { color: #19177C } /* Name.Variable.Magic */\n",
       ".output_html .il { color: #666666 } /* Literal.Number.Integer.Long */</style><div class=\"highlight\"><pre><span></span><span class=\"c1\">// microbench.cpp:163-168 (6 lines)</span>\n",
       "<span class=\"k\">extern</span><span class=\"w\"> </span><span class=\"s\">&quot;C&quot;</span><span class=\"w\"> </span><span class=\"kt\">uint64_t</span><span class=\"w\"> </span><span class=\"o\">*</span><span class=\"n\">__attribute__</span><span class=\"w\"> </span><span class=\"p\">((</span><span class=\"n\">optimize</span><span class=\"p\">(</span><span class=\"mi\">0</span><span class=\"p\">)))</span><span class=\"w\"> </span><span class=\"n\">option_2</span><span class=\"p\">(</span><span class=\"kt\">uint64_t</span><span class=\"w\"> </span><span class=\"o\">*</span><span class=\"w\"> </span><span class=\"n\">array</span><span class=\"p\">,</span><span class=\"w\"> </span><span class=\"kt\">unsigned</span><span class=\"w\"> </span><span class=\"kt\">long</span><span class=\"w\"> </span><span class=\"kt\">int</span><span class=\"w\"> </span><span class=\"n\">size</span><span class=\"p\">)</span><span class=\"w\"> </span><span class=\"p\">{</span><span class=\"w\"></span>\n",
       "\n",
       "<span class=\"w\">\t</span><span class=\"n\">matrix_row_major</span><span class=\"p\">(</span><span class=\"n\">array</span><span class=\"p\">,</span><span class=\"w\"> </span><span class=\"n\">size</span><span class=\"p\">);</span><span class=\"w\"></span>\n",
       "<span class=\"w\">\t</span><span class=\"n\">baseline_int</span><span class=\"p\">(</span><span class=\"n\">array</span><span class=\"p\">,</span><span class=\"n\">size</span><span class=\"p\">);</span><span class=\"w\"></span>\n",
       "<span class=\"w\">\t</span><span class=\"k\">return</span><span class=\"w\"> </span><span class=\"n\">array</span><span class=\"p\">;</span><span class=\"w\"></span>\n",
       "<span class=\"p\">}</span><span class=\"w\"></span>\n",
       "</pre></div>\n"
      ],
      "text/latex": [
       "\\begin{Verbatim}[commandchars=\\\\\\{\\}]\n",
       "\\PY{c+c1}{// microbench.cpp:163\\PYZhy{}168 (6 lines)}\n",
       "\\PY{k}{extern}\\PY{+w}{ }\\PY{l+s}{\\PYZdq{}}\\PY{l+s}{C}\\PY{l+s}{\\PYZdq{}}\\PY{+w}{ }\\PY{k+kt}{uint64\\PYZus{}t}\\PY{+w}{ }\\PY{o}{*}\\PY{n}{\\PYZus{}\\PYZus{}attribute\\PYZus{}\\PYZus{}}\\PY{+w}{ }\\PY{p}{(}\\PY{p}{(}\\PY{n}{optimize}\\PY{p}{(}\\PY{l+m+mi}{0}\\PY{p}{)}\\PY{p}{)}\\PY{p}{)}\\PY{+w}{ }\\PY{n}{option\\PYZus{}2}\\PY{p}{(}\\PY{k+kt}{uint64\\PYZus{}t}\\PY{+w}{ }\\PY{o}{*}\\PY{+w}{ }\\PY{n}{array}\\PY{p}{,}\\PY{+w}{ }\\PY{k+kt}{unsigned}\\PY{+w}{ }\\PY{k+kt}{long}\\PY{+w}{ }\\PY{k+kt}{int}\\PY{+w}{ }\\PY{n}{size}\\PY{p}{)}\\PY{+w}{ }\\PY{p}{\\PYZob{}}\n",
       "\n",
       "\\PY{+w}{\t}\\PY{n}{matrix\\PYZus{}row\\PYZus{}major}\\PY{p}{(}\\PY{n}{array}\\PY{p}{,}\\PY{+w}{ }\\PY{n}{size}\\PY{p}{)}\\PY{p}{;}\n",
       "\\PY{+w}{\t}\\PY{n}{baseline\\PYZus{}int}\\PY{p}{(}\\PY{n}{array}\\PY{p}{,}\\PY{n}{size}\\PY{p}{)}\\PY{p}{;}\n",
       "\\PY{+w}{\t}\\PY{k}{return}\\PY{+w}{ }\\PY{n}{array}\\PY{p}{;}\n",
       "\\PY{p}{\\PYZcb{}}\n",
       "\\end{Verbatim}\n"
      ],
      "text/plain": [
       "// microbench.cpp:163-168 (6 lines)\n",
       "extern \"C\" uint64_t *__attribute__ ((optimize(0))) option_2(uint64_t * array, unsigned long int size) {\n",
       "\n",
       "\tmatrix_row_major(array, size);\n",
       "\tbaseline_int(array,size);\n",
       "\treturn array;\n",
       "}"
      ]
     },
     "metadata": {},
     "output_type": "display_data"
    }
   ],
   "source": [
    "render_code(\"microbench.cpp\", show=\"option_1\")\n",
    "render_code(\"microbench.cpp\", show=\"option_2\")"
   ]
  },
  {
   "cell_type": "markdown",
   "metadata": {
    "editable": false
   },
   "source": [
    "Let's see how they perform:"
   ]
  },
  {
   "cell_type": "code",
   "execution_count": 35,
   "metadata": {
    "editable": false
   },
   "outputs": [
    {
     "name": "stdout",
     "output_type": "stream",
     "text": [
      "srun -N1 -p cs203 ./microbench.exe -o options.csv --size 8388608 -r 25  -M  3200 -f  option_1 option_2 \n",
      "Execution complete\n"
     ]
    }
   ],
   "source": [
    "!cs203 job run   './microbench.exe -o options.csv --size 8388608 -r 25  -M  3200 -f  option_1 option_2 '"
   ]
  },
  {
   "cell_type": "code",
   "execution_count": 36,
   "metadata": {
    "cs203.is_response": true,
    "deletable": false,
    "editable": false
   },
   "outputs": [
    {
     "data": {
      "text/html": [
       "<div>\n",
       "<style scoped>\n",
       "    .dataframe tbody tr th:only-of-type {\n",
       "        vertical-align: middle;\n",
       "    }\n",
       "\n",
       "    .dataframe tbody tr th {\n",
       "        vertical-align: top;\n",
       "    }\n",
       "\n",
       "    .dataframe thead th {\n",
       "        text-align: right;\n",
       "    }\n",
       "</style>\n",
       "<table border=\"1\" class=\"dataframe\">\n",
       "  <thead>\n",
       "    <tr style=\"text-align: right;\">\n",
       "      <th></th>\n",
       "      <th>IC</th>\n",
       "      <th>CPI</th>\n",
       "      <th>CT</th>\n",
       "      <th>ET</th>\n",
       "    </tr>\n",
       "    <tr>\n",
       "      <th>function</th>\n",
       "      <th></th>\n",
       "      <th></th>\n",
       "      <th></th>\n",
       "      <th></th>\n",
       "    </tr>\n",
       "  </thead>\n",
       "  <tbody>\n",
       "    <tr>\n",
       "      <th>option_1</th>\n",
       "      <td>4.729473e+07</td>\n",
       "      <td>2.68844</td>\n",
       "      <td>0.262181</td>\n",
       "      <td>0.033338</td>\n",
       "    </tr>\n",
       "    <tr>\n",
       "      <th>option_2</th>\n",
       "      <td>1.133210e+08</td>\n",
       "      <td>0.74534</td>\n",
       "      <td>0.261664</td>\n",
       "      <td>0.022101</td>\n",
       "    </tr>\n",
       "  </tbody>\n",
       "</table>\n",
       "</div>"
      ],
      "text/plain": [
       "                    IC      CPI        CT        ET\n",
       "function                                           \n",
       "option_1  4.729473e+07  2.68844  0.262181  0.033338\n",
       "option_2  1.133210e+08  0.74534  0.261664  0.022101"
      ]
     },
     "execution_count": 36,
     "metadata": {},
     "output_type": "execute_result"
    }
   ],
   "source": [
    "\n",
    "render_csv(\"options.csv\", columns=[\"IC\", \"CPI\", \"CT\", \"ET\"], average_by=\"function\")"
   ]
  },
  {
   "cell_type": "markdown",
   "metadata": {
    "cs203.is_response": true,
    "cs203.points": 2,
    "cs203.question_type": "correctness",
    "deletable": false,
    "editable": true
   },
   "source": [
    "<div class=\"alert alert-block alert-success\"><div class=\"question correctness points-2\">\n",
    " \n",
    "    \n",
    "### Question 16 (Correctness)\n",
    "\n",
    "<div class=\"alert alert-block alert-success\">\n",
    "What was the actual speedup for each option?  Did Amdahl's law get it right? \n",
    "    \n",
    "</div>\n",
    "    \n",
    "<div class=\"answer\">\n",
    "    \n",
    "**Option 1 speedup:**\n",
    "\n",
    "\n",
    "    \n",
    "**Option 2 speedup:**\n",
    "\n",
    "\n",
    "\n",
    "**Did Amdahl's Law get it right?:** \n",
    "\n",
    "\n",
    "    \n",
    "</div>\n",
    "</div>\n",
    "</div>\n",
    "    "
   ]
  },
  {
   "cell_type": "markdown",
   "metadata": {
    "deletable": false,
    "editable": false
   },
   "source": [
    "# Throughput and Latency"
   ]
  },
  {
   "cell_type": "markdown",
   "metadata": {
    "deletable": false,
    "editable": false
   },
   "source": [
    "Throughput and latency are two concepts that are completely different, but people often get confused. Throughput presents the \"amount of work that could be done within a given period of time\" and latency means the amount of time necessary for each instance. In this section, we will introduce another optimization of the `baseline_double()` function using NVIDIA's GPU. Below you can compare the GPU implementation of `baseline_double()` in three functions: `baseline_double_cuda()`, `baseline_double_cuda_kernel()` and `baseline_double_cuda_init()`:"
   ]
  },
  {
   "cell_type": "code",
   "execution_count": 37,
   "metadata": {
    "deletable": false,
    "editable": false
   },
   "outputs": [
    {
     "data": {
      "text/html": [
       "\n",
       "            <style>\n",
       "        .side-by-side {\n",
       "            display: flex;\n",
       "            align-items: stretch;\n",
       "\n",
       "        }\n",
       "        .side-by-side-pane {\n",
       "            margin-right:1em;\n",
       "            border-right-style: solid;\n",
       "            border-right-color: black;\n",
       "            border-right-width: 1px;\n",
       "            flex: 1;\n",
       "        }\n",
       "        </style>\n",
       "        <div class=\"side-by-side\"> <div class='side-by-side-pane'><style>pre { line-height: 125%; }\n",
       "td.linenos .normal { color: inherit; background-color: transparent; padding-left: 5px; padding-right: 5px; }\n",
       "span.linenos { color: inherit; background-color: transparent; padding-left: 5px; padding-right: 5px; }\n",
       "td.linenos .special { color: #000000; background-color: #ffffc0; padding-left: 5px; padding-right: 5px; }\n",
       "span.linenos.special { color: #000000; background-color: #ffffc0; padding-left: 5px; padding-right: 5px; }\n",
       ".output_html .hll { background-color: #ffffcc }\n",
       ".output_html { background: #f8f8f8; }\n",
       ".output_html .c { color: #3D7B7B; font-style: italic } /* Comment */\n",
       ".output_html .err { border: 1px solid #FF0000 } /* Error */\n",
       ".output_html .k { color: #008000; font-weight: bold } /* Keyword */\n",
       ".output_html .o { color: #666666 } /* Operator */\n",
       ".output_html .ch { color: #3D7B7B; font-style: italic } /* Comment.Hashbang */\n",
       ".output_html .cm { color: #3D7B7B; font-style: italic } /* Comment.Multiline */\n",
       ".output_html .cp { color: #9C6500 } /* Comment.Preproc */\n",
       ".output_html .cpf { color: #3D7B7B; font-style: italic } /* Comment.PreprocFile */\n",
       ".output_html .c1 { color: #3D7B7B; font-style: italic } /* Comment.Single */\n",
       ".output_html .cs { color: #3D7B7B; font-style: italic } /* Comment.Special */\n",
       ".output_html .gd { color: #A00000 } /* Generic.Deleted */\n",
       ".output_html .ge { font-style: italic } /* Generic.Emph */\n",
       ".output_html .gr { color: #E40000 } /* Generic.Error */\n",
       ".output_html .gh { color: #000080; font-weight: bold } /* Generic.Heading */\n",
       ".output_html .gi { color: #008400 } /* Generic.Inserted */\n",
       ".output_html .go { color: #717171 } /* Generic.Output */\n",
       ".output_html .gp { color: #000080; font-weight: bold } /* Generic.Prompt */\n",
       ".output_html .gs { font-weight: bold } /* Generic.Strong */\n",
       ".output_html .gu { color: #800080; font-weight: bold } /* Generic.Subheading */\n",
       ".output_html .gt { color: #0044DD } /* Generic.Traceback */\n",
       ".output_html .kc { color: #008000; font-weight: bold } /* Keyword.Constant */\n",
       ".output_html .kd { color: #008000; font-weight: bold } /* Keyword.Declaration */\n",
       ".output_html .kn { color: #008000; font-weight: bold } /* Keyword.Namespace */\n",
       ".output_html .kp { color: #008000 } /* Keyword.Pseudo */\n",
       ".output_html .kr { color: #008000; font-weight: bold } /* Keyword.Reserved */\n",
       ".output_html .kt { color: #B00040 } /* Keyword.Type */\n",
       ".output_html .m { color: #666666 } /* Literal.Number */\n",
       ".output_html .s { color: #BA2121 } /* Literal.String */\n",
       ".output_html .na { color: #687822 } /* Name.Attribute */\n",
       ".output_html .nb { color: #008000 } /* Name.Builtin */\n",
       ".output_html .nc { color: #0000FF; font-weight: bold } /* Name.Class */\n",
       ".output_html .no { color: #880000 } /* Name.Constant */\n",
       ".output_html .nd { color: #AA22FF } /* Name.Decorator */\n",
       ".output_html .ni { color: #717171; font-weight: bold } /* Name.Entity */\n",
       ".output_html .ne { color: #CB3F38; font-weight: bold } /* Name.Exception */\n",
       ".output_html .nf { color: #0000FF } /* Name.Function */\n",
       ".output_html .nl { color: #767600 } /* Name.Label */\n",
       ".output_html .nn { color: #0000FF; font-weight: bold } /* Name.Namespace */\n",
       ".output_html .nt { color: #008000; font-weight: bold } /* Name.Tag */\n",
       ".output_html .nv { color: #19177C } /* Name.Variable */\n",
       ".output_html .ow { color: #AA22FF; font-weight: bold } /* Operator.Word */\n",
       ".output_html .w { color: #bbbbbb } /* Text.Whitespace */\n",
       ".output_html .mb { color: #666666 } /* Literal.Number.Bin */\n",
       ".output_html .mf { color: #666666 } /* Literal.Number.Float */\n",
       ".output_html .mh { color: #666666 } /* Literal.Number.Hex */\n",
       ".output_html .mi { color: #666666 } /* Literal.Number.Integer */\n",
       ".output_html .mo { color: #666666 } /* Literal.Number.Oct */\n",
       ".output_html .sa { color: #BA2121 } /* Literal.String.Affix */\n",
       ".output_html .sb { color: #BA2121 } /* Literal.String.Backtick */\n",
       ".output_html .sc { color: #BA2121 } /* Literal.String.Char */\n",
       ".output_html .dl { color: #BA2121 } /* Literal.String.Delimiter */\n",
       ".output_html .sd { color: #BA2121; font-style: italic } /* Literal.String.Doc */\n",
       ".output_html .s2 { color: #BA2121 } /* Literal.String.Double */\n",
       ".output_html .se { color: #AA5D1F; font-weight: bold } /* Literal.String.Escape */\n",
       ".output_html .sh { color: #BA2121 } /* Literal.String.Heredoc */\n",
       ".output_html .si { color: #A45A77; font-weight: bold } /* Literal.String.Interpol */\n",
       ".output_html .sx { color: #008000 } /* Literal.String.Other */\n",
       ".output_html .sr { color: #A45A77 } /* Literal.String.Regex */\n",
       ".output_html .s1 { color: #BA2121 } /* Literal.String.Single */\n",
       ".output_html .ss { color: #19177C } /* Literal.String.Symbol */\n",
       ".output_html .bp { color: #008000 } /* Name.Builtin.Pseudo */\n",
       ".output_html .fm { color: #0000FF } /* Name.Function.Magic */\n",
       ".output_html .vc { color: #19177C } /* Name.Variable.Class */\n",
       ".output_html .vg { color: #19177C } /* Name.Variable.Global */\n",
       ".output_html .vi { color: #19177C } /* Name.Variable.Instance */\n",
       ".output_html .vm { color: #19177C } /* Name.Variable.Magic */\n",
       ".output_html .il { color: #666666 } /* Literal.Number.Integer.Long */</style><div class=\"highlight\"><pre><span></span><span class=\"c1\">// microbench_cuda.cu:12-34 (23 lines)</span>\n",
       "<span class=\"kt\">uint64_t</span><span class=\"w\"> </span><span class=\"o\">*</span><span class=\"nf\">baseline_double_cuda</span><span class=\"p\">(</span><span class=\"kt\">uint64_t</span><span class=\"w\"> </span><span class=\"o\">*</span><span class=\"w\"> </span><span class=\"n\">_array</span><span class=\"p\">,</span><span class=\"w\"> </span><span class=\"kt\">unsigned</span><span class=\"w\"> </span><span class=\"kt\">long</span><span class=\"w\"> </span><span class=\"kt\">int</span><span class=\"w\"> </span><span class=\"n\">size</span><span class=\"p\">)</span><span class=\"w\"></span>\n",
       "<span class=\"p\">{</span><span class=\"w\"></span>\n",
       "<span class=\"w\">         </span><span class=\"kt\">double</span><span class=\"w\"> </span><span class=\"o\">*</span><span class=\"n\">d_array</span><span class=\"p\">,</span><span class=\"w\"> </span><span class=\"o\">*</span><span class=\"n\">d_output</span><span class=\"p\">;</span><span class=\"w\"></span>\n",
       "<span class=\"w\">         </span><span class=\"n\">cudaMalloc</span><span class=\"p\">((</span><span class=\"kt\">void</span><span class=\"w\"> </span><span class=\"o\">**</span><span class=\"p\">)</span><span class=\"w\"> </span><span class=\"o\">&amp;</span><span class=\"n\">d_array</span><span class=\"p\">,</span><span class=\"w\"> </span><span class=\"k\">sizeof</span><span class=\"p\">(</span><span class=\"kt\">double</span><span class=\"p\">)</span><span class=\"o\">*</span><span class=\"n\">size</span><span class=\"p\">);</span><span class=\"w\"></span>\n",
       "<span class=\"w\">         </span><span class=\"n\">cudaMalloc</span><span class=\"p\">((</span><span class=\"kt\">void</span><span class=\"w\"> </span><span class=\"o\">**</span><span class=\"p\">)</span><span class=\"w\"> </span><span class=\"o\">&amp;</span><span class=\"n\">d_output</span><span class=\"p\">,</span><span class=\"w\"> </span><span class=\"k\">sizeof</span><span class=\"p\">(</span><span class=\"kt\">double</span><span class=\"p\">)</span><span class=\"o\">*</span><span class=\"n\">size</span><span class=\"p\">);</span><span class=\"w\"></span>\n",
       "<span class=\"w\">         </span><span class=\"n\">cudaMemcpy</span><span class=\"p\">(</span><span class=\"n\">d_array</span><span class=\"p\">,</span><span class=\"w\"> </span><span class=\"n\">_array</span><span class=\"p\">,</span><span class=\"w\"> </span><span class=\"k\">sizeof</span><span class=\"p\">(</span><span class=\"kt\">double</span><span class=\"p\">)</span><span class=\"o\">*</span><span class=\"n\">size</span><span class=\"p\">,</span><span class=\"w\"> </span><span class=\"n\">cudaMemcpyHostToDevice</span><span class=\"p\">);</span><span class=\"w\"></span>\n",
       "\n",
       "<span class=\"w\">         </span><span class=\"kt\">unsigned</span><span class=\"w\"> </span><span class=\"kt\">int</span><span class=\"w\"> </span><span class=\"n\">grid_cols</span><span class=\"w\"> </span><span class=\"o\">=</span><span class=\"w\"> </span><span class=\"p\">(</span><span class=\"n\">size</span><span class=\"w\"> </span><span class=\"o\">+</span><span class=\"w\"> </span><span class=\"n\">BLOCK_SIZE</span><span class=\"w\"> </span><span class=\"o\">-</span><span class=\"w\"> </span><span class=\"mi\">1</span><span class=\"p\">)</span><span class=\"w\"> </span><span class=\"o\">/</span><span class=\"w\"> </span><span class=\"n\">BLOCK_SIZE</span><span class=\"p\">;</span><span class=\"w\"></span>\n",
       "\n",
       "<span class=\"w\">         </span><span class=\"c1\">// Launch kernel </span>\n",
       "<span class=\"w\">         </span><span class=\"n\">baseline_double_cuda_init</span><span class=\"o\">&lt;&lt;&lt;</span><span class=\"n\">grid_cols</span><span class=\"p\">,</span><span class=\"w\"> </span><span class=\"n\">BLOCK_SIZE</span><span class=\"o\">&gt;&gt;&gt;</span><span class=\"p\">(</span><span class=\"n\">d_array</span><span class=\"p\">,</span><span class=\"w\"> </span><span class=\"n\">size</span><span class=\"p\">);</span><span class=\"w\"></span>\n",
       "<span class=\"w\">         </span><span class=\"k\">for</span><span class=\"p\">(</span><span class=\"kt\">int</span><span class=\"w\"> </span><span class=\"n\">j</span><span class=\"o\">=</span><span class=\"mi\">0</span><span class=\"p\">;</span><span class=\"n\">j</span><span class=\"o\">&lt;</span><span class=\"mi\">3</span><span class=\"p\">;</span><span class=\"n\">j</span><span class=\"o\">++</span><span class=\"p\">)</span><span class=\"w\"></span>\n",
       "<span class=\"w\">         </span><span class=\"p\">{</span><span class=\"w\"></span>\n",
       "<span class=\"w\">             </span><span class=\"n\">baseline_double_cuda_kernel</span><span class=\"o\">&lt;&lt;&lt;</span><span class=\"n\">grid_cols</span><span class=\"p\">,</span><span class=\"w\"> </span><span class=\"n\">BLOCK_SIZE</span><span class=\"o\">&gt;&gt;&gt;</span><span class=\"p\">(</span><span class=\"n\">d_array</span><span class=\"p\">,</span><span class=\"w\"> </span><span class=\"n\">d_output</span><span class=\"p\">,</span><span class=\"w\"> </span><span class=\"n\">size</span><span class=\"p\">,</span><span class=\"w\"> </span><span class=\"n\">j</span><span class=\"p\">);</span><span class=\"w\"></span>\n",
       "<span class=\"w\">             </span><span class=\"n\">cudaThreadSynchronize</span><span class=\"p\">();</span><span class=\"w\"></span>\n",
       "<span class=\"w\">             </span><span class=\"n\">cudaMemcpy</span><span class=\"p\">(</span><span class=\"n\">d_array</span><span class=\"p\">,</span><span class=\"w\"> </span><span class=\"n\">d_output</span><span class=\"p\">,</span><span class=\"w\"> </span><span class=\"k\">sizeof</span><span class=\"p\">(</span><span class=\"kt\">double</span><span class=\"p\">)</span><span class=\"o\">*</span><span class=\"n\">size</span><span class=\"p\">,</span><span class=\"w\"> </span><span class=\"n\">cudaMemcpyDeviceToDevice</span><span class=\"p\">);</span><span class=\"w\"></span>\n",
       "<span class=\"w\">         </span><span class=\"p\">}</span><span class=\"w\"></span>\n",
       "<span class=\"w\">         </span><span class=\"c1\">// Transefr results from device to host </span>\n",
       "<span class=\"w\">         </span><span class=\"n\">cudaMemcpy</span><span class=\"p\">(</span><span class=\"n\">_array</span><span class=\"p\">,</span><span class=\"w\"> </span><span class=\"n\">d_output</span><span class=\"p\">,</span><span class=\"w\"> </span><span class=\"k\">sizeof</span><span class=\"p\">(</span><span class=\"kt\">double</span><span class=\"p\">)</span><span class=\"o\">*</span><span class=\"n\">size</span><span class=\"p\">,</span><span class=\"w\"> </span><span class=\"n\">cudaMemcpyDeviceToHost</span><span class=\"p\">);</span><span class=\"w\"></span>\n",
       "<span class=\"w\">         </span><span class=\"n\">cudaFree</span><span class=\"p\">(</span><span class=\"n\">d_output</span><span class=\"p\">);</span><span class=\"w\"></span>\n",
       "<span class=\"w\">         </span><span class=\"n\">cudaFree</span><span class=\"p\">(</span><span class=\"n\">d_array</span><span class=\"p\">);</span><span class=\"w\"></span>\n",
       "<span class=\"w\">\t </span><span class=\"k\">return</span><span class=\"w\"> </span><span class=\"n\">_array</span><span class=\"p\">;</span><span class=\"w\"></span>\n",
       "<span class=\"p\">}</span><span class=\"w\"></span>\n",
       "</pre></div>\n",
       "</div><div class='side-by-side-pane'><style>pre { line-height: 125%; }\n",
       "td.linenos .normal { color: inherit; background-color: transparent; padding-left: 5px; padding-right: 5px; }\n",
       "span.linenos { color: inherit; background-color: transparent; padding-left: 5px; padding-right: 5px; }\n",
       "td.linenos .special { color: #000000; background-color: #ffffc0; padding-left: 5px; padding-right: 5px; }\n",
       "span.linenos.special { color: #000000; background-color: #ffffc0; padding-left: 5px; padding-right: 5px; }\n",
       ".output_html .hll { background-color: #ffffcc }\n",
       ".output_html { background: #f8f8f8; }\n",
       ".output_html .c { color: #3D7B7B; font-style: italic } /* Comment */\n",
       ".output_html .err { border: 1px solid #FF0000 } /* Error */\n",
       ".output_html .k { color: #008000; font-weight: bold } /* Keyword */\n",
       ".output_html .o { color: #666666 } /* Operator */\n",
       ".output_html .ch { color: #3D7B7B; font-style: italic } /* Comment.Hashbang */\n",
       ".output_html .cm { color: #3D7B7B; font-style: italic } /* Comment.Multiline */\n",
       ".output_html .cp { color: #9C6500 } /* Comment.Preproc */\n",
       ".output_html .cpf { color: #3D7B7B; font-style: italic } /* Comment.PreprocFile */\n",
       ".output_html .c1 { color: #3D7B7B; font-style: italic } /* Comment.Single */\n",
       ".output_html .cs { color: #3D7B7B; font-style: italic } /* Comment.Special */\n",
       ".output_html .gd { color: #A00000 } /* Generic.Deleted */\n",
       ".output_html .ge { font-style: italic } /* Generic.Emph */\n",
       ".output_html .gr { color: #E40000 } /* Generic.Error */\n",
       ".output_html .gh { color: #000080; font-weight: bold } /* Generic.Heading */\n",
       ".output_html .gi { color: #008400 } /* Generic.Inserted */\n",
       ".output_html .go { color: #717171 } /* Generic.Output */\n",
       ".output_html .gp { color: #000080; font-weight: bold } /* Generic.Prompt */\n",
       ".output_html .gs { font-weight: bold } /* Generic.Strong */\n",
       ".output_html .gu { color: #800080; font-weight: bold } /* Generic.Subheading */\n",
       ".output_html .gt { color: #0044DD } /* Generic.Traceback */\n",
       ".output_html .kc { color: #008000; font-weight: bold } /* Keyword.Constant */\n",
       ".output_html .kd { color: #008000; font-weight: bold } /* Keyword.Declaration */\n",
       ".output_html .kn { color: #008000; font-weight: bold } /* Keyword.Namespace */\n",
       ".output_html .kp { color: #008000 } /* Keyword.Pseudo */\n",
       ".output_html .kr { color: #008000; font-weight: bold } /* Keyword.Reserved */\n",
       ".output_html .kt { color: #B00040 } /* Keyword.Type */\n",
       ".output_html .m { color: #666666 } /* Literal.Number */\n",
       ".output_html .s { color: #BA2121 } /* Literal.String */\n",
       ".output_html .na { color: #687822 } /* Name.Attribute */\n",
       ".output_html .nb { color: #008000 } /* Name.Builtin */\n",
       ".output_html .nc { color: #0000FF; font-weight: bold } /* Name.Class */\n",
       ".output_html .no { color: #880000 } /* Name.Constant */\n",
       ".output_html .nd { color: #AA22FF } /* Name.Decorator */\n",
       ".output_html .ni { color: #717171; font-weight: bold } /* Name.Entity */\n",
       ".output_html .ne { color: #CB3F38; font-weight: bold } /* Name.Exception */\n",
       ".output_html .nf { color: #0000FF } /* Name.Function */\n",
       ".output_html .nl { color: #767600 } /* Name.Label */\n",
       ".output_html .nn { color: #0000FF; font-weight: bold } /* Name.Namespace */\n",
       ".output_html .nt { color: #008000; font-weight: bold } /* Name.Tag */\n",
       ".output_html .nv { color: #19177C } /* Name.Variable */\n",
       ".output_html .ow { color: #AA22FF; font-weight: bold } /* Operator.Word */\n",
       ".output_html .w { color: #bbbbbb } /* Text.Whitespace */\n",
       ".output_html .mb { color: #666666 } /* Literal.Number.Bin */\n",
       ".output_html .mf { color: #666666 } /* Literal.Number.Float */\n",
       ".output_html .mh { color: #666666 } /* Literal.Number.Hex */\n",
       ".output_html .mi { color: #666666 } /* Literal.Number.Integer */\n",
       ".output_html .mo { color: #666666 } /* Literal.Number.Oct */\n",
       ".output_html .sa { color: #BA2121 } /* Literal.String.Affix */\n",
       ".output_html .sb { color: #BA2121 } /* Literal.String.Backtick */\n",
       ".output_html .sc { color: #BA2121 } /* Literal.String.Char */\n",
       ".output_html .dl { color: #BA2121 } /* Literal.String.Delimiter */\n",
       ".output_html .sd { color: #BA2121; font-style: italic } /* Literal.String.Doc */\n",
       ".output_html .s2 { color: #BA2121 } /* Literal.String.Double */\n",
       ".output_html .se { color: #AA5D1F; font-weight: bold } /* Literal.String.Escape */\n",
       ".output_html .sh { color: #BA2121 } /* Literal.String.Heredoc */\n",
       ".output_html .si { color: #A45A77; font-weight: bold } /* Literal.String.Interpol */\n",
       ".output_html .sx { color: #008000 } /* Literal.String.Other */\n",
       ".output_html .sr { color: #A45A77 } /* Literal.String.Regex */\n",
       ".output_html .s1 { color: #BA2121 } /* Literal.String.Single */\n",
       ".output_html .ss { color: #19177C } /* Literal.String.Symbol */\n",
       ".output_html .bp { color: #008000 } /* Name.Builtin.Pseudo */\n",
       ".output_html .fm { color: #0000FF } /* Name.Function.Magic */\n",
       ".output_html .vc { color: #19177C } /* Name.Variable.Class */\n",
       ".output_html .vg { color: #19177C } /* Name.Variable.Global */\n",
       ".output_html .vi { color: #19177C } /* Name.Variable.Instance */\n",
       ".output_html .vm { color: #19177C } /* Name.Variable.Magic */\n",
       ".output_html .il { color: #666666 } /* Literal.Number.Integer.Long */</style><div class=\"highlight\"><pre><span></span><span class=\"c1\">// microbench_cuda.cu:35-43 (9 lines)</span>\n",
       "<span class=\"n\">__global__</span><span class=\"w\"> </span><span class=\"kt\">void</span><span class=\"w\"> </span><span class=\"n\">baseline_double_cuda_kernel</span><span class=\"p\">(</span><span class=\"kt\">double</span><span class=\"w\"> </span><span class=\"o\">*</span><span class=\"n\">input</span><span class=\"p\">,</span><span class=\"w\"> </span><span class=\"kt\">double</span><span class=\"w\"> </span><span class=\"o\">*</span><span class=\"n\">output</span><span class=\"p\">,</span><span class=\"w\"> </span><span class=\"kt\">int</span><span class=\"w\"> </span><span class=\"n\">size</span><span class=\"p\">,</span><span class=\"w\"> </span><span class=\"kt\">int</span><span class=\"w\"> </span><span class=\"n\">j</span><span class=\"p\">)</span><span class=\"w\"> </span>\n",
       "<span class=\"p\">{</span><span class=\"w\"></span>\n",
       "<span class=\"w\">    </span><span class=\"kt\">unsigned</span><span class=\"w\"> </span><span class=\"kt\">int</span><span class=\"w\"> </span><span class=\"n\">pos</span><span class=\"w\"> </span><span class=\"o\">=</span><span class=\"w\"> </span><span class=\"n\">blockIdx</span><span class=\"p\">.</span><span class=\"n\">x</span><span class=\"w\"> </span><span class=\"o\">*</span><span class=\"w\"> </span><span class=\"n\">blockDim</span><span class=\"p\">.</span><span class=\"n\">x</span><span class=\"w\"> </span><span class=\"o\">+</span><span class=\"w\"> </span><span class=\"n\">threadIdx</span><span class=\"p\">.</span><span class=\"n\">x</span><span class=\"p\">;</span><span class=\"w\"></span>\n",
       "\n",
       "<span class=\"w\">    </span><span class=\"k\">if</span><span class=\"w\"> </span><span class=\"p\">(</span><span class=\"n\">pos</span><span class=\"w\"> </span><span class=\"o\">&lt;</span><span class=\"w\"> </span><span class=\"n\">size</span><span class=\"p\">)</span><span class=\"w\"></span>\n",
       "<span class=\"w\">    </span><span class=\"p\">{</span><span class=\"w\"></span>\n",
       "<span class=\"w\">        </span><span class=\"n\">output</span><span class=\"p\">[</span><span class=\"n\">pos</span><span class=\"p\">]</span><span class=\"w\"> </span><span class=\"o\">=</span><span class=\"w\"> </span><span class=\"n\">input</span><span class=\"p\">[</span><span class=\"n\">pos</span><span class=\"p\">]</span><span class=\"o\">+</span><span class=\"n\">pos</span><span class=\"o\">/</span><span class=\"p\">(</span><span class=\"n\">j</span><span class=\"o\">+</span><span class=\"mi\">1</span><span class=\"p\">)</span><span class=\"o\">+</span><span class=\"n\">input</span><span class=\"p\">[</span><span class=\"n\">pos</span><span class=\"mi\">-1</span><span class=\"p\">];</span><span class=\"w\"></span>\n",
       "<span class=\"w\">    </span><span class=\"p\">}</span><span class=\"w\"></span>\n",
       "<span class=\"p\">}</span><span class=\"w\"></span>\n",
       "</pre></div>\n",
       "</div><div class='side-by-side-pane'><style>pre { line-height: 125%; }\n",
       "td.linenos .normal { color: inherit; background-color: transparent; padding-left: 5px; padding-right: 5px; }\n",
       "span.linenos { color: inherit; background-color: transparent; padding-left: 5px; padding-right: 5px; }\n",
       "td.linenos .special { color: #000000; background-color: #ffffc0; padding-left: 5px; padding-right: 5px; }\n",
       "span.linenos.special { color: #000000; background-color: #ffffc0; padding-left: 5px; padding-right: 5px; }\n",
       ".output_html .hll { background-color: #ffffcc }\n",
       ".output_html { background: #f8f8f8; }\n",
       ".output_html .c { color: #3D7B7B; font-style: italic } /* Comment */\n",
       ".output_html .err { border: 1px solid #FF0000 } /* Error */\n",
       ".output_html .k { color: #008000; font-weight: bold } /* Keyword */\n",
       ".output_html .o { color: #666666 } /* Operator */\n",
       ".output_html .ch { color: #3D7B7B; font-style: italic } /* Comment.Hashbang */\n",
       ".output_html .cm { color: #3D7B7B; font-style: italic } /* Comment.Multiline */\n",
       ".output_html .cp { color: #9C6500 } /* Comment.Preproc */\n",
       ".output_html .cpf { color: #3D7B7B; font-style: italic } /* Comment.PreprocFile */\n",
       ".output_html .c1 { color: #3D7B7B; font-style: italic } /* Comment.Single */\n",
       ".output_html .cs { color: #3D7B7B; font-style: italic } /* Comment.Special */\n",
       ".output_html .gd { color: #A00000 } /* Generic.Deleted */\n",
       ".output_html .ge { font-style: italic } /* Generic.Emph */\n",
       ".output_html .gr { color: #E40000 } /* Generic.Error */\n",
       ".output_html .gh { color: #000080; font-weight: bold } /* Generic.Heading */\n",
       ".output_html .gi { color: #008400 } /* Generic.Inserted */\n",
       ".output_html .go { color: #717171 } /* Generic.Output */\n",
       ".output_html .gp { color: #000080; font-weight: bold } /* Generic.Prompt */\n",
       ".output_html .gs { font-weight: bold } /* Generic.Strong */\n",
       ".output_html .gu { color: #800080; font-weight: bold } /* Generic.Subheading */\n",
       ".output_html .gt { color: #0044DD } /* Generic.Traceback */\n",
       ".output_html .kc { color: #008000; font-weight: bold } /* Keyword.Constant */\n",
       ".output_html .kd { color: #008000; font-weight: bold } /* Keyword.Declaration */\n",
       ".output_html .kn { color: #008000; font-weight: bold } /* Keyword.Namespace */\n",
       ".output_html .kp { color: #008000 } /* Keyword.Pseudo */\n",
       ".output_html .kr { color: #008000; font-weight: bold } /* Keyword.Reserved */\n",
       ".output_html .kt { color: #B00040 } /* Keyword.Type */\n",
       ".output_html .m { color: #666666 } /* Literal.Number */\n",
       ".output_html .s { color: #BA2121 } /* Literal.String */\n",
       ".output_html .na { color: #687822 } /* Name.Attribute */\n",
       ".output_html .nb { color: #008000 } /* Name.Builtin */\n",
       ".output_html .nc { color: #0000FF; font-weight: bold } /* Name.Class */\n",
       ".output_html .no { color: #880000 } /* Name.Constant */\n",
       ".output_html .nd { color: #AA22FF } /* Name.Decorator */\n",
       ".output_html .ni { color: #717171; font-weight: bold } /* Name.Entity */\n",
       ".output_html .ne { color: #CB3F38; font-weight: bold } /* Name.Exception */\n",
       ".output_html .nf { color: #0000FF } /* Name.Function */\n",
       ".output_html .nl { color: #767600 } /* Name.Label */\n",
       ".output_html .nn { color: #0000FF; font-weight: bold } /* Name.Namespace */\n",
       ".output_html .nt { color: #008000; font-weight: bold } /* Name.Tag */\n",
       ".output_html .nv { color: #19177C } /* Name.Variable */\n",
       ".output_html .ow { color: #AA22FF; font-weight: bold } /* Operator.Word */\n",
       ".output_html .w { color: #bbbbbb } /* Text.Whitespace */\n",
       ".output_html .mb { color: #666666 } /* Literal.Number.Bin */\n",
       ".output_html .mf { color: #666666 } /* Literal.Number.Float */\n",
       ".output_html .mh { color: #666666 } /* Literal.Number.Hex */\n",
       ".output_html .mi { color: #666666 } /* Literal.Number.Integer */\n",
       ".output_html .mo { color: #666666 } /* Literal.Number.Oct */\n",
       ".output_html .sa { color: #BA2121 } /* Literal.String.Affix */\n",
       ".output_html .sb { color: #BA2121 } /* Literal.String.Backtick */\n",
       ".output_html .sc { color: #BA2121 } /* Literal.String.Char */\n",
       ".output_html .dl { color: #BA2121 } /* Literal.String.Delimiter */\n",
       ".output_html .sd { color: #BA2121; font-style: italic } /* Literal.String.Doc */\n",
       ".output_html .s2 { color: #BA2121 } /* Literal.String.Double */\n",
       ".output_html .se { color: #AA5D1F; font-weight: bold } /* Literal.String.Escape */\n",
       ".output_html .sh { color: #BA2121 } /* Literal.String.Heredoc */\n",
       ".output_html .si { color: #A45A77; font-weight: bold } /* Literal.String.Interpol */\n",
       ".output_html .sx { color: #008000 } /* Literal.String.Other */\n",
       ".output_html .sr { color: #A45A77 } /* Literal.String.Regex */\n",
       ".output_html .s1 { color: #BA2121 } /* Literal.String.Single */\n",
       ".output_html .ss { color: #19177C } /* Literal.String.Symbol */\n",
       ".output_html .bp { color: #008000 } /* Name.Builtin.Pseudo */\n",
       ".output_html .fm { color: #0000FF } /* Name.Function.Magic */\n",
       ".output_html .vc { color: #19177C } /* Name.Variable.Class */\n",
       ".output_html .vg { color: #19177C } /* Name.Variable.Global */\n",
       ".output_html .vi { color: #19177C } /* Name.Variable.Instance */\n",
       ".output_html .vm { color: #19177C } /* Name.Variable.Magic */\n",
       ".output_html .il { color: #666666 } /* Literal.Number.Integer.Long */</style><div class=\"highlight\"><pre><span></span><span class=\"c1\">// microbench_cuda.cu:44-52 (9 lines)</span>\n",
       "<span class=\"n\">__global__</span><span class=\"w\"> </span><span class=\"kt\">void</span><span class=\"w\"> </span><span class=\"n\">baseline_double_cuda_init</span><span class=\"p\">(</span><span class=\"kt\">double</span><span class=\"w\"> </span><span class=\"o\">*</span><span class=\"n\">array</span><span class=\"p\">,</span><span class=\"w\"> </span><span class=\"kt\">int</span><span class=\"w\"> </span><span class=\"n\">size</span><span class=\"p\">)</span><span class=\"w\"> </span>\n",
       "<span class=\"p\">{</span><span class=\"w\"></span>\n",
       "<span class=\"w\">    </span><span class=\"kt\">unsigned</span><span class=\"w\"> </span><span class=\"kt\">int</span><span class=\"w\"> </span><span class=\"n\">pos</span><span class=\"w\"> </span><span class=\"o\">=</span><span class=\"w\"> </span><span class=\"n\">blockIdx</span><span class=\"p\">.</span><span class=\"n\">x</span><span class=\"w\"> </span><span class=\"o\">*</span><span class=\"w\"> </span><span class=\"n\">blockDim</span><span class=\"p\">.</span><span class=\"n\">x</span><span class=\"w\"> </span><span class=\"o\">+</span><span class=\"w\"> </span><span class=\"n\">threadIdx</span><span class=\"p\">.</span><span class=\"n\">x</span><span class=\"p\">;</span><span class=\"w\"></span>\n",
       "\n",
       "<span class=\"w\">    </span><span class=\"k\">if</span><span class=\"w\"> </span><span class=\"p\">(</span><span class=\"n\">pos</span><span class=\"w\"> </span><span class=\"o\">&lt;</span><span class=\"w\"> </span><span class=\"n\">size</span><span class=\"p\">)</span><span class=\"w\"> </span>\n",
       "<span class=\"w\">    </span><span class=\"p\">{</span><span class=\"w\"></span>\n",
       "<span class=\"w\">        </span><span class=\"n\">array</span><span class=\"p\">[</span><span class=\"n\">pos</span><span class=\"p\">]</span><span class=\"w\"> </span><span class=\"o\">=</span><span class=\"w\"> </span><span class=\"mi\">0</span><span class=\"p\">;</span><span class=\"w\"></span>\n",
       "<span class=\"w\">    </span><span class=\"p\">}</span><span class=\"w\"></span>\n",
       "<span class=\"p\">}</span><span class=\"w\"></span>\n",
       "</pre></div>\n",
       "</div><div class='side-by-side-pane'><style>pre { line-height: 125%; }\n",
       "td.linenos .normal { color: inherit; background-color: transparent; padding-left: 5px; padding-right: 5px; }\n",
       "span.linenos { color: inherit; background-color: transparent; padding-left: 5px; padding-right: 5px; }\n",
       "td.linenos .special { color: #000000; background-color: #ffffc0; padding-left: 5px; padding-right: 5px; }\n",
       "span.linenos.special { color: #000000; background-color: #ffffc0; padding-left: 5px; padding-right: 5px; }\n",
       ".output_html .hll { background-color: #ffffcc }\n",
       ".output_html { background: #f8f8f8; }\n",
       ".output_html .c { color: #3D7B7B; font-style: italic } /* Comment */\n",
       ".output_html .err { border: 1px solid #FF0000 } /* Error */\n",
       ".output_html .k { color: #008000; font-weight: bold } /* Keyword */\n",
       ".output_html .o { color: #666666 } /* Operator */\n",
       ".output_html .ch { color: #3D7B7B; font-style: italic } /* Comment.Hashbang */\n",
       ".output_html .cm { color: #3D7B7B; font-style: italic } /* Comment.Multiline */\n",
       ".output_html .cp { color: #9C6500 } /* Comment.Preproc */\n",
       ".output_html .cpf { color: #3D7B7B; font-style: italic } /* Comment.PreprocFile */\n",
       ".output_html .c1 { color: #3D7B7B; font-style: italic } /* Comment.Single */\n",
       ".output_html .cs { color: #3D7B7B; font-style: italic } /* Comment.Special */\n",
       ".output_html .gd { color: #A00000 } /* Generic.Deleted */\n",
       ".output_html .ge { font-style: italic } /* Generic.Emph */\n",
       ".output_html .gr { color: #E40000 } /* Generic.Error */\n",
       ".output_html .gh { color: #000080; font-weight: bold } /* Generic.Heading */\n",
       ".output_html .gi { color: #008400 } /* Generic.Inserted */\n",
       ".output_html .go { color: #717171 } /* Generic.Output */\n",
       ".output_html .gp { color: #000080; font-weight: bold } /* Generic.Prompt */\n",
       ".output_html .gs { font-weight: bold } /* Generic.Strong */\n",
       ".output_html .gu { color: #800080; font-weight: bold } /* Generic.Subheading */\n",
       ".output_html .gt { color: #0044DD } /* Generic.Traceback */\n",
       ".output_html .kc { color: #008000; font-weight: bold } /* Keyword.Constant */\n",
       ".output_html .kd { color: #008000; font-weight: bold } /* Keyword.Declaration */\n",
       ".output_html .kn { color: #008000; font-weight: bold } /* Keyword.Namespace */\n",
       ".output_html .kp { color: #008000 } /* Keyword.Pseudo */\n",
       ".output_html .kr { color: #008000; font-weight: bold } /* Keyword.Reserved */\n",
       ".output_html .kt { color: #B00040 } /* Keyword.Type */\n",
       ".output_html .m { color: #666666 } /* Literal.Number */\n",
       ".output_html .s { color: #BA2121 } /* Literal.String */\n",
       ".output_html .na { color: #687822 } /* Name.Attribute */\n",
       ".output_html .nb { color: #008000 } /* Name.Builtin */\n",
       ".output_html .nc { color: #0000FF; font-weight: bold } /* Name.Class */\n",
       ".output_html .no { color: #880000 } /* Name.Constant */\n",
       ".output_html .nd { color: #AA22FF } /* Name.Decorator */\n",
       ".output_html .ni { color: #717171; font-weight: bold } /* Name.Entity */\n",
       ".output_html .ne { color: #CB3F38; font-weight: bold } /* Name.Exception */\n",
       ".output_html .nf { color: #0000FF } /* Name.Function */\n",
       ".output_html .nl { color: #767600 } /* Name.Label */\n",
       ".output_html .nn { color: #0000FF; font-weight: bold } /* Name.Namespace */\n",
       ".output_html .nt { color: #008000; font-weight: bold } /* Name.Tag */\n",
       ".output_html .nv { color: #19177C } /* Name.Variable */\n",
       ".output_html .ow { color: #AA22FF; font-weight: bold } /* Operator.Word */\n",
       ".output_html .w { color: #bbbbbb } /* Text.Whitespace */\n",
       ".output_html .mb { color: #666666 } /* Literal.Number.Bin */\n",
       ".output_html .mf { color: #666666 } /* Literal.Number.Float */\n",
       ".output_html .mh { color: #666666 } /* Literal.Number.Hex */\n",
       ".output_html .mi { color: #666666 } /* Literal.Number.Integer */\n",
       ".output_html .mo { color: #666666 } /* Literal.Number.Oct */\n",
       ".output_html .sa { color: #BA2121 } /* Literal.String.Affix */\n",
       ".output_html .sb { color: #BA2121 } /* Literal.String.Backtick */\n",
       ".output_html .sc { color: #BA2121 } /* Literal.String.Char */\n",
       ".output_html .dl { color: #BA2121 } /* Literal.String.Delimiter */\n",
       ".output_html .sd { color: #BA2121; font-style: italic } /* Literal.String.Doc */\n",
       ".output_html .s2 { color: #BA2121 } /* Literal.String.Double */\n",
       ".output_html .se { color: #AA5D1F; font-weight: bold } /* Literal.String.Escape */\n",
       ".output_html .sh { color: #BA2121 } /* Literal.String.Heredoc */\n",
       ".output_html .si { color: #A45A77; font-weight: bold } /* Literal.String.Interpol */\n",
       ".output_html .sx { color: #008000 } /* Literal.String.Other */\n",
       ".output_html .sr { color: #A45A77 } /* Literal.String.Regex */\n",
       ".output_html .s1 { color: #BA2121 } /* Literal.String.Single */\n",
       ".output_html .ss { color: #19177C } /* Literal.String.Symbol */\n",
       ".output_html .bp { color: #008000 } /* Name.Builtin.Pseudo */\n",
       ".output_html .fm { color: #0000FF } /* Name.Function.Magic */\n",
       ".output_html .vc { color: #19177C } /* Name.Variable.Class */\n",
       ".output_html .vg { color: #19177C } /* Name.Variable.Global */\n",
       ".output_html .vi { color: #19177C } /* Name.Variable.Instance */\n",
       ".output_html .vm { color: #19177C } /* Name.Variable.Magic */\n",
       ".output_html .il { color: #666666 } /* Literal.Number.Integer.Long */</style><div class=\"highlight\"><pre><span></span><span class=\"c1\">// microbench.cpp:54-67 (14 lines)</span>\n",
       "<span class=\"k\">extern</span><span class=\"w\"> </span><span class=\"s\">&quot;C&quot;</span><span class=\"w\"> </span><span class=\"kt\">uint64_t</span><span class=\"w\"> </span><span class=\"o\">*</span><span class=\"n\">baseline_double</span><span class=\"p\">(</span><span class=\"kt\">uint64_t</span><span class=\"w\"> </span><span class=\"o\">*</span><span class=\"w\"> </span><span class=\"n\">_array</span><span class=\"p\">,</span><span class=\"w\"> </span><span class=\"kt\">unsigned</span><span class=\"w\"> </span><span class=\"kt\">long</span><span class=\"w\"> </span><span class=\"kt\">int</span><span class=\"w\"> </span><span class=\"n\">size</span><span class=\"p\">)</span><span class=\"w\"> </span><span class=\"p\">{</span><span class=\"w\"></span>\n",
       "<span class=\"w\">\t</span><span class=\"c1\">//double * array = new double[size];</span>\n",
       "<span class=\"w\">\t</span><span class=\"kt\">double</span><span class=\"w\"> </span><span class=\"o\">*</span><span class=\"w\"> </span><span class=\"n\">array</span><span class=\"w\"> </span><span class=\"o\">=</span><span class=\"w\"> </span><span class=\"p\">(</span><span class=\"kt\">double</span><span class=\"o\">*</span><span class=\"p\">)</span><span class=\"n\">_array</span><span class=\"p\">;</span><span class=\"w\"></span>\n",
       "<span class=\"w\">\t</span><span class=\"k\">for</span><span class=\"p\">(</span><span class=\"n\">uint</span><span class=\"w\"> </span><span class=\"n\">i</span><span class=\"w\"> </span><span class=\"o\">=</span><span class=\"w\"> </span><span class=\"mi\">0</span><span class=\"p\">;</span><span class=\"w\"> </span><span class=\"n\">i</span><span class=\"w\"> </span><span class=\"o\">&lt;</span><span class=\"w\"> </span><span class=\"n\">size</span><span class=\"p\">;</span><span class=\"w\"> </span><span class=\"n\">i</span><span class=\"o\">++</span><span class=\"p\">)</span><span class=\"w\"> </span><span class=\"p\">{</span><span class=\"w\"></span>\n",
       "<span class=\"w\">\t\t</span><span class=\"n\">array</span><span class=\"p\">[</span><span class=\"n\">i</span><span class=\"p\">]</span><span class=\"w\"> </span><span class=\"o\">=</span><span class=\"w\"> </span><span class=\"mi\">0</span><span class=\"p\">;</span><span class=\"w\"></span>\n",
       "<span class=\"w\">\t</span><span class=\"p\">}</span><span class=\"w\"></span>\n",
       "\n",
       "<span class=\"w\">\t</span><span class=\"k\">for</span><span class=\"w\"> </span><span class=\"p\">(</span><span class=\"kt\">double</span><span class=\"w\"> </span><span class=\"n\">j</span><span class=\"w\"> </span><span class=\"o\">=</span><span class=\"w\"> </span><span class=\"mi\">0</span><span class=\"p\">;</span><span class=\"w\"> </span><span class=\"n\">j</span><span class=\"w\"> </span><span class=\"o\">&lt;</span><span class=\"w\"> </span><span class=\"mi\">3</span><span class=\"p\">;</span><span class=\"w\"> </span><span class=\"n\">j</span><span class=\"o\">++</span><span class=\"p\">)</span><span class=\"w\"> </span><span class=\"p\">{</span><span class=\"w\"></span>\n",
       "<span class=\"w\">\t\t</span><span class=\"k\">for</span><span class=\"p\">(</span><span class=\"n\">uint</span><span class=\"w\"> </span><span class=\"n\">i</span><span class=\"o\">=</span><span class=\"w\"> </span><span class=\"mi\">1</span><span class=\"w\"> </span><span class=\"p\">;</span><span class=\"w\"> </span><span class=\"n\">i</span><span class=\"w\"> </span><span class=\"o\">&lt;</span><span class=\"w\"> </span><span class=\"n\">size</span><span class=\"p\">;</span><span class=\"w\"> </span><span class=\"n\">i</span><span class=\"o\">++</span><span class=\"p\">)</span><span class=\"w\"> </span><span class=\"p\">{</span><span class=\"w\"></span>\n",
       "<span class=\"w\">\t\t\t</span><span class=\"n\">array</span><span class=\"p\">[</span><span class=\"n\">i</span><span class=\"p\">]</span><span class=\"w\"> </span><span class=\"o\">+=</span><span class=\"w\"> </span><span class=\"n\">i</span><span class=\"o\">/</span><span class=\"p\">(</span><span class=\"mi\">1</span><span class=\"o\">+</span><span class=\"n\">j</span><span class=\"p\">)</span><span class=\"o\">+</span><span class=\"n\">array</span><span class=\"p\">[</span><span class=\"n\">i</span><span class=\"w\"> </span><span class=\"o\">-</span><span class=\"w\"> </span><span class=\"mi\">1</span><span class=\"p\">];</span><span class=\"w\"></span>\n",
       "<span class=\"w\">\t\t</span><span class=\"p\">}</span><span class=\"w\"></span>\n",
       "<span class=\"w\">\t</span><span class=\"p\">}</span><span class=\"w\"></span>\n",
       "<span class=\"w\">\t</span><span class=\"k\">return</span><span class=\"w\"> </span><span class=\"p\">(</span><span class=\"kt\">uint64_t</span><span class=\"o\">*</span><span class=\"p\">)</span><span class=\"n\">array</span><span class=\"p\">;</span><span class=\"w\"></span>\n",
       "<span class=\"p\">}</span><span class=\"w\"></span>\n",
       "</pre></div>\n",
       "</div>\n",
       "        </div>\n",
       "    "
      ],
      "text/plain": [
       "<IPython.core.display.HTML object>"
      ]
     },
     "execution_count": 37,
     "metadata": {},
     "output_type": "execute_result"
    }
   ],
   "source": [
    "compare([do_render_code(\"microbench_cuda.cu\", lang=\"c++\", show=\"baseline_double_cuda\"),\n",
    "do_render_code(\"microbench_cuda.cu\", lang=\"c++\", show=\"baseline_double_cuda_kernel\"),\n",
    "do_render_code(\"microbench_cuda.cu\", lang=\"c++\", show=\"baseline_double_cuda_init\"),\n",
    "do_render_code(\"microbench.cpp\", show=\"baseline_double\")])"
   ]
  },
  {
   "cell_type": "markdown",
   "metadata": {
    "deletable": false,
    "editable": false
   },
   "source": [
    "Now, let's try to compile and run the GPU/CUDA code on our server"
   ]
  },
  {
   "cell_type": "code",
   "execution_count": 38,
   "metadata": {
    "deletable": false,
    "editable": false
   },
   "outputs": [
    {
     "name": "stdout",
     "output_type": "stream",
     "text": [
      "srun -N1 -p cs203 make microbench_cuda.exe\n",
      "mkdir -p ./build/ \n",
      "cp  microbench_cuda.cu ./build/microbench_cuda.cu\n",
      "/usr/local/cuda/bin/nvcc -DHAVE_LINUX_PERF_EVENT_H -I/cs203/mtung007/CS203UCR-2022fa-cs203-performance-starter.  -L/usr/local/cuda/lib64 -DCUDA -lcuda -lcudart -arch=sm_75 -o ./build/microbench_cuda.o -c ./build/microbench_cuda.cu\n",
      "./build/microbench_cuda.cu: In function ‘uint64_t* baseline_double_cuda(uint64_t*, long unsigned int)’:\n",
      "./build/microbench_cuda.cu:26:23: warning: ‘cudaError_t cudaThreadSynchronize()’ is deprecated [-Wdeprecated-declarations]\n",
      "   26 |              cudaThreadSynchronize();\n",
      "      |                       ^\n",
      "/usr/local/cuda/bin/../targets/x86_64-linux/include/cuda_runtime_api.h:1057:46: note: declared here\n",
      " 1057 | extern __CUDA_DEPRECATED __host__ cudaError_t CUDARTAPI cudaThreadSynchronize(void);\n",
      "      |                                              ^~~~~~~~~~~~~~~~~~~~~\n",
      "./build/microbench_cuda.cu:26:23: warning: ‘cudaError_t cudaThreadSynchronize()’ is deprecated [-Wdeprecated-declarations]\n",
      "   26 |              cudaThreadSynchronize();\n",
      "      |                       ^\n",
      "/usr/local/cuda/bin/../targets/x86_64-linux/include/cuda_runtime_api.h:1057:46: note: declared here\n",
      " 1057 | extern __CUDA_DEPRECATED __host__ cudaError_t CUDARTAPI cudaThreadSynchronize(void);\n",
      "      |                                              ^~~~~~~~~~~~~~~~~~~~~\n",
      "/usr/local/cuda/bin/nvcc -I/usr/local/cuda/include -L/usr/local/cuda/lib64 -DCUDA -lcuda -lcudart -DHAVE_LINUX_PERF_EVENT_H -I/cs203/mtung007/CS203UCR-2022fa-cs203-performance-starter.  microbench.cpp ./build/perfstats.o ./build/microbench_cuda.o  -o microbench_cuda.exe\n",
      "microbench.cpp: In function ‘int main(int, char**)’:\n",
      "microbench.cpp:297:36: warning: ISO C++ forbids converting a string constant to ‘char*’ [-Wwrite-strings]\n",
      "  297 |  perfstats_print_header(stat_file, \"size,rep,function,IC,Cycles,CPI,MHz,CT,ET,cmdlineMHz\");\n",
      "      |                                    ^~~~~~~~~~~~~~~~~~~~~~~~~~~~~~~~~~~~~~~~~~~~~~~~~~~~~~\n",
      "srun -N1 -p cs203 ./microbench_cuda.exe -o gpu_cpu.csv -s 8388608 -r 50  -M  3200 -f baseline_double_cuda baseline_double\n",
      "Execution complete\n"
     ]
    }
   ],
   "source": [
    "!cs203 job run 'make microbench_cuda.exe'\n",
    "!cs203 job run   './microbench_cuda.exe -o gpu_cpu.csv -s 8388608 -r 50  -M  3200 -f baseline_double_cuda baseline_double'"
   ]
  },
  {
   "cell_type": "markdown",
   "metadata": {
    "deletable": false,
    "editable": false
   },
   "source": [
    "And render the result nicely!"
   ]
  },
  {
   "cell_type": "code",
   "execution_count": 39,
   "metadata": {
    "cs203.is_response": true,
    "deletable": false,
    "editable": false
   },
   "outputs": [
    {
     "data": {
      "text/html": [
       "<div>\n",
       "<style scoped>\n",
       "    .dataframe tbody tr th:only-of-type {\n",
       "        vertical-align: middle;\n",
       "    }\n",
       "\n",
       "    .dataframe tbody tr th {\n",
       "        vertical-align: top;\n",
       "    }\n",
       "\n",
       "    .dataframe thead th {\n",
       "        text-align: right;\n",
       "    }\n",
       "</style>\n",
       "<table border=\"1\" class=\"dataframe\">\n",
       "  <thead>\n",
       "    <tr style=\"text-align: right;\">\n",
       "      <th></th>\n",
       "      <th>IC</th>\n",
       "      <th>CPI</th>\n",
       "      <th>CT</th>\n",
       "      <th>ET</th>\n",
       "    </tr>\n",
       "    <tr>\n",
       "      <th>function</th>\n",
       "      <th></th>\n",
       "      <th></th>\n",
       "      <th></th>\n",
       "      <th></th>\n",
       "    </tr>\n",
       "  </thead>\n",
       "  <tbody>\n",
       "    <tr>\n",
       "      <th>baseline_double</th>\n",
       "      <td>9.482545e+08</td>\n",
       "      <td>0.641583</td>\n",
       "      <td>0.257321</td>\n",
       "      <td>0.156547</td>\n",
       "    </tr>\n",
       "    <tr>\n",
       "      <th>baseline_double_cuda</th>\n",
       "      <td>5.878639e+06</td>\n",
       "      <td>3.538832</td>\n",
       "      <td>0.275315</td>\n",
       "      <td>0.002625</td>\n",
       "    </tr>\n",
       "  </tbody>\n",
       "</table>\n",
       "</div>"
      ],
      "text/plain": [
       "                                IC       CPI        CT        ET\n",
       "function                                                        \n",
       "baseline_double       9.482545e+08  0.641583  0.257321  0.156547\n",
       "baseline_double_cuda  5.878639e+06  3.538832  0.275315  0.002625"
      ]
     },
     "execution_count": 39,
     "metadata": {},
     "output_type": "execute_result"
    },
    {
     "data": {
      "image/png": "[encoded data removed]",
      "text/plain": [
       "<Figure size 1600x400 with 4 Axes>"
      ]
     },
     "metadata": {},
     "output_type": "display_data"
    }
   ],
   "source": [
    "plotPEBar(\"gpu_cpu.csv\", what=[ ('function', \"IC\"), (\"function\", \"CPI\"), (\"function\", \"CT\"), (\"function\", \"ET\") ], \n",
    "          columns=4, average_by=\"function\")\n",
    "render_csv(\"gpu_cpu.csv\", columns=[\"IC\", \"CPI\", \"CT\", \"ET\",], average_by=\"function\")"
   ]
  },
  {
   "cell_type": "markdown",
   "metadata": {
    "deletable": false,
    "editable": false
   },
   "source": [
    "A metric that is frequently used to advertise the capability of GPUs is \"FLOPS\". FLOPS means the \"floating point operations per second\". Therefore, it fulfills the definition of **throughput**. The following questions will help us examine if FLOPS is a good performance metric."
   ]
  },
  {
   "cell_type": "markdown",
   "metadata": {
    "cs203.is_response": true,
    "cs203.points": 1,
    "cs203.question_type": "correctness",
    "deletable": false,
    "editable": true
   },
   "source": [
    "<div class=\"alert alert-block alert-success\"><div class=\"question correctness points-1\">\n",
    "\n",
    "### Question 17 (Correctness)\n",
    "\n",
    "<div class=\"alert alert-block alert-success\">\n",
    "Does the FLOPS reflects the performance? \n",
    "</div>    \n",
    "<div class=\"answer\">\n",
    "\n",
    "**How many \"floating point\" operations are there in each iteration of the `baseline_double()` function? :**\n",
    "\n",
    "**How many \"floating point\" operations are there in the `baseline_double()` function when size is 8388608? :**\n",
    "\n",
    "**How many \"FLOPS\" (floating point operations per second) of the CPU when performing `baseline_double()` function with size as 8388608? :**\n",
    "\n",
    "**How many \"FLOPS\" (floating point operations per second) of the GPU when performing `baseline_double_kernel()` function with size as 8388608? :**\n",
    "\n",
    "**Compare the ratio of FLOPS and latency of running `baseline_double()` and `baseline_double_cuda()` functions, do they match? Why and why not?**\n",
    "</div>\n",
    "</div>\n",
    "</div>"
   ]
  },
  {
   "cell_type": "code",
   "execution_count": 40,
   "metadata": {
    "deletable": false,
    "editable": false
   },
   "outputs": [
    {
     "name": "stdout",
     "output_type": "stream",
     "text": [
      "srun -N1 -p cs203 ./microbench_cuda.exe -o gpu_cpu_65536.csv -s 65536 -r 50  -M  3200 -f baseline_double_cuda baseline_double\n",
      "Execution complete\n"
     ]
    }
   ],
   "source": [
    "!cs203 job run   './microbench_cuda.exe -o gpu_cpu_65536.csv -s 65536 -r 50  -M  3200 -f baseline_double_cuda baseline_double'"
   ]
  },
  {
   "cell_type": "markdown",
   "metadata": {
    "deletable": false,
    "editable": false
   },
   "source": [
    "And again, plot the result nicely."
   ]
  },
  {
   "cell_type": "code",
   "execution_count": 41,
   "metadata": {
    "cs203.is_response": true,
    "deletable": false,
    "editable": false
   },
   "outputs": [
    {
     "data": {
      "text/html": [
       "<div>\n",
       "<style scoped>\n",
       "    .dataframe tbody tr th:only-of-type {\n",
       "        vertical-align: middle;\n",
       "    }\n",
       "\n",
       "    .dataframe tbody tr th {\n",
       "        vertical-align: top;\n",
       "    }\n",
       "\n",
       "    .dataframe thead th {\n",
       "        text-align: right;\n",
       "    }\n",
       "</style>\n",
       "<table border=\"1\" class=\"dataframe\">\n",
       "  <thead>\n",
       "    <tr style=\"text-align: right;\">\n",
       "      <th></th>\n",
       "      <th>IC</th>\n",
       "      <th>CPI</th>\n",
       "      <th>CT</th>\n",
       "      <th>ET</th>\n",
       "    </tr>\n",
       "    <tr>\n",
       "      <th>function</th>\n",
       "      <th></th>\n",
       "      <th></th>\n",
       "      <th></th>\n",
       "      <th></th>\n",
       "    </tr>\n",
       "  </thead>\n",
       "  <tbody>\n",
       "    <tr>\n",
       "      <th>baseline_double</th>\n",
       "      <td>7415597.8</td>\n",
       "      <td>0.467115</td>\n",
       "      <td>0.338031</td>\n",
       "      <td>0.001172</td>\n",
       "    </tr>\n",
       "    <tr>\n",
       "      <th>baseline_double_cuda</th>\n",
       "      <td>4862433.0</td>\n",
       "      <td>2.923241</td>\n",
       "      <td>0.367942</td>\n",
       "      <td>0.002106</td>\n",
       "    </tr>\n",
       "  </tbody>\n",
       "</table>\n",
       "</div>"
      ],
      "text/plain": [
       "                             IC       CPI        CT        ET\n",
       "function                                                     \n",
       "baseline_double       7415597.8  0.467115  0.338031  0.001172\n",
       "baseline_double_cuda  4862433.0  2.923241  0.367942  0.002106"
      ]
     },
     "execution_count": 41,
     "metadata": {},
     "output_type": "execute_result"
    },
    {
     "data": {
      "image/png": "[encoded data removed]",
      "text/plain": [
       "<Figure size 1600x400 with 4 Axes>"
      ]
     },
     "metadata": {},
     "output_type": "display_data"
    }
   ],
   "source": [
    "\n",
    "plotPEBar(\"gpu_cpu_65536.csv\", what=[ ('function', \"IC\"), (\"function\", \"CPI\"), (\"function\", \"CT\"), (\"function\", \"ET\") ], \n",
    "          columns=4, average_by=\"function\")\n",
    "render_csv(\"gpu_cpu_65536.csv\", columns=[\"IC\", \"CPI\", \"CT\", \"ET\",], average_by=\"function\")"
   ]
  },
  {
   "cell_type": "markdown",
   "metadata": {
    "cs203.is_response": true,
    "cs203.points": 1,
    "cs203.question_type": "correctness",
    "deletable": false,
    "editable": true
   },
   "source": [
    "<div class=\"alert alert-block alert-success\"><div class=\"question correctness points-1\">\n",
    "\n",
    "### Question 18 (Correctness)</h3>\n",
    "<div class=\"alert alert-block alert-success\">\n",
    "Does FLOPS reflects the latency when sizes changes?\n",
    "</div>\n",
    "\n",
    "<div class=\"answer\">\n",
    "\n",
    "**Compare the latency of running `baseline_double()` and `baseline_double_cuda()` with size as 65536, does FLOPS reflect the performance? Why or why not?**\n",
    "</div>\n",
    "</div>\n",
    "</div>"
   ]
  },
  {
   "cell_type": "markdown",
   "metadata": {
    "editable": false
   },
   "source": [
    "# Programming Assignment"
   ]
  },
  {
   "cell_type": "markdown",
   "metadata": {
    "deletable": false,
    "editable": false,
    "tags": []
   },
   "source": [
    "The programming assignment is a warm up for the programming assignments.  The assignment is to optimize the performance of the function below.\n",
    "\n",
    "Here's how to approach this.  \n",
    "\n",
    "1. Read through the whole thing and run the example code in the code cells.  \n",
    "2. Do your work in the \"Do Your Work Here\" section.  It has the key commands you'll need to evaluate and analyze your results.\n",
    "3. When you are happy with your implementation, answer the questions in \"Analyzing Your Implementation\".\n",
    "4. When you are all done, go to the Final Measurement section and follow those instructions.\n",
    "\n",
    "\n",
    "## The Function"
   ]
  },
  {
   "cell_type": "code",
   "execution_count": 42,
   "metadata": {
    "deletable": false,
    "editable": false,
    "tags": []
   },
   "outputs": [
    {
     "data": {
      "text/html": [
       "<style>pre { line-height: 125%; }\n",
       "td.linenos .normal { color: inherit; background-color: transparent; padding-left: 5px; padding-right: 5px; }\n",
       "span.linenos { color: inherit; background-color: transparent; padding-left: 5px; padding-right: 5px; }\n",
       "td.linenos .special { color: #000000; background-color: #ffffc0; padding-left: 5px; padding-right: 5px; }\n",
       "span.linenos.special { color: #000000; background-color: #ffffc0; padding-left: 5px; padding-right: 5px; }\n",
       ".output_html .hll { background-color: #ffffcc }\n",
       ".output_html { background: #f8f8f8; }\n",
       ".output_html .c { color: #3D7B7B; font-style: italic } /* Comment */\n",
       ".output_html .err { border: 1px solid #FF0000 } /* Error */\n",
       ".output_html .k { color: #008000; font-weight: bold } /* Keyword */\n",
       ".output_html .o { color: #666666 } /* Operator */\n",
       ".output_html .ch { color: #3D7B7B; font-style: italic } /* Comment.Hashbang */\n",
       ".output_html .cm { color: #3D7B7B; font-style: italic } /* Comment.Multiline */\n",
       ".output_html .cp { color: #9C6500 } /* Comment.Preproc */\n",
       ".output_html .cpf { color: #3D7B7B; font-style: italic } /* Comment.PreprocFile */\n",
       ".output_html .c1 { color: #3D7B7B; font-style: italic } /* Comment.Single */\n",
       ".output_html .cs { color: #3D7B7B; font-style: italic } /* Comment.Special */\n",
       ".output_html .gd { color: #A00000 } /* Generic.Deleted */\n",
       ".output_html .ge { font-style: italic } /* Generic.Emph */\n",
       ".output_html .gr { color: #E40000 } /* Generic.Error */\n",
       ".output_html .gh { color: #000080; font-weight: bold } /* Generic.Heading */\n",
       ".output_html .gi { color: #008400 } /* Generic.Inserted */\n",
       ".output_html .go { color: #717171 } /* Generic.Output */\n",
       ".output_html .gp { color: #000080; font-weight: bold } /* Generic.Prompt */\n",
       ".output_html .gs { font-weight: bold } /* Generic.Strong */\n",
       ".output_html .gu { color: #800080; font-weight: bold } /* Generic.Subheading */\n",
       ".output_html .gt { color: #0044DD } /* Generic.Traceback */\n",
       ".output_html .kc { color: #008000; font-weight: bold } /* Keyword.Constant */\n",
       ".output_html .kd { color: #008000; font-weight: bold } /* Keyword.Declaration */\n",
       ".output_html .kn { color: #008000; font-weight: bold } /* Keyword.Namespace */\n",
       ".output_html .kp { color: #008000 } /* Keyword.Pseudo */\n",
       ".output_html .kr { color: #008000; font-weight: bold } /* Keyword.Reserved */\n",
       ".output_html .kt { color: #B00040 } /* Keyword.Type */\n",
       ".output_html .m { color: #666666 } /* Literal.Number */\n",
       ".output_html .s { color: #BA2121 } /* Literal.String */\n",
       ".output_html .na { color: #687822 } /* Name.Attribute */\n",
       ".output_html .nb { color: #008000 } /* Name.Builtin */\n",
       ".output_html .nc { color: #0000FF; font-weight: bold } /* Name.Class */\n",
       ".output_html .no { color: #880000 } /* Name.Constant */\n",
       ".output_html .nd { color: #AA22FF } /* Name.Decorator */\n",
       ".output_html .ni { color: #717171; font-weight: bold } /* Name.Entity */\n",
       ".output_html .ne { color: #CB3F38; font-weight: bold } /* Name.Exception */\n",
       ".output_html .nf { color: #0000FF } /* Name.Function */\n",
       ".output_html .nl { color: #767600 } /* Name.Label */\n",
       ".output_html .nn { color: #0000FF; font-weight: bold } /* Name.Namespace */\n",
       ".output_html .nt { color: #008000; font-weight: bold } /* Name.Tag */\n",
       ".output_html .nv { color: #19177C } /* Name.Variable */\n",
       ".output_html .ow { color: #AA22FF; font-weight: bold } /* Operator.Word */\n",
       ".output_html .w { color: #bbbbbb } /* Text.Whitespace */\n",
       ".output_html .mb { color: #666666 } /* Literal.Number.Bin */\n",
       ".output_html .mf { color: #666666 } /* Literal.Number.Float */\n",
       ".output_html .mh { color: #666666 } /* Literal.Number.Hex */\n",
       ".output_html .mi { color: #666666 } /* Literal.Number.Integer */\n",
       ".output_html .mo { color: #666666 } /* Literal.Number.Oct */\n",
       ".output_html .sa { color: #BA2121 } /* Literal.String.Affix */\n",
       ".output_html .sb { color: #BA2121 } /* Literal.String.Backtick */\n",
       ".output_html .sc { color: #BA2121 } /* Literal.String.Char */\n",
       ".output_html .dl { color: #BA2121 } /* Literal.String.Delimiter */\n",
       ".output_html .sd { color: #BA2121; font-style: italic } /* Literal.String.Doc */\n",
       ".output_html .s2 { color: #BA2121 } /* Literal.String.Double */\n",
       ".output_html .se { color: #AA5D1F; font-weight: bold } /* Literal.String.Escape */\n",
       ".output_html .sh { color: #BA2121 } /* Literal.String.Heredoc */\n",
       ".output_html .si { color: #A45A77; font-weight: bold } /* Literal.String.Interpol */\n",
       ".output_html .sx { color: #008000 } /* Literal.String.Other */\n",
       ".output_html .sr { color: #A45A77 } /* Literal.String.Regex */\n",
       ".output_html .s1 { color: #BA2121 } /* Literal.String.Single */\n",
       ".output_html .ss { color: #19177C } /* Literal.String.Symbol */\n",
       ".output_html .bp { color: #008000 } /* Name.Builtin.Pseudo */\n",
       ".output_html .fm { color: #0000FF } /* Name.Function.Magic */\n",
       ".output_html .vc { color: #19177C } /* Name.Variable.Class */\n",
       ".output_html .vg { color: #19177C } /* Name.Variable.Global */\n",
       ".output_html .vi { color: #19177C } /* Name.Variable.Instance */\n",
       ".output_html .vm { color: #19177C } /* Name.Variable.Magic */\n",
       ".output_html .il { color: #666666 } /* Literal.Number.Integer.Long */</style><div class=\"highlight\"><pre><span></span><span class=\"c1\">// sum.cpp:1-31 (31 lines)</span>\n",
       "<span class=\"cp\">#include</span><span class=\"w\"> </span><span class=\"cpf\">&lt;cstdlib&gt;</span><span class=\"cp\"></span>\n",
       "<span class=\"cp\">#include</span><span class=\"w\"> </span><span class=\"cpf\">&quot;archlab.h&quot;</span><span class=\"cp\"></span>\n",
       "<span class=\"cp\">#include</span><span class=\"w\"> </span><span class=\"cpf\">&lt;unistd.h&gt;</span><span class=\"cp\"></span>\n",
       "<span class=\"cp\">#include</span><span class=\"cpf\">&lt;algorithm&gt;</span><span class=\"cp\"></span>\n",
       "<span class=\"cp\">#include</span><span class=\"cpf\">&lt;cstdint&gt;</span><span class=\"cp\"></span>\n",
       "<span class=\"cp\">#include</span><span class=\"cpf\">&lt;unordered_set&gt;</span><span class=\"cp\"></span>\n",
       "<span class=\"cp\">#include</span><span class=\"w\"> </span><span class=\"cpf\">&quot;perfstats.h&quot;</span><span class=\"cp\"></span>\n",
       "<span class=\"cp\">#include</span><span class=\"w\"> </span><span class=\"cpf\">&quot;sum.h&quot;</span><span class=\"cp\"></span>\n",
       "\n",
       "<span class=\"cp\">#define START_C extern &quot;C&quot; { </span><span class=\"c1\">// this just hides the braces from the editor, so it won&#39;t try to indent everything.</span>\n",
       "<span class=\"cp\">#define END_C  }</span>\n",
       "\n",
       "\n",
       "<span class=\"n\">START_C</span><span class=\"w\"></span>\n",
       "\n",
       "<span class=\"kt\">uint64_t</span><span class=\"w\"> </span><span class=\"n\">sum_of_locations_solution</span><span class=\"p\">(</span><span class=\"kt\">uint64_t</span><span class=\"w\"> </span><span class=\"o\">*</span><span class=\"n\">search_space</span><span class=\"p\">,</span><span class=\"w\"> </span><span class=\"kt\">uint32_t</span><span class=\"w\"> </span><span class=\"n\">search_space_size</span><span class=\"p\">,</span><span class=\"w\"> </span><span class=\"kt\">uint64_t</span><span class=\"o\">*</span><span class=\"w\"> </span><span class=\"n\">queries</span><span class=\"p\">,</span><span class=\"w\"> </span><span class=\"kt\">uint32_t</span><span class=\"w\"> </span><span class=\"n\">query_count</span><span class=\"p\">)</span><span class=\"w\"></span>\n",
       "<span class=\"p\">{</span><span class=\"w\"></span>\n",
       "<span class=\"w\">\t</span><span class=\"kt\">uint64_t</span><span class=\"w\"> </span><span class=\"n\">r</span><span class=\"w\"> </span><span class=\"o\">=</span><span class=\"w\"> </span><span class=\"mi\">0</span><span class=\"p\">;</span><span class=\"w\"></span>\n",
       "\n",
       "<span class=\"w\">\t</span><span class=\"k\">for</span><span class=\"p\">(</span><span class=\"kt\">uint32_t</span><span class=\"w\"> </span><span class=\"n\">i</span><span class=\"w\"> </span><span class=\"o\">=</span><span class=\"w\"> </span><span class=\"mi\">0</span><span class=\"p\">;</span><span class=\"w\"> </span><span class=\"n\">i</span><span class=\"w\"> </span><span class=\"o\">&lt;</span><span class=\"w\"> </span><span class=\"n\">query_count</span><span class=\"p\">;</span><span class=\"w\"> </span><span class=\"n\">i</span><span class=\"o\">++</span><span class=\"p\">)</span><span class=\"w\"> </span><span class=\"p\">{</span><span class=\"w\"></span>\n",
       "<span class=\"w\">\t\t</span><span class=\"k\">for</span><span class=\"p\">(</span><span class=\"kt\">uint32_t</span><span class=\"w\"> </span><span class=\"n\">j</span><span class=\"w\"> </span><span class=\"o\">=</span><span class=\"w\"> </span><span class=\"mi\">0</span><span class=\"p\">;</span><span class=\"w\"> </span><span class=\"n\">j</span><span class=\"w\"> </span><span class=\"o\">&lt;</span><span class=\"w\"> </span><span class=\"n\">search_space_size</span><span class=\"p\">;</span><span class=\"w\"> </span><span class=\"n\">j</span><span class=\"o\">++</span><span class=\"p\">)</span><span class=\"w\"> </span><span class=\"p\">{</span><span class=\"w\"></span>\n",
       "<span class=\"w\">\t\t\t</span><span class=\"k\">if</span><span class=\"w\"> </span><span class=\"p\">(</span><span class=\"n\">search_space</span><span class=\"p\">[</span><span class=\"n\">j</span><span class=\"p\">]</span><span class=\"w\"> </span><span class=\"o\">==</span><span class=\"w\"> </span><span class=\"n\">queries</span><span class=\"p\">[</span><span class=\"n\">i</span><span class=\"p\">])</span><span class=\"w\"> </span><span class=\"p\">{</span><span class=\"w\"></span>\n",
       "<span class=\"w\">\t\t\t\t</span><span class=\"n\">r</span><span class=\"w\"> </span><span class=\"o\">+=</span><span class=\"w\"> </span><span class=\"n\">i</span><span class=\"p\">;</span><span class=\"w\"></span>\n",
       "<span class=\"w\">\t\t\t\t</span><span class=\"k\">break</span><span class=\"p\">;</span><span class=\"w\"></span>\n",
       "<span class=\"w\">\t\t\t</span><span class=\"p\">}</span><span class=\"w\"></span>\n",
       "<span class=\"w\">\t\t</span><span class=\"p\">}</span><span class=\"w\"></span>\n",
       "<span class=\"w\">\t</span><span class=\"p\">}</span><span class=\"w\"></span>\n",
       "<span class=\"w\">\t</span><span class=\"k\">return</span><span class=\"w\"> </span><span class=\"n\">r</span><span class=\"p\">;</span><span class=\"w\"></span>\n",
       "<span class=\"p\">}</span><span class=\"w\"></span>\n",
       "\n",
       "<span class=\"n\">END_C</span><span class=\"w\"></span>\n",
       "</pre></div>\n"
      ],
      "text/latex": [
       "\\begin{Verbatim}[commandchars=\\\\\\{\\}]\n",
       "\\PY{c+c1}{// sum.cpp:1\\PYZhy{}31 (31 lines)}\n",
       "\\PY{c+cp}{\\PYZsh{}}\\PY{c+cp}{include}\\PY{+w}{ }\\PY{c+cpf}{\\PYZlt{}cstdlib\\PYZgt{}}\n",
       "\\PY{c+cp}{\\PYZsh{}}\\PY{c+cp}{include}\\PY{+w}{ }\\PY{c+cpf}{\\PYZdq{}archlab.h\\PYZdq{}}\n",
       "\\PY{c+cp}{\\PYZsh{}}\\PY{c+cp}{include}\\PY{+w}{ }\\PY{c+cpf}{\\PYZlt{}unistd.h\\PYZgt{}}\n",
       "\\PY{c+cp}{\\PYZsh{}}\\PY{c+cp}{include}\\PY{c+cpf}{\\PYZlt{}algorithm\\PYZgt{}}\n",
       "\\PY{c+cp}{\\PYZsh{}}\\PY{c+cp}{include}\\PY{c+cpf}{\\PYZlt{}cstdint\\PYZgt{}}\n",
       "\\PY{c+cp}{\\PYZsh{}}\\PY{c+cp}{include}\\PY{c+cpf}{\\PYZlt{}unordered\\PYZus{}set\\PYZgt{}}\n",
       "\\PY{c+cp}{\\PYZsh{}}\\PY{c+cp}{include}\\PY{+w}{ }\\PY{c+cpf}{\\PYZdq{}perfstats.h\\PYZdq{}}\n",
       "\\PY{c+cp}{\\PYZsh{}}\\PY{c+cp}{include}\\PY{+w}{ }\\PY{c+cpf}{\\PYZdq{}sum.h\\PYZdq{}}\n",
       "\n",
       "\\PY{c+cp}{\\PYZsh{}}\\PY{c+cp}{define START\\PYZus{}C extern \\PYZdq{}C\\PYZdq{} \\PYZob{} }\\PY{c+c1}{// this just hides the braces from the editor, so it won\\PYZsq{}t try to indent everything.}\n",
       "\\PY{c+cp}{\\PYZsh{}}\\PY{c+cp}{define END\\PYZus{}C  \\PYZcb{}}\n",
       "\n",
       "\n",
       "\\PY{n}{START\\PYZus{}C}\n",
       "\n",
       "\\PY{k+kt}{uint64\\PYZus{}t}\\PY{+w}{ }\\PY{n}{sum\\PYZus{}of\\PYZus{}locations\\PYZus{}solution}\\PY{p}{(}\\PY{k+kt}{uint64\\PYZus{}t}\\PY{+w}{ }\\PY{o}{*}\\PY{n}{search\\PYZus{}space}\\PY{p}{,}\\PY{+w}{ }\\PY{k+kt}{uint32\\PYZus{}t}\\PY{+w}{ }\\PY{n}{search\\PYZus{}space\\PYZus{}size}\\PY{p}{,}\\PY{+w}{ }\\PY{k+kt}{uint64\\PYZus{}t}\\PY{o}{*}\\PY{+w}{ }\\PY{n}{queries}\\PY{p}{,}\\PY{+w}{ }\\PY{k+kt}{uint32\\PYZus{}t}\\PY{+w}{ }\\PY{n}{query\\PYZus{}count}\\PY{p}{)}\n",
       "\\PY{p}{\\PYZob{}}\n",
       "\\PY{+w}{\t}\\PY{k+kt}{uint64\\PYZus{}t}\\PY{+w}{ }\\PY{n}{r}\\PY{+w}{ }\\PY{o}{=}\\PY{+w}{ }\\PY{l+m+mi}{0}\\PY{p}{;}\n",
       "\n",
       "\\PY{+w}{\t}\\PY{k}{for}\\PY{p}{(}\\PY{k+kt}{uint32\\PYZus{}t}\\PY{+w}{ }\\PY{n}{i}\\PY{+w}{ }\\PY{o}{=}\\PY{+w}{ }\\PY{l+m+mi}{0}\\PY{p}{;}\\PY{+w}{ }\\PY{n}{i}\\PY{+w}{ }\\PY{o}{\\PYZlt{}}\\PY{+w}{ }\\PY{n}{query\\PYZus{}count}\\PY{p}{;}\\PY{+w}{ }\\PY{n}{i}\\PY{o}{+}\\PY{o}{+}\\PY{p}{)}\\PY{+w}{ }\\PY{p}{\\PYZob{}}\n",
       "\\PY{+w}{\t\t}\\PY{k}{for}\\PY{p}{(}\\PY{k+kt}{uint32\\PYZus{}t}\\PY{+w}{ }\\PY{n}{j}\\PY{+w}{ }\\PY{o}{=}\\PY{+w}{ }\\PY{l+m+mi}{0}\\PY{p}{;}\\PY{+w}{ }\\PY{n}{j}\\PY{+w}{ }\\PY{o}{\\PYZlt{}}\\PY{+w}{ }\\PY{n}{search\\PYZus{}space\\PYZus{}size}\\PY{p}{;}\\PY{+w}{ }\\PY{n}{j}\\PY{o}{+}\\PY{o}{+}\\PY{p}{)}\\PY{+w}{ }\\PY{p}{\\PYZob{}}\n",
       "\\PY{+w}{\t\t\t}\\PY{k}{if}\\PY{+w}{ }\\PY{p}{(}\\PY{n}{search\\PYZus{}space}\\PY{p}{[}\\PY{n}{j}\\PY{p}{]}\\PY{+w}{ }\\PY{o}{=}\\PY{o}{=}\\PY{+w}{ }\\PY{n}{queries}\\PY{p}{[}\\PY{n}{i}\\PY{p}{]}\\PY{p}{)}\\PY{+w}{ }\\PY{p}{\\PYZob{}}\n",
       "\\PY{+w}{\t\t\t\t}\\PY{n}{r}\\PY{+w}{ }\\PY{o}{+}\\PY{o}{=}\\PY{+w}{ }\\PY{n}{i}\\PY{p}{;}\n",
       "\\PY{+w}{\t\t\t\t}\\PY{k}{break}\\PY{p}{;}\n",
       "\\PY{+w}{\t\t\t}\\PY{p}{\\PYZcb{}}\n",
       "\\PY{+w}{\t\t}\\PY{p}{\\PYZcb{}}\n",
       "\\PY{+w}{\t}\\PY{p}{\\PYZcb{}}\n",
       "\\PY{+w}{\t}\\PY{k}{return}\\PY{+w}{ }\\PY{n}{r}\\PY{p}{;}\n",
       "\\PY{p}{\\PYZcb{}}\n",
       "\n",
       "\\PY{n}{END\\PYZus{}C}\n",
       "\\end{Verbatim}\n"
      ],
      "text/plain": [
       "// sum.cpp:1-31 (31 lines)\n",
       "#include <cstdlib>\n",
       "#include \"archlab.h\"\n",
       "#include <unistd.h>\n",
       "#include<algorithm>\n",
       "#include<cstdint>\n",
       "#include<unordered_set>\n",
       "#include \"perfstats.h\"\n",
       "#include \"sum.h\"\n",
       "\n",
       "#define START_C extern \"C\" { // this just hides the braces from the editor, so it won't try to indent everything.\n",
       "#define END_C  }\n",
       "\n",
       "\n",
       "START_C\n",
       "\n",
       "uint64_t sum_of_locations_solution(uint64_t *search_space, uint32_t search_space_size, uint64_t* queries, uint32_t query_count)\n",
       "{\n",
       "\tuint64_t r = 0;\n",
       "\n",
       "\tfor(uint32_t i = 0; i < query_count; i++) {\n",
       "\t\tfor(uint32_t j = 0; j < search_space_size; j++) {\n",
       "\t\t\tif (search_space[j] == queries[i]) {\n",
       "\t\t\t\tr += i;\n",
       "\t\t\t\tbreak;\n",
       "\t\t\t}\n",
       "\t\t}\n",
       "\t}\n",
       "\treturn r;\n",
       "}\n",
       "\n",
       "END_C"
      ]
     },
     "metadata": {},
     "output_type": "display_data"
    }
   ],
   "source": [
    "render_code(\"sum.cpp\", show=\"sum_of_locations\")"
   ]
  },
  {
   "cell_type": "markdown",
   "metadata": {
    "deletable": false,
    "editable": false,
    "tags": []
   },
   "source": [
    "The function takes two arrays: one contains a list of unique integers (`search_space`) while the other (`queries`) has a list of query values.  For each query, the function checks if the value is in `search_space`.  Then it returns the sum of the \"query numbers\" (i.e., the index of the query in `queries`) for the values it found.\n",
    "\n",
    "Your task is simple: make it run as quickly as possible.\n",
    "\n",
    "## Compiling, Running, Measuring\n",
    "\n",
    "For programming assignments, you'll need to use some shell commands.  You have a couple choices:\n",
    "\n",
    "1.  You can work in the jupyter notebook using the `!` character to run shell commands in code cells.  They are all provided below.\n",
    "2.  You can open up an terminal in Jupyter notebook.\n",
    "\n",
    "You can also switch between any of these options.  The shell commands all run in the same directory structure.\n",
    "\n",
    "Here are the key pieces of information you'll need for this programming assignment:\n",
    "\n",
    "1.  The source file you'll editing is `sum.cpp`.\n",
    "2.  To build the executable (`sum.exe`), you can type `make sum.exe`.\n",
    "\n",
    "You can run `sum.exe` locally for testing.  It supports several command line options:\n",
    "\n",
    "* `-f` to run `sum_of_locations` or `sum_of_locations_solution`\n",
    "* `-o` to put the results in `benchmark.csv`\n",
    "* `-r` will run the test 2 times\n",
    "* `-s` will run tests on the desired search space sizes.\n",
    "* `-q` will run tests on the desired query space sizes."
   ]
  },
  {
   "cell_type": "code",
   "execution_count": 76,
   "metadata": {
    "deletable": false,
    "editable": false,
    "tags": []
   },
   "outputs": [
    {
     "name": "stdout",
     "output_type": "stream",
     "text": [
      "mkdir -p ./build/ \n",
      "cp  sum.cpp ./build/sum.cpp\n",
      "g++  -O4 -DHAVE_LINUX_PERF_EVENT_H -I/cs203/mtung007/CS203UCR-2022fa-cs203-performance-starter.  -lm -pthread  -c -o ./build/sum.o ./build/sum.cpp\n",
      "\u001b[01m\u001b[K./build/sum.cpp:\u001b[m\u001b[K In function ‘\u001b[01m\u001b[Kuint64_t sum_of_locations_solution(uint64_t*, uint32_t, uint64_t*, uint32_t)\u001b[m\u001b[K’:\n",
      "\u001b[01m\u001b[K./build/sum.cpp:43:21:\u001b[m\u001b[K \u001b[01;31m\u001b[Kerror: \u001b[m\u001b[Krequest for member ‘\u001b[01m\u001b[Kfind\u001b[m\u001b[K’ in ‘\u001b[01m\u001b[Ksearch_space\u001b[m\u001b[K’, which is of non-class type ‘\u001b[01m\u001b[Kuint64_t*\u001b[m\u001b[K’ {aka ‘\u001b[01m\u001b[Klong unsigned int*\u001b[m\u001b[K’}\n",
      "   43 |    if (search_space.\u001b[01;31m\u001b[Kfind\u001b[m\u001b[K(queries[i]) != search_space.end())\n",
      "      |                     \u001b[01;31m\u001b[K^~~~\u001b[m\u001b[K\n",
      "\u001b[01m\u001b[K./build/sum.cpp:43:54:\u001b[m\u001b[K \u001b[01;31m\u001b[Kerror: \u001b[m\u001b[Krequest for member ‘\u001b[01m\u001b[Kend\u001b[m\u001b[K’ in ‘\u001b[01m\u001b[Ksearch_space\u001b[m\u001b[K’, which is of non-class type ‘\u001b[01m\u001b[Kuint64_t*\u001b[m\u001b[K’ {aka ‘\u001b[01m\u001b[Klong unsigned int*\u001b[m\u001b[K’}\n",
      "   43 |    if (search_space.find(queries[i]) != search_space.\u001b[01;31m\u001b[Kend\u001b[m\u001b[K())\n",
      "      |                                                      \u001b[01;31m\u001b[K^~~\u001b[m\u001b[K\n",
      "\u001b[01m\u001b[K./build/sum.cpp:49:2:\u001b[m\u001b[K \u001b[01;35m\u001b[Kwarning: \u001b[m\u001b[Kno return statement in function returning non-void [\u001b[01;35m\u001b[K-Wreturn-type\u001b[m\u001b[K]\n",
      "   49 |  \u001b[01;35m\u001b[K}\u001b[m\u001b[K\n",
      "      |  \u001b[01;35m\u001b[K^\u001b[m\u001b[K\n",
      "\u001b[01m\u001b[K./build/sum.cpp:\u001b[m\u001b[K At global scope:\n",
      "\u001b[01m\u001b[K./build/sum.cpp:50:2:\u001b[m\u001b[K \u001b[01;31m\u001b[Kerror: \u001b[m\u001b[Kexpected unqualified-id before ‘\u001b[01m\u001b[Kreturn\u001b[m\u001b[K’\n",
      "   50 |  \u001b[01;31m\u001b[Kreturn\u001b[m\u001b[K r;\n",
      "      |  \u001b[01;31m\u001b[K^~~~~~\u001b[m\u001b[K\n",
      "\u001b[01m\u001b[K./build/sum.cpp:11:16:\u001b[m\u001b[K \u001b[01;31m\u001b[Kerror: \u001b[m\u001b[Kexpected declaration before ‘\u001b[01m\u001b[K}\u001b[m\u001b[K’ token\n",
      "   11 | #define END_C  \u001b[01;31m\u001b[K}\u001b[m\u001b[K\n",
      "      |                \u001b[01;31m\u001b[K^\u001b[m\u001b[K\n",
      "\u001b[01m\u001b[K./build/sum.cpp:53:1:\u001b[m\u001b[K \u001b[01;36m\u001b[Knote: \u001b[m\u001b[Kin expansion of macro ‘\u001b[01m\u001b[KEND_C\u001b[m\u001b[K’\n",
      "   53 | \u001b[01;36m\u001b[KEND_C\u001b[m\u001b[K\n",
      "      | \u001b[01;36m\u001b[K^~~~~\u001b[m\u001b[K\n",
      "make: *** [Makefile:38: build/sum.o] Error 1\n",
      "srun -N1 -p cs203 ./sum.exe -f sum_of_locations sum_of_locations_solution -M 3200 -o benchmark.csv\n",
      "slurmstepd-quilava: error: execve(): /cs203/mtung007/CS203UCR-2022fa-cs203-performance-starter././sum.exe: No such file or directory\n",
      "srun: error: quilava: task 0: Exited with exit code 2\n"
     ]
    }
   ],
   "source": [
    "!make sum.exe\n",
    "!cs203 job run \"./sum.exe -f sum_of_locations sum_of_locations_solution -M 3200 -o benchmark.csv\""
   ]
  },
  {
   "cell_type": "code",
   "execution_count": 45,
   "metadata": {
    "deletable": false,
    "editable": false,
    "tags": []
   },
   "outputs": [
    {
     "ename": "FileNotFoundError",
     "evalue": "[Errno 2] No such file or directory: 'benchmark.csv'",
     "output_type": "error",
     "traceback": [
      "\u001b[0;31m---------------------------------------------------------------------------\u001b[0m",
      "\u001b[0;31mFileNotFoundError\u001b[0m                         Traceback (most recent call last)",
      "Cell \u001b[0;32mIn [45], line 1\u001b[0m\n\u001b[0;32m----> 1\u001b[0m display(\u001b[43mrender_csv\u001b[49m\u001b[43m(\u001b[49m\u001b[38;5;124;43m\"\u001b[39;49m\u001b[38;5;124;43mbenchmark.csv\u001b[39;49m\u001b[38;5;124;43m\"\u001b[39;49m\u001b[43m)\u001b[49m)\n",
      "File \u001b[0;32m~/CS203UCR-2022fa-cs203-performance-starter./notebook.py:257\u001b[0m, in \u001b[0;36mrender_csv\u001b[0;34m(file, columns, sort_by, average_by, skip)\u001b[0m\n\u001b[1;32m    256\u001b[0m \u001b[38;5;28;01mdef\u001b[39;00m \u001b[38;5;21mrender_csv\u001b[39m(file, columns \u001b[38;5;241m=\u001b[39m \u001b[38;5;28;01mNone\u001b[39;00m, sort_by\u001b[38;5;241m=\u001b[39m\u001b[38;5;28;01mNone\u001b[39;00m, average_by\u001b[38;5;241m=\u001b[39m\u001b[38;5;28;01mNone\u001b[39;00m, skip\u001b[38;5;241m=\u001b[39m\u001b[38;5;241m0\u001b[39m):\n\u001b[0;32m--> 257\u001b[0m     df \u001b[38;5;241m=\u001b[39m \u001b[43mpd\u001b[49m\u001b[38;5;241;43m.\u001b[39;49m\u001b[43mread_csv\u001b[49m\u001b[43m(\u001b[49m\u001b[43mfile\u001b[49m\u001b[43m,\u001b[49m\u001b[43m \u001b[49m\u001b[43msep\u001b[49m\u001b[38;5;241;43m=\u001b[39;49m\u001b[38;5;124;43m\"\u001b[39;49m\u001b[38;5;124;43m,\u001b[39;49m\u001b[38;5;124;43m\"\u001b[39;49m\u001b[43m)\u001b[49m\n\u001b[1;32m    258\u001b[0m     df \u001b[38;5;241m=\u001b[39m df[skip:]\n\u001b[1;32m    259\u001b[0m     \u001b[38;5;28;01mif\u001b[39;00m sort_by:\n",
      "File \u001b[0;32m/opt/jupyterhub/lib/python3.8/site-packages/pandas/util/_decorators.py:211\u001b[0m, in \u001b[0;36mdeprecate_kwarg.<locals>._deprecate_kwarg.<locals>.wrapper\u001b[0;34m(*args, **kwargs)\u001b[0m\n\u001b[1;32m    209\u001b[0m     \u001b[38;5;28;01melse\u001b[39;00m:\n\u001b[1;32m    210\u001b[0m         kwargs[new_arg_name] \u001b[38;5;241m=\u001b[39m new_arg_value\n\u001b[0;32m--> 211\u001b[0m \u001b[38;5;28;01mreturn\u001b[39;00m \u001b[43mfunc\u001b[49m\u001b[43m(\u001b[49m\u001b[38;5;241;43m*\u001b[39;49m\u001b[43margs\u001b[49m\u001b[43m,\u001b[49m\u001b[43m \u001b[49m\u001b[38;5;241;43m*\u001b[39;49m\u001b[38;5;241;43m*\u001b[39;49m\u001b[43mkwargs\u001b[49m\u001b[43m)\u001b[49m\n",
      "File \u001b[0;32m/opt/jupyterhub/lib/python3.8/site-packages/pandas/util/_decorators.py:317\u001b[0m, in \u001b[0;36mdeprecate_nonkeyword_arguments.<locals>.decorate.<locals>.wrapper\u001b[0;34m(*args, **kwargs)\u001b[0m\n\u001b[1;32m    311\u001b[0m \u001b[38;5;28;01mif\u001b[39;00m \u001b[38;5;28mlen\u001b[39m(args) \u001b[38;5;241m>\u001b[39m num_allow_args:\n\u001b[1;32m    312\u001b[0m     warnings\u001b[38;5;241m.\u001b[39mwarn(\n\u001b[1;32m    313\u001b[0m         msg\u001b[38;5;241m.\u001b[39mformat(arguments\u001b[38;5;241m=\u001b[39marguments),\n\u001b[1;32m    314\u001b[0m         \u001b[38;5;167;01mFutureWarning\u001b[39;00m,\n\u001b[1;32m    315\u001b[0m         stacklevel\u001b[38;5;241m=\u001b[39mfind_stack_level(inspect\u001b[38;5;241m.\u001b[39mcurrentframe()),\n\u001b[1;32m    316\u001b[0m     )\n\u001b[0;32m--> 317\u001b[0m \u001b[38;5;28;01mreturn\u001b[39;00m \u001b[43mfunc\u001b[49m\u001b[43m(\u001b[49m\u001b[38;5;241;43m*\u001b[39;49m\u001b[43margs\u001b[49m\u001b[43m,\u001b[49m\u001b[43m \u001b[49m\u001b[38;5;241;43m*\u001b[39;49m\u001b[38;5;241;43m*\u001b[39;49m\u001b[43mkwargs\u001b[49m\u001b[43m)\u001b[49m\n",
      "File \u001b[0;32m/opt/jupyterhub/lib/python3.8/site-packages/pandas/io/parsers/readers.py:950\u001b[0m, in \u001b[0;36mread_csv\u001b[0;34m(filepath_or_buffer, sep, delimiter, header, names, index_col, usecols, squeeze, prefix, mangle_dupe_cols, dtype, engine, converters, true_values, false_values, skipinitialspace, skiprows, skipfooter, nrows, na_values, keep_default_na, na_filter, verbose, skip_blank_lines, parse_dates, infer_datetime_format, keep_date_col, date_parser, dayfirst, cache_dates, iterator, chunksize, compression, thousands, decimal, lineterminator, quotechar, quoting, doublequote, escapechar, comment, encoding, encoding_errors, dialect, error_bad_lines, warn_bad_lines, on_bad_lines, delim_whitespace, low_memory, memory_map, float_precision, storage_options)\u001b[0m\n\u001b[1;32m    935\u001b[0m kwds_defaults \u001b[38;5;241m=\u001b[39m _refine_defaults_read(\n\u001b[1;32m    936\u001b[0m     dialect,\n\u001b[1;32m    937\u001b[0m     delimiter,\n\u001b[0;32m   (...)\u001b[0m\n\u001b[1;32m    946\u001b[0m     defaults\u001b[38;5;241m=\u001b[39m{\u001b[38;5;124m\"\u001b[39m\u001b[38;5;124mdelimiter\u001b[39m\u001b[38;5;124m\"\u001b[39m: \u001b[38;5;124m\"\u001b[39m\u001b[38;5;124m,\u001b[39m\u001b[38;5;124m\"\u001b[39m},\n\u001b[1;32m    947\u001b[0m )\n\u001b[1;32m    948\u001b[0m kwds\u001b[38;5;241m.\u001b[39mupdate(kwds_defaults)\n\u001b[0;32m--> 950\u001b[0m \u001b[38;5;28;01mreturn\u001b[39;00m \u001b[43m_read\u001b[49m\u001b[43m(\u001b[49m\u001b[43mfilepath_or_buffer\u001b[49m\u001b[43m,\u001b[49m\u001b[43m \u001b[49m\u001b[43mkwds\u001b[49m\u001b[43m)\u001b[49m\n",
      "File \u001b[0;32m/opt/jupyterhub/lib/python3.8/site-packages/pandas/io/parsers/readers.py:605\u001b[0m, in \u001b[0;36m_read\u001b[0;34m(filepath_or_buffer, kwds)\u001b[0m\n\u001b[1;32m    602\u001b[0m _validate_names(kwds\u001b[38;5;241m.\u001b[39mget(\u001b[38;5;124m\"\u001b[39m\u001b[38;5;124mnames\u001b[39m\u001b[38;5;124m\"\u001b[39m, \u001b[38;5;28;01mNone\u001b[39;00m))\n\u001b[1;32m    604\u001b[0m \u001b[38;5;66;03m# Create the parser.\u001b[39;00m\n\u001b[0;32m--> 605\u001b[0m parser \u001b[38;5;241m=\u001b[39m \u001b[43mTextFileReader\u001b[49m\u001b[43m(\u001b[49m\u001b[43mfilepath_or_buffer\u001b[49m\u001b[43m,\u001b[49m\u001b[43m \u001b[49m\u001b[38;5;241;43m*\u001b[39;49m\u001b[38;5;241;43m*\u001b[39;49m\u001b[43mkwds\u001b[49m\u001b[43m)\u001b[49m\n\u001b[1;32m    607\u001b[0m \u001b[38;5;28;01mif\u001b[39;00m chunksize \u001b[38;5;129;01mor\u001b[39;00m iterator:\n\u001b[1;32m    608\u001b[0m     \u001b[38;5;28;01mreturn\u001b[39;00m parser\n",
      "File \u001b[0;32m/opt/jupyterhub/lib/python3.8/site-packages/pandas/io/parsers/readers.py:1442\u001b[0m, in \u001b[0;36mTextFileReader.__init__\u001b[0;34m(self, f, engine, **kwds)\u001b[0m\n\u001b[1;32m   1439\u001b[0m     \u001b[38;5;28mself\u001b[39m\u001b[38;5;241m.\u001b[39moptions[\u001b[38;5;124m\"\u001b[39m\u001b[38;5;124mhas_index_names\u001b[39m\u001b[38;5;124m\"\u001b[39m] \u001b[38;5;241m=\u001b[39m kwds[\u001b[38;5;124m\"\u001b[39m\u001b[38;5;124mhas_index_names\u001b[39m\u001b[38;5;124m\"\u001b[39m]\n\u001b[1;32m   1441\u001b[0m \u001b[38;5;28mself\u001b[39m\u001b[38;5;241m.\u001b[39mhandles: IOHandles \u001b[38;5;241m|\u001b[39m \u001b[38;5;28;01mNone\u001b[39;00m \u001b[38;5;241m=\u001b[39m \u001b[38;5;28;01mNone\u001b[39;00m\n\u001b[0;32m-> 1442\u001b[0m \u001b[38;5;28mself\u001b[39m\u001b[38;5;241m.\u001b[39m_engine \u001b[38;5;241m=\u001b[39m \u001b[38;5;28;43mself\u001b[39;49m\u001b[38;5;241;43m.\u001b[39;49m\u001b[43m_make_engine\u001b[49m\u001b[43m(\u001b[49m\u001b[43mf\u001b[49m\u001b[43m,\u001b[49m\u001b[43m \u001b[49m\u001b[38;5;28;43mself\u001b[39;49m\u001b[38;5;241;43m.\u001b[39;49m\u001b[43mengine\u001b[49m\u001b[43m)\u001b[49m\n",
      "File \u001b[0;32m/opt/jupyterhub/lib/python3.8/site-packages/pandas/io/parsers/readers.py:1729\u001b[0m, in \u001b[0;36mTextFileReader._make_engine\u001b[0;34m(self, f, engine)\u001b[0m\n\u001b[1;32m   1727\u001b[0m     is_text \u001b[38;5;241m=\u001b[39m \u001b[38;5;28;01mFalse\u001b[39;00m\n\u001b[1;32m   1728\u001b[0m     mode \u001b[38;5;241m=\u001b[39m \u001b[38;5;124m\"\u001b[39m\u001b[38;5;124mrb\u001b[39m\u001b[38;5;124m\"\u001b[39m\n\u001b[0;32m-> 1729\u001b[0m \u001b[38;5;28mself\u001b[39m\u001b[38;5;241m.\u001b[39mhandles \u001b[38;5;241m=\u001b[39m \u001b[43mget_handle\u001b[49m\u001b[43m(\u001b[49m\n\u001b[1;32m   1730\u001b[0m \u001b[43m    \u001b[49m\u001b[43mf\u001b[49m\u001b[43m,\u001b[49m\n\u001b[1;32m   1731\u001b[0m \u001b[43m    \u001b[49m\u001b[43mmode\u001b[49m\u001b[43m,\u001b[49m\n\u001b[1;32m   1732\u001b[0m \u001b[43m    \u001b[49m\u001b[43mencoding\u001b[49m\u001b[38;5;241;43m=\u001b[39;49m\u001b[38;5;28;43mself\u001b[39;49m\u001b[38;5;241;43m.\u001b[39;49m\u001b[43moptions\u001b[49m\u001b[38;5;241;43m.\u001b[39;49m\u001b[43mget\u001b[49m\u001b[43m(\u001b[49m\u001b[38;5;124;43m\"\u001b[39;49m\u001b[38;5;124;43mencoding\u001b[39;49m\u001b[38;5;124;43m\"\u001b[39;49m\u001b[43m,\u001b[49m\u001b[43m \u001b[49m\u001b[38;5;28;43;01mNone\u001b[39;49;00m\u001b[43m)\u001b[49m\u001b[43m,\u001b[49m\n\u001b[1;32m   1733\u001b[0m \u001b[43m    \u001b[49m\u001b[43mcompression\u001b[49m\u001b[38;5;241;43m=\u001b[39;49m\u001b[38;5;28;43mself\u001b[39;49m\u001b[38;5;241;43m.\u001b[39;49m\u001b[43moptions\u001b[49m\u001b[38;5;241;43m.\u001b[39;49m\u001b[43mget\u001b[49m\u001b[43m(\u001b[49m\u001b[38;5;124;43m\"\u001b[39;49m\u001b[38;5;124;43mcompression\u001b[39;49m\u001b[38;5;124;43m\"\u001b[39;49m\u001b[43m,\u001b[49m\u001b[43m \u001b[49m\u001b[38;5;28;43;01mNone\u001b[39;49;00m\u001b[43m)\u001b[49m\u001b[43m,\u001b[49m\n\u001b[1;32m   1734\u001b[0m \u001b[43m    \u001b[49m\u001b[43mmemory_map\u001b[49m\u001b[38;5;241;43m=\u001b[39;49m\u001b[38;5;28;43mself\u001b[39;49m\u001b[38;5;241;43m.\u001b[39;49m\u001b[43moptions\u001b[49m\u001b[38;5;241;43m.\u001b[39;49m\u001b[43mget\u001b[49m\u001b[43m(\u001b[49m\u001b[38;5;124;43m\"\u001b[39;49m\u001b[38;5;124;43mmemory_map\u001b[39;49m\u001b[38;5;124;43m\"\u001b[39;49m\u001b[43m,\u001b[49m\u001b[43m \u001b[49m\u001b[38;5;28;43;01mFalse\u001b[39;49;00m\u001b[43m)\u001b[49m\u001b[43m,\u001b[49m\n\u001b[1;32m   1735\u001b[0m \u001b[43m    \u001b[49m\u001b[43mis_text\u001b[49m\u001b[38;5;241;43m=\u001b[39;49m\u001b[43mis_text\u001b[49m\u001b[43m,\u001b[49m\n\u001b[1;32m   1736\u001b[0m \u001b[43m    \u001b[49m\u001b[43merrors\u001b[49m\u001b[38;5;241;43m=\u001b[39;49m\u001b[38;5;28;43mself\u001b[39;49m\u001b[38;5;241;43m.\u001b[39;49m\u001b[43moptions\u001b[49m\u001b[38;5;241;43m.\u001b[39;49m\u001b[43mget\u001b[49m\u001b[43m(\u001b[49m\u001b[38;5;124;43m\"\u001b[39;49m\u001b[38;5;124;43mencoding_errors\u001b[39;49m\u001b[38;5;124;43m\"\u001b[39;49m\u001b[43m,\u001b[49m\u001b[43m \u001b[49m\u001b[38;5;124;43m\"\u001b[39;49m\u001b[38;5;124;43mstrict\u001b[39;49m\u001b[38;5;124;43m\"\u001b[39;49m\u001b[43m)\u001b[49m\u001b[43m,\u001b[49m\n\u001b[1;32m   1737\u001b[0m \u001b[43m    \u001b[49m\u001b[43mstorage_options\u001b[49m\u001b[38;5;241;43m=\u001b[39;49m\u001b[38;5;28;43mself\u001b[39;49m\u001b[38;5;241;43m.\u001b[39;49m\u001b[43moptions\u001b[49m\u001b[38;5;241;43m.\u001b[39;49m\u001b[43mget\u001b[49m\u001b[43m(\u001b[49m\u001b[38;5;124;43m\"\u001b[39;49m\u001b[38;5;124;43mstorage_options\u001b[39;49m\u001b[38;5;124;43m\"\u001b[39;49m\u001b[43m,\u001b[49m\u001b[43m \u001b[49m\u001b[38;5;28;43;01mNone\u001b[39;49;00m\u001b[43m)\u001b[49m\u001b[43m,\u001b[49m\n\u001b[1;32m   1738\u001b[0m \u001b[43m\u001b[49m\u001b[43m)\u001b[49m\n\u001b[1;32m   1739\u001b[0m \u001b[38;5;28;01massert\u001b[39;00m \u001b[38;5;28mself\u001b[39m\u001b[38;5;241m.\u001b[39mhandles \u001b[38;5;129;01mis\u001b[39;00m \u001b[38;5;129;01mnot\u001b[39;00m \u001b[38;5;28;01mNone\u001b[39;00m\n\u001b[1;32m   1740\u001b[0m f \u001b[38;5;241m=\u001b[39m \u001b[38;5;28mself\u001b[39m\u001b[38;5;241m.\u001b[39mhandles\u001b[38;5;241m.\u001b[39mhandle\n",
      "File \u001b[0;32m/opt/jupyterhub/lib/python3.8/site-packages/pandas/io/common.py:857\u001b[0m, in \u001b[0;36mget_handle\u001b[0;34m(path_or_buf, mode, encoding, compression, memory_map, is_text, errors, storage_options)\u001b[0m\n\u001b[1;32m    852\u001b[0m \u001b[38;5;28;01melif\u001b[39;00m \u001b[38;5;28misinstance\u001b[39m(handle, \u001b[38;5;28mstr\u001b[39m):\n\u001b[1;32m    853\u001b[0m     \u001b[38;5;66;03m# Check whether the filename is to be opened in binary mode.\u001b[39;00m\n\u001b[1;32m    854\u001b[0m     \u001b[38;5;66;03m# Binary mode does not support 'encoding' and 'newline'.\u001b[39;00m\n\u001b[1;32m    855\u001b[0m     \u001b[38;5;28;01mif\u001b[39;00m ioargs\u001b[38;5;241m.\u001b[39mencoding \u001b[38;5;129;01mand\u001b[39;00m \u001b[38;5;124m\"\u001b[39m\u001b[38;5;124mb\u001b[39m\u001b[38;5;124m\"\u001b[39m \u001b[38;5;129;01mnot\u001b[39;00m \u001b[38;5;129;01min\u001b[39;00m ioargs\u001b[38;5;241m.\u001b[39mmode:\n\u001b[1;32m    856\u001b[0m         \u001b[38;5;66;03m# Encoding\u001b[39;00m\n\u001b[0;32m--> 857\u001b[0m         handle \u001b[38;5;241m=\u001b[39m \u001b[38;5;28;43mopen\u001b[39;49m\u001b[43m(\u001b[49m\n\u001b[1;32m    858\u001b[0m \u001b[43m            \u001b[49m\u001b[43mhandle\u001b[49m\u001b[43m,\u001b[49m\n\u001b[1;32m    859\u001b[0m \u001b[43m            \u001b[49m\u001b[43mioargs\u001b[49m\u001b[38;5;241;43m.\u001b[39;49m\u001b[43mmode\u001b[49m\u001b[43m,\u001b[49m\n\u001b[1;32m    860\u001b[0m \u001b[43m            \u001b[49m\u001b[43mencoding\u001b[49m\u001b[38;5;241;43m=\u001b[39;49m\u001b[43mioargs\u001b[49m\u001b[38;5;241;43m.\u001b[39;49m\u001b[43mencoding\u001b[49m\u001b[43m,\u001b[49m\n\u001b[1;32m    861\u001b[0m \u001b[43m            \u001b[49m\u001b[43merrors\u001b[49m\u001b[38;5;241;43m=\u001b[39;49m\u001b[43merrors\u001b[49m\u001b[43m,\u001b[49m\n\u001b[1;32m    862\u001b[0m \u001b[43m            \u001b[49m\u001b[43mnewline\u001b[49m\u001b[38;5;241;43m=\u001b[39;49m\u001b[38;5;124;43m\"\u001b[39;49m\u001b[38;5;124;43m\"\u001b[39;49m\u001b[43m,\u001b[49m\n\u001b[1;32m    863\u001b[0m \u001b[43m        \u001b[49m\u001b[43m)\u001b[49m\n\u001b[1;32m    864\u001b[0m     \u001b[38;5;28;01melse\u001b[39;00m:\n\u001b[1;32m    865\u001b[0m         \u001b[38;5;66;03m# Binary mode\u001b[39;00m\n\u001b[1;32m    866\u001b[0m         handle \u001b[38;5;241m=\u001b[39m \u001b[38;5;28mopen\u001b[39m(handle, ioargs\u001b[38;5;241m.\u001b[39mmode)\n",
      "\u001b[0;31mFileNotFoundError\u001b[0m: [Errno 2] No such file or directory: 'benchmark.csv'"
     ]
    }
   ],
   "source": [
    "display(render_csv(\"benchmark.csv\"))"
   ]
  },
  {
   "cell_type": "markdown",
   "metadata": {},
   "source": [
    "The output of the program is in `result` and the execution time is in `ET`."
   ]
  },
  {
   "cell_type": "markdown",
   "metadata": {
    "deletable": false,
    "editable": false,
    "tags": []
   },
   "source": [
    "## You Implementations\n",
    "\n",
    "The starter code for `sum.cpp` has one solution in it: `sum_of_locations_solution()`.    The baseline (unoptimized) implementation is in `baseline_sum.cpp` and is called `sum_of_locations()`.  `sum_of_locations_solution()` in `sum.cpp` should eventually contain your best implementation, and that's what we will grade.  You can add as many other implementations to `sum.cpp` as you'd like.  \n",
    "\n",
    "## Setting Compiler Flags\n",
    "\n",
    "There are two ways to set compiler flags for your code.  When you turn you code into the autograder for credit, you'll need to add the compiler flags in `config.make`.  Here's the initial contents:"
   ]
  },
  {
   "cell_type": "code",
   "execution_count": 46,
   "metadata": {
    "deletable": false,
    "editable": false,
    "tags": []
   },
   "outputs": [
    {
     "data": {
      "text/html": [
       "<style>pre { line-height: 125%; }\n",
       "td.linenos .normal { color: inherit; background-color: transparent; padding-left: 5px; padding-right: 5px; }\n",
       "span.linenos { color: inherit; background-color: transparent; padding-left: 5px; padding-right: 5px; }\n",
       "td.linenos .special { color: #000000; background-color: #ffffc0; padding-left: 5px; padding-right: 5px; }\n",
       "span.linenos.special { color: #000000; background-color: #ffffc0; padding-left: 5px; padding-right: 5px; }\n",
       ".output_html .hll { background-color: #ffffcc }\n",
       ".output_html { background: #f8f8f8; }\n",
       ".output_html .c { color: #3D7B7B; font-style: italic } /* Comment */\n",
       ".output_html .err { border: 1px solid #FF0000 } /* Error */\n",
       ".output_html .k { color: #008000; font-weight: bold } /* Keyword */\n",
       ".output_html .o { color: #666666 } /* Operator */\n",
       ".output_html .ch { color: #3D7B7B; font-style: italic } /* Comment.Hashbang */\n",
       ".output_html .cm { color: #3D7B7B; font-style: italic } /* Comment.Multiline */\n",
       ".output_html .cp { color: #9C6500 } /* Comment.Preproc */\n",
       ".output_html .cpf { color: #3D7B7B; font-style: italic } /* Comment.PreprocFile */\n",
       ".output_html .c1 { color: #3D7B7B; font-style: italic } /* Comment.Single */\n",
       ".output_html .cs { color: #3D7B7B; font-style: italic } /* Comment.Special */\n",
       ".output_html .gd { color: #A00000 } /* Generic.Deleted */\n",
       ".output_html .ge { font-style: italic } /* Generic.Emph */\n",
       ".output_html .gr { color: #E40000 } /* Generic.Error */\n",
       ".output_html .gh { color: #000080; font-weight: bold } /* Generic.Heading */\n",
       ".output_html .gi { color: #008400 } /* Generic.Inserted */\n",
       ".output_html .go { color: #717171 } /* Generic.Output */\n",
       ".output_html .gp { color: #000080; font-weight: bold } /* Generic.Prompt */\n",
       ".output_html .gs { font-weight: bold } /* Generic.Strong */\n",
       ".output_html .gu { color: #800080; font-weight: bold } /* Generic.Subheading */\n",
       ".output_html .gt { color: #0044DD } /* Generic.Traceback */\n",
       ".output_html .kc { color: #008000; font-weight: bold } /* Keyword.Constant */\n",
       ".output_html .kd { color: #008000; font-weight: bold } /* Keyword.Declaration */\n",
       ".output_html .kn { color: #008000; font-weight: bold } /* Keyword.Namespace */\n",
       ".output_html .kp { color: #008000 } /* Keyword.Pseudo */\n",
       ".output_html .kr { color: #008000; font-weight: bold } /* Keyword.Reserved */\n",
       ".output_html .kt { color: #B00040 } /* Keyword.Type */\n",
       ".output_html .m { color: #666666 } /* Literal.Number */\n",
       ".output_html .s { color: #BA2121 } /* Literal.String */\n",
       ".output_html .na { color: #687822 } /* Name.Attribute */\n",
       ".output_html .nb { color: #008000 } /* Name.Builtin */\n",
       ".output_html .nc { color: #0000FF; font-weight: bold } /* Name.Class */\n",
       ".output_html .no { color: #880000 } /* Name.Constant */\n",
       ".output_html .nd { color: #AA22FF } /* Name.Decorator */\n",
       ".output_html .ni { color: #717171; font-weight: bold } /* Name.Entity */\n",
       ".output_html .ne { color: #CB3F38; font-weight: bold } /* Name.Exception */\n",
       ".output_html .nf { color: #0000FF } /* Name.Function */\n",
       ".output_html .nl { color: #767600 } /* Name.Label */\n",
       ".output_html .nn { color: #0000FF; font-weight: bold } /* Name.Namespace */\n",
       ".output_html .nt { color: #008000; font-weight: bold } /* Name.Tag */\n",
       ".output_html .nv { color: #19177C } /* Name.Variable */\n",
       ".output_html .ow { color: #AA22FF; font-weight: bold } /* Operator.Word */\n",
       ".output_html .w { color: #bbbbbb } /* Text.Whitespace */\n",
       ".output_html .mb { color: #666666 } /* Literal.Number.Bin */\n",
       ".output_html .mf { color: #666666 } /* Literal.Number.Float */\n",
       ".output_html .mh { color: #666666 } /* Literal.Number.Hex */\n",
       ".output_html .mi { color: #666666 } /* Literal.Number.Integer */\n",
       ".output_html .mo { color: #666666 } /* Literal.Number.Oct */\n",
       ".output_html .sa { color: #BA2121 } /* Literal.String.Affix */\n",
       ".output_html .sb { color: #BA2121 } /* Literal.String.Backtick */\n",
       ".output_html .sc { color: #BA2121 } /* Literal.String.Char */\n",
       ".output_html .dl { color: #BA2121 } /* Literal.String.Delimiter */\n",
       ".output_html .sd { color: #BA2121; font-style: italic } /* Literal.String.Doc */\n",
       ".output_html .s2 { color: #BA2121 } /* Literal.String.Double */\n",
       ".output_html .se { color: #AA5D1F; font-weight: bold } /* Literal.String.Escape */\n",
       ".output_html .sh { color: #BA2121 } /* Literal.String.Heredoc */\n",
       ".output_html .si { color: #A45A77; font-weight: bold } /* Literal.String.Interpol */\n",
       ".output_html .sx { color: #008000 } /* Literal.String.Other */\n",
       ".output_html .sr { color: #A45A77 } /* Literal.String.Regex */\n",
       ".output_html .s1 { color: #BA2121 } /* Literal.String.Single */\n",
       ".output_html .ss { color: #19177C } /* Literal.String.Symbol */\n",
       ".output_html .bp { color: #008000 } /* Name.Builtin.Pseudo */\n",
       ".output_html .fm { color: #0000FF } /* Name.Function.Magic */\n",
       ".output_html .vc { color: #19177C } /* Name.Variable.Class */\n",
       ".output_html .vg { color: #19177C } /* Name.Variable.Global */\n",
       ".output_html .vi { color: #19177C } /* Name.Variable.Instance */\n",
       ".output_html .vm { color: #19177C } /* Name.Variable.Magic */\n",
       ".output_html .il { color: #666666 } /* Literal.Number.Integer.Long */</style><div class=\"highlight\"><pre><span></span><span class=\"c1\">// config.make:1-2 (2 lines)</span>\n",
       "<span class=\"n\">SUM_OPTIMIZE</span><span class=\"o\">=-</span><span class=\"n\">O4</span><span class=\"w\"></span>\n",
       "</pre></div>\n"
      ],
      "text/latex": [
       "\\begin{Verbatim}[commandchars=\\\\\\{\\}]\n",
       "\\PY{c+c1}{// config.make:1\\PYZhy{}2 (2 lines)}\n",
       "\\PY{n}{SUM\\PYZus{}OPTIMIZE}\\PY{o}{=}\\PY{o}{\\PYZhy{}}\\PY{n}{O4}\n",
       "\\end{Verbatim}\n"
      ],
      "text/plain": [
       "// config.make:1-2 (2 lines)\n",
       "SUM_OPTIMIZE=-O4\n"
      ]
     },
     "metadata": {},
     "output_type": "display_data"
    }
   ],
   "source": [
    "render_code(\"config.make\")"
   ]
  },
  {
   "cell_type": "markdown",
   "metadata": {
    "deletable": false,
    "editable": false,
    "tags": []
   },
   "source": [
    "So, it will compile your code with no optimizations.\n",
    "\n",
    "To edit `config.make`, you can open up a terminal and edit it with `emacs`, `vim`, or `pico`.\n",
    "\n",
    "You can also pass `SUM_OPTIMIZE` to make.  Run this cell and the `-finline-functions` appears in the command that compiles `sum.cpp`."
   ]
  },
  {
   "cell_type": "code",
   "execution_count": 47,
   "metadata": {
    "deletable": false,
    "editable": false,
    "tags": []
   },
   "outputs": [
    {
     "name": "stdout",
     "output_type": "stream",
     "text": [
      "rm -f *.exe ./build/*\n",
      "mkdir -p ./build/ \n",
      "cp  perfstats.c ./build/perfstats.c\n",
      "g++  -DHAVE_LINUX_PERF_EVENT_H -I/cs203/mtung007/CS203UCR-2022fa-cs203-performance-starter.  -lm -pthread  -o ./build/perfstats.o -c ./build/perfstats.c\n",
      "mkdir -p ./build/ \n",
      "cp  sum.cpp ./build/sum.cpp\n",
      "g++  -finline-functions -DHAVE_LINUX_PERF_EVENT_H -I/cs203/mtung007/CS203UCR-2022fa-cs203-performance-starter.  -lm -pthread  -c -o ./build/sum.o ./build/sum.cpp\n",
      "mkdir -p ./build/ \n",
      "cp  sum_main.cpp ./build/sum_main.cpp\n",
      "g++   -DHAVE_LINUX_PERF_EVENT_H -I/cs203/mtung007/CS203UCR-2022fa-cs203-performance-starter.  -lm -pthread  -c -o ./build/sum_main.o ./build/sum_main.cpp\n",
      "\u001b[01m\u001b[K./build/sum_main.cpp:\u001b[m\u001b[K In function ‘\u001b[01m\u001b[Kint main(int, char**)\u001b[m\u001b[K’:\n",
      "\u001b[01m\u001b[K./build/sum_main.cpp:149:36:\u001b[m\u001b[K \u001b[01;35m\u001b[Kwarning: \u001b[m\u001b[KISO C++ forbids converting a string constant to ‘\u001b[01m\u001b[Kchar*\u001b[m\u001b[K’ [\u001b[01;35m\u001b[K-Wwrite-strings\u001b[m\u001b[K]\n",
      "  149 |  perfstats_print_header(stat_file, \u001b[01;35m\u001b[K\"size,rep,function,query_counts,IC,Cycles,CPI,MHz,CT,ET,cmdlineMHz,answer\"\u001b[m\u001b[K);\n",
      "      |                                    \u001b[01;35m\u001b[K^~~~~~~~~~~~~~~~~~~~~~~~~~~~~~~~~~~~~~~~~~~~~~~~~~~~~~~~~~~~~~~~~~~~~~~~~~\u001b[m\u001b[K\n",
      "mkdir -p ./build/ \n",
      "cp  sum_baseline.cpp ./build/sum_baseline.cpp\n",
      "g++   -DHAVE_LINUX_PERF_EVENT_H -I/cs203/mtung007/CS203UCR-2022fa-cs203-performance-starter.  -lm -pthread  -c -o ./build/sum_baseline.o ./build/sum_baseline.cpp\n",
      "g++   -DHAVE_LINUX_PERF_EVENT_H -I/cs203/mtung007/CS203UCR-2022fa-cs203-performance-starter.  -lm -pthread  ./build/perfstats.o ./build/sum.o ./build/sum_main.o ./build/sum_baseline.o  -o sum.exe\n"
     ]
    }
   ],
   "source": [
    "!make clean\n",
    "!make sum.exe SUM_OPTIMIZE=-finline-functions"
   ]
  },
  {
   "cell_type": "markdown",
   "metadata": {
    "deletable": false,
    "editable": false,
    "tags": []
   },
   "source": [
    "## Things To Try\n",
    "\n",
    "Here are some suggestions on how to approach the assignment.\n",
    "\n",
    "1.  Make sure to set appropriate compiler flags\n",
    "2.  Think about _what_ `sum_of_locations()` is trying to achieve rather than _how_ it is doing it. \n",
    "3.  If you had to achieve the same thing, how would you approach it?\n",
    "4.  How does `sum_of_locations()` use each of its data structures?  What operations does it apply to each of them?\n",
    "5.  Is there a better choice of data structure?\n",
    "6.  The C++ standard template library is available for you to use.\n",
    "\n",
    "You can assume that `queries` has lots of entries.\n",
    "\n",
    "To achieve the target speedup you will need to modify the code/algorithm _and_ apply compiler optimizations.\n"
   ]
  },
  {
   "cell_type": "markdown",
   "metadata": {
    "deletable": false,
    "editable": false,
    "tags": []
   },
   "source": [
    "## Useful Tools\n",
    "\n",
    "The tools we'll use in the assignments to manipulate and plot data are based on two widely-used software packages:  [Pandas](https://pandas.pydata.org/) and [matplotlib](https://matplotlib.org/).  They are powerful software packages with complex interfaces.  Most of the tools you'll use directly are defined in `notebook.py`.  These are the same functions that I've used above plot results, so this Jupyter Notebook is full of examples of how they work.  The portion of the assignment starting with [C++ Revisited](#C++-Revisited) is especially useful in this regard.\n",
    "\n",
    "The documentation below provides an introduction to the tools in `notebook.py`.\n",
    "\n",
    "### Data Frames\n",
    "\n",
    "Data frames are a fancy sort of 2-dimensional array.  They have rows of data and named columns -- very much like the CSV files that our experiments generate.  Getting a dataframe from a CSV file is easy:"
   ]
  },
  {
   "cell_type": "code",
   "execution_count": 48,
   "metadata": {
    "deletable": false,
    "editable": false,
    "tags": []
   },
   "outputs": [
    {
     "ename": "FileNotFoundError",
     "evalue": "[Errno 2] No such file or directory: 'benchmark.csv'",
     "output_type": "error",
     "traceback": [
      "\u001b[0;31m---------------------------------------------------------------------------\u001b[0m",
      "\u001b[0;31mFileNotFoundError\u001b[0m                         Traceback (most recent call last)",
      "Cell \u001b[0;32mIn [48], line 1\u001b[0m\n\u001b[0;32m----> 1\u001b[0m df \u001b[38;5;241m=\u001b[39m \u001b[43mrender_csv\u001b[49m\u001b[43m(\u001b[49m\u001b[38;5;124;43m\"\u001b[39;49m\u001b[38;5;124;43mbenchmark.csv\u001b[39;49m\u001b[38;5;124;43m\"\u001b[39;49m\u001b[43m)\u001b[49m\n",
      "File \u001b[0;32m~/CS203UCR-2022fa-cs203-performance-starter./notebook.py:257\u001b[0m, in \u001b[0;36mrender_csv\u001b[0;34m(file, columns, sort_by, average_by, skip)\u001b[0m\n\u001b[1;32m    256\u001b[0m \u001b[38;5;28;01mdef\u001b[39;00m \u001b[38;5;21mrender_csv\u001b[39m(file, columns \u001b[38;5;241m=\u001b[39m \u001b[38;5;28;01mNone\u001b[39;00m, sort_by\u001b[38;5;241m=\u001b[39m\u001b[38;5;28;01mNone\u001b[39;00m, average_by\u001b[38;5;241m=\u001b[39m\u001b[38;5;28;01mNone\u001b[39;00m, skip\u001b[38;5;241m=\u001b[39m\u001b[38;5;241m0\u001b[39m):\n\u001b[0;32m--> 257\u001b[0m     df \u001b[38;5;241m=\u001b[39m \u001b[43mpd\u001b[49m\u001b[38;5;241;43m.\u001b[39;49m\u001b[43mread_csv\u001b[49m\u001b[43m(\u001b[49m\u001b[43mfile\u001b[49m\u001b[43m,\u001b[49m\u001b[43m \u001b[49m\u001b[43msep\u001b[49m\u001b[38;5;241;43m=\u001b[39;49m\u001b[38;5;124;43m\"\u001b[39;49m\u001b[38;5;124;43m,\u001b[39;49m\u001b[38;5;124;43m\"\u001b[39;49m\u001b[43m)\u001b[49m\n\u001b[1;32m    258\u001b[0m     df \u001b[38;5;241m=\u001b[39m df[skip:]\n\u001b[1;32m    259\u001b[0m     \u001b[38;5;28;01mif\u001b[39;00m sort_by:\n",
      "File \u001b[0;32m/opt/jupyterhub/lib/python3.8/site-packages/pandas/util/_decorators.py:211\u001b[0m, in \u001b[0;36mdeprecate_kwarg.<locals>._deprecate_kwarg.<locals>.wrapper\u001b[0;34m(*args, **kwargs)\u001b[0m\n\u001b[1;32m    209\u001b[0m     \u001b[38;5;28;01melse\u001b[39;00m:\n\u001b[1;32m    210\u001b[0m         kwargs[new_arg_name] \u001b[38;5;241m=\u001b[39m new_arg_value\n\u001b[0;32m--> 211\u001b[0m \u001b[38;5;28;01mreturn\u001b[39;00m \u001b[43mfunc\u001b[49m\u001b[43m(\u001b[49m\u001b[38;5;241;43m*\u001b[39;49m\u001b[43margs\u001b[49m\u001b[43m,\u001b[49m\u001b[43m \u001b[49m\u001b[38;5;241;43m*\u001b[39;49m\u001b[38;5;241;43m*\u001b[39;49m\u001b[43mkwargs\u001b[49m\u001b[43m)\u001b[49m\n",
      "File \u001b[0;32m/opt/jupyterhub/lib/python3.8/site-packages/pandas/util/_decorators.py:317\u001b[0m, in \u001b[0;36mdeprecate_nonkeyword_arguments.<locals>.decorate.<locals>.wrapper\u001b[0;34m(*args, **kwargs)\u001b[0m\n\u001b[1;32m    311\u001b[0m \u001b[38;5;28;01mif\u001b[39;00m \u001b[38;5;28mlen\u001b[39m(args) \u001b[38;5;241m>\u001b[39m num_allow_args:\n\u001b[1;32m    312\u001b[0m     warnings\u001b[38;5;241m.\u001b[39mwarn(\n\u001b[1;32m    313\u001b[0m         msg\u001b[38;5;241m.\u001b[39mformat(arguments\u001b[38;5;241m=\u001b[39marguments),\n\u001b[1;32m    314\u001b[0m         \u001b[38;5;167;01mFutureWarning\u001b[39;00m,\n\u001b[1;32m    315\u001b[0m         stacklevel\u001b[38;5;241m=\u001b[39mfind_stack_level(inspect\u001b[38;5;241m.\u001b[39mcurrentframe()),\n\u001b[1;32m    316\u001b[0m     )\n\u001b[0;32m--> 317\u001b[0m \u001b[38;5;28;01mreturn\u001b[39;00m \u001b[43mfunc\u001b[49m\u001b[43m(\u001b[49m\u001b[38;5;241;43m*\u001b[39;49m\u001b[43margs\u001b[49m\u001b[43m,\u001b[49m\u001b[43m \u001b[49m\u001b[38;5;241;43m*\u001b[39;49m\u001b[38;5;241;43m*\u001b[39;49m\u001b[43mkwargs\u001b[49m\u001b[43m)\u001b[49m\n",
      "File \u001b[0;32m/opt/jupyterhub/lib/python3.8/site-packages/pandas/io/parsers/readers.py:950\u001b[0m, in \u001b[0;36mread_csv\u001b[0;34m(filepath_or_buffer, sep, delimiter, header, names, index_col, usecols, squeeze, prefix, mangle_dupe_cols, dtype, engine, converters, true_values, false_values, skipinitialspace, skiprows, skipfooter, nrows, na_values, keep_default_na, na_filter, verbose, skip_blank_lines, parse_dates, infer_datetime_format, keep_date_col, date_parser, dayfirst, cache_dates, iterator, chunksize, compression, thousands, decimal, lineterminator, quotechar, quoting, doublequote, escapechar, comment, encoding, encoding_errors, dialect, error_bad_lines, warn_bad_lines, on_bad_lines, delim_whitespace, low_memory, memory_map, float_precision, storage_options)\u001b[0m\n\u001b[1;32m    935\u001b[0m kwds_defaults \u001b[38;5;241m=\u001b[39m _refine_defaults_read(\n\u001b[1;32m    936\u001b[0m     dialect,\n\u001b[1;32m    937\u001b[0m     delimiter,\n\u001b[0;32m   (...)\u001b[0m\n\u001b[1;32m    946\u001b[0m     defaults\u001b[38;5;241m=\u001b[39m{\u001b[38;5;124m\"\u001b[39m\u001b[38;5;124mdelimiter\u001b[39m\u001b[38;5;124m\"\u001b[39m: \u001b[38;5;124m\"\u001b[39m\u001b[38;5;124m,\u001b[39m\u001b[38;5;124m\"\u001b[39m},\n\u001b[1;32m    947\u001b[0m )\n\u001b[1;32m    948\u001b[0m kwds\u001b[38;5;241m.\u001b[39mupdate(kwds_defaults)\n\u001b[0;32m--> 950\u001b[0m \u001b[38;5;28;01mreturn\u001b[39;00m \u001b[43m_read\u001b[49m\u001b[43m(\u001b[49m\u001b[43mfilepath_or_buffer\u001b[49m\u001b[43m,\u001b[49m\u001b[43m \u001b[49m\u001b[43mkwds\u001b[49m\u001b[43m)\u001b[49m\n",
      "File \u001b[0;32m/opt/jupyterhub/lib/python3.8/site-packages/pandas/io/parsers/readers.py:605\u001b[0m, in \u001b[0;36m_read\u001b[0;34m(filepath_or_buffer, kwds)\u001b[0m\n\u001b[1;32m    602\u001b[0m _validate_names(kwds\u001b[38;5;241m.\u001b[39mget(\u001b[38;5;124m\"\u001b[39m\u001b[38;5;124mnames\u001b[39m\u001b[38;5;124m\"\u001b[39m, \u001b[38;5;28;01mNone\u001b[39;00m))\n\u001b[1;32m    604\u001b[0m \u001b[38;5;66;03m# Create the parser.\u001b[39;00m\n\u001b[0;32m--> 605\u001b[0m parser \u001b[38;5;241m=\u001b[39m \u001b[43mTextFileReader\u001b[49m\u001b[43m(\u001b[49m\u001b[43mfilepath_or_buffer\u001b[49m\u001b[43m,\u001b[49m\u001b[43m \u001b[49m\u001b[38;5;241;43m*\u001b[39;49m\u001b[38;5;241;43m*\u001b[39;49m\u001b[43mkwds\u001b[49m\u001b[43m)\u001b[49m\n\u001b[1;32m    607\u001b[0m \u001b[38;5;28;01mif\u001b[39;00m chunksize \u001b[38;5;129;01mor\u001b[39;00m iterator:\n\u001b[1;32m    608\u001b[0m     \u001b[38;5;28;01mreturn\u001b[39;00m parser\n",
      "File \u001b[0;32m/opt/jupyterhub/lib/python3.8/site-packages/pandas/io/parsers/readers.py:1442\u001b[0m, in \u001b[0;36mTextFileReader.__init__\u001b[0;34m(self, f, engine, **kwds)\u001b[0m\n\u001b[1;32m   1439\u001b[0m     \u001b[38;5;28mself\u001b[39m\u001b[38;5;241m.\u001b[39moptions[\u001b[38;5;124m\"\u001b[39m\u001b[38;5;124mhas_index_names\u001b[39m\u001b[38;5;124m\"\u001b[39m] \u001b[38;5;241m=\u001b[39m kwds[\u001b[38;5;124m\"\u001b[39m\u001b[38;5;124mhas_index_names\u001b[39m\u001b[38;5;124m\"\u001b[39m]\n\u001b[1;32m   1441\u001b[0m \u001b[38;5;28mself\u001b[39m\u001b[38;5;241m.\u001b[39mhandles: IOHandles \u001b[38;5;241m|\u001b[39m \u001b[38;5;28;01mNone\u001b[39;00m \u001b[38;5;241m=\u001b[39m \u001b[38;5;28;01mNone\u001b[39;00m\n\u001b[0;32m-> 1442\u001b[0m \u001b[38;5;28mself\u001b[39m\u001b[38;5;241m.\u001b[39m_engine \u001b[38;5;241m=\u001b[39m \u001b[38;5;28;43mself\u001b[39;49m\u001b[38;5;241;43m.\u001b[39;49m\u001b[43m_make_engine\u001b[49m\u001b[43m(\u001b[49m\u001b[43mf\u001b[49m\u001b[43m,\u001b[49m\u001b[43m \u001b[49m\u001b[38;5;28;43mself\u001b[39;49m\u001b[38;5;241;43m.\u001b[39;49m\u001b[43mengine\u001b[49m\u001b[43m)\u001b[49m\n",
      "File \u001b[0;32m/opt/jupyterhub/lib/python3.8/site-packages/pandas/io/parsers/readers.py:1729\u001b[0m, in \u001b[0;36mTextFileReader._make_engine\u001b[0;34m(self, f, engine)\u001b[0m\n\u001b[1;32m   1727\u001b[0m     is_text \u001b[38;5;241m=\u001b[39m \u001b[38;5;28;01mFalse\u001b[39;00m\n\u001b[1;32m   1728\u001b[0m     mode \u001b[38;5;241m=\u001b[39m \u001b[38;5;124m\"\u001b[39m\u001b[38;5;124mrb\u001b[39m\u001b[38;5;124m\"\u001b[39m\n\u001b[0;32m-> 1729\u001b[0m \u001b[38;5;28mself\u001b[39m\u001b[38;5;241m.\u001b[39mhandles \u001b[38;5;241m=\u001b[39m \u001b[43mget_handle\u001b[49m\u001b[43m(\u001b[49m\n\u001b[1;32m   1730\u001b[0m \u001b[43m    \u001b[49m\u001b[43mf\u001b[49m\u001b[43m,\u001b[49m\n\u001b[1;32m   1731\u001b[0m \u001b[43m    \u001b[49m\u001b[43mmode\u001b[49m\u001b[43m,\u001b[49m\n\u001b[1;32m   1732\u001b[0m \u001b[43m    \u001b[49m\u001b[43mencoding\u001b[49m\u001b[38;5;241;43m=\u001b[39;49m\u001b[38;5;28;43mself\u001b[39;49m\u001b[38;5;241;43m.\u001b[39;49m\u001b[43moptions\u001b[49m\u001b[38;5;241;43m.\u001b[39;49m\u001b[43mget\u001b[49m\u001b[43m(\u001b[49m\u001b[38;5;124;43m\"\u001b[39;49m\u001b[38;5;124;43mencoding\u001b[39;49m\u001b[38;5;124;43m\"\u001b[39;49m\u001b[43m,\u001b[49m\u001b[43m \u001b[49m\u001b[38;5;28;43;01mNone\u001b[39;49;00m\u001b[43m)\u001b[49m\u001b[43m,\u001b[49m\n\u001b[1;32m   1733\u001b[0m \u001b[43m    \u001b[49m\u001b[43mcompression\u001b[49m\u001b[38;5;241;43m=\u001b[39;49m\u001b[38;5;28;43mself\u001b[39;49m\u001b[38;5;241;43m.\u001b[39;49m\u001b[43moptions\u001b[49m\u001b[38;5;241;43m.\u001b[39;49m\u001b[43mget\u001b[49m\u001b[43m(\u001b[49m\u001b[38;5;124;43m\"\u001b[39;49m\u001b[38;5;124;43mcompression\u001b[39;49m\u001b[38;5;124;43m\"\u001b[39;49m\u001b[43m,\u001b[49m\u001b[43m \u001b[49m\u001b[38;5;28;43;01mNone\u001b[39;49;00m\u001b[43m)\u001b[49m\u001b[43m,\u001b[49m\n\u001b[1;32m   1734\u001b[0m \u001b[43m    \u001b[49m\u001b[43mmemory_map\u001b[49m\u001b[38;5;241;43m=\u001b[39;49m\u001b[38;5;28;43mself\u001b[39;49m\u001b[38;5;241;43m.\u001b[39;49m\u001b[43moptions\u001b[49m\u001b[38;5;241;43m.\u001b[39;49m\u001b[43mget\u001b[49m\u001b[43m(\u001b[49m\u001b[38;5;124;43m\"\u001b[39;49m\u001b[38;5;124;43mmemory_map\u001b[39;49m\u001b[38;5;124;43m\"\u001b[39;49m\u001b[43m,\u001b[49m\u001b[43m \u001b[49m\u001b[38;5;28;43;01mFalse\u001b[39;49;00m\u001b[43m)\u001b[49m\u001b[43m,\u001b[49m\n\u001b[1;32m   1735\u001b[0m \u001b[43m    \u001b[49m\u001b[43mis_text\u001b[49m\u001b[38;5;241;43m=\u001b[39;49m\u001b[43mis_text\u001b[49m\u001b[43m,\u001b[49m\n\u001b[1;32m   1736\u001b[0m \u001b[43m    \u001b[49m\u001b[43merrors\u001b[49m\u001b[38;5;241;43m=\u001b[39;49m\u001b[38;5;28;43mself\u001b[39;49m\u001b[38;5;241;43m.\u001b[39;49m\u001b[43moptions\u001b[49m\u001b[38;5;241;43m.\u001b[39;49m\u001b[43mget\u001b[49m\u001b[43m(\u001b[49m\u001b[38;5;124;43m\"\u001b[39;49m\u001b[38;5;124;43mencoding_errors\u001b[39;49m\u001b[38;5;124;43m\"\u001b[39;49m\u001b[43m,\u001b[49m\u001b[43m \u001b[49m\u001b[38;5;124;43m\"\u001b[39;49m\u001b[38;5;124;43mstrict\u001b[39;49m\u001b[38;5;124;43m\"\u001b[39;49m\u001b[43m)\u001b[49m\u001b[43m,\u001b[49m\n\u001b[1;32m   1737\u001b[0m \u001b[43m    \u001b[49m\u001b[43mstorage_options\u001b[49m\u001b[38;5;241;43m=\u001b[39;49m\u001b[38;5;28;43mself\u001b[39;49m\u001b[38;5;241;43m.\u001b[39;49m\u001b[43moptions\u001b[49m\u001b[38;5;241;43m.\u001b[39;49m\u001b[43mget\u001b[49m\u001b[43m(\u001b[49m\u001b[38;5;124;43m\"\u001b[39;49m\u001b[38;5;124;43mstorage_options\u001b[39;49m\u001b[38;5;124;43m\"\u001b[39;49m\u001b[43m,\u001b[49m\u001b[43m \u001b[49m\u001b[38;5;28;43;01mNone\u001b[39;49;00m\u001b[43m)\u001b[49m\u001b[43m,\u001b[49m\n\u001b[1;32m   1738\u001b[0m \u001b[43m\u001b[49m\u001b[43m)\u001b[49m\n\u001b[1;32m   1739\u001b[0m \u001b[38;5;28;01massert\u001b[39;00m \u001b[38;5;28mself\u001b[39m\u001b[38;5;241m.\u001b[39mhandles \u001b[38;5;129;01mis\u001b[39;00m \u001b[38;5;129;01mnot\u001b[39;00m \u001b[38;5;28;01mNone\u001b[39;00m\n\u001b[1;32m   1740\u001b[0m f \u001b[38;5;241m=\u001b[39m \u001b[38;5;28mself\u001b[39m\u001b[38;5;241m.\u001b[39mhandles\u001b[38;5;241m.\u001b[39mhandle\n",
      "File \u001b[0;32m/opt/jupyterhub/lib/python3.8/site-packages/pandas/io/common.py:857\u001b[0m, in \u001b[0;36mget_handle\u001b[0;34m(path_or_buf, mode, encoding, compression, memory_map, is_text, errors, storage_options)\u001b[0m\n\u001b[1;32m    852\u001b[0m \u001b[38;5;28;01melif\u001b[39;00m \u001b[38;5;28misinstance\u001b[39m(handle, \u001b[38;5;28mstr\u001b[39m):\n\u001b[1;32m    853\u001b[0m     \u001b[38;5;66;03m# Check whether the filename is to be opened in binary mode.\u001b[39;00m\n\u001b[1;32m    854\u001b[0m     \u001b[38;5;66;03m# Binary mode does not support 'encoding' and 'newline'.\u001b[39;00m\n\u001b[1;32m    855\u001b[0m     \u001b[38;5;28;01mif\u001b[39;00m ioargs\u001b[38;5;241m.\u001b[39mencoding \u001b[38;5;129;01mand\u001b[39;00m \u001b[38;5;124m\"\u001b[39m\u001b[38;5;124mb\u001b[39m\u001b[38;5;124m\"\u001b[39m \u001b[38;5;129;01mnot\u001b[39;00m \u001b[38;5;129;01min\u001b[39;00m ioargs\u001b[38;5;241m.\u001b[39mmode:\n\u001b[1;32m    856\u001b[0m         \u001b[38;5;66;03m# Encoding\u001b[39;00m\n\u001b[0;32m--> 857\u001b[0m         handle \u001b[38;5;241m=\u001b[39m \u001b[38;5;28;43mopen\u001b[39;49m\u001b[43m(\u001b[49m\n\u001b[1;32m    858\u001b[0m \u001b[43m            \u001b[49m\u001b[43mhandle\u001b[49m\u001b[43m,\u001b[49m\n\u001b[1;32m    859\u001b[0m \u001b[43m            \u001b[49m\u001b[43mioargs\u001b[49m\u001b[38;5;241;43m.\u001b[39;49m\u001b[43mmode\u001b[49m\u001b[43m,\u001b[49m\n\u001b[1;32m    860\u001b[0m \u001b[43m            \u001b[49m\u001b[43mencoding\u001b[49m\u001b[38;5;241;43m=\u001b[39;49m\u001b[43mioargs\u001b[49m\u001b[38;5;241;43m.\u001b[39;49m\u001b[43mencoding\u001b[49m\u001b[43m,\u001b[49m\n\u001b[1;32m    861\u001b[0m \u001b[43m            \u001b[49m\u001b[43merrors\u001b[49m\u001b[38;5;241;43m=\u001b[39;49m\u001b[43merrors\u001b[49m\u001b[43m,\u001b[49m\n\u001b[1;32m    862\u001b[0m \u001b[43m            \u001b[49m\u001b[43mnewline\u001b[49m\u001b[38;5;241;43m=\u001b[39;49m\u001b[38;5;124;43m\"\u001b[39;49m\u001b[38;5;124;43m\"\u001b[39;49m\u001b[43m,\u001b[49m\n\u001b[1;32m    863\u001b[0m \u001b[43m        \u001b[49m\u001b[43m)\u001b[49m\n\u001b[1;32m    864\u001b[0m     \u001b[38;5;28;01melse\u001b[39;00m:\n\u001b[1;32m    865\u001b[0m         \u001b[38;5;66;03m# Binary mode\u001b[39;00m\n\u001b[1;32m    866\u001b[0m         handle \u001b[38;5;241m=\u001b[39m \u001b[38;5;28mopen\u001b[39m(handle, ioargs\u001b[38;5;241m.\u001b[39mmode)\n",
      "\u001b[0;31mFileNotFoundError\u001b[0m: [Errno 2] No such file or directory: 'benchmark.csv'"
     ]
    }
   ],
   "source": [
    "df = render_csv(\"benchmark.csv\")"
   ]
  },
  {
   "cell_type": "markdown",
   "metadata": {
    "deletable": false,
    "editable": false,
    "tags": []
   },
   "source": [
    "`df` now contains the contents of `benchmark.csv` and we can inspect it like so:"
   ]
  },
  {
   "cell_type": "code",
   "execution_count": null,
   "metadata": {
    "deletable": false,
    "editable": false,
    "tags": []
   },
   "outputs": [],
   "source": [
    "display(df)"
   ]
  },
  {
   "cell_type": "markdown",
   "metadata": {
    "deletable": false,
    "editable": false,
    "tags": []
   },
   "source": [
    "The numbers down the side are the \"index\" and the bold names at the top of the columns are the column names.\n",
    "\n",
    "We can \"slice\" the data frame as well to extract a subset of its columns.  We do this by passing an array of column names in square braces (`[]`):"
   ]
  },
  {
   "cell_type": "code",
   "execution_count": null,
   "metadata": {
    "deletable": false,
    "editable": false,
    "tags": []
   },
   "outputs": [],
   "source": [
    "display(df[[\"function\", \"IC\", \"CPI\", \"CT\",\"ET\"]])"
   ]
  },
  {
   "cell_type": "markdown",
   "metadata": {
    "deletable": false,
    "editable": false,
    "tags": []
   },
   "source": [
    "We can concatenate multiple dataframes like so:"
   ]
  },
  {
   "cell_type": "code",
   "execution_count": null,
   "metadata": {
    "deletable": false,
    "editable": false,
    "tags": []
   },
   "outputs": [],
   "source": [
    "df2 = render_csv(\"benchmark.csv\")\n",
    "df3 = pd.concat([df,df2])\n",
    "display(df3[[\"function\", \"IC\", \"CPI\", \"CT\",\"ET\"]])"
   ]
  },
  {
   "cell_type": "markdown",
   "metadata": {
    "deletable": false,
    "editable": false,
    "tags": []
   },
   "source": [
    "### Plotting Results\n",
    "\n",
    "[Matplotlib](https://matplotlib.org/) is an extremely flexible and powerful plotting tool that we could spend a whole quarter on.  Fortunately, `notebook.py` has some convenient helper functions in it that make it easy graph data in data frames.\n",
    "\n",
    "One of those helpers in `plotPEBar`.  The cell below, creates a dataframe and then plots several bar charts. The `what` parameter is a list of tuples (pairs of values in `(` and `)`).  The first value in each tuple is what ends up on the x-axis.  The second item of the tuple is plotted on the y axis.  You can plot as many bar charts as you want and it'll plot all the entries in the dataframe:"
   ]
  },
  {
   "cell_type": "code",
   "execution_count": null,
   "metadata": {
    "deletable": false,
    "editable": false,
    "tags": []
   },
   "outputs": [],
   "source": [
    "df = render_csv(\"benchmark.csv\")\n",
    "plotPEBar(\"benchmark.csv\", what=[(\"function\", \"ET\")])\n",
    "plotPEBar(\"benchmark.csv\", what=[(\"function\", \"ET\"),(\"function\", \"IC\")])\n",
    "plotPEBar(\"benchmark.csv\", what=[(\"function\", \"ET\"),(\"function\", \"IC\")])"
   ]
  },
  {
   "cell_type": "markdown",
   "metadata": {
    "deletable": false,
    "editable": false,
    "tags": []
   },
   "source": [
    "### Doing Math on Data Frames\n",
    "\n",
    "Data frames also make it easy to do math on your data. For instance, can compute the average error between `cmdlineMHz` and `MHz`:"
   ]
  },
  {
   "cell_type": "code",
   "execution_count": null,
   "metadata": {
    "deletable": false,
    "editable": false,
    "tags": []
   },
   "outputs": [],
   "source": [
    "df[\"MHz_error\"] = df[\"MHz\"]/df[\"cmdlineMHz\"] - 1\n",
    "display(df)"
   ]
  },
  {
   "cell_type": "markdown",
   "metadata": {},
   "source": [
    "Or the speedup of your implementation"
   ]
  },
  {
   "cell_type": "code",
   "execution_count": null,
   "metadata": {
    "deletable": false,
    "editable": false,
    "tags": []
   },
   "outputs": [],
   "source": [
    "df.at[0,\"ET\"]/df.at[1,\"ET\"]"
   ]
  },
  {
   "cell_type": "markdown",
   "metadata": {
    "deletable": false,
    "editable": false,
    "tags": []
   },
   "source": [
    "## Do Your Work Here\n",
    "\n",
    "This section is a workspace for you to do the assignment.  It has the basic commands you'll need to get through it.  You may find it useful to expand and add to this section. Go crazy!\n",
    "\n",
    "### Compile And Run"
   ]
  },
  {
   "cell_type": "code",
   "execution_count": 53,
   "metadata": {
    "deletable": false,
    "editable": false,
    "tags": []
   },
   "outputs": [
    {
     "name": "stdout",
     "output_type": "stream",
     "text": [
      "rm -f *.exe ./build/*\n",
      "mkdir -p ./build/ \n",
      "cp  perfstats.c ./build/perfstats.c\n",
      "g++  -DHAVE_LINUX_PERF_EVENT_H -I/cs203/mtung007/CS203UCR-2022fa-cs203-performance-starter.  -lm -pthread  -o ./build/perfstats.o -c ./build/perfstats.c\n",
      "mkdir -p ./build/ \n",
      "cp  sum.cpp ./build/sum.cpp\n",
      "g++  -O4 -DHAVE_LINUX_PERF_EVENT_H -I/cs203/mtung007/CS203UCR-2022fa-cs203-performance-starter.  -lm -pthread  -c -o ./build/sum.o ./build/sum.cpp\n",
      "mkdir -p ./build/ \n",
      "cp  sum_main.cpp ./build/sum_main.cpp\n",
      "g++   -DHAVE_LINUX_PERF_EVENT_H -I/cs203/mtung007/CS203UCR-2022fa-cs203-performance-starter.  -lm -pthread  -c -o ./build/sum_main.o ./build/sum_main.cpp\n",
      "\u001b[01m\u001b[K./build/sum_main.cpp:\u001b[m\u001b[K In function ‘\u001b[01m\u001b[Kint main(int, char**)\u001b[m\u001b[K’:\n",
      "\u001b[01m\u001b[K./build/sum_main.cpp:149:36:\u001b[m\u001b[K \u001b[01;35m\u001b[Kwarning: \u001b[m\u001b[KISO C++ forbids converting a string constant to ‘\u001b[01m\u001b[Kchar*\u001b[m\u001b[K’ [\u001b[01;35m\u001b[K-Wwrite-strings\u001b[m\u001b[K]\n",
      "  149 |  perfstats_print_header(stat_file, \u001b[01;35m\u001b[K\"size,rep,function,query_counts,IC,Cycles,CPI,MHz,CT,ET,cmdlineMHz,answer\"\u001b[m\u001b[K);\n",
      "      |                                    \u001b[01;35m\u001b[K^~~~~~~~~~~~~~~~~~~~~~~~~~~~~~~~~~~~~~~~~~~~~~~~~~~~~~~~~~~~~~~~~~~~~~~~~~\u001b[m\u001b[K\n",
      "mkdir -p ./build/ \n",
      "cp  sum_baseline.cpp ./build/sum_baseline.cpp\n",
      "g++   -DHAVE_LINUX_PERF_EVENT_H -I/cs203/mtung007/CS203UCR-2022fa-cs203-performance-starter.  -lm -pthread  -c -o ./build/sum_baseline.o ./build/sum_baseline.cpp\n",
      "g++   -DHAVE_LINUX_PERF_EVENT_H -I/cs203/mtung007/CS203UCR-2022fa-cs203-performance-starter.  -lm -pthread  ./build/perfstats.o ./build/sum.o ./build/sum_main.o ./build/sum_baseline.o  -o sum.exe\n",
      "srun -N1 -p cs203 ./sum.exe -f ALL -M 3200 -o benchmark.csv\n",
      "slurmstepd-quilava: error: execve(): /cs203/mtung007/CS203UCR-2022fa-cs203-performance-starter././sum.exe: Text file busy\n",
      "srun: error: quilava: task 0: Exited with exit code 26\n"
     ]
    }
   ],
   "source": [
    "!make clean\n",
    "!make sum.exe\n",
    "!cs203 job run \"./sum.exe -f ALL -M 3200 -o benchmark.csv\""
   ]
  },
  {
   "cell_type": "markdown",
   "metadata": {
    "deletable": false,
    "editable": false,
    "tags": []
   },
   "source": [
    "## Analyzing Your Implementation\n",
    "\n",
    "Complete these questions after you've completed your solution to programming assignment.\n",
    "\n",
    "To achieve a good speedup on this assignment you needed to apply both compiler optimizations and algorithm changes.  \n",
    "Optimizations can interact with each other in surprising ways. \n",
    "Let's see how each contributed to the overall speedup.\n",
    "\n",
    "(The cell below should contain the code for your `sum_of_locations_solution()`, and the TAs will refer to it while grading.  If your code isn't showing up here, rerun the cell.  If it still doesn't show up, add a text cell and paste in your function.)"
   ]
  },
  {
   "cell_type": "code",
   "execution_count": 54,
   "metadata": {
    "deletable": false,
    "editable": false,
    "tags": []
   },
   "outputs": [
    {
     "data": {
      "text/html": [
       "<style>pre { line-height: 125%; }\n",
       "td.linenos .normal { color: inherit; background-color: transparent; padding-left: 5px; padding-right: 5px; }\n",
       "span.linenos { color: inherit; background-color: transparent; padding-left: 5px; padding-right: 5px; }\n",
       "td.linenos .special { color: #000000; background-color: #ffffc0; padding-left: 5px; padding-right: 5px; }\n",
       "span.linenos.special { color: #000000; background-color: #ffffc0; padding-left: 5px; padding-right: 5px; }\n",
       ".output_html .hll { background-color: #ffffcc }\n",
       ".output_html { background: #f8f8f8; }\n",
       ".output_html .c { color: #3D7B7B; font-style: italic } /* Comment */\n",
       ".output_html .err { border: 1px solid #FF0000 } /* Error */\n",
       ".output_html .k { color: #008000; font-weight: bold } /* Keyword */\n",
       ".output_html .o { color: #666666 } /* Operator */\n",
       ".output_html .ch { color: #3D7B7B; font-style: italic } /* Comment.Hashbang */\n",
       ".output_html .cm { color: #3D7B7B; font-style: italic } /* Comment.Multiline */\n",
       ".output_html .cp { color: #9C6500 } /* Comment.Preproc */\n",
       ".output_html .cpf { color: #3D7B7B; font-style: italic } /* Comment.PreprocFile */\n",
       ".output_html .c1 { color: #3D7B7B; font-style: italic } /* Comment.Single */\n",
       ".output_html .cs { color: #3D7B7B; font-style: italic } /* Comment.Special */\n",
       ".output_html .gd { color: #A00000 } /* Generic.Deleted */\n",
       ".output_html .ge { font-style: italic } /* Generic.Emph */\n",
       ".output_html .gr { color: #E40000 } /* Generic.Error */\n",
       ".output_html .gh { color: #000080; font-weight: bold } /* Generic.Heading */\n",
       ".output_html .gi { color: #008400 } /* Generic.Inserted */\n",
       ".output_html .go { color: #717171 } /* Generic.Output */\n",
       ".output_html .gp { color: #000080; font-weight: bold } /* Generic.Prompt */\n",
       ".output_html .gs { font-weight: bold } /* Generic.Strong */\n",
       ".output_html .gu { color: #800080; font-weight: bold } /* Generic.Subheading */\n",
       ".output_html .gt { color: #0044DD } /* Generic.Traceback */\n",
       ".output_html .kc { color: #008000; font-weight: bold } /* Keyword.Constant */\n",
       ".output_html .kd { color: #008000; font-weight: bold } /* Keyword.Declaration */\n",
       ".output_html .kn { color: #008000; font-weight: bold } /* Keyword.Namespace */\n",
       ".output_html .kp { color: #008000 } /* Keyword.Pseudo */\n",
       ".output_html .kr { color: #008000; font-weight: bold } /* Keyword.Reserved */\n",
       ".output_html .kt { color: #B00040 } /* Keyword.Type */\n",
       ".output_html .m { color: #666666 } /* Literal.Number */\n",
       ".output_html .s { color: #BA2121 } /* Literal.String */\n",
       ".output_html .na { color: #687822 } /* Name.Attribute */\n",
       ".output_html .nb { color: #008000 } /* Name.Builtin */\n",
       ".output_html .nc { color: #0000FF; font-weight: bold } /* Name.Class */\n",
       ".output_html .no { color: #880000 } /* Name.Constant */\n",
       ".output_html .nd { color: #AA22FF } /* Name.Decorator */\n",
       ".output_html .ni { color: #717171; font-weight: bold } /* Name.Entity */\n",
       ".output_html .ne { color: #CB3F38; font-weight: bold } /* Name.Exception */\n",
       ".output_html .nf { color: #0000FF } /* Name.Function */\n",
       ".output_html .nl { color: #767600 } /* Name.Label */\n",
       ".output_html .nn { color: #0000FF; font-weight: bold } /* Name.Namespace */\n",
       ".output_html .nt { color: #008000; font-weight: bold } /* Name.Tag */\n",
       ".output_html .nv { color: #19177C } /* Name.Variable */\n",
       ".output_html .ow { color: #AA22FF; font-weight: bold } /* Operator.Word */\n",
       ".output_html .w { color: #bbbbbb } /* Text.Whitespace */\n",
       ".output_html .mb { color: #666666 } /* Literal.Number.Bin */\n",
       ".output_html .mf { color: #666666 } /* Literal.Number.Float */\n",
       ".output_html .mh { color: #666666 } /* Literal.Number.Hex */\n",
       ".output_html .mi { color: #666666 } /* Literal.Number.Integer */\n",
       ".output_html .mo { color: #666666 } /* Literal.Number.Oct */\n",
       ".output_html .sa { color: #BA2121 } /* Literal.String.Affix */\n",
       ".output_html .sb { color: #BA2121 } /* Literal.String.Backtick */\n",
       ".output_html .sc { color: #BA2121 } /* Literal.String.Char */\n",
       ".output_html .dl { color: #BA2121 } /* Literal.String.Delimiter */\n",
       ".output_html .sd { color: #BA2121; font-style: italic } /* Literal.String.Doc */\n",
       ".output_html .s2 { color: #BA2121 } /* Literal.String.Double */\n",
       ".output_html .se { color: #AA5D1F; font-weight: bold } /* Literal.String.Escape */\n",
       ".output_html .sh { color: #BA2121 } /* Literal.String.Heredoc */\n",
       ".output_html .si { color: #A45A77; font-weight: bold } /* Literal.String.Interpol */\n",
       ".output_html .sx { color: #008000 } /* Literal.String.Other */\n",
       ".output_html .sr { color: #A45A77 } /* Literal.String.Regex */\n",
       ".output_html .s1 { color: #BA2121 } /* Literal.String.Single */\n",
       ".output_html .ss { color: #19177C } /* Literal.String.Symbol */\n",
       ".output_html .bp { color: #008000 } /* Name.Builtin.Pseudo */\n",
       ".output_html .fm { color: #0000FF } /* Name.Function.Magic */\n",
       ".output_html .vc { color: #19177C } /* Name.Variable.Class */\n",
       ".output_html .vg { color: #19177C } /* Name.Variable.Global */\n",
       ".output_html .vi { color: #19177C } /* Name.Variable.Instance */\n",
       ".output_html .vm { color: #19177C } /* Name.Variable.Magic */\n",
       ".output_html .il { color: #666666 } /* Literal.Number.Integer.Long */</style><div class=\"highlight\"><pre><span></span><span class=\"c1\">// sum.cpp:16-48 (33 lines)</span>\n",
       "<span class=\"c1\">// uint64_t sum_of_locations_solution(uint64_t *search_space, uint32_t search_space_size, uint64_t* queries, uint32_t query_count)</span>\n",
       "<span class=\"c1\">// {</span>\n",
       "<span class=\"c1\">// \tuint64_t r = 0;</span>\n",
       "\n",
       "<span class=\"c1\">// \tfor(uint32_t i = 0; i &lt; query_count; i++) {</span>\n",
       "<span class=\"c1\">// \t\tfor(uint32_t j = 0; j &lt; search_space_size; j++) {</span>\n",
       "<span class=\"c1\">// \t\t\tif (search_space[j] == queries[i]) {</span>\n",
       "<span class=\"c1\">// \t\t\t\tr += i;</span>\n",
       "<span class=\"c1\">// \t\t\t\tbreak;</span>\n",
       "<span class=\"c1\">// \t\t\t}</span>\n",
       "<span class=\"c1\">// \t\t}</span>\n",
       "<span class=\"c1\">// \t}</span>\n",
       "<span class=\"c1\">// \treturn r;</span>\n",
       "<span class=\"c1\">// }</span>\n",
       "\n",
       "<span class=\"c1\">// END_C</span>\n",
       "\n",
       "<span class=\"n\">START_C</span><span class=\"w\"></span>\n",
       "\n",
       "<span class=\"kt\">uint64_t</span><span class=\"w\"> </span><span class=\"n\">sum_of_locations_solution</span><span class=\"p\">(</span><span class=\"kt\">uint64_t</span><span class=\"w\"> </span><span class=\"o\">*</span><span class=\"n\">search_space</span><span class=\"p\">,</span><span class=\"w\"> </span><span class=\"kt\">uint32_t</span><span class=\"w\"> </span><span class=\"n\">search_space_size</span><span class=\"p\">,</span><span class=\"w\"> </span><span class=\"kt\">uint64_t</span><span class=\"o\">*</span><span class=\"w\"> </span><span class=\"n\">queries</span><span class=\"p\">,</span><span class=\"w\"> </span><span class=\"kt\">uint32_t</span><span class=\"w\"> </span><span class=\"n\">query_count</span><span class=\"p\">)</span><span class=\"w\"></span>\n",
       "<span class=\"p\">{</span><span class=\"w\"></span>\n",
       "<span class=\"w\">\t</span><span class=\"kt\">uint64_t</span><span class=\"w\"> </span><span class=\"n\">r</span><span class=\"w\"> </span><span class=\"o\">=</span><span class=\"w\"> </span><span class=\"mi\">0</span><span class=\"p\">;</span><span class=\"w\"></span>\n",
       "\n",
       "<span class=\"w\">\t</span><span class=\"k\">for</span><span class=\"p\">(</span><span class=\"kt\">uint32_t</span><span class=\"w\"> </span><span class=\"n\">j</span><span class=\"w\"> </span><span class=\"o\">=</span><span class=\"w\"> </span><span class=\"mi\">0</span><span class=\"p\">;</span><span class=\"w\"> </span><span class=\"n\">j</span><span class=\"w\"> </span><span class=\"o\">&lt;</span><span class=\"w\"> </span><span class=\"n\">search_space_size</span><span class=\"p\">;</span><span class=\"w\"> </span><span class=\"n\">j</span><span class=\"o\">++</span><span class=\"p\">)</span><span class=\"w\"> </span><span class=\"p\">{</span><span class=\"w\"></span>\n",
       "<span class=\"w\">\t\t</span><span class=\"k\">for</span><span class=\"p\">(</span><span class=\"kt\">uint32_t</span><span class=\"w\"> </span><span class=\"n\">i</span><span class=\"w\"> </span><span class=\"o\">=</span><span class=\"w\"> </span><span class=\"mi\">0</span><span class=\"p\">;</span><span class=\"w\"> </span><span class=\"n\">i</span><span class=\"w\"> </span><span class=\"o\">&lt;</span><span class=\"w\"> </span><span class=\"n\">query_count</span><span class=\"p\">;</span><span class=\"w\"> </span><span class=\"n\">i</span><span class=\"o\">++</span><span class=\"p\">)</span><span class=\"w\"> </span><span class=\"p\">{</span><span class=\"w\"></span>\n",
       "<span class=\"w\">\t\t\t</span><span class=\"k\">if</span><span class=\"w\"> </span><span class=\"p\">(</span><span class=\"n\">search_space</span><span class=\"p\">[</span><span class=\"n\">j</span><span class=\"p\">]</span><span class=\"w\"> </span><span class=\"o\">==</span><span class=\"w\"> </span><span class=\"n\">queries</span><span class=\"p\">[</span><span class=\"n\">i</span><span class=\"p\">])</span><span class=\"w\"> </span><span class=\"p\">{</span><span class=\"w\"></span>\n",
       "<span class=\"w\">\t\t\t\t</span><span class=\"n\">r</span><span class=\"w\"> </span><span class=\"o\">+=</span><span class=\"w\"> </span><span class=\"n\">i</span><span class=\"p\">;</span><span class=\"w\"></span>\n",
       "<span class=\"w\">\t\t\t\t</span><span class=\"k\">break</span><span class=\"p\">;</span><span class=\"w\"></span>\n",
       "<span class=\"w\">\t\t\t</span><span class=\"p\">}</span><span class=\"w\"></span>\n",
       "<span class=\"w\">\t\t</span><span class=\"p\">}</span><span class=\"w\"></span>\n",
       "<span class=\"w\">\t</span><span class=\"p\">}</span><span class=\"w\"></span>\n",
       "<span class=\"w\">\t</span><span class=\"k\">return</span><span class=\"w\"> </span><span class=\"n\">r</span><span class=\"p\">;</span><span class=\"w\"></span>\n",
       "<span class=\"p\">}</span><span class=\"w\"></span>\n",
       "</pre></div>\n"
      ],
      "text/latex": [
       "\\begin{Verbatim}[commandchars=\\\\\\{\\}]\n",
       "\\PY{c+c1}{// sum.cpp:16\\PYZhy{}48 (33 lines)}\n",
       "\\PY{c+c1}{// uint64\\PYZus{}t sum\\PYZus{}of\\PYZus{}locations\\PYZus{}solution(uint64\\PYZus{}t *search\\PYZus{}space, uint32\\PYZus{}t search\\PYZus{}space\\PYZus{}size, uint64\\PYZus{}t* queries, uint32\\PYZus{}t query\\PYZus{}count)}\n",
       "\\PY{c+c1}{// \\PYZob{}}\n",
       "\\PY{c+c1}{// \tuint64\\PYZus{}t r = 0;}\n",
       "\n",
       "\\PY{c+c1}{// \tfor(uint32\\PYZus{}t i = 0; i \\PYZlt{} query\\PYZus{}count; i++) \\PYZob{}}\n",
       "\\PY{c+c1}{// \t\tfor(uint32\\PYZus{}t j = 0; j \\PYZlt{} search\\PYZus{}space\\PYZus{}size; j++) \\PYZob{}}\n",
       "\\PY{c+c1}{// \t\t\tif (search\\PYZus{}space[j] == queries[i]) \\PYZob{}}\n",
       "\\PY{c+c1}{// \t\t\t\tr += i;}\n",
       "\\PY{c+c1}{// \t\t\t\tbreak;}\n",
       "\\PY{c+c1}{// \t\t\t\\PYZcb{}}\n",
       "\\PY{c+c1}{// \t\t\\PYZcb{}}\n",
       "\\PY{c+c1}{// \t\\PYZcb{}}\n",
       "\\PY{c+c1}{// \treturn r;}\n",
       "\\PY{c+c1}{// \\PYZcb{}}\n",
       "\n",
       "\\PY{c+c1}{// END\\PYZus{}C}\n",
       "\n",
       "\\PY{n}{START\\PYZus{}C}\n",
       "\n",
       "\\PY{k+kt}{uint64\\PYZus{}t}\\PY{+w}{ }\\PY{n}{sum\\PYZus{}of\\PYZus{}locations\\PYZus{}solution}\\PY{p}{(}\\PY{k+kt}{uint64\\PYZus{}t}\\PY{+w}{ }\\PY{o}{*}\\PY{n}{search\\PYZus{}space}\\PY{p}{,}\\PY{+w}{ }\\PY{k+kt}{uint32\\PYZus{}t}\\PY{+w}{ }\\PY{n}{search\\PYZus{}space\\PYZus{}size}\\PY{p}{,}\\PY{+w}{ }\\PY{k+kt}{uint64\\PYZus{}t}\\PY{o}{*}\\PY{+w}{ }\\PY{n}{queries}\\PY{p}{,}\\PY{+w}{ }\\PY{k+kt}{uint32\\PYZus{}t}\\PY{+w}{ }\\PY{n}{query\\PYZus{}count}\\PY{p}{)}\n",
       "\\PY{p}{\\PYZob{}}\n",
       "\\PY{+w}{\t}\\PY{k+kt}{uint64\\PYZus{}t}\\PY{+w}{ }\\PY{n}{r}\\PY{+w}{ }\\PY{o}{=}\\PY{+w}{ }\\PY{l+m+mi}{0}\\PY{p}{;}\n",
       "\n",
       "\\PY{+w}{\t}\\PY{k}{for}\\PY{p}{(}\\PY{k+kt}{uint32\\PYZus{}t}\\PY{+w}{ }\\PY{n}{j}\\PY{+w}{ }\\PY{o}{=}\\PY{+w}{ }\\PY{l+m+mi}{0}\\PY{p}{;}\\PY{+w}{ }\\PY{n}{j}\\PY{+w}{ }\\PY{o}{\\PYZlt{}}\\PY{+w}{ }\\PY{n}{search\\PYZus{}space\\PYZus{}size}\\PY{p}{;}\\PY{+w}{ }\\PY{n}{j}\\PY{o}{+}\\PY{o}{+}\\PY{p}{)}\\PY{+w}{ }\\PY{p}{\\PYZob{}}\n",
       "\\PY{+w}{\t\t}\\PY{k}{for}\\PY{p}{(}\\PY{k+kt}{uint32\\PYZus{}t}\\PY{+w}{ }\\PY{n}{i}\\PY{+w}{ }\\PY{o}{=}\\PY{+w}{ }\\PY{l+m+mi}{0}\\PY{p}{;}\\PY{+w}{ }\\PY{n}{i}\\PY{+w}{ }\\PY{o}{\\PYZlt{}}\\PY{+w}{ }\\PY{n}{query\\PYZus{}count}\\PY{p}{;}\\PY{+w}{ }\\PY{n}{i}\\PY{o}{+}\\PY{o}{+}\\PY{p}{)}\\PY{+w}{ }\\PY{p}{\\PYZob{}}\n",
       "\\PY{+w}{\t\t\t}\\PY{k}{if}\\PY{+w}{ }\\PY{p}{(}\\PY{n}{search\\PYZus{}space}\\PY{p}{[}\\PY{n}{j}\\PY{p}{]}\\PY{+w}{ }\\PY{o}{=}\\PY{o}{=}\\PY{+w}{ }\\PY{n}{queries}\\PY{p}{[}\\PY{n}{i}\\PY{p}{]}\\PY{p}{)}\\PY{+w}{ }\\PY{p}{\\PYZob{}}\n",
       "\\PY{+w}{\t\t\t\t}\\PY{n}{r}\\PY{+w}{ }\\PY{o}{+}\\PY{o}{=}\\PY{+w}{ }\\PY{n}{i}\\PY{p}{;}\n",
       "\\PY{+w}{\t\t\t\t}\\PY{k}{break}\\PY{p}{;}\n",
       "\\PY{+w}{\t\t\t}\\PY{p}{\\PYZcb{}}\n",
       "\\PY{+w}{\t\t}\\PY{p}{\\PYZcb{}}\n",
       "\\PY{+w}{\t}\\PY{p}{\\PYZcb{}}\n",
       "\\PY{+w}{\t}\\PY{k}{return}\\PY{+w}{ }\\PY{n}{r}\\PY{p}{;}\n",
       "\\PY{p}{\\PYZcb{}}\n",
       "\\end{Verbatim}\n"
      ],
      "text/plain": [
       "// sum.cpp:16-48 (33 lines)\n",
       "// uint64_t sum_of_locations_solution(uint64_t *search_space, uint32_t search_space_size, uint64_t* queries, uint32_t query_count)\n",
       "// {\n",
       "// \tuint64_t r = 0;\n",
       "\n",
       "// \tfor(uint32_t i = 0; i < query_count; i++) {\n",
       "// \t\tfor(uint32_t j = 0; j < search_space_size; j++) {\n",
       "// \t\t\tif (search_space[j] == queries[i]) {\n",
       "// \t\t\t\tr += i;\n",
       "// \t\t\t\tbreak;\n",
       "// \t\t\t}\n",
       "// \t\t}\n",
       "// \t}\n",
       "// \treturn r;\n",
       "// }\n",
       "\n",
       "// END_C\n",
       "\n",
       "START_C\n",
       "\n",
       "uint64_t sum_of_locations_solution(uint64_t *search_space, uint32_t search_space_size, uint64_t* queries, uint32_t query_count)\n",
       "{\n",
       "\tuint64_t r = 0;\n",
       "\n",
       "\tfor(uint32_t j = 0; j < search_space_size; j++) {\n",
       "\t\tfor(uint32_t i = 0; i < query_count; i++) {\n",
       "\t\t\tif (search_space[j] == queries[i]) {\n",
       "\t\t\t\tr += i;\n",
       "\t\t\t\tbreak;\n",
       "\t\t\t}\n",
       "\t\t}\n",
       "\t}\n",
       "\treturn r;\n",
       "}"
      ]
     },
     "metadata": {},
     "output_type": "display_data"
    },
    {
     "data": {
      "text/html": [
       "<style>pre { line-height: 125%; }\n",
       "td.linenos .normal { color: inherit; background-color: transparent; padding-left: 5px; padding-right: 5px; }\n",
       "span.linenos { color: inherit; background-color: transparent; padding-left: 5px; padding-right: 5px; }\n",
       "td.linenos .special { color: #000000; background-color: #ffffc0; padding-left: 5px; padding-right: 5px; }\n",
       "span.linenos.special { color: #000000; background-color: #ffffc0; padding-left: 5px; padding-right: 5px; }\n",
       ".output_html .hll { background-color: #ffffcc }\n",
       ".output_html { background: #f8f8f8; }\n",
       ".output_html .c { color: #3D7B7B; font-style: italic } /* Comment */\n",
       ".output_html .err { border: 1px solid #FF0000 } /* Error */\n",
       ".output_html .k { color: #008000; font-weight: bold } /* Keyword */\n",
       ".output_html .o { color: #666666 } /* Operator */\n",
       ".output_html .ch { color: #3D7B7B; font-style: italic } /* Comment.Hashbang */\n",
       ".output_html .cm { color: #3D7B7B; font-style: italic } /* Comment.Multiline */\n",
       ".output_html .cp { color: #9C6500 } /* Comment.Preproc */\n",
       ".output_html .cpf { color: #3D7B7B; font-style: italic } /* Comment.PreprocFile */\n",
       ".output_html .c1 { color: #3D7B7B; font-style: italic } /* Comment.Single */\n",
       ".output_html .cs { color: #3D7B7B; font-style: italic } /* Comment.Special */\n",
       ".output_html .gd { color: #A00000 } /* Generic.Deleted */\n",
       ".output_html .ge { font-style: italic } /* Generic.Emph */\n",
       ".output_html .gr { color: #E40000 } /* Generic.Error */\n",
       ".output_html .gh { color: #000080; font-weight: bold } /* Generic.Heading */\n",
       ".output_html .gi { color: #008400 } /* Generic.Inserted */\n",
       ".output_html .go { color: #717171 } /* Generic.Output */\n",
       ".output_html .gp { color: #000080; font-weight: bold } /* Generic.Prompt */\n",
       ".output_html .gs { font-weight: bold } /* Generic.Strong */\n",
       ".output_html .gu { color: #800080; font-weight: bold } /* Generic.Subheading */\n",
       ".output_html .gt { color: #0044DD } /* Generic.Traceback */\n",
       ".output_html .kc { color: #008000; font-weight: bold } /* Keyword.Constant */\n",
       ".output_html .kd { color: #008000; font-weight: bold } /* Keyword.Declaration */\n",
       ".output_html .kn { color: #008000; font-weight: bold } /* Keyword.Namespace */\n",
       ".output_html .kp { color: #008000 } /* Keyword.Pseudo */\n",
       ".output_html .kr { color: #008000; font-weight: bold } /* Keyword.Reserved */\n",
       ".output_html .kt { color: #B00040 } /* Keyword.Type */\n",
       ".output_html .m { color: #666666 } /* Literal.Number */\n",
       ".output_html .s { color: #BA2121 } /* Literal.String */\n",
       ".output_html .na { color: #687822 } /* Name.Attribute */\n",
       ".output_html .nb { color: #008000 } /* Name.Builtin */\n",
       ".output_html .nc { color: #0000FF; font-weight: bold } /* Name.Class */\n",
       ".output_html .no { color: #880000 } /* Name.Constant */\n",
       ".output_html .nd { color: #AA22FF } /* Name.Decorator */\n",
       ".output_html .ni { color: #717171; font-weight: bold } /* Name.Entity */\n",
       ".output_html .ne { color: #CB3F38; font-weight: bold } /* Name.Exception */\n",
       ".output_html .nf { color: #0000FF } /* Name.Function */\n",
       ".output_html .nl { color: #767600 } /* Name.Label */\n",
       ".output_html .nn { color: #0000FF; font-weight: bold } /* Name.Namespace */\n",
       ".output_html .nt { color: #008000; font-weight: bold } /* Name.Tag */\n",
       ".output_html .nv { color: #19177C } /* Name.Variable */\n",
       ".output_html .ow { color: #AA22FF; font-weight: bold } /* Operator.Word */\n",
       ".output_html .w { color: #bbbbbb } /* Text.Whitespace */\n",
       ".output_html .mb { color: #666666 } /* Literal.Number.Bin */\n",
       ".output_html .mf { color: #666666 } /* Literal.Number.Float */\n",
       ".output_html .mh { color: #666666 } /* Literal.Number.Hex */\n",
       ".output_html .mi { color: #666666 } /* Literal.Number.Integer */\n",
       ".output_html .mo { color: #666666 } /* Literal.Number.Oct */\n",
       ".output_html .sa { color: #BA2121 } /* Literal.String.Affix */\n",
       ".output_html .sb { color: #BA2121 } /* Literal.String.Backtick */\n",
       ".output_html .sc { color: #BA2121 } /* Literal.String.Char */\n",
       ".output_html .dl { color: #BA2121 } /* Literal.String.Delimiter */\n",
       ".output_html .sd { color: #BA2121; font-style: italic } /* Literal.String.Doc */\n",
       ".output_html .s2 { color: #BA2121 } /* Literal.String.Double */\n",
       ".output_html .se { color: #AA5D1F; font-weight: bold } /* Literal.String.Escape */\n",
       ".output_html .sh { color: #BA2121 } /* Literal.String.Heredoc */\n",
       ".output_html .si { color: #A45A77; font-weight: bold } /* Literal.String.Interpol */\n",
       ".output_html .sx { color: #008000 } /* Literal.String.Other */\n",
       ".output_html .sr { color: #A45A77 } /* Literal.String.Regex */\n",
       ".output_html .s1 { color: #BA2121 } /* Literal.String.Single */\n",
       ".output_html .ss { color: #19177C } /* Literal.String.Symbol */\n",
       ".output_html .bp { color: #008000 } /* Name.Builtin.Pseudo */\n",
       ".output_html .fm { color: #0000FF } /* Name.Function.Magic */\n",
       ".output_html .vc { color: #19177C } /* Name.Variable.Class */\n",
       ".output_html .vg { color: #19177C } /* Name.Variable.Global */\n",
       ".output_html .vi { color: #19177C } /* Name.Variable.Instance */\n",
       ".output_html .vm { color: #19177C } /* Name.Variable.Magic */\n",
       ".output_html .il { color: #666666 } /* Literal.Number.Integer.Long */</style><div class=\"highlight\"><pre><span></span><span class=\"c1\">// config.make:1-2 (2 lines)</span>\n",
       "<span class=\"n\">SUM_OPTIMIZE</span><span class=\"o\">=-</span><span class=\"n\">O4</span><span class=\"w\"></span>\n",
       "</pre></div>\n"
      ],
      "text/latex": [
       "\\begin{Verbatim}[commandchars=\\\\\\{\\}]\n",
       "\\PY{c+c1}{// config.make:1\\PYZhy{}2 (2 lines)}\n",
       "\\PY{n}{SUM\\PYZus{}OPTIMIZE}\\PY{o}{=}\\PY{o}{\\PYZhy{}}\\PY{n}{O4}\n",
       "\\end{Verbatim}\n"
      ],
      "text/plain": [
       "// config.make:1-2 (2 lines)\n",
       "SUM_OPTIMIZE=-O4\n"
      ]
     },
     "metadata": {},
     "output_type": "display_data"
    }
   ],
   "source": [
    "render_code(\"sum.cpp\", show=\"sum_of_locations_solution\")\n",
    "render_code(\"config.make\")"
   ]
  },
  {
   "cell_type": "markdown",
   "metadata": {
    "deletable": false,
    "editable": false,
    "tags": []
   },
   "source": [
    "The rest of the assignment is about measuring the contribution of compiler optimizations vs algorithmic optimizations.  The result of the your investigation will go into the question below.\n",
    "\n",
    "The first step is to collect the data.  \n",
    "\n",
    "The cell below will run four different versions of the experiment:\n",
    "\n",
    "1.  The `sum_of_locations` with compiler optimizations.\n",
    "2.  The `sum_of_locations` without compiler optimizations.\n",
    "3.  The `sum_of_locations_solution` with compiler optimizations.\n",
    "4.  The `sum_of_locations_solution` without compiler optimizations.\n",
    "\n",
    "It uses tags to differentiate between the optimized and un-optimized versions."
   ]
  },
  {
   "cell_type": "code",
   "execution_count": 55,
   "metadata": {
    "deletable": false,
    "editable": false,
    "tags": []
   },
   "outputs": [
    {
     "name": "stdout",
     "output_type": "stream",
     "text": [
      "rm -f *.exe ./build/*\n",
      "mkdir -p ./build/ \n",
      "cp  perfstats.c ./build/perfstats.c\n",
      "g++  -DHAVE_LINUX_PERF_EVENT_H -I/cs203/mtung007/CS203UCR-2022fa-cs203-performance-starter.  -lm -pthread  -o ./build/perfstats.o -c ./build/perfstats.c\n",
      "mkdir -p ./build/ \n",
      "cp  sum.cpp ./build/sum.cpp\n",
      "g++  -O4 -DHAVE_LINUX_PERF_EVENT_H -I/cs203/mtung007/CS203UCR-2022fa-cs203-performance-starter.  -lm -pthread  -c -o ./build/sum.o ./build/sum.cpp\n",
      "mkdir -p ./build/ \n",
      "cp  sum_main.cpp ./build/sum_main.cpp\n",
      "g++   -DHAVE_LINUX_PERF_EVENT_H -I/cs203/mtung007/CS203UCR-2022fa-cs203-performance-starter.  -lm -pthread  -c -o ./build/sum_main.o ./build/sum_main.cpp\n",
      "\u001b[01m\u001b[K./build/sum_main.cpp:\u001b[m\u001b[K In function ‘\u001b[01m\u001b[Kint main(int, char**)\u001b[m\u001b[K’:\n",
      "\u001b[01m\u001b[K./build/sum_main.cpp:149:36:\u001b[m\u001b[K \u001b[01;35m\u001b[Kwarning: \u001b[m\u001b[KISO C++ forbids converting a string constant to ‘\u001b[01m\u001b[Kchar*\u001b[m\u001b[K’ [\u001b[01;35m\u001b[K-Wwrite-strings\u001b[m\u001b[K]\n",
      "  149 |  perfstats_print_header(stat_file, \u001b[01;35m\u001b[K\"size,rep,function,query_counts,IC,Cycles,CPI,MHz,CT,ET,cmdlineMHz,answer\"\u001b[m\u001b[K);\n",
      "      |                                    \u001b[01;35m\u001b[K^~~~~~~~~~~~~~~~~~~~~~~~~~~~~~~~~~~~~~~~~~~~~~~~~~~~~~~~~~~~~~~~~~~~~~~~~~\u001b[m\u001b[K\n",
      "mkdir -p ./build/ \n",
      "cp  sum_baseline.cpp ./build/sum_baseline.cpp\n",
      "g++   -DHAVE_LINUX_PERF_EVENT_H -I/cs203/mtung007/CS203UCR-2022fa-cs203-performance-starter.  -lm -pthread  -c -o ./build/sum_baseline.o ./build/sum_baseline.cpp\n",
      "g++   -DHAVE_LINUX_PERF_EVENT_H -I/cs203/mtung007/CS203UCR-2022fa-cs203-performance-starter.  -lm -pthread  ./build/perfstats.o ./build/sum.o ./build/sum_main.o ./build/sum_baseline.o  -o sum.exe\n",
      "srun -N1 -p cs203 ./sum.exe  -M 3200 -f sum_of_locations sum_of_locations_solution -o opt.csv\n",
      "slurmstepd-quilava: error: execve(): /cs203/mtung007/CS203UCR-2022fa-cs203-performance-starter././sum.exe: Text file busy\n",
      "srun: error: quilava: task 0: Exited with exit code 26\n",
      "rm -f *.exe ./build/*\n",
      "mkdir -p ./build/ \n",
      "cp  perfstats.c ./build/perfstats.c\n",
      "g++  -DHAVE_LINUX_PERF_EVENT_H -I/cs203/mtung007/CS203UCR-2022fa-cs203-performance-starter.  -lm -pthread  -o ./build/perfstats.o -c ./build/perfstats.c\n",
      "mkdir -p ./build/ \n",
      "cp  sum.cpp ./build/sum.cpp\n",
      "g++   -DHAVE_LINUX_PERF_EVENT_H -I/cs203/mtung007/CS203UCR-2022fa-cs203-performance-starter.  -lm -pthread  -c -o ./build/sum.o ./build/sum.cpp\n",
      "mkdir -p ./build/ \n",
      "cp  sum_main.cpp ./build/sum_main.cpp\n",
      "g++   -DHAVE_LINUX_PERF_EVENT_H -I/cs203/mtung007/CS203UCR-2022fa-cs203-performance-starter.  -lm -pthread  -c -o ./build/sum_main.o ./build/sum_main.cpp\n",
      "\u001b[01m\u001b[K./build/sum_main.cpp:\u001b[m\u001b[K In function ‘\u001b[01m\u001b[Kint main(int, char**)\u001b[m\u001b[K’:\n",
      "\u001b[01m\u001b[K./build/sum_main.cpp:149:36:\u001b[m\u001b[K \u001b[01;35m\u001b[Kwarning: \u001b[m\u001b[KISO C++ forbids converting a string constant to ‘\u001b[01m\u001b[Kchar*\u001b[m\u001b[K’ [\u001b[01;35m\u001b[K-Wwrite-strings\u001b[m\u001b[K]\n",
      "  149 |  perfstats_print_header(stat_file, \u001b[01;35m\u001b[K\"size,rep,function,query_counts,IC,Cycles,CPI,MHz,CT,ET,cmdlineMHz,answer\"\u001b[m\u001b[K);\n",
      "      |                                    \u001b[01;35m\u001b[K^~~~~~~~~~~~~~~~~~~~~~~~~~~~~~~~~~~~~~~~~~~~~~~~~~~~~~~~~~~~~~~~~~~~~~~~~~\u001b[m\u001b[K\n",
      "mkdir -p ./build/ \n",
      "cp  sum_baseline.cpp ./build/sum_baseline.cpp\n",
      "g++   -DHAVE_LINUX_PERF_EVENT_H -I/cs203/mtung007/CS203UCR-2022fa-cs203-performance-starter.  -lm -pthread  -c -o ./build/sum_baseline.o ./build/sum_baseline.cpp\n",
      "g++   -DHAVE_LINUX_PERF_EVENT_H -I/cs203/mtung007/CS203UCR-2022fa-cs203-performance-starter.  -lm -pthread  ./build/perfstats.o ./build/sum.o ./build/sum_main.o ./build/sum_baseline.o  -o sum.exe\n",
      "srun -N1 -p cs203 ./sum.exe  -M 3200 -f sum_of_locations sum_of_locations_solution -o noopt.csv\n",
      "srun: error: quilava: task 0: Exited with exit code 26\n",
      "slurmstepd-quilava: error: execve(): /cs203/mtung007/CS203UCR-2022fa-cs203-performance-starter././sum.exe: Text file busy\n"
     ]
    }
   ],
   "source": [
    "!make clean;\n",
    "!make sum.exe\n",
    "!cs203 job run \"./sum.exe  -M 3200 -f sum_of_locations sum_of_locations_solution -o opt.csv\"\n",
    "!make clean;\n",
    "# This overrides config.make and forces no optimizations.\n",
    "!make sum.exe SUM_OPTIMIZE=\n",
    "!cs203 job run \"./sum.exe  -M 3200 -f sum_of_locations sum_of_locations_solution -o noopt.csv\""
   ]
  },
  {
   "cell_type": "markdown",
   "metadata": {
    "deletable": false,
    "editable": false,
    "tags": []
   },
   "source": [
    "Now you need to create a data frame that contains the results the experiment in form that we can plot.  In particular you need to:\n",
    "\n",
    "1. Open the `csv` file created by the command above and load them into two dataframes.\n",
    "2. Combine them into one data frame\n",
    "3. Compute a new column that has \"function name-optimization level\" in it (e.g., `sum_of_locations-noopt`).\n",
    "4. Compute the speedup of all four implementations relative to `sum_of_location-noopt`.\n",
    "5. Plot the resulting graph.\n",
    "\n",
    "There are examples of the tools you'll need for this in the \"Useful Tools\" section above.\n",
    "    \n",
    "**You must show your work.**  In the cell below, put the your code to do all of the above.\n",
    "\n",
    "The resulting dataframe should look like this (but with data in it):\n",
    "\n",
    "\n",
    "| workload | ET | Speedup | \n",
    "| ------------|----|---------|\n",
    "| sum_of_locations-noopt  |    |         |\n",
    "| sum_of_locations-opt  |    |         |\n",
    "| sum_of_locations_solution-noopt   |    |         |\n",
    "| sum_of_locations_solution-opt  |    |         |\n",
    "\n",
    "**Note:**. You should _not_ fill in the table above.  You need use `display()` show your final data frame."
   ]
  },
  {
   "cell_type": "markdown",
   "metadata": {
    "cs203.is_response": true,
    "cs203.points": 1,
    "cs203.question_type": "correctness",
    "deletable": false,
    "editable": true,
    "tags": []
   },
   "source": [
    "<div class=\"alert alert-block alert-success\">\n",
    "<div class=\"question correctness points-8\">\n",
    "\n",
    "### Question 19 (Correctness)\n",
    "\n",
    "<div class=\"question-text\">\n",
    "Put your code to prepare the dataframe in the cell below.  The last two lines should render your dataframe and plot `ET` as a bar graph.  (You are allowed to hard-code numbers from your results into your code to compute speedup)\n",
    "    </div>\n",
    "\n",
    "</div>\n",
    "</div>"
   ]
  },
  {
   "cell_type": "code",
   "execution_count": 56,
   "metadata": {
    "cs203.is_response": true,
    "cs203.points": 1,
    "cs203.question_type": "correctness",
    "deletable": false,
    "editable": true,
    "tags": []
   },
   "outputs": [],
   "source": [
    "# Your code here\n"
   ]
  },
  {
   "cell_type": "markdown",
   "metadata": {
    "cs203.is_response": true,
    "cs203.points": 1,
    "cs203.question_type": "correctness",
    "deletable": false,
    "editable": true,
    "tags": []
   },
   "source": [
    "<div class=\"alert alert-block alert-success\">\n",
    "<div class=\"question correctness points-4\">\n",
    "\n",
    "### Question 20 (Correctness)\n",
    "\n",
    "<div class=\"question-text\">\n",
    "\n",
    "Based on you data, did the compiler optimizations provide more speedup on `sum_of_locations()` or `sum_of_locations_solution()`?  \n",
    "    \n",
    "Likewise, did algorithmic improvements provide more or less speedup with compiler optimizations enabled than with them disabled?\n",
    "\n",
    "</div>\n",
    "\n",
    "<div class=\"answer\">\n",
    "</div>\n",
    "</div>\n",
    "</div>"
   ]
  },
  {
   "cell_type": "markdown",
   "metadata": {},
   "source": [
    "## Final Measurement\n",
    "\n",
    "When you are done, make sure your best solution is named `sum_of_locations_solution()` in `sum.cpp`.  Then you can submit your code to the Gradescope autograder.  It will run the command given above and use the `ET` and `result` values from `autograde.csv` to assign your grade.\n",
    "\n",
    "Your grade is based on your speed up relative to the original version of `sum_of_locations()`.  The target speedup is 35x.  So your score is `your_speedup/35 * 100.0`.  To get points, your code must also be correct.  The autograder will run some tests on your code against random inputs to check it's correctness.\n",
    "\n",
    "You can mimic exactly what the autograder will do with the command below.\n",
    "\n",
    "After you run it, the results will be in `autograde/autogradecsv` rather than `./benchmark.csv`.  This command builds and runs your code in a more controlled way by doing the following:\n",
    "\n",
    "1.  Ignores all the files in your repo except `sum.cpp` and `config.make`.\n",
    "2.  Copies those files into a clean clone of the starter repo.\n",
    "3.  Builds `sum.exe` from scratch.\n",
    "4.  And then runs the command above with `-f sum_of_locations_solution sum_of_location`.\n",
    "5.  It then runs the `autograde.py` script to compute your grade."
   ]
  },
  {
   "cell_type": "code",
   "execution_count": 86,
   "metadata": {},
   "outputs": [
    {
     "name": "stdout",
     "output_type": "stream",
     "text": [
      "srun -N1 -p cs203 make clean\n",
      "rm -f *.exe ./build/*\n",
      "srun -N1 -p cs203  make sum.exe\n",
      "srun: job 5029 queued and waiting for resources\n",
      "srun: job 5029 has been allocated resources\n",
      "mkdir -p ./build/ \n",
      "cp  perfstats.c ./build/perfstats.c\n",
      "g++  -DHAVE_LINUX_PERF_EVENT_H -I/cs203/mtung007/CS203UCR-2022fa-cs203-performance-starter.  -lm -pthread  -o ./build/perfstats.o -c ./build/perfstats.c\n",
      "mkdir -p ./build/ \n",
      "cp  sum.cpp ./build/sum.cpp\n",
      "g++  -O4 -DHAVE_LINUX_PERF_EVENT_H -I/cs203/mtung007/CS203UCR-2022fa-cs203-performance-starter.  -lm -pthread  -c -o ./build/sum.o ./build/sum.cpp\n",
      "./build/sum.cpp: In function ‘uint64_t sum_of_locations_solution(uint64_t*, uint32_t, uint64_t*, uint32_t)’:\n",
      "./build/sum.cpp:38:77: warning: control reaches end of non-void function [-Wreturn-type]\n",
      "   38 |     std::unordered_set<int> s(search_space, search_space + search_space_size);\n",
      "      |                                                                             ^\n",
      "mkdir -p ./build/ \n",
      "cp  sum_main.cpp ./build/sum_main.cpp\n",
      "g++   -DHAVE_LINUX_PERF_EVENT_H -I/cs203/mtung007/CS203UCR-2022fa-cs203-performance-starter.  -lm -pthread  -c -o ./build/sum_main.o ./build/sum_main.cpp\n",
      "./build/sum_main.cpp: In function ‘int main(int, char**)’:\n",
      "./build/sum_main.cpp:149:36: warning: ISO C++ forbids converting a string constant to ‘char*’ [-Wwrite-strings]\n",
      "  149 |  perfstats_print_header(stat_file, \"size,rep,function,query_counts,IC,Cycles,CPI,MHz,CT,ET,cmdlineMHz,answer\");\n",
      "      |                                    ^~~~~~~~~~~~~~~~~~~~~~~~~~~~~~~~~~~~~~~~~~~~~~~~~~~~~~~~~~~~~~~~~~~~~~~~~~\n",
      "mkdir -p ./build/ \n",
      "cp  sum_baseline.cpp ./build/sum_baseline.cpp\n",
      "g++   -DHAVE_LINUX_PERF_EVENT_H -I/cs203/mtung007/CS203UCR-2022fa-cs203-performance-starter.  -lm -pthread  -c -o ./build/sum_baseline.o ./build/sum_baseline.cpp\n",
      "g++   -DHAVE_LINUX_PERF_EVENT_H -I/cs203/mtung007/CS203UCR-2022fa-cs203-performance-starter.  -lm -pthread  ./build/perfstats.o ./build/sum.o ./build/sum_main.o ./build/sum_baseline.o  -o sum.exe\n",
      "srun -N1 -p cs203 ./sum.exe -r 1 -M 3200 -q 2048 -s 2097152 -f sum_of_locations sum_of_locations_solution -o autograde.csv\n",
      "0\n",
      "0\n",
      "Execution complete\n"
     ]
    },
    {
     "data": {
      "text/html": [
       "<div>\n",
       "<style scoped>\n",
       "    .dataframe tbody tr th:only-of-type {\n",
       "        vertical-align: middle;\n",
       "    }\n",
       "\n",
       "    .dataframe tbody tr th {\n",
       "        vertical-align: top;\n",
       "    }\n",
       "\n",
       "    .dataframe thead th {\n",
       "        text-align: right;\n",
       "    }\n",
       "</style>\n",
       "<table border=\"1\" class=\"dataframe\">\n",
       "  <thead>\n",
       "    <tr style=\"text-align: right;\">\n",
       "      <th></th>\n",
       "      <th>size</th>\n",
       "      <th>rep</th>\n",
       "      <th>function</th>\n",
       "      <th>query_counts</th>\n",
       "      <th>IC</th>\n",
       "      <th>Cycles</th>\n",
       "      <th>CPI</th>\n",
       "      <th>MHz</th>\n",
       "      <th>CT</th>\n",
       "      <th>ET</th>\n",
       "      <th>cmdlineMHz</th>\n",
       "      <th>answer</th>\n",
       "    </tr>\n",
       "  </thead>\n",
       "  <tbody>\n",
       "    <tr>\n",
       "      <th>0</th>\n",
       "      <td>2097152</td>\n",
       "      <td>0</td>\n",
       "      <td>sum_of_locations</td>\n",
       "      <td>2048</td>\n",
       "      <td>54898890766</td>\n",
       "      <td>27751555961</td>\n",
       "      <td>0.505503</td>\n",
       "      <td>3950.257722</td>\n",
       "      <td>0.253148</td>\n",
       "      <td>7.025252</td>\n",
       "      <td>3200</td>\n",
       "      <td>1064742</td>\n",
       "    </tr>\n",
       "    <tr>\n",
       "      <th>1</th>\n",
       "      <td>2097152</td>\n",
       "      <td>0</td>\n",
       "      <td>sum_of_locations_solution</td>\n",
       "      <td>2048</td>\n",
       "      <td>860504690</td>\n",
       "      <td>865174698</td>\n",
       "      <td>1.005427</td>\n",
       "      <td>3961.930550</td>\n",
       "      <td>0.252402</td>\n",
       "      <td>0.218372</td>\n",
       "      <td>3200</td>\n",
       "      <td>3</td>\n",
       "    </tr>\n",
       "  </tbody>\n",
       "</table>\n",
       "</div>"
      ],
      "text/plain": [
       "      size  rep                   function  query_counts           IC  \\\n",
       "0  2097152    0           sum_of_locations          2048  54898890766   \n",
       "1  2097152    0  sum_of_locations_solution          2048    860504690   \n",
       "\n",
       "        Cycles       CPI          MHz        CT        ET  cmdlineMHz   answer  \n",
       "0  27751555961  0.505503  3950.257722  0.253148  7.025252        3200  1064742  \n",
       "1    865174698  1.005427  3961.930550  0.252402  0.218372        3200        3  "
      ]
     },
     "execution_count": 86,
     "metadata": {},
     "output_type": "execute_result"
    }
   ],
   "source": [
    "!cs203 job run \"make clean; make sum.exe\"\n",
    "!cs203 job run \"./sum.exe -r 1 -M 3200 -q 2048 -s 2097152 -f sum_of_locations sum_of_locations_solution -o autograde.csv\"\n",
    "render_csv(\"autograde.csv\")"
   ]
  },
  {
   "cell_type": "code",
   "execution_count": 87,
   "metadata": {},
   "outputs": [
    {
     "name": "stdout",
     "output_type": "stream",
     "text": [
      "{\n",
      "    \"output\": \"The autograder ran.\",\n",
      "    \"visibility\": \"visible\",\n",
      "    \"stdout_visibility\": \"visible\",\n",
      "    \"tests\": [\n",
      "        {\n",
      "            \"score\": 0,\n",
      "            \"max_score\": 100,\n",
      "            \"number\": \"1\",\n",
      "            \"output\": \"Your code is incorrect\",\n",
      "            \"tags\": [],\n",
      "            \"visibility\": \"visible\"\n",
      "        },\n",
      "        {\n",
      "            \"score\": 0,\n",
      "            \"max_score\": 100,\n",
      "            \"number\": \"2\",\n",
      "            \"output\": \"Your code is incorrect, so speedup is meaningless.\",\n",
      "            \"tags\": [],\n",
      "            \"visibility\": \"visible\"\n",
      "        }\n",
      "    ],\n",
      "    \"leaderboard\": [\n",
      "        {\n",
      "            \"name\": \"speedup\",\n",
      "            \"value\": 32\n",
      "        }\n",
      "    ]\n",
      "}"
     ]
    }
   ],
   "source": [
    "!mkdir -p autograde; ./autograde.py --submission autograde --results autograde.json\n",
    "!cat autograde.json"
   ]
  },
  {
   "cell_type": "markdown",
   "metadata": {
    "editable": false
   },
   "source": [
    "# Recap\n",
    "\n",
    "This assignment has collected real data to understand the how the performance equation, the power equation, and Amdahl's law apply to some simple programs.  This exploration presented the following questions:\n",
    "\n",
    "* Why does increasing the size of array change `CPI`? And why does this change occur so quickly?\n",
    "* How can clock rate affect `CPI`?\n",
    "* How and why do the datatypes we use change `IC` and  `CPI`?\n",
    "* Why does the order in which the program performs calculations affect `CPI`?\n",
    "* What's the difference between `throughput` and `latency`?\n",
    "\n",
    "Throughout the rest of the course and the assignments, we'll find answers to most of these and see how can use those answers to make better use of modern processors."
   ]
  },
  {
   "cell_type": "markdown",
   "metadata": {
    "cs203.is_response": true,
    "cs203.points": 1,
    "cs203.question_type": "completeness",
    "deletable": false,
    "editable": true
   },
   "source": [
    "<div class=\"alert alert-block alert-success\"><div class=\"question completeness\"> \n",
    "\n",
    "### Question 21 (Completenes)\n",
    "\n",
    "<div class=\"alert alert-block alert-success\">\n",
    "Which of these questions do you find most interesting and why?\n",
    "    \n",
    "</div>\n",
    "    \n",
    "<div class=\"answer\">\n",
    "\n",
    "</div>\n",
    "</div>"
   ]
  },
  {
   "cell_type": "markdown",
   "metadata": {
    "cs203.is_response": true,
    "cs203.points": 1,
    "cs203.question_type": "completeness",
    "deletable": false,
    "editable": true
   },
   "source": [
    "<div class=\"alert alert-block alert-success\"><div class=\"question completeness\"> \n",
    "\n",
    "### Question 22 (Completeness)\n",
    "\n",
    "<div class=\"alert alert-block alert-success\">\n",
    "Give three other questions you have after completing this assignment.\n",
    " \n",
    "</div>\n",
    "    \n",
    "<div class=\"answer\">\n",
    "\n",
    "1. question 1\n",
    "2. question 2 \n",
    "3. question 3\n",
    "    \n",
    "\n",
    "</div>\n",
    "</div>"
   ]
  },
  {
   "cell_type": "markdown",
   "metadata": {
    "editable": false
   },
   "source": [
    "# Turning In the Assignment"
   ]
  },
  {
   "cell_type": "markdown",
   "metadata": {
    "editable": false,
    "tags": []
   },
   "source": [
    "For each assignment, there are two different assignments on gradescope:\n",
    "\n",
    "1.  The notebook.\n",
    "2.  The programming assignment.\n",
    "\n",
    "In addition, there's a post-assignment survey which is embedded below.\n",
    "\n",
    "## The Note Book\n",
    "\n",
    "You need to turn in your notebook and your programming assignment separately.  There will \n",
    "After you complete the assignment, you will turn it in by creating a version of the notebook that only contains your answers and then printing that to a pdf.\n",
    "\n",
    "**Step 1:**  Save your workbook!!!"
   ]
  },
  {
   "cell_type": "code",
   "execution_count": 49,
   "metadata": {
    "editable": false
   },
   "outputs": [
    {
     "name": "stdout",
     "output_type": "stream",
     "text": [
      "Save your notebook!\n",
      "Save your notebook!\n",
      "Save your notebook!\n",
      "Save your notebook!\n",
      "Save your notebook!\n"
     ]
    }
   ],
   "source": [
    "!for i in 1 2 3 4 5; do echo Save your notebook!; sleep 1; done"
   ]
  },
  {
   "cell_type": "markdown",
   "metadata": {
    "editable": false
   },
   "source": [
    "**Step 2:**  Run this command:"
   ]
  },
  {
   "cell_type": "code",
   "execution_count": 2,
   "metadata": {
    "editable": false
   },
   "outputs": [
    {
     "name": "stdout",
     "output_type": "stream",
     "text": [
      "Wrote to Assignment.turnin.ipynb\n",
      "-rw-r--r-- 1 htseng htseng 27K Sep 29 16:49 Assignment.turnin.ipynb\n"
     ]
    }
   ],
   "source": [
    "!cs203 turnin Assignment.ipynb\n",
    "!ls -lh Assignment.turnin.ipynb"
   ]
  },
  {
   "cell_type": "markdown",
   "metadata": {
    "editable": false,
    "tags": []
   },
   "source": [
    "The date in the above file listing should show that you just created `Assignment.turnin.ipynb`\n",
    "\n",
    "**Step 3:**  Click on this link to open it: [./Assignment.turnin.ipynb](./Assignment.turnin.ipynb)\n",
    "\n",
    "\n",
    "**Step 4:**  Select \"Save and export notebook as\" from _your jupyterhub's_ \"file\" menu and select \"PDF\".\n",
    "\n",
    "**Step 5:**  Make sure all your answers are visible and not cut off the side of the page.\n",
    "\n",
    "**Step 6:**  Turn in that PDF via gradescope."
   ]
  },
  {
   "cell_type": "markdown",
   "metadata": {
    "editable": false
   },
   "source": [
    "## The Programming Assignment\n",
    "\n",
    "You'll turn in your programming assignment by providing gradescope with your github repo.   It'll run the autograder and return the results."
   ]
  },
  {
   "cell_type": "markdown",
   "metadata": {
    "deletable": false,
    "editable": false,
    "tags": []
   },
   "source": [
    "## Post-assignment Survey\n",
    "\n",
    "Please fill out this survey when you've finished the assignment.  You can only submit once.  Be sure to press \"submit\", your answers won't be saved in the notebook.\n",
    "\n",
    "https://forms.gle/NeExV4mzL5fsJbba9/"
   ]
  }
 ],
 "metadata": {
  "kernelspec": {
   "display_name": "Python 3 (ipykernel)",
   "language": "python",
   "name": "python3"
  },
  "language_info": {
   "codemirror_mode": {
    "name": "ipython",
    "version": 3
   },
   "file_extension": ".py",
   "mimetype": "text/x-python",
   "name": "python",
   "nbconvert_exporter": "python",
   "pygments_lexer": "ipython3",
   "version": "3.8.10"
  },
  "toc": {
   "base_numbering": 1,
   "nav_menu": {},
   "number_sections": true,
   "sideBar": true,
   "skip_h1_title": false,
   "title_cell": "Table of Contents",
   "title_sidebar": "Contents",
   "toc_cell": false,
   "toc_position": {
    "height": "calc(100% - 180px)",
    "left": "10px",
    "top": "150px",
    "width": "347.188px"
   },
   "toc_section_display": true,
   "toc_window_display": true
  },
  "toc-autonumbering": true,
  "vscode": {
   "interpreter": {
    "hash": "610c699f0cd8c4f129acd9140687fff6866bed0eb8e82f249fc8848b827b628c"
   }
  }
 },
 "nbformat": 4,
 "nbformat_minor": 4
}
